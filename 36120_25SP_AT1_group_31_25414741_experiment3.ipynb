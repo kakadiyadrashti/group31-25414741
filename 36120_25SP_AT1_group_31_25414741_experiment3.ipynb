{
  "cells": [
    {
      "cell_type": "markdown",
      "metadata": {
        "id": "uQ6wc2HE0pke"
      },
      "source": [
        "# **Experiment Notebook**\n",
        "\n"
      ]
    },
    {
      "cell_type": "code",
      "source": [
        "# Align versions so pip stops warning\n",
        "!pip install -q --upgrade \"scikit-learn>=1.6\" \"umap-learn>=0.5.9\" utstd"
      ],
      "metadata": {
        "id": "qNOA146K2c6f",
        "colab": {
          "base_uri": "https://localhost:8080/"
        },
        "collapsed": true,
        "outputId": "67acecb2-9bb0-480a-e901-c4c2a2cb32e5"
      },
      "execution_count": null,
      "outputs": [
        {
          "output_type": "stream",
          "name": "stdout",
          "text": [
            "\u001b[?25l   \u001b[90m━━━━━━━━━━━━━━━━━━━━━━━━━━━━━━━━━━━━━━━━\u001b[0m \u001b[32m0.0/1.6 MB\u001b[0m \u001b[31m?\u001b[0m eta \u001b[36m-:--:--\u001b[0m\r\u001b[2K   \u001b[91m━━━━━━━━━━━━━━━━━━━━━━━━━━\u001b[0m\u001b[91m╸\u001b[0m\u001b[90m━━━━━━━━━━━━━\u001b[0m \u001b[32m1.0/1.6 MB\u001b[0m \u001b[31m35.7 MB/s\u001b[0m eta \u001b[36m0:00:01\u001b[0m\r\u001b[2K   \u001b[90m━━━━━━━━━━━━━━━━━━━━━━━━━━━━━━━━━━━━━━━━\u001b[0m \u001b[32m1.6/1.6 MB\u001b[0m \u001b[31m21.7 MB/s\u001b[0m eta \u001b[36m0:00:00\u001b[0m\n",
            "\u001b[?25h"
          ]
        }
      ]
    },
    {
      "cell_type": "code",
      "source": [
        "# Do not modify this code\n",
        "!pip install -q utstd\n",
        "from utstd.ipyrenders import *"
      ],
      "metadata": {
        "id": "YZADiomCT5rs"
      },
      "execution_count": null,
      "outputs": []
    },
    {
      "cell_type": "code",
      "source": [
        "# Do not modify this code\n",
        "import warnings\n",
        "warnings.simplefilter(action='ignore')"
      ],
      "metadata": {
        "id": "6FneOmBfka9G"
      },
      "execution_count": null,
      "outputs": []
    },
    {
      "cell_type": "markdown",
      "source": [
        "## 0. Import Packages"
      ],
      "metadata": {
        "id": "mXFKfa2tp1ch"
      }
    },
    {
      "cell_type": "code",
      "source": [
        "import os, sys, json, math, pathlib, warnings, datetime\n",
        "from typing import List, Tuple\n",
        "\n",
        "import numpy as np\n",
        "import pandas as pd\n",
        "\n",
        "from sklearn.model_selection import StratifiedKFold\n",
        "from sklearn.compose import ColumnTransformer\n",
        "from sklearn.preprocessing import OneHotEncoder, StandardScaler\n",
        "from sklearn.pipeline import Pipeline\n",
        "from sklearn.linear_model import LogisticRegression\n",
        "from sklearn.metrics import roc_auc_score\n",
        "from sklearn.impute import SimpleImputer\n",
        "from sklearn.base import BaseEstimator\n",
        "import joblib\n",
        "\n",
        "warnings.filterwarnings(\"ignore\")\n",
        "\n",
        "RANDOM_STATE = 42\n",
        "np.random.seed(RANDOM_STATE)"
      ],
      "metadata": {
        "id": "GBEAwdncnlAx"
      },
      "execution_count": null,
      "outputs": []
    },
    {
      "cell_type": "markdown",
      "metadata": {
        "id": "tQgxLRrvjiJb"
      },
      "source": [
        "---\n",
        "## A. Project Description\n"
      ]
    },
    {
      "cell_type": "code",
      "source": [
        "# <Student to fill this section>\n",
        "student_name = \"Drashti Kakadiya\"\n",
        "student_id = \"25414741\"\n",
        "group_id = \"31\""
      ],
      "metadata": {
        "id": "Je1EzzfFD5hj"
      },
      "execution_count": null,
      "outputs": []
    },
    {
      "cell_type": "code",
      "source": [
        "# Do not modify this code\n",
        "print_tile(size=\"h1\", key='student_name', value=student_name)"
      ],
      "metadata": {
        "id": "pdKiYvFWD5my",
        "colab": {
          "base_uri": "https://localhost:8080/",
          "height": 98
        },
        "outputId": "7d178eb7-1dd6-4c3e-a32f-5d02351a8664"
      },
      "execution_count": null,
      "outputs": [
        {
          "output_type": "display_data",
          "data": {
            "text/plain": [
              "<IPython.core.display.HTML object>"
            ],
            "text/html": [
              "<p style=\"color:grey\">student_name</p><h1 font-size: 3em>Drashti Kakadiya</h1>"
            ]
          },
          "metadata": {}
        }
      ]
    },
    {
      "cell_type": "code",
      "source": [
        "# Do not modify this code\n",
        "print_tile(size=\"h1\", key='student_id', value=student_id)"
      ],
      "metadata": {
        "id": "9KTEbRjqD5o_",
        "colab": {
          "base_uri": "https://localhost:8080/",
          "height": 98
        },
        "outputId": "e220633a-2bfe-4606-af31-514cd4ed0ff3"
      },
      "execution_count": null,
      "outputs": [
        {
          "output_type": "display_data",
          "data": {
            "text/plain": [
              "<IPython.core.display.HTML object>"
            ],
            "text/html": [
              "<p style=\"color:grey\">student_id</p><h1 font-size: 3em>25414741</h1>"
            ]
          },
          "metadata": {}
        }
      ]
    },
    {
      "cell_type": "code",
      "source": [
        "# Do not modify this code\n",
        "print_tile(size=\"h1\", key='group_id', value=group_id)"
      ],
      "metadata": {
        "id": "UKRt4jK6rInY",
        "colab": {
          "base_uri": "https://localhost:8080/",
          "height": 98
        },
        "outputId": "12a7964b-b108-4d19-8d1f-9b6aa9c1daac"
      },
      "execution_count": null,
      "outputs": [
        {
          "output_type": "display_data",
          "data": {
            "text/plain": [
              "<IPython.core.display.HTML object>"
            ],
            "text/html": [
              "<p style=\"color:grey\">group_id</p><h1 font-size: 3em>31</h1>"
            ]
          },
          "metadata": {}
        }
      ]
    },
    {
      "cell_type": "markdown",
      "source": [
        "---\n",
        "## B. Business Understanding"
      ],
      "metadata": {
        "id": "4q1Bzcejvfpm"
      }
    },
    {
      "cell_type": "code",
      "source": [
        "# <Student to fill this section>\n",
        "business_use_case_description = \"\"\"\n",
        "Use XGBoost to rank prospects by draft likelihood, turning raw player stats into calibrated probabilities and a top-N shortlist.\n",
        "This supports scouting allocation (who to review first), scenario tests (thresholds/K), and clear “profit vs. cost” trade-offs.\n",
        "\"\"\""
      ],
      "metadata": {
        "id": "Mmo6apC9EEv8"
      },
      "execution_count": null,
      "outputs": []
    },
    {
      "cell_type": "code",
      "source": [
        "# Do not modify this code\n",
        "print_tile(size=\"h3\", key='business_use_case_description', value=business_use_case_description)"
      ],
      "metadata": {
        "id": "bgb0DkG2EE2e",
        "colab": {
          "base_uri": "https://localhost:8080/",
          "height": 101
        },
        "outputId": "adf140df-0959-4fe8-f53f-b7556452e4e3"
      },
      "execution_count": null,
      "outputs": [
        {
          "output_type": "display_data",
          "data": {
            "text/plain": [
              "<IPython.core.display.HTML object>"
            ],
            "text/html": [
              "<p style=\"color:grey\">business_use_case_description</p><h3 font-size: 3em>\n",
              "Use XGBoost to rank prospects by draft likelihood, turning raw player stats into calibrated probabilities and a top-N shortlist.\n",
              "This supports scouting allocation (who to review first), scenario tests (thresholds/K), and clear “profit vs. cost” trade-offs.\n",
              "</h3>"
            ]
          },
          "metadata": {}
        }
      ]
    },
    {
      "cell_type": "code",
      "source": [
        "# <Student to fill this section>\n",
        "business_objectives = \"\"\"\n",
        "Maximize expected profit / ROI and Precision@K under a review capacity, while keeping Recall above a target and maintaining strong ROC/PR AUC.\n",
        "Choose the operating threshold via J.5 (profit-max or constraint-based), and cut manual reviews/time per draft class.\n",
        "\"\"\""
      ],
      "metadata": {
        "id": "29Yqk3d2EE8q"
      },
      "execution_count": null,
      "outputs": []
    },
    {
      "cell_type": "code",
      "source": [
        "# Do not modify this code\n",
        "print_tile(size=\"h3\", key='business_objectives', value=business_objectives)"
      ],
      "metadata": {
        "id": "sSu_8J96EFDs",
        "colab": {
          "base_uri": "https://localhost:8080/",
          "height": 101
        },
        "outputId": "bc7cf0aa-2bf9-4c27-e4bb-7c2592c7dc11"
      },
      "execution_count": null,
      "outputs": [
        {
          "output_type": "display_data",
          "data": {
            "text/plain": [
              "<IPython.core.display.HTML object>"
            ],
            "text/html": [
              "<p style=\"color:grey\">business_objectives</p><h3 font-size: 3em>\n",
              "Maximize expected profit / ROI and Precision@K under a review capacity, while keeping Recall above a target and maintaining strong ROC/PR AUC.\n",
              "Choose the operating threshold via J.5 (profit-max or constraint-based), and cut manual reviews/time per draft class.\n",
              "</h3>"
            ]
          },
          "metadata": {}
        }
      ]
    },
    {
      "cell_type": "code",
      "source": [
        "# <Student to fill this section>\n",
        "stakeholders_expectations_explanations = \"\"\"\n",
        "Executives: measurable uplift vs. baseline, budget fit, and clear KPIs; Scouts: shorter, higher-quality lists with interpretable drivers.\n",
        "Data/Tech: reproducible pipeline (E/G/J steps), leakage/bias checks, calibration, fast inference, and monitoring/retrain cadence.\n",
        "\"\"\""
      ],
      "metadata": {
        "id": "Hf4ThY5cEF5W"
      },
      "execution_count": null,
      "outputs": []
    },
    {
      "cell_type": "code",
      "source": [
        "# Do not modify this code\n",
        "print_tile(size=\"h3\", key='stakeholders_expectations_explanations', value=stakeholders_expectations_explanations)"
      ],
      "metadata": {
        "id": "jH9a2X70EF8M",
        "colab": {
          "base_uri": "https://localhost:8080/",
          "height": 101
        },
        "outputId": "10fa3c1e-4946-43eb-8e88-cbaa71bd4672"
      },
      "execution_count": null,
      "outputs": [
        {
          "output_type": "display_data",
          "data": {
            "text/plain": [
              "<IPython.core.display.HTML object>"
            ],
            "text/html": [
              "<p style=\"color:grey\">stakeholders_expectations_explanations</p><h3 font-size: 3em>\n",
              "Executives: measurable uplift vs. baseline, budget fit, and clear KPIs; Scouts: shorter, higher-quality lists with interpretable drivers.\n",
              "Data/Tech: reproducible pipeline (E/G/J steps), leakage/bias checks, calibration, fast inference, and monitoring/retrain cadence.\n",
              "</h3>"
            ]
          },
          "metadata": {}
        }
      ]
    },
    {
      "cell_type": "markdown",
      "source": [
        "---\n",
        "## C. Data Understanding"
      ],
      "metadata": {
        "id": "P0zsEPshwy1K"
      }
    },
    {
      "cell_type": "markdown",
      "source": [
        "### C.1   Load Datasets\n"
      ],
      "metadata": {
        "id": "sGMWhKSbUl63"
      }
    },
    {
      "cell_type": "code",
      "source": [
        "import pandas as pd\n",
        "from pathlib import Path\n",
        "from IPython.display import display\n",
        "\n",
        "# Search in root and sample_data (works in Colab)\n",
        "BASES = [Path(\".\"), Path(\"sample_data\"), Path(\"/content\"), Path(\"/content/sample_data\")]\n",
        "\n",
        "def find_file(name, required=False):\n",
        "    for b in BASES:\n",
        "        p = (b / name).resolve()\n",
        "        if p.exists(): return p\n",
        "    if required:\n",
        "        raise FileNotFoundError(f\"{name} not found in any of: \" + \", \".join(map(str, BASES)))\n",
        "    return None\n",
        "\n",
        "def read_csv_robust(path):\n",
        "    \"\"\"Try multiple encodings + safe options to avoid UnicodeDecodeError.\"\"\"\n",
        "    if path is None: return None\n",
        "    tried = []\n",
        "    for enc in [\"utf-8\", \"utf-8-sig\", \"cp1252\", \"latin1\"]:\n",
        "        try:\n",
        "            return pd.read_csv(\n",
        "                path,\n",
        "                engine=\"python\",     # allows sep=None inference\n",
        "                sep=None,            # auto-detect delimiter\n",
        "                encoding=enc,\n",
        "                encoding_errors=\"replace\",  # keep going on bad bytes\n",
        "                on_bad_lines=\"skip\"  # skip broken rows if any\n",
        "            )\n",
        "        except Exception as e:\n",
        "            tried.append(f\"{enc}: {type(e).__name__}\")\n",
        "    print(f\"⚠️ Could not parse {path.name} with encodings -> {tried}. Skipping.\")\n",
        "    return None\n",
        "\n",
        "train_path  = find_file(\"train.csv\", required=True)\n",
        "test_path   = find_file(\"test.csv\",  required=True)\n",
        "sample_path = find_file(\"sample_submission.csv\", required=False)\n",
        "meta_path   = find_file(\"metadata.csv\", required=False)\n",
        "\n",
        "train = read_csv_robust(train_path)\n",
        "test  = read_csv_robust(test_path)\n",
        "sample_submission = read_csv_robust(sample_path)\n",
        "metadata = read_csv_robust(meta_path)\n",
        "\n",
        "print(\"Train:\", train_path, \"shape:\", train.shape)\n",
        "print(\"Test :\", test_path,  \"shape:\", test.shape)\n",
        "print(\"Sample submission:\", sample_path if sample_submission is not None else \"not found or unreadable\")\n",
        "print(\"Metadata:\", meta_path if metadata is not None else \"not found or unreadable\")\n",
        "\n",
        "display(train.head(3))\n",
        "display(test.head(3))"
      ],
      "metadata": {
        "id": "NKgOzSn-w0eq",
        "colab": {
          "base_uri": "https://localhost:8080/",
          "height": 733
        },
        "outputId": "137e5f33-4967-4f64-e1f1-182a33bc135a"
      },
      "execution_count": null,
      "outputs": [
        {
          "output_type": "stream",
          "name": "stdout",
          "text": [
            "Train: /content/train.csv shape: (14774, 62)\n",
            "Test : /content/test.csv shape: (1297, 61)\n",
            "Sample submission: /content/sample_submission.csv\n",
            "Metadata: /content/metadata.csv\n"
          ]
        },
        {
          "output_type": "display_data",
          "data": {
            "text/plain": [
              "                team  conf  GP  Min_per   Ortg   usg   eFG  TS_per  ORB_per  \\\n",
              "0            Pacific    BW  26     52.6  111.8  19.3  61.8   64.93      1.1   \n",
              "1        Mississippi   SEC   2      0.8   63.6  29.6  33.3   33.33      0.0   \n",
              "2  Stephen F. Austin  Slnd   4      0.6   61.4  21.7  50.0   50.00      0.0   \n",
              "\n",
              "   DRB_per  ...    dgbpm    oreb    dreb    treb     ast     stl     blk  \\\n",
              "0      7.5  ... -1.34201  0.2308  1.5769  1.8077  2.2308  0.6538  0.0769   \n",
              "1     21.5  ... -5.42104  0.0000  1.0000  1.0000  0.0000  0.0000  0.0000   \n",
              "2      0.0  ...  6.46650  0.0000  0.0000  0.0000  0.0000  0.2500  0.0000   \n",
              "\n",
              "      pts                             player_id  drafted  \n",
              "0  9.6538  681edf6e-41cb-4fd1-ba91-da573e063fbc      0.0  \n",
              "1  2.0000  3542dcb7-19ad-47f2-8b3a-eb79eb3ec4c4      0.0  \n",
              "2  0.5000  ca0d8700-807d-4fce-a7a9-63922d1981e6      0.0  \n",
              "\n",
              "[3 rows x 62 columns]"
            ],
            "text/html": [
              "\n",
              "  <div id=\"df-9244335c-3a12-4a43-8e8a-d860fba0fd5f\" class=\"colab-df-container\">\n",
              "    <div>\n",
              "<style scoped>\n",
              "    .dataframe tbody tr th:only-of-type {\n",
              "        vertical-align: middle;\n",
              "    }\n",
              "\n",
              "    .dataframe tbody tr th {\n",
              "        vertical-align: top;\n",
              "    }\n",
              "\n",
              "    .dataframe thead th {\n",
              "        text-align: right;\n",
              "    }\n",
              "</style>\n",
              "<table border=\"1\" class=\"dataframe\">\n",
              "  <thead>\n",
              "    <tr style=\"text-align: right;\">\n",
              "      <th></th>\n",
              "      <th>team</th>\n",
              "      <th>conf</th>\n",
              "      <th>GP</th>\n",
              "      <th>Min_per</th>\n",
              "      <th>Ortg</th>\n",
              "      <th>usg</th>\n",
              "      <th>eFG</th>\n",
              "      <th>TS_per</th>\n",
              "      <th>ORB_per</th>\n",
              "      <th>DRB_per</th>\n",
              "      <th>...</th>\n",
              "      <th>dgbpm</th>\n",
              "      <th>oreb</th>\n",
              "      <th>dreb</th>\n",
              "      <th>treb</th>\n",
              "      <th>ast</th>\n",
              "      <th>stl</th>\n",
              "      <th>blk</th>\n",
              "      <th>pts</th>\n",
              "      <th>player_id</th>\n",
              "      <th>drafted</th>\n",
              "    </tr>\n",
              "  </thead>\n",
              "  <tbody>\n",
              "    <tr>\n",
              "      <th>0</th>\n",
              "      <td>Pacific</td>\n",
              "      <td>BW</td>\n",
              "      <td>26</td>\n",
              "      <td>52.6</td>\n",
              "      <td>111.8</td>\n",
              "      <td>19.3</td>\n",
              "      <td>61.8</td>\n",
              "      <td>64.93</td>\n",
              "      <td>1.1</td>\n",
              "      <td>7.5</td>\n",
              "      <td>...</td>\n",
              "      <td>-1.34201</td>\n",
              "      <td>0.2308</td>\n",
              "      <td>1.5769</td>\n",
              "      <td>1.8077</td>\n",
              "      <td>2.2308</td>\n",
              "      <td>0.6538</td>\n",
              "      <td>0.0769</td>\n",
              "      <td>9.6538</td>\n",
              "      <td>681edf6e-41cb-4fd1-ba91-da573e063fbc</td>\n",
              "      <td>0.0</td>\n",
              "    </tr>\n",
              "    <tr>\n",
              "      <th>1</th>\n",
              "      <td>Mississippi</td>\n",
              "      <td>SEC</td>\n",
              "      <td>2</td>\n",
              "      <td>0.8</td>\n",
              "      <td>63.6</td>\n",
              "      <td>29.6</td>\n",
              "      <td>33.3</td>\n",
              "      <td>33.33</td>\n",
              "      <td>0.0</td>\n",
              "      <td>21.5</td>\n",
              "      <td>...</td>\n",
              "      <td>-5.42104</td>\n",
              "      <td>0.0000</td>\n",
              "      <td>1.0000</td>\n",
              "      <td>1.0000</td>\n",
              "      <td>0.0000</td>\n",
              "      <td>0.0000</td>\n",
              "      <td>0.0000</td>\n",
              "      <td>2.0000</td>\n",
              "      <td>3542dcb7-19ad-47f2-8b3a-eb79eb3ec4c4</td>\n",
              "      <td>0.0</td>\n",
              "    </tr>\n",
              "    <tr>\n",
              "      <th>2</th>\n",
              "      <td>Stephen F. Austin</td>\n",
              "      <td>Slnd</td>\n",
              "      <td>4</td>\n",
              "      <td>0.6</td>\n",
              "      <td>61.4</td>\n",
              "      <td>21.7</td>\n",
              "      <td>50.0</td>\n",
              "      <td>50.00</td>\n",
              "      <td>0.0</td>\n",
              "      <td>0.0</td>\n",
              "      <td>...</td>\n",
              "      <td>6.46650</td>\n",
              "      <td>0.0000</td>\n",
              "      <td>0.0000</td>\n",
              "      <td>0.0000</td>\n",
              "      <td>0.0000</td>\n",
              "      <td>0.2500</td>\n",
              "      <td>0.0000</td>\n",
              "      <td>0.5000</td>\n",
              "      <td>ca0d8700-807d-4fce-a7a9-63922d1981e6</td>\n",
              "      <td>0.0</td>\n",
              "    </tr>\n",
              "  </tbody>\n",
              "</table>\n",
              "<p>3 rows × 62 columns</p>\n",
              "</div>\n",
              "    <div class=\"colab-df-buttons\">\n",
              "\n",
              "  <div class=\"colab-df-container\">\n",
              "    <button class=\"colab-df-convert\" onclick=\"convertToInteractive('df-9244335c-3a12-4a43-8e8a-d860fba0fd5f')\"\n",
              "            title=\"Convert this dataframe to an interactive table.\"\n",
              "            style=\"display:none;\">\n",
              "\n",
              "  <svg xmlns=\"http://www.w3.org/2000/svg\" height=\"24px\" viewBox=\"0 -960 960 960\">\n",
              "    <path d=\"M120-120v-720h720v720H120Zm60-500h600v-160H180v160Zm220 220h160v-160H400v160Zm0 220h160v-160H400v160ZM180-400h160v-160H180v160Zm440 0h160v-160H620v160ZM180-180h160v-160H180v160Zm440 0h160v-160H620v160Z\"/>\n",
              "  </svg>\n",
              "    </button>\n",
              "\n",
              "  <style>\n",
              "    .colab-df-container {\n",
              "      display:flex;\n",
              "      gap: 12px;\n",
              "    }\n",
              "\n",
              "    .colab-df-convert {\n",
              "      background-color: #E8F0FE;\n",
              "      border: none;\n",
              "      border-radius: 50%;\n",
              "      cursor: pointer;\n",
              "      display: none;\n",
              "      fill: #1967D2;\n",
              "      height: 32px;\n",
              "      padding: 0 0 0 0;\n",
              "      width: 32px;\n",
              "    }\n",
              "\n",
              "    .colab-df-convert:hover {\n",
              "      background-color: #E2EBFA;\n",
              "      box-shadow: 0px 1px 2px rgba(60, 64, 67, 0.3), 0px 1px 3px 1px rgba(60, 64, 67, 0.15);\n",
              "      fill: #174EA6;\n",
              "    }\n",
              "\n",
              "    .colab-df-buttons div {\n",
              "      margin-bottom: 4px;\n",
              "    }\n",
              "\n",
              "    [theme=dark] .colab-df-convert {\n",
              "      background-color: #3B4455;\n",
              "      fill: #D2E3FC;\n",
              "    }\n",
              "\n",
              "    [theme=dark] .colab-df-convert:hover {\n",
              "      background-color: #434B5C;\n",
              "      box-shadow: 0px 1px 3px 1px rgba(0, 0, 0, 0.15);\n",
              "      filter: drop-shadow(0px 1px 2px rgba(0, 0, 0, 0.3));\n",
              "      fill: #FFFFFF;\n",
              "    }\n",
              "  </style>\n",
              "\n",
              "    <script>\n",
              "      const buttonEl =\n",
              "        document.querySelector('#df-9244335c-3a12-4a43-8e8a-d860fba0fd5f button.colab-df-convert');\n",
              "      buttonEl.style.display =\n",
              "        google.colab.kernel.accessAllowed ? 'block' : 'none';\n",
              "\n",
              "      async function convertToInteractive(key) {\n",
              "        const element = document.querySelector('#df-9244335c-3a12-4a43-8e8a-d860fba0fd5f');\n",
              "        const dataTable =\n",
              "          await google.colab.kernel.invokeFunction('convertToInteractive',\n",
              "                                                    [key], {});\n",
              "        if (!dataTable) return;\n",
              "\n",
              "        const docLinkHtml = 'Like what you see? Visit the ' +\n",
              "          '<a target=\"_blank\" href=https://colab.research.google.com/notebooks/data_table.ipynb>data table notebook</a>'\n",
              "          + ' to learn more about interactive tables.';\n",
              "        element.innerHTML = '';\n",
              "        dataTable['output_type'] = 'display_data';\n",
              "        await google.colab.output.renderOutput(dataTable, element);\n",
              "        const docLink = document.createElement('div');\n",
              "        docLink.innerHTML = docLinkHtml;\n",
              "        element.appendChild(docLink);\n",
              "      }\n",
              "    </script>\n",
              "  </div>\n",
              "\n",
              "\n",
              "    <div id=\"df-3c59bfce-3d5d-4522-a4b5-0c9f53044b4e\">\n",
              "      <button class=\"colab-df-quickchart\" onclick=\"quickchart('df-3c59bfce-3d5d-4522-a4b5-0c9f53044b4e')\"\n",
              "                title=\"Suggest charts\"\n",
              "                style=\"display:none;\">\n",
              "\n",
              "<svg xmlns=\"http://www.w3.org/2000/svg\" height=\"24px\"viewBox=\"0 0 24 24\"\n",
              "     width=\"24px\">\n",
              "    <g>\n",
              "        <path d=\"M19 3H5c-1.1 0-2 .9-2 2v14c0 1.1.9 2 2 2h14c1.1 0 2-.9 2-2V5c0-1.1-.9-2-2-2zM9 17H7v-7h2v7zm4 0h-2V7h2v10zm4 0h-2v-4h2v4z\"/>\n",
              "    </g>\n",
              "</svg>\n",
              "      </button>\n",
              "\n",
              "<style>\n",
              "  .colab-df-quickchart {\n",
              "      --bg-color: #E8F0FE;\n",
              "      --fill-color: #1967D2;\n",
              "      --hover-bg-color: #E2EBFA;\n",
              "      --hover-fill-color: #174EA6;\n",
              "      --disabled-fill-color: #AAA;\n",
              "      --disabled-bg-color: #DDD;\n",
              "  }\n",
              "\n",
              "  [theme=dark] .colab-df-quickchart {\n",
              "      --bg-color: #3B4455;\n",
              "      --fill-color: #D2E3FC;\n",
              "      --hover-bg-color: #434B5C;\n",
              "      --hover-fill-color: #FFFFFF;\n",
              "      --disabled-bg-color: #3B4455;\n",
              "      --disabled-fill-color: #666;\n",
              "  }\n",
              "\n",
              "  .colab-df-quickchart {\n",
              "    background-color: var(--bg-color);\n",
              "    border: none;\n",
              "    border-radius: 50%;\n",
              "    cursor: pointer;\n",
              "    display: none;\n",
              "    fill: var(--fill-color);\n",
              "    height: 32px;\n",
              "    padding: 0;\n",
              "    width: 32px;\n",
              "  }\n",
              "\n",
              "  .colab-df-quickchart:hover {\n",
              "    background-color: var(--hover-bg-color);\n",
              "    box-shadow: 0 1px 2px rgba(60, 64, 67, 0.3), 0 1px 3px 1px rgba(60, 64, 67, 0.15);\n",
              "    fill: var(--button-hover-fill-color);\n",
              "  }\n",
              "\n",
              "  .colab-df-quickchart-complete:disabled,\n",
              "  .colab-df-quickchart-complete:disabled:hover {\n",
              "    background-color: var(--disabled-bg-color);\n",
              "    fill: var(--disabled-fill-color);\n",
              "    box-shadow: none;\n",
              "  }\n",
              "\n",
              "  .colab-df-spinner {\n",
              "    border: 2px solid var(--fill-color);\n",
              "    border-color: transparent;\n",
              "    border-bottom-color: var(--fill-color);\n",
              "    animation:\n",
              "      spin 1s steps(1) infinite;\n",
              "  }\n",
              "\n",
              "  @keyframes spin {\n",
              "    0% {\n",
              "      border-color: transparent;\n",
              "      border-bottom-color: var(--fill-color);\n",
              "      border-left-color: var(--fill-color);\n",
              "    }\n",
              "    20% {\n",
              "      border-color: transparent;\n",
              "      border-left-color: var(--fill-color);\n",
              "      border-top-color: var(--fill-color);\n",
              "    }\n",
              "    30% {\n",
              "      border-color: transparent;\n",
              "      border-left-color: var(--fill-color);\n",
              "      border-top-color: var(--fill-color);\n",
              "      border-right-color: var(--fill-color);\n",
              "    }\n",
              "    40% {\n",
              "      border-color: transparent;\n",
              "      border-right-color: var(--fill-color);\n",
              "      border-top-color: var(--fill-color);\n",
              "    }\n",
              "    60% {\n",
              "      border-color: transparent;\n",
              "      border-right-color: var(--fill-color);\n",
              "    }\n",
              "    80% {\n",
              "      border-color: transparent;\n",
              "      border-right-color: var(--fill-color);\n",
              "      border-bottom-color: var(--fill-color);\n",
              "    }\n",
              "    90% {\n",
              "      border-color: transparent;\n",
              "      border-bottom-color: var(--fill-color);\n",
              "    }\n",
              "  }\n",
              "</style>\n",
              "\n",
              "      <script>\n",
              "        async function quickchart(key) {\n",
              "          const quickchartButtonEl =\n",
              "            document.querySelector('#' + key + ' button');\n",
              "          quickchartButtonEl.disabled = true;  // To prevent multiple clicks.\n",
              "          quickchartButtonEl.classList.add('colab-df-spinner');\n",
              "          try {\n",
              "            const charts = await google.colab.kernel.invokeFunction(\n",
              "                'suggestCharts', [key], {});\n",
              "          } catch (error) {\n",
              "            console.error('Error during call to suggestCharts:', error);\n",
              "          }\n",
              "          quickchartButtonEl.classList.remove('colab-df-spinner');\n",
              "          quickchartButtonEl.classList.add('colab-df-quickchart-complete');\n",
              "        }\n",
              "        (() => {\n",
              "          let quickchartButtonEl =\n",
              "            document.querySelector('#df-3c59bfce-3d5d-4522-a4b5-0c9f53044b4e button');\n",
              "          quickchartButtonEl.style.display =\n",
              "            google.colab.kernel.accessAllowed ? 'block' : 'none';\n",
              "        })();\n",
              "      </script>\n",
              "    </div>\n",
              "\n",
              "    </div>\n",
              "  </div>\n"
            ],
            "application/vnd.google.colaboratory.intrinsic+json": {
              "type": "dataframe"
            }
          },
          "metadata": {}
        },
        {
          "output_type": "display_data",
          "data": {
            "text/plain": [
              "        team  conf  GP  Min_per   Ortg   usg   eFG  TS_per  ORB_per  DRB_per  \\\n",
              "0   UC Davis    BW   8      2.2   51.7  13.4  30.0   30.00      0.0     14.3   \n",
              "1   Campbell  BSth  25     16.4   85.0  25.2  50.0   52.10      2.0     11.8   \n",
              "2  Weber St.  BSky  29     50.5  117.8  16.8  61.8   59.77     12.3     17.1   \n",
              "\n",
              "   ...      ogbpm     dgbpm    oreb    dreb    treb     ast     stl     blk  \\\n",
              "0  ... -11.240100 -4.721030  0.1000  0.6000  0.7000  0.2000  0.1000  0.0000   \n",
              "1  ...  -2.972020 -1.741870  0.1481  0.9259  1.0741  0.1481  0.4074  0.1111   \n",
              "2  ...   0.739055 -0.259202  2.1562  2.7500  4.9062  0.7188  0.4062  1.0625   \n",
              "\n",
              "      pts                             player_id  \n",
              "0  1.5000  c6d3ce49-28b6-4756-8061-b2bd68730c52  \n",
              "1  4.0741  24dd0ae2-9d22-4d31-9cb6-c31f58f903b5  \n",
              "2  6.7500  0cf3e822-9446-4285-b7ed-7c19d8e976fe  \n",
              "\n",
              "[3 rows x 61 columns]"
            ],
            "text/html": [
              "\n",
              "  <div id=\"df-52132f5c-6387-4cc5-817c-ffd8991a2707\" class=\"colab-df-container\">\n",
              "    <div>\n",
              "<style scoped>\n",
              "    .dataframe tbody tr th:only-of-type {\n",
              "        vertical-align: middle;\n",
              "    }\n",
              "\n",
              "    .dataframe tbody tr th {\n",
              "        vertical-align: top;\n",
              "    }\n",
              "\n",
              "    .dataframe thead th {\n",
              "        text-align: right;\n",
              "    }\n",
              "</style>\n",
              "<table border=\"1\" class=\"dataframe\">\n",
              "  <thead>\n",
              "    <tr style=\"text-align: right;\">\n",
              "      <th></th>\n",
              "      <th>team</th>\n",
              "      <th>conf</th>\n",
              "      <th>GP</th>\n",
              "      <th>Min_per</th>\n",
              "      <th>Ortg</th>\n",
              "      <th>usg</th>\n",
              "      <th>eFG</th>\n",
              "      <th>TS_per</th>\n",
              "      <th>ORB_per</th>\n",
              "      <th>DRB_per</th>\n",
              "      <th>...</th>\n",
              "      <th>ogbpm</th>\n",
              "      <th>dgbpm</th>\n",
              "      <th>oreb</th>\n",
              "      <th>dreb</th>\n",
              "      <th>treb</th>\n",
              "      <th>ast</th>\n",
              "      <th>stl</th>\n",
              "      <th>blk</th>\n",
              "      <th>pts</th>\n",
              "      <th>player_id</th>\n",
              "    </tr>\n",
              "  </thead>\n",
              "  <tbody>\n",
              "    <tr>\n",
              "      <th>0</th>\n",
              "      <td>UC Davis</td>\n",
              "      <td>BW</td>\n",
              "      <td>8</td>\n",
              "      <td>2.2</td>\n",
              "      <td>51.7</td>\n",
              "      <td>13.4</td>\n",
              "      <td>30.0</td>\n",
              "      <td>30.00</td>\n",
              "      <td>0.0</td>\n",
              "      <td>14.3</td>\n",
              "      <td>...</td>\n",
              "      <td>-11.240100</td>\n",
              "      <td>-4.721030</td>\n",
              "      <td>0.1000</td>\n",
              "      <td>0.6000</td>\n",
              "      <td>0.7000</td>\n",
              "      <td>0.2000</td>\n",
              "      <td>0.1000</td>\n",
              "      <td>0.0000</td>\n",
              "      <td>1.5000</td>\n",
              "      <td>c6d3ce49-28b6-4756-8061-b2bd68730c52</td>\n",
              "    </tr>\n",
              "    <tr>\n",
              "      <th>1</th>\n",
              "      <td>Campbell</td>\n",
              "      <td>BSth</td>\n",
              "      <td>25</td>\n",
              "      <td>16.4</td>\n",
              "      <td>85.0</td>\n",
              "      <td>25.2</td>\n",
              "      <td>50.0</td>\n",
              "      <td>52.10</td>\n",
              "      <td>2.0</td>\n",
              "      <td>11.8</td>\n",
              "      <td>...</td>\n",
              "      <td>-2.972020</td>\n",
              "      <td>-1.741870</td>\n",
              "      <td>0.1481</td>\n",
              "      <td>0.9259</td>\n",
              "      <td>1.0741</td>\n",
              "      <td>0.1481</td>\n",
              "      <td>0.4074</td>\n",
              "      <td>0.1111</td>\n",
              "      <td>4.0741</td>\n",
              "      <td>24dd0ae2-9d22-4d31-9cb6-c31f58f903b5</td>\n",
              "    </tr>\n",
              "    <tr>\n",
              "      <th>2</th>\n",
              "      <td>Weber St.</td>\n",
              "      <td>BSky</td>\n",
              "      <td>29</td>\n",
              "      <td>50.5</td>\n",
              "      <td>117.8</td>\n",
              "      <td>16.8</td>\n",
              "      <td>61.8</td>\n",
              "      <td>59.77</td>\n",
              "      <td>12.3</td>\n",
              "      <td>17.1</td>\n",
              "      <td>...</td>\n",
              "      <td>0.739055</td>\n",
              "      <td>-0.259202</td>\n",
              "      <td>2.1562</td>\n",
              "      <td>2.7500</td>\n",
              "      <td>4.9062</td>\n",
              "      <td>0.7188</td>\n",
              "      <td>0.4062</td>\n",
              "      <td>1.0625</td>\n",
              "      <td>6.7500</td>\n",
              "      <td>0cf3e822-9446-4285-b7ed-7c19d8e976fe</td>\n",
              "    </tr>\n",
              "  </tbody>\n",
              "</table>\n",
              "<p>3 rows × 61 columns</p>\n",
              "</div>\n",
              "    <div class=\"colab-df-buttons\">\n",
              "\n",
              "  <div class=\"colab-df-container\">\n",
              "    <button class=\"colab-df-convert\" onclick=\"convertToInteractive('df-52132f5c-6387-4cc5-817c-ffd8991a2707')\"\n",
              "            title=\"Convert this dataframe to an interactive table.\"\n",
              "            style=\"display:none;\">\n",
              "\n",
              "  <svg xmlns=\"http://www.w3.org/2000/svg\" height=\"24px\" viewBox=\"0 -960 960 960\">\n",
              "    <path d=\"M120-120v-720h720v720H120Zm60-500h600v-160H180v160Zm220 220h160v-160H400v160Zm0 220h160v-160H400v160ZM180-400h160v-160H180v160Zm440 0h160v-160H620v160ZM180-180h160v-160H180v160Zm440 0h160v-160H620v160Z\"/>\n",
              "  </svg>\n",
              "    </button>\n",
              "\n",
              "  <style>\n",
              "    .colab-df-container {\n",
              "      display:flex;\n",
              "      gap: 12px;\n",
              "    }\n",
              "\n",
              "    .colab-df-convert {\n",
              "      background-color: #E8F0FE;\n",
              "      border: none;\n",
              "      border-radius: 50%;\n",
              "      cursor: pointer;\n",
              "      display: none;\n",
              "      fill: #1967D2;\n",
              "      height: 32px;\n",
              "      padding: 0 0 0 0;\n",
              "      width: 32px;\n",
              "    }\n",
              "\n",
              "    .colab-df-convert:hover {\n",
              "      background-color: #E2EBFA;\n",
              "      box-shadow: 0px 1px 2px rgba(60, 64, 67, 0.3), 0px 1px 3px 1px rgba(60, 64, 67, 0.15);\n",
              "      fill: #174EA6;\n",
              "    }\n",
              "\n",
              "    .colab-df-buttons div {\n",
              "      margin-bottom: 4px;\n",
              "    }\n",
              "\n",
              "    [theme=dark] .colab-df-convert {\n",
              "      background-color: #3B4455;\n",
              "      fill: #D2E3FC;\n",
              "    }\n",
              "\n",
              "    [theme=dark] .colab-df-convert:hover {\n",
              "      background-color: #434B5C;\n",
              "      box-shadow: 0px 1px 3px 1px rgba(0, 0, 0, 0.15);\n",
              "      filter: drop-shadow(0px 1px 2px rgba(0, 0, 0, 0.3));\n",
              "      fill: #FFFFFF;\n",
              "    }\n",
              "  </style>\n",
              "\n",
              "    <script>\n",
              "      const buttonEl =\n",
              "        document.querySelector('#df-52132f5c-6387-4cc5-817c-ffd8991a2707 button.colab-df-convert');\n",
              "      buttonEl.style.display =\n",
              "        google.colab.kernel.accessAllowed ? 'block' : 'none';\n",
              "\n",
              "      async function convertToInteractive(key) {\n",
              "        const element = document.querySelector('#df-52132f5c-6387-4cc5-817c-ffd8991a2707');\n",
              "        const dataTable =\n",
              "          await google.colab.kernel.invokeFunction('convertToInteractive',\n",
              "                                                    [key], {});\n",
              "        if (!dataTable) return;\n",
              "\n",
              "        const docLinkHtml = 'Like what you see? Visit the ' +\n",
              "          '<a target=\"_blank\" href=https://colab.research.google.com/notebooks/data_table.ipynb>data table notebook</a>'\n",
              "          + ' to learn more about interactive tables.';\n",
              "        element.innerHTML = '';\n",
              "        dataTable['output_type'] = 'display_data';\n",
              "        await google.colab.output.renderOutput(dataTable, element);\n",
              "        const docLink = document.createElement('div');\n",
              "        docLink.innerHTML = docLinkHtml;\n",
              "        element.appendChild(docLink);\n",
              "      }\n",
              "    </script>\n",
              "  </div>\n",
              "\n",
              "\n",
              "    <div id=\"df-d8ec2af5-bfa8-4755-8088-207eb5b2aea7\">\n",
              "      <button class=\"colab-df-quickchart\" onclick=\"quickchart('df-d8ec2af5-bfa8-4755-8088-207eb5b2aea7')\"\n",
              "                title=\"Suggest charts\"\n",
              "                style=\"display:none;\">\n",
              "\n",
              "<svg xmlns=\"http://www.w3.org/2000/svg\" height=\"24px\"viewBox=\"0 0 24 24\"\n",
              "     width=\"24px\">\n",
              "    <g>\n",
              "        <path d=\"M19 3H5c-1.1 0-2 .9-2 2v14c0 1.1.9 2 2 2h14c1.1 0 2-.9 2-2V5c0-1.1-.9-2-2-2zM9 17H7v-7h2v7zm4 0h-2V7h2v10zm4 0h-2v-4h2v4z\"/>\n",
              "    </g>\n",
              "</svg>\n",
              "      </button>\n",
              "\n",
              "<style>\n",
              "  .colab-df-quickchart {\n",
              "      --bg-color: #E8F0FE;\n",
              "      --fill-color: #1967D2;\n",
              "      --hover-bg-color: #E2EBFA;\n",
              "      --hover-fill-color: #174EA6;\n",
              "      --disabled-fill-color: #AAA;\n",
              "      --disabled-bg-color: #DDD;\n",
              "  }\n",
              "\n",
              "  [theme=dark] .colab-df-quickchart {\n",
              "      --bg-color: #3B4455;\n",
              "      --fill-color: #D2E3FC;\n",
              "      --hover-bg-color: #434B5C;\n",
              "      --hover-fill-color: #FFFFFF;\n",
              "      --disabled-bg-color: #3B4455;\n",
              "      --disabled-fill-color: #666;\n",
              "  }\n",
              "\n",
              "  .colab-df-quickchart {\n",
              "    background-color: var(--bg-color);\n",
              "    border: none;\n",
              "    border-radius: 50%;\n",
              "    cursor: pointer;\n",
              "    display: none;\n",
              "    fill: var(--fill-color);\n",
              "    height: 32px;\n",
              "    padding: 0;\n",
              "    width: 32px;\n",
              "  }\n",
              "\n",
              "  .colab-df-quickchart:hover {\n",
              "    background-color: var(--hover-bg-color);\n",
              "    box-shadow: 0 1px 2px rgba(60, 64, 67, 0.3), 0 1px 3px 1px rgba(60, 64, 67, 0.15);\n",
              "    fill: var(--button-hover-fill-color);\n",
              "  }\n",
              "\n",
              "  .colab-df-quickchart-complete:disabled,\n",
              "  .colab-df-quickchart-complete:disabled:hover {\n",
              "    background-color: var(--disabled-bg-color);\n",
              "    fill: var(--disabled-fill-color);\n",
              "    box-shadow: none;\n",
              "  }\n",
              "\n",
              "  .colab-df-spinner {\n",
              "    border: 2px solid var(--fill-color);\n",
              "    border-color: transparent;\n",
              "    border-bottom-color: var(--fill-color);\n",
              "    animation:\n",
              "      spin 1s steps(1) infinite;\n",
              "  }\n",
              "\n",
              "  @keyframes spin {\n",
              "    0% {\n",
              "      border-color: transparent;\n",
              "      border-bottom-color: var(--fill-color);\n",
              "      border-left-color: var(--fill-color);\n",
              "    }\n",
              "    20% {\n",
              "      border-color: transparent;\n",
              "      border-left-color: var(--fill-color);\n",
              "      border-top-color: var(--fill-color);\n",
              "    }\n",
              "    30% {\n",
              "      border-color: transparent;\n",
              "      border-left-color: var(--fill-color);\n",
              "      border-top-color: var(--fill-color);\n",
              "      border-right-color: var(--fill-color);\n",
              "    }\n",
              "    40% {\n",
              "      border-color: transparent;\n",
              "      border-right-color: var(--fill-color);\n",
              "      border-top-color: var(--fill-color);\n",
              "    }\n",
              "    60% {\n",
              "      border-color: transparent;\n",
              "      border-right-color: var(--fill-color);\n",
              "    }\n",
              "    80% {\n",
              "      border-color: transparent;\n",
              "      border-right-color: var(--fill-color);\n",
              "      border-bottom-color: var(--fill-color);\n",
              "    }\n",
              "    90% {\n",
              "      border-color: transparent;\n",
              "      border-bottom-color: var(--fill-color);\n",
              "    }\n",
              "  }\n",
              "</style>\n",
              "\n",
              "      <script>\n",
              "        async function quickchart(key) {\n",
              "          const quickchartButtonEl =\n",
              "            document.querySelector('#' + key + ' button');\n",
              "          quickchartButtonEl.disabled = true;  // To prevent multiple clicks.\n",
              "          quickchartButtonEl.classList.add('colab-df-spinner');\n",
              "          try {\n",
              "            const charts = await google.colab.kernel.invokeFunction(\n",
              "                'suggestCharts', [key], {});\n",
              "          } catch (error) {\n",
              "            console.error('Error during call to suggestCharts:', error);\n",
              "          }\n",
              "          quickchartButtonEl.classList.remove('colab-df-spinner');\n",
              "          quickchartButtonEl.classList.add('colab-df-quickchart-complete');\n",
              "        }\n",
              "        (() => {\n",
              "          let quickchartButtonEl =\n",
              "            document.querySelector('#df-d8ec2af5-bfa8-4755-8088-207eb5b2aea7 button');\n",
              "          quickchartButtonEl.style.display =\n",
              "            google.colab.kernel.accessAllowed ? 'block' : 'none';\n",
              "        })();\n",
              "      </script>\n",
              "    </div>\n",
              "\n",
              "    </div>\n",
              "  </div>\n"
            ],
            "application/vnd.google.colaboratory.intrinsic+json": {
              "type": "dataframe"
            }
          },
          "metadata": {}
        }
      ]
    },
    {
      "cell_type": "markdown",
      "source": [
        "### C.2 Define Target variable"
      ],
      "metadata": {
        "id": "tpG_mos_EXrY"
      }
    },
    {
      "cell_type": "code",
      "source": [
        "import pandas as pd\n",
        "import os\n",
        "\n",
        "TARGET = \"drafted\"\n",
        "\n",
        "# Load train if not already loaded\n",
        "if \"train_df\" not in globals():\n",
        "    train_df = pd.read_csv(\"train.csv\")\n",
        "\n",
        "# Extract and normalise to 0/1\n",
        "y = train_df[TARGET]\n",
        "if y.dtype == \"O\":\n",
        "    y = (y.astype(str).str.strip().str.lower()\n",
        "           .map({\"1\":1,\"yes\":1,\"y\":1,\"true\":1,\"0\":0,\"no\":0,\"n\":0,\"false\":0}))\n",
        "y = y.astype(int)\n",
        "\n",
        "# Helpful alias for later cells that look for y_tr\n",
        "y_tr = y.copy()\n",
        "\n",
        "# Quick check\n",
        "pos = int(y.sum()); n = len(y)\n",
        "print(f\"ANSWER – C.2: Target set to '{TARGET}' as 0/1 → positives={pos}/{n} ({pos/n:.3%})\")\n"
      ],
      "metadata": {
        "id": "gsQkuxYLVHb1",
        "colab": {
          "base_uri": "https://localhost:8080/"
        },
        "outputId": "94fa25ee-0066-4d1f-fc69-ba19ae6f96f8"
      },
      "execution_count": null,
      "outputs": [
        {
          "output_type": "stream",
          "name": "stdout",
          "text": [
            "ANSWER – C.2: Target set to 'drafted' as 0/1 → positives=118/14774 (0.799%)\n"
          ]
        }
      ]
    },
    {
      "cell_type": "code",
      "source": [
        "target_definition_explanations = (\n",
        "    \"Target: drafted (1 = drafted, 0 = not drafted), taken from train.csv.\"\n",
        "\"The business goal is to predict draft probability; Kaggle submission uses this column's probability.\"\n",
        ")\n"
      ],
      "metadata": {
        "id": "RiqBkEQ-EjIZ"
      },
      "execution_count": null,
      "outputs": []
    },
    {
      "cell_type": "code",
      "source": [
        "# Do not modify this code\n",
        "print_tile(size=\"h3\", key='target_definition_explanations', value=target_definition_explanations)"
      ],
      "metadata": {
        "id": "qdeiAKiIElvG",
        "colab": {
          "base_uri": "https://localhost:8080/",
          "height": 81
        },
        "outputId": "b878d723-2dfb-4f88-b20d-4713682daca6"
      },
      "execution_count": null,
      "outputs": [
        {
          "output_type": "display_data",
          "data": {
            "text/plain": [
              "<IPython.core.display.HTML object>"
            ],
            "text/html": [
              "<p style=\"color:grey\">target_definition_explanations</p><h3 font-size: 3em>Target: drafted (1 = drafted, 0 = not drafted), taken from train.csv.The business goal is to predict draft probability; Kaggle submission uses this column's probability.</h3>"
            ]
          },
          "metadata": {}
        }
      ]
    },
    {
      "cell_type": "markdown",
      "source": [
        "### C.3 Create Target variable"
      ],
      "metadata": {
        "id": "CtIfwnLmEn51"
      }
    },
    {
      "cell_type": "code",
      "source": [
        "import pandas as pd\n",
        "\n",
        "KEY, TARGET = \"player_id\", \"drafted\"\n",
        "\n",
        "# 1) Load labels and normalise to 0/1 ints\n",
        "labels = (pd.read_csv(\"train.csv\", usecols=[KEY, TARGET])\n",
        "            .drop_duplicates(KEY)\n",
        "            .set_index(KEY)[TARGET])\n",
        "\n",
        "if labels.dtype == \"O\":\n",
        "    labels = (labels.astype(str).str.strip().str.lower()\n",
        "              .map({\"1\":1,\"true\":1,\"yes\":1,\"y\":1,\"0\":0,\"false\":0,\"no\":0,\"n\":0})).astype(int)\n",
        "else:\n",
        "    labels = labels.astype(int)\n",
        "\n",
        "# 2) Align to features if available; drop unlabeled rows to keep sync\n",
        "if \"X_tr\" in globals() and isinstance(X_tr, pd.DataFrame) and KEY in X_tr.columns:\n",
        "    y_tr = labels.reindex(X_tr[KEY].values)\n",
        "    mask = y_tr.notna().to_numpy()\n",
        "    X_tr = X_tr.iloc[mask].copy()\n",
        "    y_tr = y_tr.iloc[mask].astype(int)\n",
        "else:\n",
        "    y_tr = labels  # no feature table yet → keep full target\n",
        "\n",
        "print(f\"target '{TARGET}' created & aligned. \"\n",
        "      f\"positives={int(y_tr.sum())}/{len(y_tr)} ({y_tr.mean():.1%})\")\n",
        "\n",
        "ID_COL, TARGET_COL = \"player_id\", \"drafted\"\n",
        "\n",
        "# checks\n",
        "assert ID_COL in train.columns,  f\"Missing {ID_COL} in train\"\n",
        "assert TARGET_COL in train.columns, f\"Missing {TARGET_COL} in train\"\n",
        "\n",
        "# clean target to 0/1 ints (handles strings/NaNs safely)\n",
        "train[TARGET_COL] = (\n",
        "    pd.to_numeric(train[TARGET_COL], errors=\"coerce\")\n",
        "      .fillna(0).clip(0, 1).astype(int)\n",
        ")\n",
        "\n",
        "# quick stats\n",
        "pos = int(train[TARGET_COL].sum()); neg = len(train) - pos\n",
        "rate = pos / len(train)\n",
        "\n",
        "print(\"=\"*60)\n",
        "print(\"Create Target (NB2)\")\n",
        "print(f\"positives={pos} | negatives={neg} | drafted_rate={rate:.3f}\")\n",
        "print(\"=\"*60)\n"
      ],
      "metadata": {
        "id": "XV8dRa59EpLG",
        "colab": {
          "base_uri": "https://localhost:8080/"
        },
        "outputId": "d04e94fc-d811-4031-fd04-17ce7675389d"
      },
      "execution_count": null,
      "outputs": [
        {
          "output_type": "stream",
          "name": "stdout",
          "text": [
            "target 'drafted' created & aligned. positives=97/12155 (0.8%)\n",
            "============================================================\n",
            "Create Target (NB2)\n",
            "positives=118 | negatives=14656 | drafted_rate=0.008\n",
            "============================================================\n"
          ]
        }
      ]
    },
    {
      "cell_type": "markdown",
      "source": [
        "### C.4 Explore Target variable"
      ],
      "metadata": {
        "id": "dmSKLrSBFAN5"
      }
    },
    {
      "cell_type": "code",
      "source": [
        "import pandas as pd\n",
        "import numpy as np\n",
        "\n",
        "# Get target vector\n",
        "if 'y_tr' in globals():\n",
        "    y = pd.Series(y_tr)\n",
        "else:\n",
        "    y = pd.read_csv(\"train.csv\", usecols=[\"drafted\"])[\"drafted\"]\n",
        "# normalise to 0/1 ints\n",
        "if y.dtype.kind not in \"biu\":\n",
        "    y = (y.astype(str).str.strip().str.lower()\n",
        "           .map({\"1\":1,\"true\":1,\"yes\":1,\"y\":1,\"0\":0,\"false\":0,\"no\":0,\"n\":0})).astype(int)\n",
        "\n",
        "n = len(y); pos = int(y.sum()); neg = n - pos\n",
        "print(f\" drafted=1 → {pos}/{n} ({pos/n:.2%}); drafted=0 → {neg}/{n} ({neg/n:.2%}); \"\n",
        "      f\"imbalance ≈ {neg/max(pos,1):.2f}:1\")\n",
        "print(\"Nulls:\", int(y.isna().sum()), \"| Unique labels:\", sorted(y.unique()))\n",
        "\n",
        "# Simple baselines\n",
        "print(f\"Baseline accuracy (always-majority): {max(pos,neg)/n:.3f}\")\n",
        "print(\"Random-guess AUROC baseline: 0.500\")\n",
        "\n",
        "# If you already split in G.1, show class balance per split\n",
        "if 'y_trn' in globals() and 'y_val' in globals():\n",
        "    for name, yv in [(\"Train\", pd.Series(y_trn)), (\"Valid\", pd.Series(y_val))]:\n",
        "        p = int(yv.sum()); m = len(yv)\n",
        "        print(f\"{name} balance: {p}/{m} drafted=1 ({p/m:.2%})\")\n"
      ],
      "metadata": {
        "id": "zeldOL0KFC4E",
        "colab": {
          "base_uri": "https://localhost:8080/"
        },
        "outputId": "8994ca51-c12c-4b9d-9bb8-b1cf90d685ab"
      },
      "execution_count": null,
      "outputs": [
        {
          "output_type": "stream",
          "name": "stdout",
          "text": [
            " drafted=1 → 97/12155 (0.80%); drafted=0 → 12058/12155 (99.20%); imbalance ≈ 124.31:1\n",
            "Nulls: 0 | Unique labels: [np.int64(0), np.int64(1)]\n",
            "Baseline accuracy (always-majority): 0.992\n",
            "Random-guess AUROC baseline: 0.500\n"
          ]
        }
      ]
    },
    {
      "cell_type": "code",
      "source": [
        "# <Student to fill this section>\n",
        "target_distribution_explanations = \"\"\"\n",
        " We checked class balance for 'drafted' (1 vs 0), nulls, and simple baselines (majority accuracy, random AUROC=0.5).\n",
        "If G.1 splits exist, we also verify train/valid balances, confirming stratified splitting and guiding metric/weighting choices.\n",
        "\"\"\""
      ],
      "metadata": {
        "id": "5I9ccv-UEr5o"
      },
      "execution_count": null,
      "outputs": []
    },
    {
      "cell_type": "code",
      "source": [
        "# Do not modify this code\n",
        "print_tile(size=\"h3\", key='target_distribution_explanations', value=target_distribution_explanations)"
      ],
      "metadata": {
        "id": "i45S7xA9EtEV",
        "colab": {
          "base_uri": "https://localhost:8080/",
          "height": 101
        },
        "outputId": "a11b5541-df8b-4077-9e21-b70b0fb19659"
      },
      "execution_count": null,
      "outputs": [
        {
          "output_type": "display_data",
          "data": {
            "text/plain": [
              "<IPython.core.display.HTML object>"
            ],
            "text/html": [
              "<p style=\"color:grey\">target_distribution_explanations</p><h3 font-size: 3em>\n",
              " We checked class balance for 'drafted' (1 vs 0), nulls, and simple baselines (majority accuracy, random AUROC=0.5).\n",
              "If G.1 splits exist, we also verify train/valid balances, confirming stratified splitting and guiding metric/weighting choices.\n",
              "</h3>"
            ]
          },
          "metadata": {}
        }
      ]
    },
    {
      "cell_type": "markdown",
      "source": [
        "### C.6 Explore Feature of Interest `\\<put feature name here\\>`"
      ],
      "metadata": {
        "id": "WOqd56IjE0LB"
      }
    },
    {
      "cell_type": "code",
      "source": [
        "# --- C.6 (short, distinct): Decile lift + KS CDF (robust, no artifacts/ path) ---\n",
        "import numpy as np, pandas as pd, matplotlib.pyplot as plt, difflib\n",
        "\n",
        "FEATURE = \"TS_per\"   # <-- set to an exact column name\n",
        "\n",
        "# 1) Find a labeled split in memory; else load a single table from train.csv\n",
        "X = y = None\n",
        "pairs = [\n",
        "    (\"X_trn\",\"y_trn\"), (\"X_val\",\"y_val\"), (\"X_tr\",\"y_tr\"),\n",
        "    (\"X_train\",\"y_train\"), (\"X\",\"y\")\n",
        "]\n",
        "ns = globals()\n",
        "for Xn, Yn in pairs:\n",
        "    Xc, Yc = ns.get(Xn), ns.get(Yn)\n",
        "    if isinstance(Xc, pd.DataFrame) and Yc is not None and len(Yc) == len(Xc):\n",
        "        X, y = Xc.copy(), pd.Series(Yc)\n",
        "        print(f\"Using in-memory tables: {Xn}/{Yn}\")\n",
        "        break\n",
        "\n",
        "if X is None:\n",
        "    df = pd.read_csv(\"train.csv\")  # <- keep this beside your notebook\n",
        "    print(\"Loaded labeled table from train.csv\")\n",
        "    if \"drafted\" not in df.columns:\n",
        "        raise AssertionError(\"train.csv must contain a 'drafted' column.\")\n",
        "    X, y = df, df[\"drafted\"]\n",
        "\n",
        "# If labels live inside X and y wasn't found, use them\n",
        "if y is None and \"drafted\" in X.columns:\n",
        "    y = X[\"drafted\"]\n",
        "\n",
        "# 2) Validate feature (suggest close names)\n",
        "if FEATURE not in X.columns:\n",
        "    close = difflib.get_close_matches(FEATURE, list(map(str, X.columns)), n=8, cutoff=0.4)\n",
        "    raise AssertionError(f\"{FEATURE} not in columns. Closest matches: {close}\")\n",
        "\n",
        "# 3) Build clean DataFrame\n",
        "x = pd.to_numeric(X[FEATURE], errors=\"coerce\")\n",
        "y = pd.to_numeric(y, errors=\"coerce\").astype(\"Int64\")\n",
        "df = pd.DataFrame({\"x\": x, \"y\": y}).dropna()\n",
        "df[\"y\"] = df[\"y\"].astype(int)\n",
        "\n",
        "if df.empty or df[\"x\"].nunique() == 0 or df[\"y\"].nunique() < 2:\n",
        "    raise AssertionError(\"Not enough variation in data after cleaning to compute metrics.\")\n",
        "\n",
        "overall = df[\"y\"].mean()\n",
        "\n",
        "# ---- Plot A: Decile lift (target rate by quantile of FEATURE) ----\n",
        "bins = int(min(10, max(2, df[\"x\"].nunique())))\n",
        "q = pd.qcut(df[\"x\"], q=bins, duplicates=\"drop\")\n",
        "lift = df.groupby(q, observed=True)[\"y\"].mean().reset_index(drop=True)\n",
        "\n",
        "plt.figure(figsize=(6,4))\n",
        "plt.bar(np.arange(1, len(lift)+1), lift.values)\n",
        "plt.axhline(overall, linestyle=\"--\")\n",
        "plt.title(f\"Draft rate by {FEATURE} decile (lift)\")\n",
        "plt.xlabel(\"Decile (low→high)\"); plt.ylabel(\"Mean drafted\")\n",
        "plt.tight_layout(); plt.show()\n",
        "\n",
        "# ---- Plot B: KS CDF (class separation) ----\n",
        "v0 = np.sort(df.loc[df[\"y\"]==0, \"x\"].values)\n",
        "v1 = np.sort(df.loc[df[\"y\"]==1, \"x\"].values)\n",
        "if len(v0)==0 or len(v1)==0:\n",
        "    ks = 0.0\n",
        "    grid = np.sort(df[\"x\"].unique())\n",
        "    cdf0 = np.zeros_like(grid, dtype=float)\n",
        "    cdf1 = np.zeros_like(grid, dtype=float)\n",
        "else:\n",
        "    grid = np.unique(np.concatenate([v0, v1]))\n",
        "    cdf0 = np.searchsorted(v0, grid, side=\"right\") / len(v0)\n",
        "    cdf1 = np.searchsorted(v1, grid, side=\"right\") / len(v1)\n",
        "    ks = float(np.max(np.abs(cdf1 - cdf0)))\n",
        "\n",
        "plt.figure(figsize=(6,4))\n",
        "plt.plot(grid, cdf0, label=\"drafted=0\")\n",
        "plt.plot(grid, cdf1, label=\"drafted=1\")\n",
        "plt.title(f\"CDFs of {FEATURE}  (KS ≈ {ks:.3f})\")\n",
        "plt.xlabel(FEATURE); plt.ylabel(\"CDF\"); plt.legend()\n",
        "plt.tight_layout(); plt.show()\n",
        "\n",
        "print(f\"{FEATURE}: deciles={len(lift)} | overall draft rate={overall:.3f} | KS≈{ks:.3f}\")\n"
      ],
      "metadata": {
        "id": "akQFJsI3E2eM",
        "colab": {
          "base_uri": "https://localhost:8080/",
          "height": 833
        },
        "outputId": "7b025934-815c-487b-b649-922c44f521f0"
      },
      "execution_count": null,
      "outputs": [
        {
          "output_type": "stream",
          "name": "stdout",
          "text": [
            "Loaded labeled table from train.csv\n"
          ]
        },
        {
          "output_type": "display_data",
          "data": {
            "text/plain": [
              "<Figure size 600x400 with 1 Axes>"
            ],
            "image/png": "[encoded data removed]"
          },
          "metadata": {}
        },
        {
          "output_type": "display_data",
          "data": {
            "text/plain": [
              "<Figure size 600x400 with 1 Axes>"
            ],
            "image/png": "[encoded data removed]"
          },
          "metadata": {}
        },
        {
          "output_type": "stream",
          "name": "stdout",
          "text": [
            "TS_per: deciles=10 | overall draft rate=0.008 | KS≈0.552\n"
          ]
        }
      ]
    },
    {
      "cell_type": "code",
      "source": [
        "# <Student to fill this section>\n",
        "feature_2_insights =  \"\"\"\n",
        "Finds X/y from memory (or train.csv), validates your chosen FEATURE, cleans data, then plots Decile Lift (target rate by feature quantiles) and KS CDFs for class separation.\n",
        "\"\"\""
      ],
      "metadata": {
        "id": "u-CfAsO1E2hB"
      },
      "execution_count": null,
      "outputs": []
    },
    {
      "cell_type": "code",
      "source": [
        "# Do not modify this code\n",
        "print_tile(size=\"h3\", key='feature_2_insights', value=feature_2_insights)"
      ],
      "metadata": {
        "id": "bB87lgCAE2jf",
        "colab": {
          "base_uri": "https://localhost:8080/",
          "height": 101
        },
        "outputId": "d5e71f80-4f1e-4b18-8e4b-8597fc51c603"
      },
      "execution_count": null,
      "outputs": [
        {
          "output_type": "display_data",
          "data": {
            "text/plain": [
              "<IPython.core.display.HTML object>"
            ],
            "text/html": [
              "<p style=\"color:grey\">feature_2_insights</p><h3 font-size: 3em>\n",
              "Finds X/y from memory (or train.csv), validates your chosen FEATURE, cleans data, then plots Decile Lift (target rate by feature quantiles) and KS CDFs for class separation.\n",
              "</h3>"
            ]
          },
          "metadata": {}
        }
      ]
    },
    {
      "cell_type": "markdown",
      "source": [
        "### C.n Explore Feature of Interest `\\<put feature name here\\>`\n",
        "\n",
        "> You can add more cells related to other feeatures in this section"
      ],
      "metadata": {
        "id": "ZcjaUGQ_VbVQ"
      }
    },
    {
      "cell_type": "code",
      "source": [
        "# --- C.n (robust, no artifacts): WoE + IV for one feature ---\n",
        "import numpy as np, pandas as pd, matplotlib.pyplot as plt, difflib\n",
        "\n",
        "FEATURE = \"TS_per\"   # <-- set to an exact column name\n",
        "\n",
        "# 1) Find X,y in memory; else load train.csv ('drafted' as label)\n",
        "def find_xy(feature):\n",
        "    ns = globals()\n",
        "    for Xn, Yn in [(\"X_trn\",\"y_trn\"),(\"X_val\",\"y_val\"),(\"X_tr\",\"y_tr\"),\n",
        "                   (\"X_train\",\"y_train\"),(\"X\",\"y\")]:\n",
        "        Xc, Yc = ns.get(Xn), ns.get(Yn)\n",
        "        if isinstance(Xc, pd.DataFrame) and Yc is not None:\n",
        "            if feature not in Xc.columns:\n",
        "                continue\n",
        "            yser = pd.Series(Yc)\n",
        "            if len(yser) != len(Xc):\n",
        "                continue\n",
        "            return Xc[[feature]].reset_index(drop=True), yser.reset_index(drop=True), f\"{Xn}/{Yn}\"\n",
        "    df = pd.read_csv(\"train.csv\")\n",
        "    if feature not in df.columns:\n",
        "        close = difflib.get_close_matches(feature, list(map(str, df.columns)), n=8, cutoff=0.4)\n",
        "        raise AssertionError(f\"{feature} not in train.csv columns. Closest matches: {close}\")\n",
        "    if \"drafted\" not in df.columns:\n",
        "        raise AssertionError(\"train.csv must include a 'drafted' column for labels.\")\n",
        "    return df[[feature]].reset_index(drop=True), df[\"drafted\"].reset_index(drop=True), \"train.csv\"\n",
        "\n",
        "Xc, yc, src = find_xy(FEATURE)\n",
        "print(f\"Using data from: {src}\")\n",
        "\n",
        "# 2) Assemble dataframe (keep rows with labels)\n",
        "y = pd.to_numeric(yc, errors=\"coerce\").astype(\"Int64\")\n",
        "x = Xc[FEATURE]\n",
        "df = pd.DataFrame({\"x\": x, \"y\": y})\n",
        "df = df[df[\"y\"].notna()]\n",
        "\n",
        "# 3) Bin the feature\n",
        "if pd.api.types.is_numeric_dtype(df[\"x\"]):\n",
        "    xnum = pd.to_numeric(df[\"x\"], errors=\"coerce\")\n",
        "    miss = xnum.isna()\n",
        "    bins = int(min(10, max(2, xnum.nunique())))\n",
        "    q = pd.qcut(xnum.fillna(xnum.median()), q=bins, duplicates=\"drop\")\n",
        "    grp = q.astype(\"object\")\n",
        "    grp[miss] = \"MISSING\"\n",
        "else:\n",
        "    xobj = df[\"x\"].astype(\"object\")\n",
        "    top = xobj.value_counts(dropna=False).head(12).index\n",
        "    grp = np.where(xobj.isna(), \"MISSING\", np.where(xobj.isin(top), xobj, \"OTHER\"))\n",
        "\n",
        "df[\"grp\"] = grp\n",
        "\n",
        "# 4) WoE/IV table with Laplace smoothing\n",
        "t = df.groupby(\"grp\", dropna=False, observed=True)[\"y\"].agg([\"count\",\"sum\"]).rename(columns={\"sum\":\"bad\"})\n",
        "t[\"good\"] = t[\"count\"] - t[\"bad\"]\n",
        "t[[\"bad\",\"good\"]] = t[[\"bad\",\"good\"]] + 0.5\n",
        "bad_tot, good_tot = t[\"bad\"].sum(), t[\"good\"].sum()\n",
        "t[\"bad_dist\"]  = t[\"bad\"] / bad_tot\n",
        "t[\"good_dist\"] = t[\"good\"] / good_tot\n",
        "t[\"woe\"] = np.log(t[\"bad_dist\"] / t[\"good_dist\"])\n",
        "t[\"iv\"]  = (t[\"bad_dist\"] - t[\"good_dist\"]) * t[\"woe\"]\n",
        "IV = float(t[\"iv\"].sum())\n",
        "\n",
        "# 5) Plots\n",
        "plt.figure(figsize=(6,4))\n",
        "plt.bar(range(len(t)), t[\"woe\"].values)\n",
        "plt.xticks(range(len(t)), [str(i) for i in t.index], rotation=45, ha=\"right\")\n",
        "plt.title(f\"WoE by bin: {FEATURE}\")\n",
        "plt.ylabel(\"Weight of Evidence\")\n",
        "plt.tight_layout(); plt.show()\n",
        "\n",
        "plt.figure(figsize=(6,4))\n",
        "rate = (t[\"bad\"] / t[\"count\"]).values\n",
        "plt.bar(range(len(t)), rate)\n",
        "plt.xticks(range(len(t)), [str(i) for i in t.index], rotation=45, ha=\"right\")\n",
        "plt.title(f\"Target rate by bin: {FEATURE}\")\n",
        "plt.ylabel(\"Mean drafted\")\n",
        "plt.tight_layout(); plt.show()\n",
        "\n",
        "band = \"strong\" if IV>0.3 else \"medium\" if IV>=0.1 else \"weak\" if IV>=0.02 else \"minimal\"\n",
        "print(f\"{FEATURE}: IV={IV:.3f} ({band}), bins={len(t)}\")\n",
        "print(t[[\"count\",\"bad\",\"good\",\"bad_dist\",\"good_dist\",\"woe\",\"iv\"]].sort_values(\"woe\"))\n"
      ],
      "metadata": {
        "id": "Z_DwQMvDVbfA",
        "colab": {
          "base_uri": "https://localhost:8080/",
          "height": 1000
        },
        "outputId": "c1592da9-24b7-47db-ffc7-54c8932602e9"
      },
      "execution_count": null,
      "outputs": [
        {
          "output_type": "stream",
          "name": "stdout",
          "text": [
            "Using data from: X/y\n"
          ]
        },
        {
          "output_type": "display_data",
          "data": {
            "text/plain": [
              "<Figure size 600x400 with 1 Axes>"
            ],
            "image/png": "[encoded data removed]"
          },
          "metadata": {}
        },
        {
          "output_type": "display_data",
          "data": {
            "text/plain": [
              "<Figure size 600x400 with 1 Axes>"
            ],
            "image/png": "[encoded data removed]"
          },
          "metadata": {}
        },
        {
          "output_type": "stream",
          "name": "stdout",
          "text": [
            "TS_per: IV=1.881 (strong), bins=10\n",
            "                  count   bad    good  bad_dist  good_dist       woe        iv\n",
            "grp                                                                           \n",
            "(35.016, 41.67]    1484   0.5  1484.5  0.004065   0.101255 -3.215219  0.312487\n",
            "(-0.001, 16.415]   1478   0.5  1478.5  0.004065   0.100846 -3.211169  0.310779\n",
            "(16.415, 35.016]   1477   0.5  1477.5  0.004065   0.100778 -3.210492  0.310495\n",
            "(41.67, 45.37]     1475   1.5  1474.5  0.012195   0.100573 -2.109847  0.186464\n",
            "(45.37, 48.285]    1473   1.5  1472.5  0.012195   0.100437  -2.10849  0.186056\n",
            "(50.42, 52.751]    1467   8.5  1459.5  0.069106    0.09955 -0.365021  0.011113\n",
            "(48.285, 50.42]    1488   9.5  1479.5  0.077236   0.100914 -0.267406  0.006332\n",
            "(59.83, 150.0]     1475  26.5  1449.5  0.215447   0.098868  0.778933  0.090808\n",
            "(52.751, 55.6]     1484  30.5  1454.5  0.247967   0.099209  0.916071  0.136274\n",
            "(55.6, 59.83]      1473  43.5  1430.5  0.353659   0.097572  1.287743  0.329774\n"
          ]
        }
      ]
    },
    {
      "cell_type": "code",
      "source": [
        "feature_n_insight_explanations = \"\"\"\n",
        "Computes Weight of Evidence and Information Value per bin, plots WoE and target-rate charts, and prints IV with a strength band plus the detailed bin table.\n",
        "\"\"\""
      ],
      "metadata": {
        "id": "Cg6t9Tqg3mZ-"
      },
      "execution_count": null,
      "outputs": []
    },
    {
      "cell_type": "code",
      "source": [
        "# Do not modify this code\n",
        "print_tile(size=\"h3\", key='feature_2_insights', value=feature_n_insight_explanations )"
      ],
      "metadata": {
        "id": "bvQOwrbu3rRb",
        "colab": {
          "base_uri": "https://localhost:8080/",
          "height": 81
        },
        "outputId": "a8db32e8-0c94-41dc-bfa0-d0a570dc221f"
      },
      "execution_count": null,
      "outputs": [
        {
          "output_type": "display_data",
          "data": {
            "text/plain": [
              "<IPython.core.display.HTML object>"
            ],
            "text/html": [
              "<p style=\"color:grey\">feature_2_insights</p><h3 font-size: 3em>\n",
              "Computes Weight of Evidence and Information Value per bin, plots WoE and target-rate charts, and prints IV with a strength band plus the detailed bin table.\n",
              "</h3>"
            ]
          },
          "metadata": {}
        }
      ]
    },
    {
      "cell_type": "markdown",
      "metadata": {
        "id": "_NCwQQFkU3v5"
      },
      "source": [
        "---\n",
        "## D. Feature Selection\n"
      ]
    },
    {
      "cell_type": "markdown",
      "source": [
        "### D.1 Approach \"\\<describe_approach_here\\>\"\n"
      ],
      "metadata": {
        "id": "0b8C9WON3Toe"
      }
    },
    {
      "cell_type": "code",
      "source": [
        "# --- D.1 (robust): Feature Selection that doesn't depend on G.1/G.2 ---\n",
        "import numpy as np, pandas as pd\n",
        "from sklearn.feature_selection import SelectKBest, mutual_info_classif\n",
        "\n",
        "MISS_THR = 0.98   # drop cols with >=98% missing\n",
        "CORR_THR = 0.95   # drop highly correlated columns (train-only)\n",
        "TOP_K    = 120    # keep top-K by MI\n",
        "\n",
        "# ---- 0) Find X and y, or load from train.csv ----\n",
        "def as_df(obj):\n",
        "    if isinstance(obj, pd.DataFrame): return obj\n",
        "    if isinstance(obj, (np.ndarray, list, tuple)):\n",
        "        arr = np.asarray(obj);\n",
        "        if arr.ndim == 1: arr = arr.reshape(-1, 1)\n",
        "        return pd.DataFrame(arr, columns=[f\"f{i}\" for i in range(arr.shape[1])])\n",
        "    return None\n",
        "\n",
        "def find_xy():\n",
        "    ns = globals()\n",
        "    # common names to look for\n",
        "    X_names = [\"X_g2_trn\",\"X_trn\",\"X_tr\",\"X_train\",\"X\",\"train_df\",\"features\",\"data\"]\n",
        "    y_names = [\"y_trn\",\"y_tr\",\"y_train\",\"y\"]\n",
        "    X, y = None, None\n",
        "    for xn in X_names:\n",
        "        if xn in ns:\n",
        "            X = as_df(ns[xn])\n",
        "            if X is not None:\n",
        "                break\n",
        "    for yn in y_names:\n",
        "        if yn in ns:\n",
        "            y = pd.Series(ns[yn])\n",
        "            break\n",
        "\n",
        "    # If y missing but X has drafted, use it\n",
        "    if X is not None and y is None and \"drafted\" in X.columns:\n",
        "        y = pd.to_numeric(X[\"drafted\"], errors=\"coerce\")\n",
        "\n",
        "    # If still missing anything, use train.csv\n",
        "    if X is None or y is None or len(y) != len(X):\n",
        "        df = pd.read_csv(\"train.csv\")\n",
        "        if \"drafted\" not in df.columns:\n",
        "            raise AssertionError(\"Need labels: add 'drafted' to your table or supply y_trn/y_tr.\")\n",
        "        X, y = df, df[\"drafted\"]\n",
        "\n",
        "    y = pd.to_numeric(y, errors=\"coerce\")\n",
        "    mask = y.notna()\n",
        "    X, y = X.loc[mask].copy(), y.loc[mask].astype(int)\n",
        "    return X, y\n",
        "\n",
        "X, y = find_xy()\n",
        "\n",
        "# ---- 1) Keep numeric features only; drop obvious label/id columns ----\n",
        "num_cols = X.select_dtypes(include=[np.number, \"bool\"]).columns.tolist()\n",
        "for c in [\"drafted\",\"player_id\"]:\n",
        "    if c in num_cols: num_cols.remove(c)\n",
        "Xn = X[num_cols].copy()\n",
        "\n",
        "start_n = Xn.shape[1]\n",
        "if start_n == 0:\n",
        "    raise AssertionError(\"No numeric features found. One-hot encode categoricals first.\")\n",
        "\n",
        "# ---- 2) Drop high-missing and constant columns ----\n",
        "keep = Xn.columns[Xn.isna().mean() < MISS_THR]\n",
        "X1 = Xn[keep]\n",
        "const = X1.nunique(dropna=False) <= 1\n",
        "X1 = X1.loc[:, ~const]\n",
        "after_missing = X1.shape[1]\n",
        "if after_missing == 0:\n",
        "    raise AssertionError(\"All features dropped by missing/constant filter. Relax thresholds or check data.\")\n",
        "\n",
        "# ---- 3) De-correlate on TRAIN only ----\n",
        "corr = X1.corr(numeric_only=True).abs()\n",
        "if corr.isna().all().all():\n",
        "    cols2 = list(X1.columns)\n",
        "else:\n",
        "    upper = corr.where(np.triu(np.ones(corr.shape), k=1).astype(bool))\n",
        "    drop_cols = [c for c in upper.columns if (upper[c] > CORR_THR).any()]\n",
        "    cols2 = [c for c in X1.columns if c not in drop_cols]\n",
        "X2 = X1[cols2]\n",
        "after_corr = len(cols2)\n",
        "\n",
        "# ---- 4) Mutual Information Top-K (requires no NaN) ----\n",
        "if y.nunique() < 2:\n",
        "    raise AssertionError(\"y has a single class; MI cannot be computed.\")\n",
        "\n",
        "X2_filled = X2.fillna(X2.median(numeric_only=True))\n",
        "K_eff = max(1, min(TOP_K, after_corr))\n",
        "sel = SelectKBest(mutual_info_classif, k=K_eff)\n",
        "sel.fit(X2_filled, y)\n",
        "\n",
        "keep_cols = X2.columns[sel.get_support()].tolist()\n",
        "X_d1_trn = X2[keep_cols].copy()  # <- final selected feature matrix\n",
        "\n",
        "feature_selection_approach_answer = (\n",
        "    f\"start={start_n} → after missing/constant={after_missing} → \"\n",
        "    f\"after corr={after_corr} → MI Top-{len(keep_cols)} selected.\"\n",
        ")\n",
        "print(feature_selection_approach_answer)\n",
        "\n",
        "# Optional: show the selected columns\n",
        "# print(keep_cols)\n"
      ],
      "metadata": {
        "id": "zfC-DLKv4AuM",
        "colab": {
          "base_uri": "https://localhost:8080/"
        },
        "outputId": "89ff2d91-4d3f-447a-fc7f-34e0004a1e45"
      },
      "execution_count": null,
      "outputs": [
        {
          "output_type": "stream",
          "name": "stdout",
          "text": [
            "start=55 → after missing/constant=55 → after corr=43 → MI Top-43 selected.\n"
          ]
        }
      ]
    },
    {
      "cell_type": "code",
      "source": [
        "# <Student to fill this section>\n",
        "feature_selection_1_insights = \"\"\"\n",
        "It auto-finds/loads X and y, keeps numeric features, drops high-missing/constant columns, and removes highly correlated ones (train-only).\n",
        "Then it scores features via Mutual Information, selects Top-K, outputs X_d1_trn, and prints a summary of counts at each step.\n",
        "\"\"\""
      ],
      "metadata": {
        "id": "Z9myLlFZFQXj"
      },
      "execution_count": null,
      "outputs": []
    },
    {
      "cell_type": "code",
      "source": [
        "# Do not modify this code\n",
        "print_tile(size=\"h3\", key='feature_selection_1_insights', value=feature_selection_1_insights)"
      ],
      "metadata": {
        "id": "937YFeqDFQgB",
        "colab": {
          "base_uri": "https://localhost:8080/",
          "height": 101
        },
        "outputId": "ed8ddba6-b2b8-4566-9f8d-6d41f6ac8d29"
      },
      "execution_count": null,
      "outputs": [
        {
          "output_type": "display_data",
          "data": {
            "text/plain": [
              "<IPython.core.display.HTML object>"
            ],
            "text/html": [
              "<p style=\"color:grey\">feature_selection_1_insights</p><h3 font-size: 3em>\n",
              "It auto-finds/loads X and y, keeps numeric features, drops high-missing/constant columns, and removes highly correlated ones (train-only).\n",
              "Then it scores features via Mutual Information, selects Top-K, outputs X_d1_trn, and prints a summary of counts at each step.\n",
              "</h3>"
            ]
          },
          "metadata": {}
        }
      ]
    },
    {
      "cell_type": "markdown",
      "source": [
        "### D.2 Approach \"\\<describe_approach_here\\>\"\n"
      ],
      "metadata": {
        "id": "jqRcgUqu3ZuV"
      }
    },
    {
      "cell_type": "code",
      "source": [
        "# --- D.2 ultimate (robust): XGB feature selection w/ smart label finder + variance fallback ---\n",
        "import numpy as np, pandas as pd\n",
        "\n",
        "try:\n",
        "    from xgboost import XGBClassifier\n",
        "except Exception:\n",
        "    XGBClassifier = None  # we'll fallback to variance if no xgboost\n",
        "\n",
        "g = globals()\n",
        "TOP_K = 120\n",
        "\n",
        "def pick_df(names):\n",
        "    for n in names:\n",
        "        obj = g.get(n)\n",
        "        if isinstance(obj, pd.DataFrame): return obj\n",
        "    return None\n",
        "\n",
        "# 0) Get a feature table X (DataFrame)\n",
        "X = pick_df([\"X_g2_trn\",\"X_trn\",\"X_tr\",\"X_train\",\"X\"])\n",
        "if X is None:\n",
        "    try:\n",
        "        df = pd.read_csv(\"train.csv\")\n",
        "        X = df.drop(columns=[\"drafted\"], errors=\"ignore\")\n",
        "    except Exception:\n",
        "        raise AssertionError(\"No feature table found (X_* or train.csv).\")\n",
        "\n",
        "X = X.copy()\n",
        "\n",
        "# 1) Find labels y in many ways; also return X with any label column removed\n",
        "def find_labels(X):\n",
        "    # A) from globals, matching length\n",
        "    for yn in [\"y_trn\",\"y_tr\",\"y_train\",\"y\",\"y_g1_tr\",\"y_e3_trn\"]:\n",
        "        y = g.get(yn)\n",
        "        if y is not None and len(pd.Series(y)) == len(X):\n",
        "            return pd.to_numeric(pd.Series(y), errors=\"coerce\"), X\n",
        "\n",
        "    # B) from a label-like column inside X\n",
        "    label_candidates = [c for c in [\"drafted\",\"target\",\"label\",\"y\",\"is_drafted\"] if c in X.columns]\n",
        "    for c in label_candidates:\n",
        "        y = pd.to_numeric(X[c], errors=\"coerce\")\n",
        "        X_wo = X.drop(columns=[c], errors=\"ignore\")\n",
        "        return y, X_wo\n",
        "\n",
        "    # C) align via player_id using any df in globals that has both player_id & drafted\n",
        "    if \"player_id\" in X.columns:\n",
        "        # search globals for a df we can align with\n",
        "        for name, obj in list(g.items()):\n",
        "            if isinstance(obj, pd.DataFrame) and \"drafted\" in obj.columns:\n",
        "                if \"player_id\" in obj.columns:\n",
        "                    lab = (obj.drop_duplicates(\"player_id\")\n",
        "                             .set_index(\"player_id\")[\"drafted\"])\n",
        "                    y = lab.reindex(X[\"player_id\"])\n",
        "                    if y.notna().mean() > 0.5:   # reasonable coverage\n",
        "                        return pd.to_numeric(y, errors=\"coerce\"), X\n",
        "                # same length, maybe already ordered\n",
        "                if len(obj) == len(X) and \"drafted\" in obj.columns:\n",
        "                    return pd.to_numeric(obj[\"drafted\"], errors=\"coerce\"), X\n",
        "        # try train.csv last\n",
        "        try:\n",
        "            df = pd.read_csv(\"train.csv\", usecols=[\"player_id\",\"drafted\"])\n",
        "            lab = df.drop_duplicates(\"player_id\").set_index(\"player_id\")[\"drafted\"]\n",
        "            y = lab.reindex(X[\"player_id\"])\n",
        "            if y.notna().any():\n",
        "                return pd.to_numeric(y, errors=\"coerce\"), X\n",
        "        except Exception:\n",
        "            pass\n",
        "\n",
        "    # D) final try: train.csv one-to-one length match\n",
        "    try:\n",
        "        df = pd.read_csv(\"train.csv\")\n",
        "        if \"drafted\" in df.columns and len(df) == len(X):\n",
        "            return pd.to_numeric(df[\"drafted\"], errors=\"coerce\"), X\n",
        "    except Exception:\n",
        "        pass\n",
        "\n",
        "    return None, X\n",
        "\n",
        "y, X = find_labels(X)\n",
        "\n",
        "# 2) Numeric features only (drop ids if present)\n",
        "num = X.select_dtypes(include=[np.number,\"bool\"]).drop(columns=[c for c in [\"player_id\"] if c in X], errors=\"ignore\")\n",
        "if num.shape[1] == 0:\n",
        "    raise AssertionError(\"No numeric features in X.\")\n",
        "\n",
        "def variance_topk(df, k):\n",
        "    v = df.var(axis=0).replace(np.nan, 0.0)\n",
        "    keep = v.sort_values(ascending=False).index[:min(k, df.shape[1])]\n",
        "    return keep.tolist()\n",
        "\n",
        "if y is None or y.isna().all():\n",
        "    # ---- Fallback: no labels found -> unsupervised variance selection ----\n",
        "    keep_cols_d2 = variance_topk(num, TOP_K)\n",
        "    X_d2_trn = num[keep_cols_d2].copy()\n",
        "    print(f\"(D.2 variance fallback) kept={len(keep_cols_d2)} (no labels found). Top10: {keep_cols_d2[:10]}\")\n",
        "else:\n",
        "    # ---- Supervised path: clean labels then XGB feature importance ----\n",
        "    y = pd.to_numeric(y, errors=\"coerce\")\n",
        "    mask = y.notna()\n",
        "    Xs = num.loc[mask].reset_index(drop=True)\n",
        "    ys = y.loc[mask].astype(int).reset_index(drop=True)\n",
        "    if XGBClassifier is None:\n",
        "        keep_cols_d2 = variance_topk(Xs, TOP_K)\n",
        "        X_d2_trn = Xs[keep_cols_d2].copy()\n",
        "        print(f\"(variance fallback – xgboost missing) kept={len(keep_cols_d2)}. Top10: {keep_cols_d2[:10]}\")\n",
        "    else:\n",
        "        pos = int(ys.sum()); neg = len(ys) - pos\n",
        "        spw = neg / max(pos, 1)\n",
        "        xgb = XGBClassifier(\n",
        "            n_estimators=600, learning_rate=0.05, max_depth=6,\n",
        "            subsample=0.8, colsample_bytree=0.8, tree_method=\"hist\",\n",
        "            eval_metric=\"auc\", random_state=42, n_jobs=-1, scale_pos_weight=spw\n",
        "        ).fit(Xs, ys)\n",
        "        try:\n",
        "            gain = xgb.get_booster().get_score(importance_type=\"gain\")\n",
        "            name_map = {f\"f{i}\": c for i, c in enumerate(Xs.columns)}\n",
        "            imp = pd.Series({name_map.get(k, k): v for k, v in gain.items()})\n",
        "        except Exception:\n",
        "            imp = pd.Series(xgb.feature_importances_, index=Xs.columns)\n",
        "        imp = imp.sort_values(ascending=False)\n",
        "        keep_cols_d2 = imp.index[:min(TOP_K, len(imp))].tolist()\n",
        "        X_d2_trn = Xs[keep_cols_d2].copy()\n",
        "        print(f\"(D.2 XGB FS) start={Xs.shape[1]} → kept={len(keep_cols_d2)} | Top10: {keep_cols_d2[:10]}\")\n",
        "\n",
        "# 3) Optional: slice VAL/TEST to the same columns (if present)\n",
        "def safe_slice(df, cols):\n",
        "    if not isinstance(df, pd.DataFrame): return None\n",
        "    z = df.select_dtypes(include=[np.number,\"bool\"]).drop(columns=[c for c in [\"player_id\"] if c in df], errors=\"ignore\")\n",
        "    cols2 = [c for c in cols if c in z.columns]\n",
        "    return z[cols2].copy()\n",
        "\n",
        "X_d2_val = safe_slice(pick_df([\"X_g2_val\",\"X_val\",\"X_valid\",\"X_va\"]), keep_cols_d2)\n",
        "X_d2_te  = safe_slice(pick_df([\"X_g2_te\",\"X_te\",\"X_test\"]), keep_cols_d2)\n"
      ],
      "metadata": {
        "id": "dAPSiwcg3aJC",
        "colab": {
          "base_uri": "https://localhost:8080/"
        },
        "outputId": "0a0fa7ec-e1d3-4ad6-8e02-64936c8593c3"
      },
      "execution_count": null,
      "outputs": [
        {
          "output_type": "stream",
          "name": "stdout",
          "text": [
            "(D.2 XGB FS) start=56 → kept=48 | Top10: ['porpag', 'drafted', 'Rec_Rank', 'dporpag', 'adrtg', 'dreb', 'TPM', 'dunksmiss_dunksmade', 'blk', 'dunksmade']\n"
          ]
        }
      ]
    },
    {
      "cell_type": "code",
      "source": [
        "# <Student to fill this section>\n",
        "feature_selection_2_insights = \"\"\"\n",
        "This finds y from globals/columns/player_id alignment (including any df or train.csv), then runs XGBoost feature selection; if labels truly can’t be found, it falls back to variance Top-K so you can proceed.\n",
        "\n",
        "\n",
        "\"\"\""
      ],
      "metadata": {
        "id": "CpQQodTW3a9v"
      },
      "execution_count": null,
      "outputs": []
    },
    {
      "cell_type": "code",
      "source": [
        "# Do not modify this code\n",
        "print_tile(size=\"h3\", key='feature_selection_2_insights', value=feature_selection_2_insights)"
      ],
      "metadata": {
        "id": "HjN2qhDb3a0G",
        "colab": {
          "base_uri": "https://localhost:8080/",
          "height": 101
        },
        "outputId": "76edec0f-fc6b-4447-93d6-52e71d986ee0"
      },
      "execution_count": null,
      "outputs": [
        {
          "output_type": "display_data",
          "data": {
            "text/plain": [
              "<IPython.core.display.HTML object>"
            ],
            "text/html": [
              "<p style=\"color:grey\">feature_selection_2_insights</p><h3 font-size: 3em>\n",
              "This finds y from globals/columns/player_id alignment (including any df or train.csv), then runs XGBoost feature selection; if labels truly can’t be found, it falls back to variance Top-K so you can proceed.\n",
              "\n",
              "\n",
              "</h3>"
            ]
          },
          "metadata": {}
        }
      ]
    },
    {
      "cell_type": "markdown",
      "source": [
        "## D.z Final Selection of Features"
      ],
      "metadata": {
        "id": "gS5-tS8_3ryn"
      }
    },
    {
      "cell_type": "code",
      "source": [
        "# --- D.z (fixed): Final feature list without DataFrame truthiness errors ---\n",
        "import numpy as np, pandas as pd\n",
        "g = globals()\n",
        "TOP_K = 120\n",
        "\n",
        "def pick_df(names):\n",
        "    for n in names:\n",
        "        obj = g.get(n)\n",
        "        if isinstance(obj, pd.DataFrame):\n",
        "            return obj\n",
        "    return None\n",
        "\n",
        "# 1) Candidate columns from earlier steps\n",
        "cand_d1 = list(g[\"X_d1_trn\"].columns) if isinstance(g.get(\"X_d1_trn\"), pd.DataFrame) else []\n",
        "cand_d2 = g.get(\"keep_cols_d2\")\n",
        "if not isinstance(cand_d2, (list, tuple)):\n",
        "    cand_d2 = list(g[\"X_d2_trn\"].columns) if isinstance(g.get(\"X_d2_trn\"), pd.DataFrame) else []\n",
        "cand_d2 = list(cand_d2)\n",
        "\n",
        "# 2) Optional XGBoost importances (gain → weight → feature_importances_)\n",
        "imp = None\n",
        "model = g.get(\"xgb_fs\") or g.get(\"model\") or g.get(\"xgb_model\") or g.get(\"clf\")\n",
        "base  = g.get(\"X_d2_trn\") if isinstance(g.get(\"X_d2_trn\"), pd.DataFrame) else None\n",
        "try:\n",
        "    gain = model.get_booster().get_score(importance_type=\"gain\")\n",
        "    if gain:\n",
        "        name_map = {f\"f{i}\": c for i, c in enumerate(base.columns)} if base is not None else {}\n",
        "        imp = pd.Series({name_map.get(k, k): v for k, v in gain.items()}, dtype=\"float64\")\n",
        "except Exception:\n",
        "    try:\n",
        "        imp = pd.Series(getattr(model, \"feature_importances_\", None),\n",
        "                        index=(base.columns if base is not None else cand_d2), dtype=\"float64\")\n",
        "    except Exception:\n",
        "        imp = None\n",
        "\n",
        "# 3) Build final keep list (consensus first, then by importance)\n",
        "union = list(dict.fromkeys(cand_d2 + cand_d1))          # preserve order\n",
        "if not union:\n",
        "    raise AssertionError(\"No candidate features found (run D.1/D.2 first).\")\n",
        "inter = [c for c in cand_d2 if c in cand_d1]            # consensus boost\n",
        "if isinstance(imp, pd.Series) and len(imp) > 0:\n",
        "    ranked = sorted(union, key=lambda c: imp.get(c, float(\"-inf\")), reverse=True)\n",
        "else:\n",
        "    ranked = union\n",
        "keep_cols_dz = list(dict.fromkeys(inter + ranked))[:min(TOP_K, len(union))]\n",
        "g[\"keep_cols_dz\"] = keep_cols_dz  # stash for E.2\n",
        "\n",
        "# 4) Slice splits safely (numeric-only; drop id/label)\n",
        "def slice_cols(df, cols):\n",
        "    if not isinstance(df, pd.DataFrame): return None\n",
        "    z = df.select_dtypes(include=[\"number\",\"bool\"]).drop(columns=[c for c in [\"drafted\",\"player_id\"] if c in df], errors=\"ignore\")\n",
        "    cols2 = [c for c in cols if c in z.columns]\n",
        "    return z[cols2].copy()\n",
        "\n",
        "X_dz_trn = slice_cols(pick_df([\"X_g2_trn\",\"X_trn\",\"X_tr\",\"X_train\",\"X\"]), keep_cols_dz)\n",
        "X_dz_val = slice_cols(pick_df([\"X_g2_val\",\"X_val\",\"X_valid\",\"X_va\"]), keep_cols_dz)\n",
        "X_dz_te  = slice_cols(pick_df([\"X_g2_te\",\"X_te\",\"X_test\"]), keep_cols_dz)\n",
        "\n",
        "print(f\"(D.z) kept {len(keep_cols_dz)} / {len(union)} | Top10: {keep_cols_dz[:10]}\")\n"
      ],
      "metadata": {
        "id": "zYY4u2063ioF",
        "colab": {
          "base_uri": "https://localhost:8080/"
        },
        "outputId": "c8fe0502-39cb-4204-859b-7090842fef3e"
      },
      "execution_count": null,
      "outputs": [
        {
          "output_type": "stream",
          "name": "stdout",
          "text": [
            "(D.z) kept 54 / 54 | Top10: ['porpag', 'Rec_Rank', 'dporpag', 'dreb', 'TPM', 'blk', 'dunksmade', 'midmade', 'oreb', 'ast_tov']\n"
          ]
        }
      ]
    },
    {
      "cell_type": "code",
      "source": [
        "# <Student to fill this section>\n",
        "feature_selection_explanations =  \"\"\"\n",
        "Don’t use or with DataFrames; the helper pick_df(...) returns the first available DataFrame and avoids the “truth value is ambiguous” error.\n",
        "\"\"\""
      ],
      "metadata": {
        "id": "-pxVH1r63vqu"
      },
      "execution_count": null,
      "outputs": []
    },
    {
      "cell_type": "code",
      "source": [
        "# Do not modify this code\n",
        "print_tile(size=\"h3\", key='feature_selection_explanations', value=feature_selection_explanations)"
      ],
      "metadata": {
        "id": "rHluIUmR3iO3",
        "colab": {
          "base_uri": "https://localhost:8080/",
          "height": 81
        },
        "outputId": "2e60bd0e-10e9-4fe2-aec0-569fe8ac1b1c"
      },
      "execution_count": null,
      "outputs": [
        {
          "output_type": "display_data",
          "data": {
            "text/plain": [
              "<IPython.core.display.HTML object>"
            ],
            "text/html": [
              "<p style=\"color:grey\">feature_selection_explanations</p><h3 font-size: 3em>\n",
              "Don’t use or with DataFrames; the helper pick_df(...) returns the first available DataFrame and avoids the “truth value is ambiguous” error.\n",
              "</h3>"
            ]
          },
          "metadata": {}
        }
      ]
    },
    {
      "cell_type": "markdown",
      "source": [
        "---\n",
        "## E. Data Preparation"
      ],
      "metadata": {
        "id": "j-nNSpJK0Rgu"
      }
    },
    {
      "cell_type": "markdown",
      "source": [
        "### E.1 Data Transformation <put_name_here>"
      ],
      "metadata": {
        "id": "EDtRq1990rcW"
      }
    },
    {
      "cell_type": "code",
      "source": [
        "# --- E.1 UPDATED: Data Transformation for XGBoost (compact & robust) ---\n",
        "import numpy as np, pandas as pd\n",
        "g = globals()\n",
        "\n",
        "# --- knobs (tweak if needed)\n",
        "TOPK_CAT  = 20          # keep top-20 levels per categorical\n",
        "CLIP_Q    = (0.01,0.99) # winsorize numerics at 1%/99%\n",
        "LOG_SKEW  = 1.0         # log1p if |skew| >= threshold\n",
        "DROP_COLS = [\"drafted\",\"player_id\"]  # remove labels/IDs from features\n",
        "\n",
        "# --- helpers\n",
        "def pick_df(names):\n",
        "    for n in names:\n",
        "        obj = g.get(n)\n",
        "        if isinstance(obj, pd.DataFrame):\n",
        "            return obj\n",
        "    return None\n",
        "\n",
        "def split_types(df: pd.DataFrame):\n",
        "    num = df.select_dtypes(include=[np.number,\"bool\"]).drop(columns=[c for c in DROP_COLS if c in df], errors=\"ignore\")\n",
        "    cat = df.select_dtypes(include=[\"object\",\"category\",\"string\"]).drop(columns=[c for c in DROP_COLS if c in df], errors=\"ignore\")\n",
        "    return num, cat\n",
        "\n",
        "# --- 0) Get raw splits (TRAIN required; VAL/TEST optional; fallback to CSVs)\n",
        "X_raw_trn = pick_df([\"X_g2_trn\",\"X_trn\",\"X_tr\",\"X_train\",\"X\"])\n",
        "X_raw_val = pick_df([\"X_g2_val\",\"X_val\",\"X_valid\",\"X_va\"])\n",
        "X_raw_te  = pick_df([\"X_g2_te\",\"X_te\",\"X_test\"])\n",
        "\n",
        "if not isinstance(X_raw_trn, pd.DataFrame):\n",
        "    df = pd.read_csv(\"train.csv\")\n",
        "    X_raw_trn = df.drop(columns=[\"drafted\"], errors=\"ignore\")\n",
        "\n",
        "if not isinstance(X_raw_te, pd.DataFrame):\n",
        "    try: X_raw_te = pd.read_csv(\"test.csv\")\n",
        "    except Exception: X_raw_te = None  # ok if you have no test split yet\n",
        "\n",
        "# --- 1) Fit stats on TRAIN ONLY (no leakage)\n",
        "num_trn, cat_trn = split_types(X_raw_trn)\n",
        "\n",
        "if num_trn.shape[1]:\n",
        "    q_lo = num_trn.quantile(CLIP_Q[0], numeric_only=True)\n",
        "    q_hi = num_trn.quantile(CLIP_Q[1], numeric_only=True)\n",
        "    med  = num_trn.median(numeric_only=True)\n",
        "    sk   = num_trn.skew(numeric_only=True)\n",
        "    log_cols = [c for c in num_trn.columns if abs(sk.get(c,0.0)) >= LOG_SKEW]\n",
        "    shifts   = {c: (-(num_trn[c].min()) + 1) if num_trn[c].min() <= 0 else 0.0 for c in log_cols}\n",
        "else:\n",
        "    q_lo = q_hi = med = pd.Series(dtype=float); log_cols = []; shifts = {}\n",
        "\n",
        "top_vals = {c: cat_trn[c].astype(\"object\").value_counts(dropna=False).head(TOPK_CAT).index.tolist()\n",
        "            for c in cat_trn.columns}\n",
        "\n",
        "stats = {\"q_lo\":q_lo, \"q_hi\":q_hi, \"med\":med, \"log_cols\":log_cols, \"shifts\":shifts, \"top_vals\":top_vals}\n",
        "\n",
        "def transform(df: pd.DataFrame, stats: dict) -> pd.DataFrame | None:\n",
        "    if not isinstance(df, pd.DataFrame): return None\n",
        "    num, cat = split_types(df)\n",
        "\n",
        "    # numerics: clip → log1p (selected) → median-impute\n",
        "    if num.shape[1]:\n",
        "        num = num.clip(lower=stats[\"q_lo\"], upper=stats[\"q_hi\"], axis=1)\n",
        "        for c in stats[\"log_cols\"]:\n",
        "            if c in num.columns:\n",
        "                z = num[c] + stats[\"shifts\"][c]\n",
        "                z = z.where(z > 0, 1.0)\n",
        "                num[c] = np.log1p(z)\n",
        "        num = num.fillna(stats[\"med\"])\n",
        "\n",
        "    # categoricals: rare bucket + MISSING → one-hot (int8)\n",
        "    if cat.shape[1]:\n",
        "        cat = cat.astype(\"object\")\n",
        "        for c in cat.columns:\n",
        "            top = set(stats[\"top_vals\"].get(c, []))\n",
        "            x = cat[c]\n",
        "            x = np.where(pd.isna(x), \"MISSING\", np.where(x.astype(object).isin(top), x, \"OTHER\"))\n",
        "            cat[c] = x\n",
        "        cat_oh = pd.get_dummies(cat, drop_first=False)\n",
        "        for c in cat_oh.columns: cat_oh[c] = cat_oh[c].astype(\"int8\")\n",
        "        out = pd.concat([num, cat_oh], axis=1) if num.shape[1] else cat_oh\n",
        "    else:\n",
        "        out = num  # may be empty if neither num nor cat\n",
        "    return out\n",
        "\n",
        "# --- 2) Transform TRAIN + define align() and materialize VAL/TEST\n",
        "X_e1_trn = transform(X_raw_trn, stats)\n",
        "e1_cols  = list(X_e1_trn.columns)\n",
        "\n",
        "def align(df: pd.DataFrame) -> pd.DataFrame | None:\n",
        "    \"\"\"Apply E.1 transform and reindex to TRAIN columns.\"\"\"\n",
        "    t = transform(df, stats)\n",
        "    return None if t is None else t.reindex(columns=e1_cols, fill_value=0)\n",
        "\n",
        "X_e1_val = align(X_raw_val)\n",
        "X_e1_te  = align(X_raw_te)\n",
        "X_e1_cols = e1_cols  # save schema for downstream steps\n",
        "\n",
        "print(f\"(E.1) transformed_cols={len(X_e1_cols)} | log_cols={len(log_cols)} | \"\n",
        "      f\"VAL={'yes' if isinstance(X_e1_val,pd.DataFrame) else 'no'} | \"\n",
        "      f\"TEST={'yes' if isinstance(X_e1_te,pd.DataFrame) else 'no'}\")\n"
      ],
      "metadata": {
        "id": "OO5ITMDZ035_",
        "colab": {
          "base_uri": "https://localhost:8080/"
        },
        "outputId": "19a2bd04-57c9-47f8-a1f1-3c296bf514e1"
      },
      "execution_count": null,
      "outputs": [
        {
          "output_type": "stream",
          "name": "stdout",
          "text": [
            "(E.1) transformed_cols=121 | log_cols=37 | VAL=no | TEST=yes\n"
          ]
        }
      ]
    },
    {
      "cell_type": "code",
      "source": [
        "# <Student to fill this section>\n",
        "data_cleaning_1_explanations = \"\"\"\n",
        "Fits transforms on TRAIN only—clip 1–99% tails, log1p skewed numerics, median-impute; bucket rare categories then one-hot—so there’s no leakage and XGBoost is happy.\n",
        "Applies the same mapping to VAL/TEST and reindexes to TRAIN’s columns (X_e1_trn, X_e1_val, X_e1_te, X_e1_cols).\n",
        "\"\"\""
      ],
      "metadata": {
        "id": "eQGXvLtkFU9L"
      },
      "execution_count": null,
      "outputs": []
    },
    {
      "cell_type": "code",
      "source": [
        "# Do not modify this code\n",
        "print_tile(size=\"h3\", key='data_cleaning_1_explanations', value=data_cleaning_1_explanations)"
      ],
      "metadata": {
        "id": "MPuYme1uFU_4",
        "colab": {
          "base_uri": "https://localhost:8080/",
          "height": 101
        },
        "outputId": "a23ce2a8-869b-418f-9db3-d1a4701e7981"
      },
      "execution_count": null,
      "outputs": [
        {
          "output_type": "display_data",
          "data": {
            "text/plain": [
              "<IPython.core.display.HTML object>"
            ],
            "text/html": [
              "<p style=\"color:grey\">data_cleaning_1_explanations</p><h3 font-size: 3em>\n",
              "Fits transforms on TRAIN only—clip 1–99% tails, log1p skewed numerics, median-impute; bucket rare categories then one-hot—so there’s no leakage and XGBoost is happy.\n",
              "Applies the same mapping to VAL/TEST and reindexes to TRAIN’s columns (X_e1_trn, X_e1_val, X_e1_te, X_e1_cols).\n",
              "</h3>"
            ]
          },
          "metadata": {}
        }
      ]
    },
    {
      "cell_type": "markdown",
      "source": [
        "### E.2 Data Transformation <put_name_here>"
      ],
      "metadata": {
        "id": "SxhDoAkw08Eb"
      }
    },
    {
      "cell_type": "code",
      "source": [
        "# --- E.2: Apply final feature selection to transformed data (XGBoost-ready) ---\n",
        "import pandas as pd\n",
        "g = globals()\n",
        "\n",
        "# 0) Get transformed splits from E.1\n",
        "X1_trn = g.get(\"X_e1_trn\"); X1_val = g.get(\"X_e1_val\"); X1_te = g.get(\"X_e1_te\")\n",
        "assert isinstance(X1_trn, pd.DataFrame), \"Run E.1 first to produce X_e1_trn/val/te.\"\n",
        "\n",
        "# 1) Get final keep list from D.z (fallback: D.2 or D.1)\n",
        "keep = g.get(\"keep_cols_dz\") or g.get(\"keep_cols_d2\") \\\n",
        "        or (list(g[\"X_d1_trn\"].columns) if isinstance(g.get(\"X_d1_trn\"), pd.DataFrame) else None)\n",
        "if not keep: keep = list(X1_trn.columns)  # last resort: keep all transformed\n",
        "\n",
        "cols = [c for c in keep if c in X1_trn.columns]\n",
        "if not cols: cols = list(X1_trn.columns)\n",
        "\n",
        "# 2) Slice splits and save\n",
        "X_e2_trn = X1_trn[cols].copy()\n",
        "X_e2_val = (X1_val[cols].copy() if isinstance(X1_val, pd.DataFrame) else None)\n",
        "X_e2_te  = (X1_te[cols].copy()  if isinstance(X1_te,  pd.DataFrame)  else None)\n",
        "X_e2_cols = cols\n",
        "\n",
        "print(f\" cols={X1_trn.shape[1]} → kept={len(cols)}. \"\n",
        "      f\"VAL={'yes' if X_e2_val is not None else 'no'}, TEST={'yes' if X_e2_te is not None else 'no'}\")"
      ],
      "metadata": {
        "id": "k9Ms7HklkUJY",
        "colab": {
          "base_uri": "https://localhost:8080/"
        },
        "outputId": "e6ba9e6c-1919-484f-fa74-dc822c100b20"
      },
      "execution_count": null,
      "outputs": [
        {
          "output_type": "stream",
          "name": "stdout",
          "text": [
            " cols=121 → kept=53. VAL=no, TEST=yes\n"
          ]
        }
      ]
    },
    {
      "cell_type": "code",
      "source": [
        "# <Student to fill this section>\n",
        "data_cleaning_2_explanations = \"\"\"\n",
        "Takes your E.1-transformed matrices and applies the final feature list from D.z (or D.2/D.1), producing X_e2_trn/val/te aligned to the same columns.\n",
        "\"\"\""
      ],
      "metadata": {
        "id": "NoQ6IWoFFb1y"
      },
      "execution_count": null,
      "outputs": []
    },
    {
      "cell_type": "code",
      "source": [
        "# Do not modify this code\n",
        "print_tile(size=\"h3\", key='data_cleaning_2_explanations', value=data_cleaning_2_explanations)"
      ],
      "metadata": {
        "id": "n1NG6O-jFdOE",
        "colab": {
          "base_uri": "https://localhost:8080/",
          "height": 81
        },
        "outputId": "2f4fb9e2-8387-43f4-a332-60f8ec24df34"
      },
      "execution_count": null,
      "outputs": [
        {
          "output_type": "display_data",
          "data": {
            "text/plain": [
              "<IPython.core.display.HTML object>"
            ],
            "text/html": [
              "<p style=\"color:grey\">data_cleaning_2_explanations</p><h3 font-size: 3em>\n",
              "Takes your E.1-transformed matrices and applies the final feature list from D.z (or D.2/D.1), producing X_e2_trn/val/te aligned to the same columns.\n",
              "</h3>"
            ]
          },
          "metadata": {}
        }
      ]
    },
    {
      "cell_type": "markdown",
      "source": [
        "### E.3 Data Transformation <put_name_here>"
      ],
      "metadata": {
        "id": "ylQxO-4g03qH"
      }
    },
    {
      "cell_type": "code",
      "source": [
        "import pandas as pd\n",
        "g = globals()\n",
        "\n",
        "def pick_df(names):\n",
        "    for n in names:\n",
        "        obj = g.get(n)\n",
        "        if isinstance(obj, pd.DataFrame):\n",
        "            return obj\n",
        "    return None"
      ],
      "metadata": {
        "id": "gfcc9JM2rg6Z"
      },
      "execution_count": null,
      "outputs": []
    },
    {
      "cell_type": "code",
      "source": [
        "# --- E.3 PERFECT: safe selectors, robust label alignment, no truthiness bugs ---\n",
        "import numpy as np, pandas as pd\n",
        "from pathlib import Path\n",
        "\n",
        "g = globals()\n",
        "\n",
        "# ---------- helpers (never truth-test DataFrames or arrays) ----------\n",
        "def pick_df(names):\n",
        "    \"\"\"Return first existing pandas DataFrame by name (no A or B on DataFrames).\"\"\"\n",
        "    for n in names:\n",
        "        obj = g.get(n)\n",
        "        if isinstance(obj, pd.DataFrame):\n",
        "            return obj\n",
        "    return None\n",
        "\n",
        "def pick_arr(names):\n",
        "    \"\"\"Return first existing array-like by name as a 1-D numpy array (no truth-tests).\"\"\"\n",
        "    for n in names:\n",
        "        obj = g.get(n)\n",
        "        if obj is not None:\n",
        "            return np.asarray(obj).reshape(-1)\n",
        "    return None\n",
        "\n",
        "def positional_mask(series_like):\n",
        "    \"\"\"Boolean positional mask from a pandas Series/array (avoids index alignment).\"\"\"\n",
        "    return pd.Series(series_like).notna().to_numpy()\n",
        "\n",
        "def read_train_csv_cols(cols):\n",
        "    for p in [Path(\".\"), Path(\"artifacts\")]:\n",
        "        f = p / \"train.csv\"\n",
        "        if f.exists():\n",
        "            return pd.read_csv(f, usecols=[c for c in cols if c != \"*\"])\n",
        "    # last resort\n",
        "    return pd.read_csv(\"train.csv\", usecols=[c for c in cols if c != \"*\"])\n",
        "\n",
        "# ---------- 0) pick best-available transformed splits (E.2→E.1) ----------\n",
        "X_trn = pick_df([\"X_e2_trn\",\"X_e1_trn\",\"X_dz_trn\",\"X_d2_trn\",\"X_trn\",\"X_tr\",\"X_train\",\"X\"])\n",
        "X_val = pick_df([\"X_e2_val\",\"X_e1_val\",\"X_dz_val\",\"X_val\",\"X_valid\",\"X_va\"])\n",
        "X_te  = pick_df([\"X_e2_te\",\"X_e1_te\",\"X_dz_te\",\"X_te\",\"X_test\"])\n",
        "\n",
        "# ---------- 1) get labels y to match X_trn (multiple strategies, no truthiness) ----------\n",
        "def find_y_matching_len(n_expected):\n",
        "    # in-memory exact-length labels\n",
        "    for name in [\"y_trn\",\"y_g1_tr\",\"y_e3_trn\",\"y_train\",\"y\"]:\n",
        "        if name in g and g[name] is not None:\n",
        "            ys = pd.Series(g[name])\n",
        "            if len(ys) == n_expected:\n",
        "                return pd.to_numeric(ys, errors=\"coerce\")\n",
        "    # files beside notebook (optional)\n",
        "    for folder in [Path(\".\"), Path(\"artifacts\")]:\n",
        "        for fname in [\"y_train.csv\",\"y_trn.csv\",\"y.csv\"]:\n",
        "            fp = folder / fname\n",
        "            if fp.exists():\n",
        "                ys = pd.read_csv(fp).squeeze(\"columns\")\n",
        "                if len(ys) == n_expected:\n",
        "                    return pd.to_numeric(ys, errors=\"coerce\")\n",
        "    return None\n",
        "\n",
        "def align_y_by_player_id(df_like_X):\n",
        "    \"\"\"Align y via player_id using any available table or train.csv.\"\"\"\n",
        "    if not isinstance(df_like_X, pd.DataFrame) or \"player_id\" not in df_like_X.columns:\n",
        "        return None\n",
        "    # try any in-memory df with both player_id & drafted\n",
        "    for obj in list(g.values()):\n",
        "        if isinstance(obj, pd.DataFrame) and {\"player_id\",\"drafted\"} <= set(obj.columns):\n",
        "            lab = obj.drop_duplicates(\"player_id\").set_index(\"player_id\")[\"drafted\"]\n",
        "            y = lab.reindex(df_like_X[\"player_id\"])\n",
        "            if y.notna().any():\n",
        "                return pd.to_numeric(y, errors=\"coerce\")\n",
        "    # try train.csv\n",
        "    try:\n",
        "        lab = read_train_csv_cols([\"player_id\",\"drafted\"]).drop_duplicates(\"player_id\").set_index(\"player_id\")[\"drafted\"]\n",
        "        return pd.to_numeric(lab.reindex(df_like_X[\"player_id\"]), errors=\"coerce\")\n",
        "    except Exception:\n",
        "        return None\n",
        "\n",
        "def rebuild_e1_from_train_with_id():\n",
        "    \"\"\"Minimal E.1 rebuild from train.csv with player_id passthrough for alignment.\"\"\"\n",
        "    df = pd.read_csv(\"train.csv\")\n",
        "    assert \"drafted\" in df.columns, \"train.csv must include 'drafted'.\"\n",
        "    y = pd.to_numeric(df[\"drafted\"], errors=\"coerce\")\n",
        "\n",
        "    DROP = [\"drafted\"]\n",
        "    pid = df[\"player_id\"] if \"player_id\" in df.columns else pd.Series(range(len(df)), name=\"player_id\")\n",
        "    # split\n",
        "    num = df.select_dtypes(include=[np.number,\"bool\"]).drop(columns=[c for c in DROP+[\"player_id\"] if c in df], errors=\"ignore\")\n",
        "    cat = df.select_dtypes(include=[\"object\",\"category\",\"string\"]).drop(columns=[c for c in DROP+[\"player_id\"] if c in df], errors=\"ignore\")\n",
        "    # stats (train-fit)\n",
        "    CLIP_Q, TOPK_CAT, LOG_SKEW = (0.01, 0.99), 20, 1.0\n",
        "    q_lo, q_hi = num.quantile(CLIP_Q[0]), num.quantile(CLIP_Q[1])\n",
        "    med = num.median()\n",
        "    sk  = num.skew()\n",
        "    log_cols = [c for c in num.columns if abs(sk.get(c,0)) >= LOG_SKEW]\n",
        "    shifts = {c: (-(num[c].min())+1) if num[c].min() <= 0 else 0.0 for c in log_cols}\n",
        "    top_vals = {c: cat[c].astype(\"object\").value_counts(dropna=False).head(TOPK_CAT).index.tolist() for c in cat.columns}\n",
        "\n",
        "    def transform(_df):\n",
        "        n = _df.select_dtypes(include=[np.number,\"bool\"]).drop(columns=[c for c in DROP+[\"player_id\"] if c in _df], errors=\"ignore\")\n",
        "        n = n.clip(lower=q_lo, upper=q_hi, axis=1)\n",
        "        for c in log_cols:\n",
        "            if c in n:\n",
        "                z = (n[c] + shifts[c]).where(lambda v: v > 0, 1.0)\n",
        "                n[c] = np.log1p(z)\n",
        "        n = n.fillna(med)\n",
        "        c = _df.select_dtypes(include=[\"object\",\"category\",\"string\"]).drop(columns=[c for c in DROP+[\"player_id\"] if c in _df], errors=\"ignore\")\n",
        "        if c.shape[1]:\n",
        "            c = c.astype(\"object\")\n",
        "            for col in c.columns:\n",
        "                top = set(top_vals.get(col, []))\n",
        "                arr = np.where(c[col].isna(), \"MISSING\", np.where(c[col].isin(top), c[col], \"OTHER\"))\n",
        "                c[col] = arr\n",
        "            c = pd.get_dummies(c, drop_first=False).astype(\"int8\")\n",
        "            out = pd.concat([n, c], axis=1)\n",
        "        else:\n",
        "            out = n\n",
        "        return out\n",
        "\n",
        "    X_e1 = transform(df)\n",
        "    X_e1[\"player_id\"] = pid.values  # keep for alignment (not a feature)\n",
        "    return X_e1, y\n",
        "\n",
        "# --- try to proceed with current X_trn ---\n",
        "if not isinstance(X_trn, pd.DataFrame):\n",
        "    # nothing to work with -> rebuild from train.csv with id\n",
        "    X_trn, y = rebuild_e1_from_train_with_id()\n",
        "    X_val = None; X_te = None\n",
        "else:\n",
        "    # try exact-length labels\n",
        "    y = find_y_matching_len(len(X_trn))\n",
        "    # else try align via id\n",
        "    if y is None:\n",
        "        y = align_y_by_player_id(X_trn)\n",
        "    # if still none and X_trn lost id, rebuild\n",
        "    if y is None and \"player_id\" not in X_trn.columns:\n",
        "        X_trn, y = rebuild_e1_from_train_with_id()\n",
        "        X_val = None; X_te = None\n",
        "\n",
        "# ---------- 2) clean labels, drop NA rows (positional mask), finalize features ----------\n",
        "y = pd.to_numeric(pd.Series(y), errors=\"coerce\")\n",
        "assert len(y) == len(X_trn), f\"y len {len(y)} != X_trn len {len(X_trn)} (after alignment/rebuild).\"\n",
        "\n",
        "mask = positional_mask(y)                 # ndarray mask (no index alignment pitfalls)\n",
        "X_trn = X_trn.loc[mask].reset_index(drop=True)\n",
        "y     = y.loc[mask].reset_index(drop=True).astype(int)\n",
        "\n",
        "# If VAL/TEST lengths exactly match original y length, apply same mask; else leave untouched\n",
        "def maybe_mask(df, original_len):\n",
        "    if isinstance(df, pd.DataFrame) and len(df) == original_len:\n",
        "        return df.loc[mask].reset_index(drop=True)\n",
        "    return df\n",
        "\n",
        "# original lengths before masking\n",
        "# (if X_val / X_te are None or different length, we skip masking them)\n",
        "X_val = maybe_mask(X_val, len(mask))\n",
        "X_te  = maybe_mask(X_te,  len(mask))\n",
        "\n",
        "# drop non-feature id column if present\n",
        "feat_cols = [c for c in X_trn.columns if c != \"player_id\"]\n",
        "\n",
        "# to numpy\n",
        "to_np = lambda df: (df[feat_cols].astype(\"float32\").to_numpy() if isinstance(df, pd.DataFrame) else None)\n",
        "X_e3_trn = to_np(X_trn)\n",
        "X_e3_val = to_np(X_val)\n",
        "X_e3_te  = to_np(X_te)\n",
        "feature_names_e3 = feat_cols\n",
        "\n",
        "# class weights (for XGBoost scale_pos_weight or per-row weights)\n",
        "y_e3_trn = y.to_numpy()\n",
        "pos = int(y_e3_trn.sum()); neg = len(y_e3_trn) - pos\n",
        "spw = neg / max(pos, 1)\n",
        "w_e3_trn = np.where(y_e3_trn == 1, spw, 1.0).astype(\"float32\")\n",
        "\n",
        "print(f\"E.3 OK → X_trn={X_e3_trn.shape} | X_val={None if X_e3_val is None else X_e3_val.shape} | \"\n",
        "      f\"X_te={None if X_e3_te is None else X_e3_te.shape} | pos={pos} neg={neg} spw≈{spw:.2f} | \"\n",
        "      f\"features={len(feature_names_e3)}\")\n"
      ],
      "metadata": {
        "id": "5VymIZpS1Ch7",
        "colab": {
          "base_uri": "https://localhost:8080/"
        },
        "outputId": "e8304352-8488-4841-babc-261471fe9e6a"
      },
      "execution_count": null,
      "outputs": [
        {
          "output_type": "stream",
          "name": "stdout",
          "text": [
            "E.3 OK → X_trn=(14774, 53) | X_val=None | X_te=(1297, 53) | pos=118 neg=14656 spw≈124.20 | features=53\n"
          ]
        }
      ]
    },
    {
      "cell_type": "code",
      "source": [
        "# <Student to fill this section>\n",
        "data_cleaning_3_explanations = \"\"\"\n",
        "Safely picks the first available transformed split (X_e2_* then X_e1_*) without boolean-evaluating DataFrames, converts to float32 arrays, and builds class-imbalance weights.\n",
        "\"\"\""
      ],
      "metadata": {
        "id": "BHo46tqSFibl"
      },
      "execution_count": null,
      "outputs": []
    },
    {
      "cell_type": "code",
      "source": [
        "# Do not modify this code\n",
        "print_tile(size=\"h3\", key='data_cleaning_3_explanations', value=data_cleaning_3_explanations)"
      ],
      "metadata": {
        "id": "D1BIohZLFiiM",
        "colab": {
          "base_uri": "https://localhost:8080/",
          "height": 101
        },
        "outputId": "6984fda8-d12c-4173-bd88-ee7be20f3ec0"
      },
      "execution_count": null,
      "outputs": [
        {
          "output_type": "display_data",
          "data": {
            "text/plain": [
              "<IPython.core.display.HTML object>"
            ],
            "text/html": [
              "<p style=\"color:grey\">data_cleaning_3_explanations</p><h3 font-size: 3em>\n",
              "Safely picks the first available transformed split (X_e2_* then X_e1_*) without boolean-evaluating DataFrames, converts to float32 arrays, and builds class-imbalance weights.\n",
              "</h3>"
            ]
          },
          "metadata": {}
        }
      ]
    },
    {
      "cell_type": "markdown",
      "source": [
        "### E.n Fixing \"\\<describe_issue_here\\>\"\n",
        "\n",
        "> You can add more cells related to other issues in this section"
      ],
      "metadata": {
        "id": "w8pDuIcQVxgf"
      }
    },
    {
      "cell_type": "code",
      "source": [
        "# --- E.fix: make y match X_trn (rebuild with player_id if needed) ---\n",
        "import numpy as np, pandas as pd\n",
        "from pathlib import Path\n",
        "\n",
        "g = globals()\n",
        "\n",
        "def pick_df(names):\n",
        "    for n in names:\n",
        "        obj = g.get(n)\n",
        "        if isinstance(obj, pd.DataFrame):\n",
        "            return obj\n",
        "    return None\n",
        "\n",
        "# 0) Try to use existing transformed splits\n",
        "X_trn = pick_df([\"X_e2_trn\",\"X_e1_trn\",\"X_dz_trn\",\"X_d2_trn\",\"X_trn\",\"X_tr\",\"X_train\",\"X\"])\n",
        "X_val = pick_df([\"X_e2_val\",\"X_e1_val\",\"X_dz_val\",\"X_val\",\"X_valid\",\"X_va\"])\n",
        "X_te  = pick_df([\"X_e2_te\",\"X_e1_te\",\"X_dz_te\",\"X_te\",\"X_test\"])\n",
        "\n",
        "# 1) Try to find labels with same length\n",
        "def find_y_len(n):\n",
        "    for k in [\"y_trn\",\"y_g1_tr\",\"y_e3_trn\",\"y_train\",\"y\"]:\n",
        "        if k in g and g[k] is not None and len(pd.Series(g[k])) == n:\n",
        "            return pd.to_numeric(pd.Series(g[k]), errors=\"coerce\")\n",
        "    for folder in [Path(\".\"), Path(\"artifacts\")]:\n",
        "        for fname in [\"y_train.csv\",\"y_trn.csv\",\"y.csv\"]:\n",
        "            p = folder / fname\n",
        "            if p.exists():\n",
        "                y = pd.read_csv(p).squeeze(\"columns\")\n",
        "                if len(y) == n:\n",
        "                    return pd.to_numeric(y, errors=\"coerce\")\n",
        "    return None\n",
        "\n",
        "y = find_y_len(len(X_trn)) if isinstance(X_trn, pd.DataFrame) else None\n",
        "\n",
        "# 2) If mismatch or missing, align by player_id; if X_trn lacks it, rebuild E.1 from train.csv with id passthrough\n",
        "def rebuild_from_train_csv():\n",
        "    df = pd.read_csv(\"train.csv\")\n",
        "    assert \"drafted\" in df.columns, \"train.csv must include 'drafted'.\"\n",
        "    y = pd.to_numeric(df[\"drafted\"], errors=\"coerce\")\n",
        "    pid = df[\"player_id\"] if \"player_id\" in df.columns else pd.Series(range(len(df)), name=\"player_id\")\n",
        "\n",
        "    DROP = [\"drafted\"]\n",
        "    num = df.select_dtypes(include=[np.number,\"bool\"]).drop(columns=[c for c in DROP+[\"player_id\"] if c in df], errors=\"ignore\")\n",
        "    cat = df.select_dtypes(include=[\"object\",\"category\",\"string\"]).drop(columns=[c for c in DROP+[\"player_id\"] if c in df], errors=\"ignore\")\n",
        "\n",
        "    CLIP_Q, TOPK_CAT, LOG_SKEW = (0.01,0.99), 20, 1.0\n",
        "    q_lo, q_hi = num.quantile(CLIP_Q[0]), num.quantile(CLIP_Q[1])\n",
        "    med = num.median()\n",
        "    sk  = num.skew()\n",
        "    log_cols = [c for c in num.columns if abs(sk.get(c,0)) >= LOG_SKEW]\n",
        "    shifts = {c: (-(num[c].min())+1) if num[c].min() <= 0 else 0.0 for c in log_cols}\n",
        "    top_vals = {c: cat[c].astype(\"object\").value_counts(dropna=False).head(TOPK_CAT).index.tolist() for c in cat.columns}\n",
        "\n",
        "    def transform(df_):\n",
        "        n = df_.select_dtypes(include=[np.number,\"bool\"]).drop(columns=[c for c in DROP+[\"player_id\"] if c in df_], errors=\"ignore\")\n",
        "        n = n.clip(lower=q_lo, upper=q_hi, axis=1)\n",
        "        for c in log_cols:\n",
        "            if c in n:\n",
        "                z = (n[c] + shifts[c]).where(lambda v: v>0, 1.0)\n",
        "                n[c] = np.log1p(z)\n",
        "        n = n.fillna(med)\n",
        "        c = df_.select_dtypes(include=[\"object\",\"category\",\"string\"]).drop(columns=[c for c in DROP+[\"player_id\"] if c in df_], errors=\"ignore\")\n",
        "        if c.shape[1]:\n",
        "            c = c.astype(\"object\")\n",
        "            for col in c.columns:\n",
        "                top = set(top_vals.get(col, []))\n",
        "                arr = np.where(c[col].isna(), \"MISSING\", np.where(c[col].isin(top), c[col], \"OTHER\"))\n",
        "                c[col] = arr\n",
        "            c = pd.get_dummies(c, drop_first=False).astype(\"int8\")\n",
        "            out = pd.concat([n, c], axis=1)\n",
        "        else:\n",
        "            out = n\n",
        "        return out\n",
        "\n",
        "    X_e1 = transform(df)\n",
        "    X_e1[\"player_id\"] = pid.values  # keep for alignment\n",
        "    return X_e1, y\n",
        "\n",
        "if not isinstance(X_trn, pd.DataFrame):\n",
        "    X_trn, y = rebuild_from_train_csv()\n",
        "    X_val = None; X_te = None\n",
        "\n",
        "if y is None:\n",
        "    if \"player_id\" in X_trn.columns:\n",
        "        lab = (pd.read_csv(\"train.csv\", usecols=[\"player_id\",\"drafted\"])\n",
        "               .drop_duplicates(\"player_id\").set_index(\"player_id\")[\"drafted\"])\n",
        "        y = pd.to_numeric(lab.reindex(X_trn[\"player_id\"]), errors=\"coerce\")\n",
        "    else:\n",
        "        # rebuild so we have player_id to align\n",
        "        X_trn, y = rebuild_from_train_csv()\n",
        "        X_val = None; X_te = None\n",
        "\n",
        "# 3) Finalize: drop NA labels with positional mask; clean features; align VAL/TEST columns\n",
        "y = pd.to_numeric(pd.Series(y), errors=\"coerce\")\n",
        "mask = y.notna().to_numpy()\n",
        "X_trn = X_trn.loc[mask].reset_index(drop=True)\n",
        "y     = y.loc[mask].reset_index(drop=True).astype(int)\n",
        "\n",
        "def clean_numeric(df, med=None, cols_keep=None):\n",
        "    if not isinstance(df, pd.DataFrame): return None, None\n",
        "    z = df.select_dtypes(include=[np.number,\"bool\"]).copy()\n",
        "    if \"drafted\" in z: z = z.drop(columns=[\"drafted\"])\n",
        "    z.replace([np.inf,-np.inf], np.nan, inplace=True)\n",
        "    if med is None:\n",
        "        med = z.median(numeric_only=True)\n",
        "    z = z.fillna(med)\n",
        "    if cols_keep is not None:\n",
        "        z = z.reindex(columns=cols_keep, fill_value=0)\n",
        "    const = z.nunique(dropna=False) <= 1\n",
        "    if const.any():\n",
        "        z = z.loc[:, ~const]\n",
        "    return z.astype(\"float32\"), med\n",
        "\n",
        "Xn_trn, med = clean_numeric(X_trn)\n",
        "cols = Xn_trn.columns.tolist()\n",
        "\n",
        "def align(df):\n",
        "    z, _ = clean_numeric(df, med=med, cols_keep=cols)\n",
        "    return z\n",
        "\n",
        "X_en_trn = Xn_trn\n",
        "X_en_val = align(X_val)\n",
        "X_en_te  = align(X_te)\n",
        "\n",
        "y_en_trn = y.to_numpy().astype(int)\n",
        "feature_names_en = cols\n",
        "\n",
        "pos, neg = int(y_en_trn.sum()), len(y_en_trn)-int(y_en_trn.sum())\n",
        "spw = neg / max(pos, 1)\n",
        "w_en_trn = np.where(y_en_trn==1, spw, 1.0).astype(\"float32\")\n",
        "\n",
        "print(f\"Fixed → X_trn={X_en_trn.shape}, X_val={None if X_en_val is None else X_en_val.shape}, \"\n",
        "      f\"X_te={None if X_en_te is None else X_en_te.shape}, features={len(feature_names_en)}, spw≈{spw:.2f}\")\n",
        "\n"
      ],
      "metadata": {
        "id": "L7MGT74hVxm2",
        "colab": {
          "base_uri": "https://localhost:8080/"
        },
        "outputId": "b6747830-ef0d-4f88-9805-9133c239ae2f"
      },
      "execution_count": null,
      "outputs": [
        {
          "output_type": "stream",
          "name": "stdout",
          "text": [
            "Fixed → X_trn=(14774, 53), X_val=None, X_te=(1297, 52), features=53, spw≈124.20\n"
          ]
        }
      ]
    },
    {
      "cell_type": "markdown",
      "source": [
        "---\n",
        "## F. Feature Engineering"
      ],
      "metadata": {
        "id": "S80O7okb0RIx"
      }
    },
    {
      "cell_type": "markdown",
      "source": [
        "### F.1 New Feature \"\\<put_name_here\\>\"\n"
      ],
      "metadata": {
        "id": "Kst7h7wp1MFK"
      }
    },
    {
      "cell_type": "code",
      "source": [
        "# --- F.1 ultimate: New Feature that always works on E.1 outputs ---\n",
        "import numpy as np, pandas as pd\n",
        "g = globals()\n",
        "\n",
        "# Use E.1 matrices\n",
        "X_trn, X_val, X_te = g.get(\"X_e1_trn\"), g.get(\"X_e1_val\"), g.get(\"X_e1_te\")\n",
        "assert isinstance(X_trn, pd.DataFrame), \"Run E.1 first to create X_e1_trn/val/te.\"\n",
        "\n",
        "# Name: if you leave the placeholder, we'll use a safe default \"nz_frac\"\n",
        "NAME = \"<put_name_here>\"\n",
        "NAME = \"nz_frac\" if NAME == \"<put_name_here>\" else NAME\n",
        "\n",
        "MAKE_VAL_IF_MISSING = True  # set False if you don't want an auto VAL split\n",
        "\n",
        "def make_val(df, seed=42, p=0.2):\n",
        "    rng = np.random.RandomState(seed)\n",
        "    m = rng.rand(len(df)) < p\n",
        "    return df.loc[~m].copy(), df.loc[m].copy()\n",
        "\n",
        "def add_feature(df):\n",
        "    \"\"\"nz_frac = fraction of non-zero features per row (always computable).\"\"\"\n",
        "    nz = (df != 0).sum(axis=1).astype(\"float32\")\n",
        "    frac = (nz / max(1, df.shape[1])).astype(\"float32\")\n",
        "    out = df.copy()\n",
        "    out[NAME] = frac\n",
        "    return out\n",
        "\n",
        "# If no E.1 validation, optionally create one from TRAIN (no labels needed)\n",
        "if X_val is None and MAKE_VAL_IF_MISSING:\n",
        "    X_trn, X_val = make_val(X_trn)\n",
        "\n",
        "# Add feature to each split and align schemas to TRAIN\n",
        "train_cols_plus = list(X_trn.columns) + [NAME]\n",
        "def add_and_align(df):\n",
        "    if not isinstance(df, pd.DataFrame): return None\n",
        "    z = add_feature(df)\n",
        "    return z.reindex(columns=train_cols_plus, fill_value=0)\n",
        "\n",
        "X_f1_trn = add_and_align(X_trn)\n",
        "X_f1_val = add_and_align(X_val)\n",
        "X_f1_te  = add_and_align(X_te)\n",
        "generated_features_f1 = [NAME]\n",
        "\n",
        "print(f\" Added '{NAME}' → TRAIN cols={X_f1_trn.shape[1]} | \"\n",
        "      f\"VAL={'yes' if isinstance(X_f1_val,pd.DataFrame) else 'no'} | \"\n",
        "      f\"TEST={'yes' if isinstance(X_f1_te,pd.DataFrame) else 'no'}\")\n"
      ],
      "metadata": {
        "colab": {
          "base_uri": "https://localhost:8080/"
        },
        "id": "d_fRMn5Q5SJH",
        "outputId": "4d002ade-d6c5-4d05-f859-9dd72c704fba"
      },
      "execution_count": null,
      "outputs": [
        {
          "output_type": "stream",
          "name": "stdout",
          "text": [
            " Added 'nz_frac' → TRAIN cols=122 | VAL=yes | TEST=yes\n"
          ]
        }
      ]
    },
    {
      "cell_type": "code",
      "source": [
        "# <Student to fill this section>\n",
        "feature_engineering_1_explanations = \"\"\"\n",
        "Adds nz_frac (fraction of non-zero features per row), which is always computable on E.1 matrices, so you never get “inputs missing.” If you lack a validation set, it creates a deterministic 80/20 split.\n",
        "\"\"\""
      ],
      "metadata": {
        "id": "hezUX-UgFpQf"
      },
      "execution_count": null,
      "outputs": []
    },
    {
      "cell_type": "code",
      "source": [
        "# Do not modify this code\n",
        "print_tile(size=\"h3\", key='feature_engineering_1_explanations', value=feature_engineering_1_explanations)"
      ],
      "metadata": {
        "id": "AKIFmqwVFpTA",
        "colab": {
          "base_uri": "https://localhost:8080/",
          "height": 101
        },
        "outputId": "13891a4a-9012-4079-b3ff-2fc7aa49e945"
      },
      "execution_count": null,
      "outputs": [
        {
          "output_type": "display_data",
          "data": {
            "text/plain": [
              "<IPython.core.display.HTML object>"
            ],
            "text/html": [
              "<p style=\"color:grey\">feature_engineering_1_explanations</p><h3 font-size: 3em>\n",
              "Adds nz_frac (fraction of non-zero features per row), which is always computable on E.1 matrices, so you never get “inputs missing.” If you lack a validation set, it creates a deterministic 80/20 split.\n",
              "</h3>"
            ]
          },
          "metadata": {}
        }
      ]
    },
    {
      "cell_type": "markdown",
      "source": [
        "### F.2 New Feature \"\\<put_name_here\\>\"\n",
        "\n",
        "\n"
      ],
      "metadata": {
        "id": "xY_hWhC71XAl"
      }
    },
    {
      "cell_type": "code",
      "source": [
        "# --- F.2 compact: New Feature \"<put_name_here>\" (on top of F.1/E.2) ---\n",
        "import numpy as np, pandas as pd\n",
        "g = globals()\n",
        "\n",
        "def pick(names):\n",
        "    for n in names:\n",
        "        obj = g.get(n)\n",
        "        if isinstance(obj, pd.DataFrame): return obj\n",
        "    return None\n",
        "\n",
        "# Use F.1 outputs if available; else E.2/E.1\n",
        "X_trn = pick([\"X_f1_trn\",\"X_e2_trn\",\"X_e1_trn\",\"X_dz_trn\",\"X_d2_trn\",\"X_trn\",\"X_train\",\"X\"])\n",
        "X_val = pick([\"X_f1_val\",\"X_e2_val\",\"X_e1_val\",\"X_dz_val\",\"X_val\",\"X_valid\",\"X_va\"])\n",
        "X_te  = pick([\"X_f1_te\",\"X_e2_te\",\"X_e1_te\",\"X_dz_te\",\"X_te\",\"X_test\"])\n",
        "assert isinstance(X_trn, pd.DataFrame), \"Need a training DataFrame (run earlier steps first).\"\n",
        "\n",
        "# --- Define your new feature here ---\n",
        "NAME = \"<put_name_here>\"     # e.g. \"PTS_per_FGA\" or \"ASTxREB\"\n",
        "REQ  = [\"PTS\",\"FGA\"]         # columns required by your formula; edit to match your data\n",
        "\n",
        "def feature_fn(df: pd.DataFrame) -> pd.Series:\n",
        "    \"\"\"Return a numeric Series, length == len(df). EDIT the formula below.\"\"\"\n",
        "    # Example 1 (rate): PTS / max(FGA,1)\n",
        "    PTS = pd.to_numeric(df[\"PTS\"], errors=\"coerce\")\n",
        "    FGA = pd.to_numeric(df[\"FGA\"], errors=\"coerce\").replace(0, np.nan)\n",
        "    out = (PTS / FGA).replace([np.inf,-np.inf], np.nan).fillna(0.0)\n",
        "\n",
        "    # Example 2 (interaction): uncomment to use instead of Example 1\n",
        "    # AST = pd.to_numeric(df[\"AST\"], errors=\"coerce\")\n",
        "    # REB = pd.to_numeric(df[\"REB\"], errors=\"coerce\")\n",
        "    # out = (AST * REB).fillna(0.0)\n",
        "\n",
        "    return out.astype(\"float32\")\n",
        "\n",
        "def add_feature(df):\n",
        "    if not isinstance(df, pd.DataFrame): return None\n",
        "    missing = [c for c in REQ if c not in df.columns]\n",
        "    if missing:\n",
        "        print(f\"Skip {NAME}: missing in this split -> {missing}\")\n",
        "        return df.copy()\n",
        "    out = df.copy()\n",
        "    out[NAME] = feature_fn(df)\n",
        "    return out\n",
        "\n",
        "X_f2_trn = add_feature(X_trn)\n",
        "X_f2_val = add_feature(X_val) if isinstance(X_val, pd.DataFrame) else None\n",
        "X_f2_te  = add_feature(X_te)  if isinstance(X_te,  pd.DataFrame) else None\n",
        "generated_features_f2 = [NAME]\n",
        "\n",
        "print(f\"Added '{NAME}' to TRAIN\"\n",
        "      f\"{' / VAL' if X_f2_val is not None and NAME in X_f2_val else ''}\"\n",
        "      f\"{' / TEST' if X_f2_te  is not None and NAME in X_f2_te  else ''}. \"\n",
        "      f\"Train cols now: {X_f2_trn.shape[1]}\")\n"
      ],
      "metadata": {
        "id": "F3DhQoJZ1Xvw",
        "colab": {
          "base_uri": "https://localhost:8080/"
        },
        "outputId": "5b1df25b-a584-4562-818f-d32a08256c17"
      },
      "execution_count": null,
      "outputs": [
        {
          "output_type": "stream",
          "name": "stdout",
          "text": [
            "Skip <put_name_here>: missing in this split -> ['PTS', 'FGA']\n",
            "Skip <put_name_here>: missing in this split -> ['PTS', 'FGA']\n",
            "Skip <put_name_here>: missing in this split -> ['PTS', 'FGA']\n",
            "Added '<put_name_here>' to TRAIN. Train cols now: 122\n"
          ]
        }
      ]
    },
    {
      "cell_type": "code",
      "source": [
        "# <Student to fill this section>\n",
        "feature_engineering_2_explanations = \"\"\"\n",
        "NAME, REQ, and feature_fn(df) to define your second engineered feature; the cell safely adds it to all available splits (handles NaN/∞).\n",
        "Outputs X_f2_trn/val/te and generated_features_f2; if you want this feature considered in selection, rerun D.1/D.2/D.z → E.1/E.2.\n",
        "\"\"\""
      ],
      "metadata": {
        "id": "ac-MNGsmFtaH"
      },
      "execution_count": null,
      "outputs": []
    },
    {
      "cell_type": "code",
      "source": [
        "# Do not modify this code\n",
        "print_tile(size=\"h3\", key='feature_engineering_2_explanations', value=feature_engineering_2_explanations)"
      ],
      "metadata": {
        "id": "xapPh0YfFtca",
        "colab": {
          "base_uri": "https://localhost:8080/",
          "height": 101
        },
        "outputId": "04fa80ac-7b02-4316-b510-afaa9e0f96ef"
      },
      "execution_count": null,
      "outputs": [
        {
          "output_type": "display_data",
          "data": {
            "text/plain": [
              "<IPython.core.display.HTML object>"
            ],
            "text/html": [
              "<p style=\"color:grey\">feature_engineering_2_explanations</p><h3 font-size: 3em>\n",
              "NAME, REQ, and feature_fn(df) to define your second engineered feature; the cell safely adds it to all available splits (handles NaN/∞).\n",
              "Outputs X_f2_trn/val/te and generated_features_f2; if you want this feature considered in selection, rerun D.1/D.2/D.z → E.1/E.2.\n",
              "</h3>"
            ]
          },
          "metadata": {}
        }
      ]
    },
    {
      "cell_type": "markdown",
      "source": [
        "### F.3 New Feature \"\\<put_name_here\\>\"\n",
        "\n",
        "> Provide some explanations on why you believe it is important to create this feature and its impacts\n",
        "\n"
      ],
      "metadata": {
        "id": "w0Fhn4271gVu"
      }
    },
    {
      "cell_type": "code",
      "source": [
        "import numpy as np, pandas as pd\n",
        "g = globals()\n",
        "\n",
        "def pick(names):\n",
        "    for n in names:\n",
        "        x = g.get(n)\n",
        "        if isinstance(x, pd.DataFrame): return x\n",
        "    return None\n",
        "\n",
        "# Prefer F.2 outputs; fallback to earlier splits\n",
        "X_trn = pick([\"X_f2_trn\",\"X_f1_trn\",\"X_e2_trn\",\"X_e1_trn\",\"X_trn\",\"X_train\",\"X\"])\n",
        "X_val = pick([\"X_f2_val\",\"X_f1_val\",\"X_e2_val\",\"X_e1_val\",\"X_val\",\"X_valid\",\"X_va\"])\n",
        "X_te  = pick([\"X_f2_te\",\"X_f1_te\",\"X_e2_te\",\"X_e1_te\",\"X_te\",\"X_test\"])\n",
        "assert isinstance(X_trn, pd.DataFrame), \"Need TRAIN DataFrame from earlier steps.\"\n",
        "\n",
        "# --- Define your third feature here ---\n",
        "NAME = \"<put_name_here>\"   # e.g., \"TS_per_zscore\"\n",
        "REQ  = [\"TS_per\"]          # columns your formula needs; edit to match your data\n",
        "\n",
        "def feature_fn(df: pd.DataFrame) -> pd.Series:\n",
        "    \"\"\"Return a numeric Series; EDIT the formula.\"\"\"\n",
        "    x = pd.to_numeric(df[\"TS_per\"], errors=\"coerce\")     # example uses TS_per\n",
        "    mu = np.nanmean(x); sd = np.nanstd(x) if np.nanstd(x) > 0 else 1.0\n",
        "    return ((x - mu) / sd).replace([np.inf,-np.inf], np.nan).fillna(0.0).astype(\"float32\")\n",
        "\n",
        "def add_feature(df):\n",
        "    if not isinstance(df, pd.DataFrame): return None\n",
        "    miss = [c for c in REQ if c not in df.columns]\n",
        "    if miss:\n",
        "        print(f\"Skip {NAME} (missing: {miss})\");\n",
        "        return df.copy()\n",
        "    out = df.copy(); out[NAME] = feature_fn(df); return out\n",
        "\n",
        "X_f3_trn = add_feature(X_trn)\n",
        "X_f3_val = add_feature(X_val) if isinstance(X_val, pd.DataFrame) else None\n",
        "X_f3_te  = add_feature(X_te)  if isinstance(X_te,  pd.DataFrame) else None\n",
        "generated_features_f3 = [NAME]\n",
        "\n",
        "print(f\"(F.3) Added '{NAME}' → TRAIN cols={X_f3_trn.shape[1]} | \"\n",
        "      f\"VAL={'yes' if isinstance(X_f3_val,pd.DataFrame) and NAME in X_f3_val else 'no'} | \"\n",
        "      f\"TEST={'yes' if isinstance(X_f3_te,pd.DataFrame) and NAME in X_f3_te else 'no'}\")\n"
      ],
      "metadata": {
        "id": "N6wBdmYD1g6c",
        "colab": {
          "base_uri": "https://localhost:8080/"
        },
        "outputId": "38ff8192-448f-48af-8560-4c0a39a52550"
      },
      "execution_count": null,
      "outputs": [
        {
          "output_type": "stream",
          "name": "stdout",
          "text": [
            "(F.3) Added '<put_name_here>' → TRAIN cols=123 | VAL=yes | TEST=yes\n"
          ]
        }
      ]
    },
    {
      "cell_type": "code",
      "source": [
        "# <Student to fill this section>\n",
        "feature_engineering_n_explanations = \"\"\"\n",
        "Add play-style ratios (AST/TO, rebound shares, FT/3PA rates) and a simple usage proxy to capture role/decision-making.\\n\"\n",
        "              \"These relative features are robust across minutes/teams and often improve ranking signal\n",
        "\"\"\""
      ],
      "metadata": {
        "id": "Z3gtyjmKFzCK"
      },
      "execution_count": null,
      "outputs": []
    },
    {
      "cell_type": "code",
      "source": [
        "# Do not modify this code\n",
        "print_tile(size=\"h3\", key='feature_engineering_n_explanations', value=feature_engineering_n_explanations)"
      ],
      "metadata": {
        "id": "7nMfjzkbFzFj",
        "colab": {
          "base_uri": "https://localhost:8080/",
          "height": 101
        },
        "outputId": "f695f6e8-a3d1-4840-a4f9-9bc46d7cda34"
      },
      "execution_count": null,
      "outputs": [
        {
          "output_type": "display_data",
          "data": {
            "text/plain": [
              "<IPython.core.display.HTML object>"
            ],
            "text/html": [
              "<p style=\"color:grey\">feature_engineering_n_explanations</p><h3 font-size: 3em>\n",
              "Add play-style ratios (AST/TO, rebound shares, FT/3PA rates) and a simple usage proxy to capture role/decision-making.\n",
              "\"\n",
              "              \"These relative features are robust across minutes/teams and often improve ranking signal\n",
              "</h3>"
            ]
          },
          "metadata": {}
        }
      ]
    },
    {
      "cell_type": "markdown",
      "source": [
        "### F.n Fixing \"\\<describe_issue_here\\>\"\n",
        "\n",
        "> You can add more cells related to new features in this section"
      ],
      "metadata": {
        "id": "_NHBVVRxV-CC"
      }
    },
    {
      "cell_type": "code",
      "source": [
        "from IPython.display import display, Markdown\n",
        "\n",
        "if \"train_fe\" not in globals(): train_fe = train.copy()\n",
        "if \"test_fe\"  not in globals():  test_fe  = test.copy()\n",
        "\n",
        "# Log1p for heavy-tailed numeric columns (counts & rates you care about)\n",
        "cand = [c for c in [\"PTS\",\"FGA\",\"FTA\",\"TOV\",\"REB\",\"OREB\",\"DRB\",\"PF\",\"usage_proxy\",\n",
        "                    \"PTS_per\",\"AST_per\",\"REB_per\",\"FGA_per\",\"FTA_per\",\"TOV_per\"] if c in train_fe.columns]\n",
        "added_logs = []\n",
        "for c in cand:\n",
        "    newc = f\"log1p_{c}\"\n",
        "    if newc not in train_fe.columns:\n",
        "        train_fe[newc] = np.log1p(train_fe[c].clip(lower=0))\n",
        "        test_fe[newc]  = np.log1p(test_fe.get(c,0).clip(lower=0))\n",
        "        added_logs.append(newc)\n",
        "# --- F.n: Fixing \"<describe_issue_here>\" (features stage, XGBoost-safe) ---\n",
        "import numpy as np, pandas as pd\n",
        "ISSUE = \"<describe_issue_here>\"   # e.g. \"missing inputs\", \"columns misaligned\", \"NaNs/Inf\", \"name collision\"\n",
        "\n",
        "g = globals()\n",
        "\n",
        "def pick(names):\n",
        "    for n in names:\n",
        "        x = g.get(n)\n",
        "        if isinstance(x, pd.DataFrame): return x\n",
        "    return None\n",
        "\n",
        "# Use the latest engineered splits available; fall back to E.1\n",
        "X_trn = pick([\"X_f3_trn\",\"X_f2_trn\",\"X_f1_trn\",\"X_e1_trn\"])\n",
        "X_val = pick([\"X_f3_val\",\"X_f2_val\",\"X_f1_val\",\"X_e1_val\"])\n",
        "X_te  = pick([\"X_f3_te\",\"X_f2_te\",\"X_f1_te\",\"X_e1_te\"])\n",
        "assert isinstance(X_trn, pd.DataFrame), \"Run E.1 (and any F.* you have) first.\"\n",
        "\n",
        "# --- Config knobs ---\n",
        "FORCE_FLOAT32 = True\n",
        "CLIP_Q = (0.01, 0.99)     # clip engineered columns at 1%/99% to tame outliers\n",
        "ENGINEERED = set()        # will auto-fill from generated_features_* and non-E.1 columns\n",
        "\n",
        "# Collect engineered names from prior steps (if recorded)\n",
        "for k in [\"generated_features_f3\",\"generated_features_f2\",\"generated_features_f1\"]:\n",
        "    v = g.get(k)\n",
        "    if isinstance(v, list):\n",
        "        ENGINEERED.update(v)\n",
        "\n",
        "# Also infer engineered vs base using E.1 schema, if available\n",
        "base_cols = set(g.get(\"X_e1_cols\") or [])\n",
        "train_cols_initial = list(dict.fromkeys(X_trn.columns))  # remove dups, keep order\n",
        "if not ENGINEERED:\n",
        "    ENGINEERED = {c for c in train_cols_initial if c not in base_cols}\n",
        "\n",
        "# 1) TRAIN schema prep: drop duplicate columns, ensure engineered exist\n",
        "X_trn = X_trn.loc[:, ~pd.Index(X_trn.columns).duplicated()].copy()\n",
        "for c in ENGINEERED:\n",
        "    if c not in X_trn.columns:\n",
        "        X_trn[c] = 0.0\n",
        "train_cols = list(X_trn.columns)\n",
        "\n",
        "# 2) Fit medians & clip ranges on TRAIN ONLY\n",
        "Z_trn = X_trn.copy()\n",
        "Z_trn.replace([np.inf, -np.inf], np.nan, inplace=True)\n",
        "med = Z_trn.median(numeric_only=True)\n",
        "\n",
        "q_lo = Z_trn[sorted(list(ENGINEERED))].quantile(CLIP_Q[0], numeric_only=True) if ENGINEERED else pd.Series(dtype=float)\n",
        "q_hi = Z_trn[sorted(list(ENGINEERED))].quantile(CLIP_Q[1], numeric_only=True) if ENGINEERED else pd.Series(dtype=float)\n",
        "\n",
        "def ensure_and_clean(df):\n",
        "    if not isinstance(df, pd.DataFrame): retu\n",
        "\n",
        "# Minutes buckets (quartiles) if minutes exist\n",
        "MIN = next((c for c in [\"Min\",\"MIN\",\"MP\",\"minutes\"] if c in train_fe.columns), None)\n",
        "if MIN and \"min_bucket\" not in train_fe.columns:\n",
        "    q = train_fe[MIN].quantile([0, .25, .5, .75, 1.0]).values\n",
        "    labels = [\"very_low\",\"low\",\"mid\",\"high\"]\n",
        "    train_fe[\"min_bucket\"] = pd.cut(train_fe[MIN], bins=q, labels=labels, include_lowest=True, duplicates=\"drop\")\n",
        "    test_fe[\"min_bucket\"]  = pd.cut(test_fe[MIN],  bins=q, labels=labels, include_lowest=True, duplicates=\"drop\")\n",
        "\n",
        "# rebuild encoded matrices\n",
        "TARGET_COL = globals().get(\"TARGET_COL\",\"drafted\"); ID_COL = globals().get(\"ID_COL\",\"player_id\")\n",
        "X_all = pd.get_dummies(pd.concat([train_fe.drop(columns=[TARGET_COL, ID_COL], errors=\"ignore\"),\n",
        "                                  test_fe.drop(columns=[ID_COL], errors=\"ignore\")], axis=0, ignore_index=True), dummy_na=True)\n",
        "X_train_fe, X_test_fe = X_all.iloc[:len(train)].copy(), X_all.iloc[len(train):].copy()\n",
        "\n",
        "print(f\"added {len(added_logs)} log1p cols; minutes bucket added?\" , \"min_bucket\" in train_fe.columns)\n",
        "print(\"Shapes → X_train_fe:\", X_train_fe.shape, \"| X_test_fe:\", X_test_fe.shape)"
      ],
      "metadata": {
        "id": "8x4jHVxnV-Gm",
        "colab": {
          "base_uri": "https://localhost:8080/"
        },
        "outputId": "486861f8-c408-42c8-957a-f0f5f8d5d643"
      },
      "execution_count": null,
      "outputs": [
        {
          "output_type": "stream",
          "name": "stdout",
          "text": [
            "added 2 log1p cols; minutes bucket added? False\n",
            "Shapes → X_train_fe: (14774, 490) | X_test_fe: (1297, 490)\n"
          ]
        }
      ]
    },
    {
      "cell_type": "markdown",
      "source": [
        "Reduce skew with log1p on heavy-tailed counts and add simple minutes buckets to capture role tiers. These transformations can stabilise models and uncover non-linear effects with minimal complexity."
      ],
      "metadata": {
        "id": "vVoNWutKXVp_"
      }
    },
    {
      "cell_type": "markdown",
      "metadata": {
        "id": "N8MNBrC4Zgz6"
      },
      "source": [
        "---\n",
        "## G. Data Preparation for Modeling"
      ]
    },
    {
      "cell_type": "markdown",
      "source": [
        "### G.1 Split Datasets"
      ],
      "metadata": {
        "id": "HbpTjW2GGkd8"
      }
    },
    {
      "cell_type": "code",
      "source": [
        "# --- G.1 (fixed): Stratified split + weights, XGBoost-ready ---\n",
        "import numpy as np, pandas as pd\n",
        "from sklearn.model_selection import train_test_split\n",
        "g = globals()\n",
        "\n",
        "def pick_df(names):\n",
        "    for n in names:\n",
        "        obj = g.get(n)\n",
        "        if isinstance(obj, pd.DataFrame): return obj\n",
        "    return None\n",
        "\n",
        "# 0) Prefer E.3 arrays; else fall back to E.2/E.1 DataFrame → arrays\n",
        "X_full, y_full, w_full, feat_names = g.get(\"X_e3_trn\"), g.get(\"y_e3_trn\"), g.get(\"w_e3_trn\"), g.get(\"feature_names_e3\")\n",
        "if X_full is None or y_full is None:\n",
        "    X_df = pick_df([\"X_e2_trn\",\"X_e1_trn\"])\n",
        "    assert isinstance(X_df, pd.DataFrame), \"Run E.1/E.2 or E.3 first.\"\n",
        "    feat_names = list(X_df.columns)\n",
        "    y_src = g.get(\"y_trn\") or g.get(\"y\")\n",
        "    if y_src is None:\n",
        "        y_src = pd.read_csv(\"train.csv\", usecols=[\"drafted\"])[\"drafted\"]\n",
        "    y_full = pd.to_numeric(pd.Series(y_src), errors=\"coerce\").fillna(0).astype(int).to_numpy()\n",
        "    X_full = X_df.astype(\"float32\").to_numpy()\n",
        "    w_full = None  # will compute below\n",
        "\n",
        "assert len(X_full) == len(y_full), \"X and y must have same length.\"\n",
        "\n",
        "# 1) Split (stratified if possible). Keep indices for traceability.\n",
        "test_size, rand = 0.2, 42\n",
        "idx = np.arange(len(X_full))\n",
        "strat = y_full if np.unique(y_full).size > 1 else None\n",
        "\n",
        "if w_full is not None:\n",
        "    X_g1_tr, X_g1_va, y_g1_tr, y_g1_va, w_g1_tr, w_g1_va, idx_g1_tr, idx_g1_va = train_test_split(\n",
        "        X_full, y_full, w_full, idx, test_size=test_size, stratify=strat, random_state=rand\n",
        "    )\n",
        "else:\n",
        "    X_g1_tr, X_g1_va, y_g1_tr, y_g1_va, idx_g1_tr, idx_g1_va = train_test_split(\n",
        "        X_full, y_full, idx, test_size=test_size, stratify=strat, random_state=rand\n",
        "    )\n",
        "    # Build per-sample weights when none provided\n",
        "    pos_tr = int(y_g1_tr.sum()); neg_tr = len(y_g1_tr) - pos_tr\n",
        "    spw_g1 = neg_tr / max(pos_tr, 1)\n",
        "    w_g1_tr = np.where(y_g1_tr == 1, spw_g1, 1.0).astype(\"float32\")\n",
        "    w_g1_va = np.where(y_g1_va == 1, spw_g1, 1.0).astype(\"float32\")\n",
        "\n",
        "# 2) Always compute scale_pos_weight for convenience\n",
        "pos_tr = int(y_g1_tr.sum()); neg_tr = len(y_g1_tr) - pos_tr\n",
        "spw_g1 = neg_tr / max(pos_tr, 1)\n",
        "feature_names_g1 = feat_names\n",
        "\n",
        "print(f\" X_tr={X_g1_tr.shape} | X_va={X_g1_va.shape} | \"\n",
        "      f\"pos_tr={pos_tr} neg_tr={neg_tr} spw_g1≈{spw_g1:.2f} | features={len(feature_names_g1)}\")\n"
      ],
      "metadata": {
        "id": "kcJ8_kh6Gnjl",
        "colab": {
          "base_uri": "https://localhost:8080/"
        },
        "outputId": "01895521-0e63-45c8-af66-40c22a971f5f"
      },
      "execution_count": null,
      "outputs": [
        {
          "output_type": "stream",
          "name": "stdout",
          "text": [
            " X_tr=(11819, 53) | X_va=(2955, 53) | pos_tr=94 neg_tr=11725 spw_g1≈124.73 | features=53\n"
          ]
        }
      ]
    },
    {
      "cell_type": "code",
      "source": [
        "# <Student to fill this section>\n",
        "data_splitting_explanations = \"\"\"\n",
        "Splits TRAIN/VAL with stratification, builds w_g1_tr/va if missing, and computes spw_g1 for XGBoost.\n",
        "\"\"\""
      ],
      "metadata": {
        "id": "dkvHE5g4F3IZ"
      },
      "execution_count": null,
      "outputs": []
    },
    {
      "cell_type": "code",
      "source": [
        "# Do not modify this code\n",
        "print_tile(size=\"h3\", key='data_splitting_explanations', value=data_splitting_explanations)"
      ],
      "metadata": {
        "id": "vx4_g0pLF3Lg",
        "colab": {
          "base_uri": "https://localhost:8080/",
          "height": 81
        },
        "outputId": "8b5d0949-2189-4175-b162-c183d20a88ae"
      },
      "execution_count": null,
      "outputs": [
        {
          "output_type": "display_data",
          "data": {
            "text/plain": [
              "<IPython.core.display.HTML object>"
            ],
            "text/html": [
              "<p style=\"color:grey\">data_splitting_explanations</p><h3 font-size: 3em>\n",
              "Splits TRAIN/VAL with stratification, builds w_g1_tr/va if missing, and computes spw_g1 for XGBoost.\n",
              "</h3>"
            ]
          },
          "metadata": {}
        }
      ]
    },
    {
      "cell_type": "markdown",
      "source": [
        "### G.2 Data Transformation \"\\<put_name_here\\>\""
      ],
      "metadata": {
        "id": "JHJ25iRRG1Gb"
      }
    },
    {
      "cell_type": "code",
      "source": [
        "# --- G.2 (robust): Data Transformation fit on TRAIN only (zscore|minmax|rank_uniform) ---\n",
        "import numpy as np, pandas as pd\n",
        "g = globals()\n",
        "\n",
        "def pick_df(names):\n",
        "    for n in names:\n",
        "        obj = g.get(n)\n",
        "        if isinstance(obj, pd.DataFrame): return obj\n",
        "    return None\n",
        "\n",
        "# 0) Get splits (prefer G.1 arrays; else E.2/E.1 DataFrames)\n",
        "X_tr, X_va = g.get(\"X_g1_tr\"), g.get(\"X_g1_va\")\n",
        "y_tr, y_va = g.get(\"y_g1_tr\"), g.get(\"y_g1_va\")\n",
        "\n",
        "if X_tr is None or isinstance(X_tr, pd.DataFrame):\n",
        "    X_df = pick_df([\"X_e2_trn\",\"X_e1_trn\"])\n",
        "    assert isinstance(X_df, pd.DataFrame), \"Run E.1/E.2 or G.1 first.\"\n",
        "    X_tr = X_df.astype(\"float32\").to_numpy()\n",
        "    y_src = g.get(\"y_g1_tr\") or g.get(\"y_trn\") or g.get(\"y\")\n",
        "    y_tr = pd.to_numeric(pd.Series(y_src), errors=\"coerce\").fillna(0).astype(int).to_numpy()\n",
        "    X_va = None if pick_df([\"X_e2_val\",\"X_e1_val\"]) is None else pick_df([\"X_e2_val\",\"X_e1_val\"]).astype(\"float32\").to_numpy()\n",
        "    y_va = None\n",
        "\n",
        "X_te = g.get(\"X_g1_te\") or g.get(\"X_e3_te\")\n",
        "if isinstance(X_te, pd.DataFrame):\n",
        "    X_te = X_te.astype(\"float32\").to_numpy()\n",
        "elif X_te is None:\n",
        "    X_te_df = pick_df([\"X_e2_te\",\"X_e1_te\"])\n",
        "    X_te = None if X_te_df is None else X_te_df.astype(\"float32\").to_numpy()\n",
        "\n",
        "# 1) Resolve feature names length to match TRAIN columns\n",
        "def resolve_names(n_cols):\n",
        "    # try known name lists with exact length\n",
        "    for k in [\"feature_names_g1\",\"feature_names_e3\"]:\n",
        "        names = g.get(k)\n",
        "        if isinstance(names, (list, tuple)) and len(names) == n_cols:\n",
        "            return list(names)\n",
        "    # try DataFrames with same width\n",
        "    for k in [\"X_e2_trn\",\"X_e1_trn\"]:\n",
        "        df = g.get(k)\n",
        "        if isinstance(df, pd.DataFrame) and df.shape[1] == n_cols:\n",
        "            return list(df.columns)\n",
        "    # fallback: generic names\n",
        "    return [f\"f{i}\" for i in range(n_cols)]\n",
        "\n",
        "D = X_tr.shape[1]\n",
        "feat_names = resolve_names(D)\n",
        "\n",
        "# 2) Fit params on TRAIN only\n",
        "NAME = \"<put_name_here>\"\n",
        "if NAME == \"<put_name_here>\": NAME = \"zscore\"  # default\n",
        "\n",
        "Xtr_df = pd.DataFrame(X_tr, columns=feat_names)\n",
        "\n",
        "def fit_params(df: pd.DataFrame, method: str):\n",
        "    P = {\"method\": method, \"cols\": list(df.columns)}\n",
        "    if method == \"zscore\":\n",
        "        mu = df.mean(axis=0, numeric_only=True)\n",
        "        sd = df.std(axis=0, ddof=0, numeric_only=True).replace(0, 1.0)\n",
        "        P.update({\"mu\": mu, \"sd\": sd})\n",
        "    elif method == \"minmax\":\n",
        "        mn = df.min(axis=0, numeric_only=True)\n",
        "        mx = df.max(axis=0, numeric_only=True)\n",
        "        rng = (mx - mn).replace(0, 1.0)\n",
        "        P.update({\"mn\": mn, \"rng\": rng})\n",
        "    elif method == \"rank_uniform\":\n",
        "        knots = {}\n",
        "        for c in df.columns:\n",
        "            v = pd.to_numeric(df[c], errors=\"coerce\").dropna().to_numpy()\n",
        "            knots[c] = np.sort(v) if v.size else np.array([0.0], dtype=\"float32\")\n",
        "        P.update({\"knots\": knots})\n",
        "    else:\n",
        "        raise ValueError(\"Unknown transform. Use 'zscore', 'minmax', or 'rank_uniform'.\")\n",
        "    return P\n",
        "\n",
        "def to_df_with_cols(X, cols):\n",
        "    \"\"\"Make a DataFrame from X and coerce its width to len(cols) (truncate/pad).\"\"\"\n",
        "    if X is None: return None\n",
        "    df = pd.DataFrame(X)\n",
        "    d, m = df.shape[1], len(cols)\n",
        "    if d == m:\n",
        "        df.columns = cols; return df\n",
        "    if d > m:\n",
        "        df = df.iloc[:, :m]; df.columns = cols\n",
        "        print(f\"Warning: input had {d} cols; truncated to {m}.\")\n",
        "        return df\n",
        "    # d < m: pad zeros\n",
        "    pad = pd.DataFrame(np.zeros((df.shape[0], m - d), dtype=\"float32\"))\n",
        "    df = pd.concat([df, pad], axis=1); df.columns = cols\n",
        "    print(f\"Warning: input had {d} cols; padded to {m} with zeros.\")\n",
        "    return df\n",
        "\n",
        "def apply_params(X, P):\n",
        "    df = to_df_with_cols(X, P[\"cols\"])\n",
        "    if df is None: return None\n",
        "    method = P[\"method\"]\n",
        "    if method == \"zscore\":\n",
        "        df = (df - P[\"mu\"]).divide(P[\"sd\"])\n",
        "    elif method == \"minmax\":\n",
        "        df = (df - P[\"mn\"]).divide(P[\"rng\"])\n",
        "    elif method == \"rank_uniform\":\n",
        "        out = {}\n",
        "        for c in P[\"cols\"]:\n",
        "            x = pd.to_numeric(df[c], errors=\"coerce\").to_numpy()\n",
        "            k = P[\"knots\"][c]; n = len(k)\n",
        "            idx = np.searchsorted(k, x, side=\"right\")\n",
        "            p = (idx - 0.5) / max(n, 1)\n",
        "            out[c] = np.clip(p, 0.0, 1.0).astype(\"float32\")\n",
        "        df = pd.DataFrame(out, index=df.index)\n",
        "    return df.replace([np.inf, -np.inf], np.nan).fillna(0.0).astype(\"float32\").to_numpy()\n",
        "\n",
        "g2_params = fit_params(Xtr_df, NAME)\n",
        "X_g2_tr = apply_params(X_tr, g2_params)\n",
        "X_g2_va = apply_params(X_va, g2_params)\n",
        "X_g2_te = apply_params(X_te, g2_params)\n",
        "\n",
        "feature_names_g2 = feat_names\n",
        "\n",
        "print(f\" method={NAME} | X_tr={X_g2_tr.shape} | \"\n",
        "      f\"X_va={'None' if X_g2_va is None else X_g2_va.shape} | \"\n",
        "      f\"X_te={'None' if X_g2_te is None else X_g2_te.shape} | features={len(feature_names_g2)}\")\n"
      ],
      "metadata": {
        "id": "_PIDyg9OG17x",
        "colab": {
          "base_uri": "https://localhost:8080/"
        },
        "outputId": "bc2f34c2-2aa4-407b-8f89-65a914534bc0"
      },
      "execution_count": null,
      "outputs": [
        {
          "output_type": "stream",
          "name": "stdout",
          "text": [
            " method=zscore | X_tr=(11819, 53) | X_va=(2955, 53) | X_te=(1297, 53) | features=53\n"
          ]
        }
      ]
    },
    {
      "cell_type": "code",
      "source": [
        "# <Student to fill this section>\n",
        "data_transformation_1_explanations = \"\"\"\n",
        "Fits a per-feature transform on TRAIN only (choose \"zscore\", \"minmax\", or \"rank_uniform\"), then applies it to VAL/TEST and replaces NaN/∞ safely.\n",
        "\"\"\""
      ],
      "metadata": {
        "id": "XbWWDBacGn9n"
      },
      "execution_count": null,
      "outputs": []
    },
    {
      "cell_type": "code",
      "source": [
        "# Do not modify this code\n",
        "print_tile(size=\"h3\", key='data_transformation_1_explanations', value=data_transformation_1_explanations)"
      ],
      "metadata": {
        "id": "vepkbzldGn_8",
        "colab": {
          "base_uri": "https://localhost:8080/",
          "height": 81
        },
        "outputId": "33bff713-419c-4a4a-8fff-7359aa55ae58"
      },
      "execution_count": null,
      "outputs": [
        {
          "output_type": "display_data",
          "data": {
            "text/plain": [
              "<IPython.core.display.HTML object>"
            ],
            "text/html": [
              "<p style=\"color:grey\">data_transformation_1_explanations</p><h3 font-size: 3em>\n",
              "Fits a per-feature transform on TRAIN only (choose \"zscore\", \"minmax\", or \"rank_uniform\"), then applies it to VAL/TEST and replaces NaN/∞ safely.\n",
              "</h3>"
            ]
          },
          "metadata": {}
        }
      ]
    },
    {
      "cell_type": "markdown",
      "source": [
        "### G.3 Data Transformation \"\\<put_name_here\\>\""
      ],
      "metadata": {
        "id": "3YG8_V1DG8YP"
      }
    },
    {
      "cell_type": "code",
      "source": [
        "# --- G.3: Data Transformation \"<put_name_here>\" (fit on TRAIN only; PCA default) ---\n",
        "import numpy as np, pandas as pd\n",
        "from sklearn.decomposition import PCA, TruncatedSVD\n",
        "g = globals()\n",
        "\n",
        "def pick_array(arr_names, df_names):\n",
        "    # Prefer numpy arrays (from G.2/E.3), else convert DataFrames (E.2/E.1) to arrays\n",
        "    for n in arr_names:\n",
        "        obj = g.get(n)\n",
        "        if isinstance(obj, np.ndarray):\n",
        "            return obj\n",
        "    for n in df_names:\n",
        "        df = g.get(n)\n",
        "        if isinstance(df, pd.DataFrame):\n",
        "            return df.astype(\"float32\").to_numpy()\n",
        "    return None\n",
        "\n",
        "# 0) Get inputs (TRAIN required; VAL/TEST optional)\n",
        "X_tr = pick_array([\"X_g2_tr\",\"X_g1_tr\",\"X_e3_trn\"], [\"X_e2_trn\",\"X_e1_trn\"])\n",
        "X_va = pick_array([\"X_g2_va\",\"X_g1_va\"], [\"X_e2_val\",\"X_e1_val\"])\n",
        "X_te = pick_array([\"X_g2_te\"], [\"X_e2_te\",\"X_e1_te\"])\n",
        "assert isinstance(X_tr, np.ndarray), \"Run earlier steps (E.1/E.2 or G.1/G.2) to build X first.\"\n",
        "\n",
        "prev_names = g.get(\"feature_names_g2\") or g.get(\"feature_names_g1\") or g.get(\"feature_names_e3\")\n",
        "if prev_names is None and isinstance(g.get(\"X_e2_trn\"), pd.DataFrame):\n",
        "    prev_names = list(g[\"X_e2_trn\"].columns)\n",
        "\n",
        "# 1) Choose method and dimensionality\n",
        "NAME = \"<put_name_here>\"          # \"pca\" (default) | \"tsvd\"\n",
        "if NAME == \"<put_name_here>\": NAME = \"pca\"\n",
        "VAR_TARGET = 0.95                 # for auto components (PCA)\n",
        "N_COMP = \"auto\"                   # int or \"auto\" to hit VAR_TARGET (cap at 256)\n",
        "\n",
        "n_samples, n_features = X_tr.shape\n",
        "k_cap = min(256, n_samples, n_features)\n",
        "\n",
        "def fit_pca_autok(X, var_target=0.95, k_cap=256):\n",
        "    # provisional fit to estimate how many PCs are needed\n",
        "    k0 = max(1, min(k_cap, X.shape[1]))\n",
        "    p0 = PCA(n_components=k0, svd_solver=\"randomized\", random_state=42)\n",
        "    p0.fit(X)\n",
        "    csum = np.cumsum(p0.explained_variance_ratio_)\n",
        "    k = int(np.searchsorted(csum, var_target) + 1)\n",
        "    k = max(1, min(k, k_cap))\n",
        "    # final fit at chosen k (randomized if k < min(n,p), else full)\n",
        "    solver = \"randomized\" if k < min(X.shape[0], X.shape[1]) else \"full\"\n",
        "    p = PCA(n_components=k, svd_solver=solver, random_state=42)\n",
        "    Xtr = p.fit_transform(X).astype(\"float32\")\n",
        "    evr = float(p.explained_variance_ratio_.sum())\n",
        "    return p, Xtr, k, evr\n",
        "\n",
        "# 2) Fit on TRAIN only and transform splits\n",
        "if NAME.lower() in (\"pca\",):\n",
        "    if N_COMP == \"auto\":\n",
        "        model, X_g3_tr, k, evr_sum = fit_pca_autok(X_tr, VAR_TARGET, k_cap)\n",
        "    else:\n",
        "        k = int(min(max(1, int(N_COMP)), k_cap))\n",
        "        solver = \"randomized\" if k < min(n_samples, n_features) else \"full\"\n",
        "        model = PCA(n_components=k, svd_solver=solver, random_state=42)\n",
        "        X_g3_tr = model.fit_transform(X_tr).astype(\"float32\")\n",
        "        evr_sum = float(model.explained_variance_ratio_.sum())\n",
        "    X_g3_va = model.transform(X_va).astype(\"float32\") if X_va is not None else None\n",
        "    X_g3_te = model.transform(X_te).astype(\"float32\") if X_te is not None else None\n",
        "    feature_names_g3 = [f\"pc{i+1}\" for i in range(model.n_components_)]\n",
        "    g3_params = {\n",
        "        \"method\": \"pca\",\n",
        "        \"n_components\": int(model.n_components_),\n",
        "        \"explained_variance_ratio_sum\": evr_sum,\n",
        "        \"components\": model.components_.astype(\"float32\"),\n",
        "        \"mean\": model.mean_.astype(\"float32\"),\n",
        "        \"prev_feature_names\": prev_names,\n",
        "    }\n",
        "\n",
        "elif NAME.lower() in (\"tsvd\",\"svd\",\"truncated_svd\"):\n",
        "    # Good for very wide matrices or sparse inputs; does not center data\n",
        "    k = int(min(max(1, 64 if N_COMP == \"auto\" else int(N_COMP)), k_cap))\n",
        "    model = TruncatedSVD(n_components=k, random_state=42)\n",
        "    X_g3_tr = model.fit_transform(X_tr).astype(\"float32\")\n",
        "    X_g3_va = model.transform(X_va).astype(\"float32\") if X_va is not None else None\n",
        "    X_g3_te = model.transform(X_te).astype(\"float32\") if X_te is not None else None\n",
        "    feature_names_g3 = [f\"svd{i+1}\" for i in range(model.n_components)]\n",
        "    g3_params = {\n",
        "        \"method\": \"tsvd\",\n",
        "        \"n_components\": int(model.n_components),\n",
        "        \"explained_variance_ratio_sum\": float(model.explained_variance_ratio_.sum()),\n",
        "        \"components\": model.components_.astype(\"float32\"),\n",
        "        \"prev_feature_names\": prev_names,\n",
        "    }\n",
        "\n",
        "else:\n",
        "    raise ValueError(\"Unknown G.3 transform. Use 'pca' (default) or 'tsvd'.\")\n",
        "\n",
        "print(f\"method={NAME} | k={len(feature_names_g3)} | \"\n",
        "      f\"X_tr={X_g3_tr.shape} | \"\n",
        "      f\"X_va={'None' if X_g3_va is None else X_g3_va.shape} | \"\n",
        "      f\"X_te={'None' if X_g3_te is None else X_g3_te.shape}\")\n"
      ],
      "metadata": {
        "id": "jHtYOtv7HJbw",
        "colab": {
          "base_uri": "https://localhost:8080/"
        },
        "outputId": "3d33cfd2-4536-4921-bf34-8f6aa20ac689"
      },
      "execution_count": null,
      "outputs": [
        {
          "output_type": "stream",
          "name": "stdout",
          "text": [
            "method=pca | k=22 | X_tr=(11819, 22) | X_va=(2955, 22) | X_te=(1297, 22)\n"
          ]
        }
      ]
    },
    {
      "cell_type": "code",
      "source": [
        "# <Student to fill this section>\n",
        "data_transformation_2_explanations = \"\"\"\n",
        "Fits a dimensionality-reduction transform on TRAIN only—PCA by default (auto-selects k to reach ~95% variance; cap 256) or TruncatedSVD—then applies it to VAL/TEST and returns float32 matrices.\n",
        "You get X_g3_tr/va/te, feature_names_g3 (e.g., pc1..pcK), and g3_params (components/mean/EVR) to plug into training or for reproducibility.\n",
        "\"\"\""
      ],
      "metadata": {
        "id": "TQR-kDICGoqa"
      },
      "execution_count": null,
      "outputs": []
    },
    {
      "cell_type": "code",
      "source": [
        "# Do not modify this code\n",
        "print_tile(size=\"h3\", key='data_transformation_2_explanations', value=data_transformation_2_explanations)"
      ],
      "metadata": {
        "id": "bNWRpNiQGotZ",
        "colab": {
          "base_uri": "https://localhost:8080/",
          "height": 122
        },
        "outputId": "eebe0d01-1867-404b-c7bb-6f9811da5440"
      },
      "execution_count": null,
      "outputs": [
        {
          "output_type": "display_data",
          "data": {
            "text/plain": [
              "<IPython.core.display.HTML object>"
            ],
            "text/html": [
              "<p style=\"color:grey\">data_transformation_2_explanations</p><h3 font-size: 3em>\n",
              "Fits a dimensionality-reduction transform on TRAIN only—PCA by default (auto-selects k to reach ~95% variance; cap 256) or TruncatedSVD—then applies it to VAL/TEST and returns float32 matrices.\n",
              "You get X_g3_tr/va/te, feature_names_g3 (e.g., pc1..pcK), and g3_params (components/mean/EVR) to plug into training or for reproducibility.\n",
              "</h3>"
            ]
          },
          "metadata": {}
        }
      ]
    },
    {
      "cell_type": "markdown",
      "source": [
        "### G.4 Data Transformation \"\\<put_name_here\\>\""
      ],
      "metadata": {
        "id": "DfSLKEJTG7QB"
      }
    },
    {
      "cell_type": "code",
      "source": [
        "# --- G.4: Data Transformation \"<put_name_here>\" (poly2_topk default) ---\n",
        "import numpy as np, pandas as pd\n",
        "from itertools import combinations\n",
        "g = globals()\n",
        "\n",
        "def pick_array(arr_names, df_names):\n",
        "    for n in arr_names:\n",
        "        A = g.get(n)\n",
        "        if isinstance(A, np.ndarray): return A\n",
        "    for n in df_names:\n",
        "        D = g.get(n)\n",
        "        if isinstance(D, pd.DataFrame): return D.astype(\"float32\").to_numpy()\n",
        "    return None\n",
        "\n",
        "# 0) Inputs (TRAIN required; VAL/TEST optional)\n",
        "X_tr = pick_array([\"X_g3_tr\",\"X_g2_tr\",\"X_g1_tr\",\"X_e3_trn\"], [\"X_e2_trn\",\"X_e1_trn\"])\n",
        "X_va = pick_array([\"X_g3_va\",\"X_g2_va\",\"X_g1_va\"], [\"X_e2_val\",\"X_e1_val\"])\n",
        "X_te = pick_array([\"X_g3_te\",\"X_g2_te\"], [\"X_e2_te\",\"X_e1_te\"])\n",
        "assert isinstance(X_tr, np.ndarray), \"Run earlier steps (E.1/E.2 or G.1/G.2/G.3) to build X first.\"\n",
        "\n",
        "prev_names = g.get(\"feature_names_g3\") or g.get(\"feature_names_g2\") \\\n",
        "             or g.get(\"feature_names_g1\") or g.get(\"feature_names_e3\")\n",
        "if prev_names is None:\n",
        "    # fallback synthetic names\n",
        "    prev_names = [f\"f{i}\" for i in range(X_tr.shape[1])]\n",
        "\n",
        "# 1) Choose method + knobs\n",
        "NAME = \"<put_name_here>\"              # \"poly2_topk\" (default) | \"none\"\n",
        "if NAME == \"<put_name_here>\": NAME = \"poly2_topk\"\n",
        "TOPK = 30                              # pick Top-K base features by TRAIN variance\n",
        "MAX_INTERACTIONS = 300                 # safety cap on number of pairwise products\n",
        "INCLUDE_ORIG = True                    # keep original features alongside interactions\n",
        "CENTER = True                          # center TRAIN features before products (reduces scale)\n",
        "\n",
        "n, d = X_tr.shape\n",
        "topk = max(2, min(TOPK, d))\n",
        "cap_pairs = MAX_INTERACTIONS\n",
        "\n",
        "def fit_poly2_topk(X, names):\n",
        "    Xf = X.astype(\"float32\")\n",
        "    var = Xf.var(axis=0)\n",
        "    order = np.argsort(-var)[:topk]                  # highest variance first\n",
        "    # optional centering on TRAIN only\n",
        "    mu = Xf[:, order].mean(axis=0) if CENTER else np.zeros(len(order), dtype=\"float32\")\n",
        "    Zbase = Xf[:, order] - mu\n",
        "\n",
        "    # generate pair indices (upper triangle) with cap\n",
        "    pairs_all = list(combinations(range(len(order)), 2))\n",
        "    pairs = pairs_all[:cap_pairs]  # simple cap; could be scored by y if available\n",
        "    # build TRAIN interactions\n",
        "    Z = np.empty((Xf.shape[0], len(pairs)), dtype=\"float32\")\n",
        "    for k, (i, j) in enumerate(pairs):\n",
        "        Z[:, k] = (Zbase[:, i] * Zbase[:, j]).astype(\"float32\")\n",
        "\n",
        "    # names\n",
        "    pnames = [f\"{names[order[i]]}*{names[order[j]]}\" for (i, j) in pairs]\n",
        "    return {\"order\": order.astype(int),\n",
        "            \"mu\": mu.astype(\"float32\"),\n",
        "            \"pairs\": np.array(pairs, dtype=int),\n",
        "            \"pnames\": pnames}\n",
        "\n",
        "def apply_poly2_topk(X, P):\n",
        "    if X is None: return None\n",
        "    Xf = X.astype(\"float32\")\n",
        "    Zbase = Xf[:, P[\"order\"]] - (P[\"mu\"] if CENTER else 0.0)\n",
        "    m = P[\"pairs\"].shape[0]\n",
        "    Z = np.empty((Xf.shape[0], m), dtype=\"float32\")\n",
        "    for k, (i, j) in enumerate(P[\"pairs\"]):\n",
        "        Z[:, k] = (Zbase[:, i] * Zbase[:, j]).astype(\"float32\")\n",
        "    return Z\n",
        "\n",
        "if NAME.lower() == \"none\":\n",
        "    # passthrough\n",
        "    X_g4_tr, X_g4_va, X_g4_te = X_tr, X_va, X_te\n",
        "    feature_names_g4 = prev_names\n",
        "    g4_params = {\"method\": \"none\", \"prev_feature_names\": prev_names}\n",
        "else:\n",
        "    # 2) FIT on TRAIN only\n",
        "    P = fit_poly2_topk(X_tr, prev_names)\n",
        "    Z_tr = apply_poly2_topk(X_tr, P)\n",
        "    Z_va = apply_poly2_topk(X_va, P) if X_va is not None else None\n",
        "    Z_te = apply_poly2_topk(X_te, P) if X_te is not None else None\n",
        "\n",
        "    # 3) CONCAT with originals (if chosen)\n",
        "    if INCLUDE_ORIG:\n",
        "        X_g4_tr = np.concatenate([X_tr.astype(\"float32\"), Z_tr], axis=1)\n",
        "        X_g4_va = None if Z_va is None else np.concatenate([X_va.astype(\"float32\"), Z_va], axis=1)\n",
        "        X_g4_te = None if Z_te is None else np.concatenate([X_te.astype(\"float32\"), Z_te], axis=1)\n",
        "        feature_names_g4 = list(prev_names) + P[\"pnames\"]\n",
        "    else:\n",
        "        X_g4_tr, X_g4_va, X_g4_te = Z_tr, Z_va, Z_te\n",
        "        feature_names_g4 = P[\"pnames\"]\n",
        "\n",
        "    g4_params = {\n",
        "        \"method\": \"poly2_topk\",\n",
        "        \"topk\": int(topk),\n",
        "        \"include_orig\": bool(INCLUDE_ORIG),\n",
        "        \"center\": bool(CENTER),\n",
        "        \"pairs_count\": int(len(P[\"pnames\"])),\n",
        "        \"order\": P[\"order\"],\n",
        "        \"mu\": P[\"mu\"],\n",
        "        \"pairs\": P[\"pairs\"],\n",
        "        \"pair_names\": P[\"pnames\"],\n",
        "        \"prev_feature_names\": prev_names,\n",
        "    }\n",
        "\n",
        "print(f\" method={NAME} | base_d={d} → out_d={len(feature_names_g4)} | \"\n",
        "      f\"pairs={0 if NAME=='none' else len(g4_params.get('pair_names',[]))} | \"\n",
        "      f\"X_tr={X_g4_tr.shape} | \"\n",
        "      f\"X_va={'None' if X_g4_va is None else X_g4_va.shape} | \"\n",
        "      f\"X_te={'None' if X_g4_te is None else X_g4_te.shape}\")\n"
      ],
      "metadata": {
        "id": "712T36KKG7Yp",
        "colab": {
          "base_uri": "https://localhost:8080/"
        },
        "outputId": "ac8e9afb-7a09-4278-9501-137a7a5f1b26"
      },
      "execution_count": null,
      "outputs": [
        {
          "output_type": "stream",
          "name": "stdout",
          "text": [
            " method=poly2_topk | base_d=22 → out_d=253 | pairs=231 | X_tr=(11819, 253) | X_va=(2955, 253) | X_te=(1297, 253)\n"
          ]
        }
      ]
    },
    {
      "cell_type": "code",
      "source": [
        "# <Student to fill this section>\n",
        "data_transformation_3_explanations = \"\"\"\n",
        "Fits on TRAIN to pick the Top-K most variable features, builds pairwise product interactions (centered, capped), and appends them (optionally) to the originals, then applies the same mapping to VAL/TEST.\n",
        "\"\"\""
      ],
      "metadata": {
        "id": "fQkBCxekGpUv"
      },
      "execution_count": null,
      "outputs": []
    },
    {
      "cell_type": "code",
      "source": [
        "# Do not modify this code\n",
        "print_tile(size=\"h3\", key='data_transformation_3_explanations', value=data_transformation_3_explanations)"
      ],
      "metadata": {
        "id": "Xlo8HKd9GpXM",
        "colab": {
          "base_uri": "https://localhost:8080/",
          "height": 101
        },
        "outputId": "0c24ceee-d321-4705-e1a3-900491382e07"
      },
      "execution_count": null,
      "outputs": [
        {
          "output_type": "display_data",
          "data": {
            "text/plain": [
              "<IPython.core.display.HTML object>"
            ],
            "text/html": [
              "<p style=\"color:grey\">data_transformation_3_explanations</p><h3 font-size: 3em>\n",
              "Fits on TRAIN to pick the Top-K most variable features, builds pairwise product interactions (centered, capped), and appends them (optionally) to the originals, then applies the same mapping to VAL/TEST.\n",
              "</h3>"
            ]
          },
          "metadata": {}
        }
      ]
    },
    {
      "cell_type": "markdown",
      "source": [
        "---\n",
        "## H. Save Datasets\n",
        "\n",
        "> Do not change this code"
      ],
      "metadata": {
        "id": "qIj277YWHdFk"
      }
    },
    {
      "cell_type": "code",
      "source": [
        "# --- Make X_train/y_train/X_val/y_val/X_test/y_test from what's already in memory ---\n",
        "import numpy as np, pandas as pd\n",
        "from sklearn.model_selection import train_test_split\n",
        "\n",
        "g = globals()\n",
        "\n",
        "def pick_df(names):\n",
        "    for n in names:\n",
        "        obj = g.get(n)\n",
        "        if isinstance(obj, pd.DataFrame):\n",
        "            return obj\n",
        "    return None\n",
        "\n",
        "def pick_2d(names):\n",
        "    for n in names:\n",
        "        obj = g.get(n)\n",
        "        if isinstance(obj, pd.DataFrame):\n",
        "            A = obj.astype(\"float32\").to_numpy()\n",
        "        elif obj is not None:\n",
        "            A = np.asarray(obj)\n",
        "        else:\n",
        "            continue\n",
        "        if A.ndim == 2 and A.size > 0:\n",
        "            return A\n",
        "    return None\n",
        "\n",
        "def pick_1d(names, n_match=None):\n",
        "    for n in names:\n",
        "        obj = g.get(n)\n",
        "        if obj is None:\n",
        "            continue\n",
        "        y = np.asarray(obj).reshape(-1)\n",
        "        if n_match is not None and len(y) != n_match:\n",
        "            continue\n",
        "        return pd.to_numeric(pd.Series(y), errors=\"coerce\").to_numpy()\n",
        "    return None\n",
        "\n",
        "# 1) Prefer existing train/val/test splits (G.1/E.3)\n",
        "X_train = pick_2d([\"X_g1_tr\",\"X_e3_trn\",\"X_e2_trn\",\"X_e1_trn\"])\n",
        "y_train = pick_1d([\"y_g1_tr\",\"y_e3_trn\",\"y_trn\",\"y\"], n_match=(None if X_train is None else len(X_train)))\n",
        "X_val   = pick_2d([\"X_g1_va\",\"X_e3_val\",\"X_e2_val\",\"X_e1_val\"])\n",
        "y_val   = pick_1d([\"y_g1_va\"], n_match=(None if X_val is None else len(X_val)))\n",
        "X_test  = pick_2d([\"X_g1_te\",\"X_e3_te\",\"X_e2_te\",\"X_e1_te\"])  # y_test often None\n",
        "\n",
        "# 2) If still missing, build from DataFrames train/test\n",
        "if X_train is None:\n",
        "    train_df = pick_df([\"X_e3_tr\",\"X_e2_tr\",\"X_e1_tr\"]) or pick_df([\"train\"])\n",
        "    test_df  = pick_df([\"X_e3_te\",\"X_e2_te\",\"X_e1_te\"]) or pick_df([\"test\"])\n",
        "    assert train_df is not None, \"No training DataFrame found (e.g., 'train' or X_e*_tr).\"\n",
        "\n",
        "    # Get labels\n",
        "    if \"drafted\" in g.get(\"train\", pd.DataFrame()).columns:\n",
        "        y_all = pd.to_numeric(g[\"train\"][\"drafted\"], errors=\"coerce\").fillna(0).astype(int).to_numpy()\n",
        "        X_df  = train_df if isinstance(train_df, pd.DataFrame) else pd.DataFrame(train_df)\n",
        "    else:\n",
        "        # If your feature DF already excludes labels (E.1/E.2/E.3), grab y from globals\n",
        "        y_all = pick_1d([\"y\",\"y_trn\"])\n",
        "        assert y_all is not None and len(y_all)==len(train_df), \"Provide labels (train['drafted'] or y/y_trn).\"\n",
        "        X_df = train_df if isinstance(train_df, pd.DataFrame) else pd.DataFrame(train_df)\n",
        "\n",
        "    strat = y_all if np.unique(y_all).size > 1 else None\n",
        "    X_train, X_val, y_train, y_val = train_test_split(\n",
        "        X_df, y_all, test_size=0.2, random_state=42, stratify=strat\n",
        "    )\n",
        "    X_test = test_df if (isinstance(test_df, (pd.DataFrame,np.ndarray))) else None\n",
        "\n",
        "# 3) Final sanity\n",
        "def shp(x):\n",
        "    return None if x is None else (x.shape if hasattr(x, \"shape\") else (len(x),))\n",
        "print(\"Prepared splits:\")\n",
        "print(\"  X_train\", shp(X_train), \"| y_train\", None if y_train is None else len(y_train))\n",
        "print(\"  X_val  \", shp(X_val),   \"| y_val  \", None if y_val   is None else len(y_val))\n",
        "print(\"  X_test \", shp(X_test))\n"
      ],
      "metadata": {
        "colab": {
          "base_uri": "https://localhost:8080/"
        },
        "id": "WCwAFk9uadDt",
        "outputId": "2ecde1f3-debd-41c6-c8ab-27eed35520b9"
      },
      "execution_count": null,
      "outputs": [
        {
          "output_type": "stream",
          "name": "stdout",
          "text": [
            "Prepared splits:\n",
            "  X_train (11819, 53) | y_train 11819\n",
            "  X_val   (2955, 53) | y_val   2955\n",
            "  X_test  (1297, 53)\n"
          ]
        }
      ]
    },
    {
      "cell_type": "code",
      "source": [
        "# Do not modify this code\n",
        "# Save training set\n",
        "try:\n",
        "  X_train.to_csv(at.folder_path / 'X_train.csv', index=False)\n",
        "  y_train.to_csv(at.folder_path / 'y_train.csv', index=False)\n",
        "\n",
        "  X_val.to_csv(at.folder_path / 'X_val.csv', index=False)\n",
        "  y_val.to_csv(at.folder_path / 'y_val.csv', index=False)\n",
        "\n",
        "  X_test.to_csv(at.folder_path / 'X_test.csv', index=False)\n",
        "  y_test.to_csv(at.folder_path / 'y_test.csv', index=False)\n",
        "except Exception as e:\n",
        "  print(e)"
      ],
      "metadata": {
        "id": "uMNql0SzHhP2"
      },
      "execution_count": null,
      "outputs": []
    },
    {
      "cell_type": "markdown",
      "source": [
        "---\n",
        "## I. Selection of Performance Metrics\n",
        "\n",
        "> Provide some explanations on why you believe the performance metrics you chose is appropriate\n"
      ],
      "metadata": {
        "id": "RtLjr7niHpNZ"
      }
    },
    {
      "cell_type": "code",
      "source": [
        "# --- One-shot: get probs (or train a quick baseline) + key metrics ---\n",
        "import numpy as np, pandas as pd\n",
        "from sklearn.metrics import roc_auc_score, average_precision_score, brier_score_loss, precision_recall_curve\n",
        "from sklearn.linear_model import LogisticRegression\n",
        "\n",
        "g = globals()\n",
        "def pick(names):\n",
        "    for n in names:\n",
        "        if n in g and g[n] is not None:\n",
        "            return g[n]\n",
        "    return None\n",
        "\n",
        "# 1) Eval set (prefer validation; fallback to train)\n",
        "X_eval = pick([\"X_g1_va\",\"X_e3_val\",\"X_e2_val\",\"X_e1_val\",\"X_g1_tr\",\"X_e3_trn\",\"X_e2_trn\",\"X_e1_trn\"])\n",
        "y_eval = pick([\"y_g1_va\",\"y_g1_tr\",\"y_e3_trn\",\"y_trn\",\"y\"])\n",
        "assert X_eval is not None and y_eval is not None, \"Need (X_eval,y_eval); run G.1/E.3 first.\"\n",
        "X_eval = X_eval.to_numpy(dtype=\"float32\") if isinstance(X_eval, pd.DataFrame) else np.asarray(X_eval, dtype=\"float32\")\n",
        "y_eval = pd.Series(y_eval).astype(int).to_numpy()\n",
        "assert len(X_eval) == len(y_eval), \"Length mismatch between X_eval and y_eval.\"\n",
        "\n",
        "# 2) Get probabilities\n",
        "def get_probs(X):\n",
        "    # (a) precomputed vector\n",
        "    for k in [\"y_score_va\",\"y_pred_proba_va\",\"probs\",\"proba_va\",\"scores\"]:\n",
        "        if k in g and g[k] is not None:\n",
        "            p = np.asarray(g[k]).reshape(-1)\n",
        "            if len(p) == len(X): return p\n",
        "    # (b) common model vars\n",
        "    mdl = pick([\"model\",\"xgb_model\",\"clf\",\"best_model\",\"lgb_model\",\"cb_model\",\"keras_model\",\"tf_model\",\"booster\"])\n",
        "    if mdl is not None:\n",
        "        if hasattr(mdl, \"predict_proba\"):  # sklearn/XGBClassifier/CatBoost\n",
        "            return mdl.predict_proba(X)[:, 1]\n",
        "        if hasattr(mdl, \"decision_function\"):  # SVM/linear models without proba\n",
        "            s = mdl.decision_function(X); r = pd.Series(s).rank(method=\"average\").to_numpy()\n",
        "            return (r - 0.5) / max(len(r), 1)\n",
        "        # xgboost Booster or sklearn wrapper's booster\n",
        "        try:\n",
        "            import xgboost as xgb\n",
        "            if hasattr(mdl, \"get_booster\"):\n",
        "                return mdl.get_booster().predict(xgb.DMatrix(X))\n",
        "            if mdl.__class__.__name__ == \"Booster\":\n",
        "                return mdl.predict(xgb.DMatrix(X))\n",
        "        except Exception:\n",
        "            pass\n",
        "        # lightgbm\n",
        "        try:\n",
        "            import lightgbm as lgb\n",
        "            if isinstance(mdl, lgb.Booster) or hasattr(mdl, \"predict\"):\n",
        "                return np.asarray(mdl.predict(X)).reshape(-1)\n",
        "        except Exception:\n",
        "            pass\n",
        "        # catboost\n",
        "        try:\n",
        "            from catboost import CatBoostClassifier\n",
        "            if isinstance(mdl, CatBoostClassifier):\n",
        "                if hasattr(mdl,\"predict_proba\"): return mdl.predict_proba(X)[:,1]\n",
        "                return mdl.predict(X, prediction_type=\"Probability\")[:,1]\n",
        "        except Exception:\n",
        "            pass\n",
        "        # keras / tf\n",
        "        if hasattr(mdl, \"predict\"):\n",
        "            return np.asarray(mdl.predict(X)).reshape(-1)\n",
        "    # (c) No usable model → train quick baseline on available train split\n",
        "    X_tr = pick([\"X_g1_tr\",\"X_e3_trn\",\"X_e2_trn\",\"X_e1_trn\"])\n",
        "    y_tr = pick([\"y_g1_tr\",\"y_e3_trn\",\"y_trn\",\"y\"])\n",
        "    assert X_tr is not None and y_tr is not None, \"No train split found to fit a baseline.\"\n",
        "    X_tr = X_tr.to_numpy(dtype=\"float32\") if isinstance(X_tr, pd.DataFrame) else np.asarray(X_tr, dtype=\"float32\")\n",
        "    y_tr = pd.Series(y_tr).astype(int).to_numpy()\n",
        "    clf = LogisticRegression(max_iter=1000, class_weight=\"balanced\", n_jobs=None, solver=\"lbfgs\")\n",
        "    clf.fit(X_tr, y_tr)\n",
        "    g[\"model\"] = clf  # stash for later use\n",
        "    return clf.predict_proba(X)[:, 1]\n",
        "\n",
        "p = np.clip(get_probs(X_eval), 0, 1).astype(\"float64\")\n",
        "assert len(p) == len(y_eval), \"Probabilities length mismatch.\"\n",
        "\n",
        "# 3) Metrics\n",
        "roc   = float(roc_auc_score(y_eval, p))\n",
        "pra   = float(average_precision_score(y_eval, p))\n",
        "brier = float(brier_score_loss(y_eval, p))\n",
        "s0 = np.sort(p[y_eval==0]); s1 = np.sort(p[y_eval==1])\n",
        "grid = np.unique(np.concatenate([s0,s1]))\n",
        "c0 = np.searchsorted(s0, grid, side=\"right\")/max(len(s0),1)\n",
        "c1 = np.searchsorted(s1, grid, side=\"right\")/max(len(s1),1)\n",
        "ks = float(np.max(np.abs(c1-c0))) if grid.size else 0.0\n",
        "\n",
        "def prec_rec_at_k(y, p, k):\n",
        "    k = int(min(max(1,k), len(y))); idx = np.argsort(-p)[:k]; top = y[idx]\n",
        "    return float(top.mean()), float(top.sum()/max(1,y.sum()))\n",
        "p50  = prec_rec_at_k(y_eval, p, 50)\n",
        "p100 = prec_rec_at_k(y_eval, p, 100)\n",
        "\n",
        "prec_v, rec_v, thr = precision_recall_curve(y_eval, p)\n",
        "f1 = 2*prec_v*rec_v/(prec_v+rec_v+1e-12)\n",
        "best = int(np.nanargmax(f1[1:]))+1 if len(thr)>0 else 1\n",
        "t_star = float(thr[best-1]) if len(thr)>0 else 0.5\n",
        "yhat = (p >= t_star).astype(int)\n",
        "P = int(yhat.sum()); TP = int(((y_eval==1)&(yhat==1)).sum())\n",
        "prec_t = TP/max(1,P); rec_t = TP/max(1,int(y_eval.sum()))\n",
        "f1_t = 2*prec_t*rec_t/(prec_t+rec_t+1e-12)\n",
        "\n",
        "print(f\"ROC AUC={roc:.3f} | PR AUC={pra:.3f} | Brier={brier:.4f} | KS={ks:.3f}\")\n",
        "print(f\"P@50={p50[0]:.3f} R@50={p50[1]:.3f} | P@100={p100[0]:.3f} R@100={p100[1]:.3f}\")\n",
        "print(f\"Best F1 at threshold {t_star:.3f} -> Precision={prec_t:.3f} Recall={rec_t:.3f} F1={f1_t:.3f}\")\n"
      ],
      "metadata": {
        "id": "KV_pxLAiHxKW",
        "colab": {
          "base_uri": "https://localhost:8080/"
        },
        "outputId": "34cd2330-7a4f-4224-c18d-7e2ad304a8b8"
      },
      "execution_count": null,
      "outputs": [
        {
          "output_type": "stream",
          "name": "stdout",
          "text": [
            "ROC AUC=0.993 | PR AUC=0.615 | Brier=0.0182 | KS=0.977\n",
            "P@50=0.380 R@50=0.792 | P@100=0.240 R@100=1.000\n",
            "Best F1 at threshold 0.998 -> Precision=0.538 Recall=0.583 F1=0.560\n"
          ]
        }
      ]
    },
    {
      "cell_type": "code",
      "source": [
        "# <Student to fill this section>\n",
        "performance_metrics_explanations = \"\"\"\n",
        "  It picks a validation (or train) split and gets predicted probabilities from your current model; if none are available, it trains a quick class-balanced LogisticRegression to produce them.\n",
        "Then it computes ROC AUC, PR AUC, Brier, KS, Precision@50/100, and the F1-optimal threshold—giving fast, imbalance-aware evaluation.\n",
        "\"\"\""
      ],
      "metadata": {
        "id": "kC949nluHR5s"
      },
      "execution_count": null,
      "outputs": []
    },
    {
      "cell_type": "code",
      "source": [
        "# Do not modify this code\n",
        "print_tile(size=\"h3\", key='performance_metrics_explanations', value=performance_metrics_explanations)"
      ],
      "metadata": {
        "id": "wABRzU2sHR8j",
        "colab": {
          "base_uri": "https://localhost:8080/",
          "height": 101
        },
        "outputId": "19ea18da-78d8-4dfe-e0f8-499ade1216d2"
      },
      "execution_count": null,
      "outputs": [
        {
          "output_type": "display_data",
          "data": {
            "text/plain": [
              "<IPython.core.display.HTML object>"
            ],
            "text/html": [
              "<p style=\"color:grey\">performance_metrics_explanations</p><h3 font-size: 3em>\n",
              "  It picks a validation (or train) split and gets predicted probabilities from your current model; if none are available, it trains a quick class-balanced LogisticRegression to produce them.\n",
              "Then it computes ROC AUC, PR AUC, Brier, KS, Precision@50/100, and the F1-optimal threshold—giving fast, imbalance-aware evaluation.\n",
              "</h3>"
            ]
          },
          "metadata": {}
        }
      ]
    },
    {
      "cell_type": "markdown",
      "source": [
        "## J. Train Machine Learning Model"
      ],
      "metadata": {
        "id": "ZpxjwSDYIJy6"
      }
    },
    {
      "cell_type": "markdown",
      "source": [
        "### J.1 Import Algorithm\n",
        "\n",
        "> Provide some explanations on why you believe this algorithm is a good fit\n"
      ],
      "metadata": {
        "id": "_XBy7-9PIVcU"
      }
    },
    {
      "cell_type": "code",
      "source": [
        "from sklearn.linear_model import LogisticRegression"
      ],
      "metadata": {
        "id": "diUB08xMIOuS"
      },
      "execution_count": null,
      "outputs": []
    },
    {
      "cell_type": "code",
      "source": [
        "# <Student to fill this section>\n",
        "algorithm_selection_explanations = \"\"\"\n",
        "These imports bring in the model class you’ll train (e.g., LogisticRegression or HistGradientBoostingClassifier), so you can instantiate it later like clf = ....\n",
        "The extra utilities (StandardScaler, train_test_split) handle feature scaling and making a validation split; they’re helpers, not models.\n",
        "\"\"\""
      ],
      "metadata": {
        "id": "GIWOpv6CGUTE"
      },
      "execution_count": null,
      "outputs": []
    },
    {
      "cell_type": "code",
      "source": [
        "# Do not modify this code\n",
        "print_tile(size=\"h3\", key='algorithm_selection_explanations', value=algorithm_selection_explanations)"
      ],
      "metadata": {
        "id": "N4yogQ9aGUVe",
        "colab": {
          "base_uri": "https://localhost:8080/",
          "height": 101
        },
        "outputId": "b1971946-18f5-4570-b4f2-924333635f65"
      },
      "execution_count": null,
      "outputs": [
        {
          "output_type": "display_data",
          "data": {
            "text/plain": [
              "<IPython.core.display.HTML object>"
            ],
            "text/html": [
              "<p style=\"color:grey\">algorithm_selection_explanations</p><h3 font-size: 3em>\n",
              "These imports bring in the model class you’ll train (e.g., LogisticRegression or HistGradientBoostingClassifier), so you can instantiate it later like clf = ....\n",
              "The extra utilities (StandardScaler, train_test_split) handle feature scaling and making a validation split; they’re helpers, not models.\n",
              "</h3>"
            ]
          },
          "metadata": {}
        }
      ]
    },
    {
      "cell_type": "markdown",
      "source": [
        "### J.2 Set Hyperparameters\n",
        "\n",
        "> Provide some explanations on why you believe this algorithm is a good fit\n"
      ],
      "metadata": {
        "id": "0ks_MmM2mCfm"
      }
    },
    {
      "cell_type": "code",
      "source": [
        "# --- J.2: Set Hyperparameters (choose one model) ---\n",
        "import numpy as np\n",
        "\n",
        "MODEL = \"lr\"   # set to: \"lr\" (LogisticRegression) or \"hgb\" (HistGradientBoosting)\n",
        "\n",
        "if MODEL == \"lr\":\n",
        "    from sklearn.linear_model import LogisticRegression\n",
        "    params = dict(\n",
        "        solver=\"saga\", penalty=\"l2\", C=1.0,\n",
        "        max_iter=3000, n_jobs=-1, class_weight=\"balanced\",\n",
        "        random_state=42\n",
        "    )\n",
        "    model = LogisticRegression(**params)\n",
        "    fit_kwargs = {}  # LR uses class_weight, no per-row weights needed\n",
        "\n",
        "elif MODEL == \"hgb\":\n",
        "    from sklearn.ensemble import HistGradientBoostingClassifier\n",
        "    params = dict(\n",
        "        learning_rate=0.05, max_iter=600, max_leaf_nodes=31,\n",
        "        early_stopping=True, n_iter_no_change=50,\n",
        "        l2_regularization=0.0, random_state=42\n",
        "    )\n",
        "    model = HistGradientBoostingClassifier(**params)\n",
        "    # optional per-row weights for imbalance (computed from y_train/y_trn/y if available)\n",
        "    yref = None\n",
        "    for k in (\"y_train\",\"y_trn\",\"y\"):\n",
        "        if k in globals() and globals()[k] is not None:\n",
        "            yref = np.asarray(globals()[k]).reshape(-1).astype(float); break\n",
        "    if yref is not None and yref.size > 0:\n",
        "        pos = int(np.nansum(yref)); neg = yref.size - pos\n",
        "        spw = neg / max(pos, 1)\n",
        "        fit_kwargs = {\"sample_weight\": np.where(yref == 1, spw, 1.0).astype(\"float32\")}\n",
        "    else:\n",
        "        fit_kwargs = {}\n",
        "\n",
        "else:\n",
        "    raise ValueError(\"Set MODEL to 'lr' or 'hgb'\")\n",
        "\n",
        "print(\"Model:\", model.__class__.__name__, \"| Params set. Next step: model.fit(X_train, y_train, **fit_kwargs)\")\n"
      ],
      "metadata": {
        "id": "NUswpGVLmDXl",
        "colab": {
          "base_uri": "https://localhost:8080/"
        },
        "outputId": "d4e79558-0209-443e-b4c0-93b75a6ce3a4"
      },
      "execution_count": null,
      "outputs": [
        {
          "output_type": "stream",
          "name": "stdout",
          "text": [
            "Model: LogisticRegression | Params set. Next step: model.fit(X_train, y_train, **fit_kwargs)\n"
          ]
        }
      ]
    },
    {
      "cell_type": "code",
      "source": [
        "# <Student to fill this section>\n",
        "hyperparameters_selection_explanations = \"\"\"\n",
        "These defaults are strong for imbalanced AUC tasks and rely on early stopping to pick the best number of trees.\n",
        "\"\"\""
      ],
      "metadata": {
        "id": "crG_Bm72HfL-"
      },
      "execution_count": null,
      "outputs": []
    },
    {
      "cell_type": "code",
      "source": [
        "# Do not modify this code\n",
        "print_tile(size=\"h3\", key='hyperparameters_selection_explanations', value=hyperparameters_selection_explanations)"
      ],
      "metadata": {
        "id": "k0uqlRCVHfQI"
      },
      "execution_count": null,
      "outputs": []
    },
    {
      "cell_type": "markdown",
      "source": [
        "### J.3 Fit Model"
      ],
      "metadata": {
        "id": "VDjdjQjFmkLe"
      }
    },
    {
      "cell_type": "code",
      "source": [
        "# --- J.3 (compat): XGBoost fit with early stopping across versions ---\n",
        "import numpy as np, pandas as pd, inspect\n",
        "import xgboost as xgb\n",
        "from xgboost import XGBClassifier\n",
        "from sklearn.model_selection import train_test_split\n",
        "\n",
        "g = globals()\n",
        "X_tr, y_tr = g.get(\"X_g1_tr\"), g.get(\"y_g1_tr\")\n",
        "X_va, y_va = g.get(\"X_g1_va\"), g.get(\"y_g1_va\")\n",
        "if X_tr is None or y_tr is None:\n",
        "    X_df = g.get(\"X_e2_trn\") or g.get(\"X_e1_trn\");  y_src = g.get(\"y_trn\") or g.get(\"y\")\n",
        "    assert isinstance(X_df, pd.DataFrame) and y_src is not None, \"Run E.1/E.2 or G.1 first.\"\n",
        "    X_all = X_df.astype(\"float32\").to_numpy(); y_all = pd.Series(y_src).astype(int).to_numpy()\n",
        "    strat = y_all if np.unique(y_all).size > 1 else None\n",
        "    X_tr, X_va, y_tr, y_va = train_test_split(X_all, y_all, test_size=0.2, random_state=42, stratify=strat)\n",
        "\n",
        "# arrays\n",
        "if isinstance(X_tr, pd.DataFrame): X_tr = X_tr.to_numpy(dtype=\"float32\")\n",
        "if isinstance(X_va, pd.DataFrame): X_va = X_va.to_numpy(dtype=\"float32\")\n",
        "y_tr = np.asarray(y_tr).astype(int); y_va = np.asarray(y_va).astype(int)\n",
        "\n",
        "# model (or make one)\n",
        "model = g.get(\"model\")\n",
        "if not isinstance(model, XGBClassifier):\n",
        "    pos = int(y_tr.sum()); neg = len(y_tr) - pos\n",
        "    spw = float(g.get(\"spw_g1\") or (neg / max(pos, 1)))\n",
        "    model = XGBClassifier(\n",
        "        n_estimators=1500, learning_rate=0.05, max_depth=6, min_child_weight=2,\n",
        "        subsample=0.8, colsample_bytree=0.8, reg_alpha=0.0, reg_lambda=1.0, gamma=0.0,\n",
        "        tree_method=\"hist\", eval_metric=\"auc\", random_state=42, n_jobs=-1, scale_pos_weight=spw\n",
        "    )\n",
        "\n",
        "# try sklearn API with either early_stopping_rounds or callbacks\n",
        "fit_kw = dict(eval_set=[(X_tr, y_tr), (X_va, y_va)], verbose=False)\n",
        "try:\n",
        "    if \"early_stopping_rounds\" in inspect.signature(model.fit).parameters:\n",
        "        model.fit(X_tr, y_tr, early_stopping_rounds=100, **fit_kw)\n",
        "    else:\n",
        "        from xgboost.callback import EarlyStopping\n",
        "        model.fit(X_tr, y_tr, callbacks=[EarlyStopping(rounds=100, save_best=True)], **fit_kw)\n",
        "    y_score_va = model.predict_proba(X_va)[:, 1]\n",
        "    g[\"model\"] = model; g[\"y_score_va\"] = y_score_va\n",
        "    print(\"(J.3) Trained via sklearn wrapper. best_iter=\", getattr(model, \"best_iteration\", None))\n",
        "except TypeError:\n",
        "    # final fallback: native xgb.train\n",
        "    dtr = xgb.DMatrix(X_tr, label=y_tr)\n",
        "    dva = xgb.DMatrix(X_va, label=y_va)\n",
        "    p = model.get_xgb_params()\n",
        "    params = {\n",
        "        \"objective\": \"binary:logistic\", \"eval_metric\": \"auc\",\n",
        "        \"eta\": p.get(\"learning_rate\", 0.05), \"max_depth\": p.get(\"max_depth\", 6),\n",
        "        \"min_child_weight\": p.get(\"min_child_weight\", 2), \"subsample\": p.get(\"subsample\", 0.8),\n",
        "        \"colsample_bytree\": p.get(\"colsample_bytree\", 0.8), \"lambda\": p.get(\"reg_lambda\", 1.0),\n",
        "        \"alpha\": p.get(\"reg_alpha\", 0.0), \"gamma\": p.get(\"gamma\", 0.0),\n",
        "        \"tree_method\": p.get(\"tree_method\", \"hist\"), \"scale_pos_weight\": p.get(\"scale_pos_weight\", 1.0),\n",
        "    }\n",
        "    num_boost = int(p.get(\"n_estimators\", 1500))\n",
        "    bst = xgb.train(params, dtr, num_boost_round=num_boost, evals=[(dtr,\"train\"),(dva,\"valid\")],\n",
        "                    early_stopping_rounds=100, verbose_eval=False)\n",
        "    y_score_va = bst.predict(dva)\n",
        "    g[\"model\"] = bst; g[\"y_score_va\"] = y_score_va\n",
        "    print(\"Trained via xgb.train. best_ntree_limit=\", getattr(bst, \"best_ntree_limit\", None))\n"
      ],
      "metadata": {
        "id": "0Ub3Nrdgmm2N"
      },
      "execution_count": null,
      "outputs": []
    },
    {
      "cell_type": "code",
      "source": [
        "# <Student to fill this section>\n",
        "hyperparameters_selection_explanations = \"\"\"\n",
        "Your XGBoost version doesn’t accept early_stopping_rounds on .fit(). This code auto-detects the supported API, using callbacks or a native xgb.train fallback so early stopping still works and you get real validation probabilities.\n",
        "\"\"\""
      ],
      "metadata": {
        "id": "q2sTZahHuNtT"
      },
      "execution_count": null,
      "outputs": []
    },
    {
      "cell_type": "code",
      "source": [
        "# Do not modify this code\n",
        "print_tile(size=\"h4\", key='hyperparameters_selection_explanations', value=hyperparameters_selection_explanations)"
      ],
      "metadata": {
        "id": "2YL9fOhuuTb8"
      },
      "execution_count": null,
      "outputs": []
    },
    {
      "cell_type": "markdown",
      "source": [
        "### J.4 Model Technical Performance\n",
        "\n",
        "> Provide some explanations on model performance\n"
      ],
      "metadata": {
        "id": "q43YtqpdeniY"
      }
    },
    {
      "cell_type": "code",
      "execution_count": null,
      "metadata": {
        "id": "x1Q3oxoNhez5"
      },
      "outputs": [],
      "source": [
        "import numpy as np, pandas as pd\n",
        "from sklearn.metrics import (\n",
        "    roc_auc_score, average_precision_score, brier_score_loss, log_loss,\n",
        "    precision_recall_curve, confusion_matrix\n",
        ")\n",
        "\n",
        "g = globals()\n",
        "def pick(names):\n",
        "    for n in names:\n",
        "        obj = g.get(n)\n",
        "        if obj is not None:\n",
        "            return obj\n",
        "    return None\n",
        "\n",
        "# 0) Pick eval set (prefer VAL; else TRAIN)\n",
        "X = pick([\"X_g1_va\",\"X_e3_val\",\"X_e2_val\",\"X_e1_val\",\"X_g1_tr\",\"X_e3_trn\",\"X_e2_trn\",\"X_e1_trn\"])\n",
        "y = pick([\"y_g1_va\",\"y_g1_tr\",\"y_e3_trn\",\"y_trn\",\"y\"])\n",
        "assert X is not None and y is not None, \"Need eval arrays. Run G.1/E.3 first.\"\n",
        "if isinstance(X, pd.DataFrame):\n",
        "    feat_names = list(X.columns)\n",
        "    X = X.to_numpy(dtype=\"float32\")\n",
        "else:\n",
        "    # names from earlier stages if available\n",
        "    feat_names = (g.get(\"feature_names_g4\") or g.get(\"feature_names_g3\") or\n",
        "                  g.get(\"feature_names_g2\") or g.get(\"feature_names_e3\"))\n",
        "    X = np.asarray(X, dtype=\"float32\")\n",
        "y = pd.Series(y).astype(int).to_numpy()\n",
        "\n",
        "# 1) Get probabilities (use cached first; else model)\n",
        "def get_probs(X):\n",
        "    # precomputed\n",
        "    for k in [\"y_score_va\",\"y_pred_proba_va\",\"probs\",\"proba_va\",\"y_score_tr\"]:\n",
        "        if k in g and g[k] is not None:\n",
        "            p = np.asarray(g[k]).reshape(-1)\n",
        "            if len(p)==len(X): return p\n",
        "    mdl = pick([\"model\",\"xgb_model\",\"clf\",\"best_model\",\"booster\"])\n",
        "    assert mdl is not None, \"No model/probs found; set `model` or `y_score_va`.\"\n",
        "    # sklearn-style\n",
        "    if hasattr(mdl,\"predict_proba\"): return mdl.predict_proba(X)[:,1]\n",
        "    if hasattr(mdl,\"decision_function\"):\n",
        "        s = mdl.decision_function(X)\n",
        "        r = pd.Series(s).rank(method=\"average\").to_numpy()\n",
        "        return (r-0.5)/max(len(r),1)\n",
        "    # xgboost\n",
        "    try:\n",
        "        import xgboost as xgb\n",
        "        if hasattr(mdl,\"get_booster\"):     # sklearn wrapper\n",
        "            return mdl.get_booster().predict(xgb.DMatrix(X))\n",
        "        if mdl.__class__.__name__==\"Booster\":\n",
        "            return mdl.predict(xgb.DMatrix(X))\n",
        "    except Exception:\n",
        "        pass\n",
        "    raise AssertionError(\"Unsupported model for probabilities.\")\n",
        "p = np.clip(get_probs(X), 0, 1).astype(\"float64\")\n",
        "\n",
        "# 2) Core metrics\n",
        "roc = float(roc_auc_score(y, p))\n",
        "pra = float(average_precision_score(y, p))\n",
        "bri = float(brier_score_loss(y, p))\n",
        "ll  = float(log_loss(y, np.clip(p,1e-6,1-1e-6)))\n",
        "\n",
        "# KS\n",
        "s0, s1 = np.sort(p[y==0]), np.sort(p[y==1])\n",
        "grid = np.unique(np.concatenate([s0,s1]))\n",
        "c0 = np.searchsorted(s0, grid, side=\"right\")/max(len(s0),1)\n",
        "c1 = np.searchsorted(s1, grid, side=\"right\")/max(len(s1),1)\n",
        "ks = float(np.max(np.abs(c1-c0))) if grid.size else 0.0\n",
        "\n",
        "# Precision@k / Recall@k\n",
        "def pr_at_k(y,p,k):\n",
        "    k = int(min(max(1,k), len(y)))\n",
        "    idx = np.argsort(-p)[:k]; top = y[idx]\n",
        "    return float(top.mean()), float(top.sum()/max(1,y.sum()))\n",
        "p50  = pr_at_k(y,p,50)\n",
        "p100 = pr_at_k(y,p,100)\n",
        "\n",
        "# 3) F1-optimal threshold + confusion matrix\n",
        "prec, rec, thr = precision_recall_curve(y, p)\n",
        "f1 = 2*prec*rec/(prec+rec+1e-12)\n",
        "best = int(np.nanargmax(f1[1:]))+1 if len(thr)>0 else 1\n",
        "t_star = float(thr[best-1]) if len(thr)>0 else 0.5\n",
        "yhat = (p >= t_star).astype(int)\n",
        "tn, fp, fn, tp = confusion_matrix(y, yhat).ravel()\n",
        "prec_t = tp/max(1,tp+fp); rec_t = tp/max(1,tp+fn)\n",
        "f1_t   = 2*prec_t*rec_t/(prec_t+rec_t+1e-12)\n",
        "\n",
        "print(f\"(J.4) ROC AUC={roc:.3f} | PR AUC={pra:.3f} | LogLoss={ll:.4f} | Brier={bri:.4f} | KS={ks:.3f}\")\n",
        "print(f\"      P@50={p50[0]:.3f}/R@50={p50[1]:.3f} | P@100={p100[0]:.3f}/R@100={p100[1]:.3f}\")\n",
        "print(f\"      Best F1 @ {t_star:.3f} → P={prec_t:.3f} R={rec_t:.3f} F1={f1_t:.3f} | CM [tn,fp,fn,tp]=[{tn},{fp},{fn},{tp}]\")\n",
        "\n",
        "# 4) Top feature importances (XGBoost-friendly)\n",
        "def xgb_importance(model, names, top=20):\n",
        "    # names fallback\n",
        "    if names is None: names = [f\"f{i}\" for i in range(X.shape[1])]\n",
        "    # sklearn wrapper\n",
        "    if hasattr(model,\"get_booster\"):\n",
        "        b = model.get_booster()\n",
        "        imp = b.get_score(importance_type=\"gain\") or b.get_score(importance_type=\"weight\")\n",
        "        # keys like \"f0\",\"f1\"...\n",
        "        data = []\n",
        "        for k,v in imp.items():\n",
        "            try: idx = int(k[1:])\n",
        "            except: continue\n",
        "            if 0 <= idx < len(names):\n",
        "                data.append((names[idx], float(v)))\n",
        "        df = pd.DataFrame(data, columns=[\"feature\",\"importance\"]).groupby(\"feature\", as_index=False)[\"importance\"].sum()\n",
        "        return df.sort_values(\"importance\", ascending=False).head(top)\n",
        "    # raw Booster\n",
        "    if getattr(model,\"__class__\",type(\"x\",(),{})).__name__==\"Booster\":\n",
        "        imp = model.get_score(importance_type=\"gain\") or model.get_score(importance_type=\"weight\")\n",
        "        data=[]\n",
        "        for k,v in imp.items():\n",
        "            try: idx=int(k[1:])\n",
        "            except: continue\n",
        "            fname = names[idx] if 0<=idx<len(names) else k\n",
        "            data.append((fname, float(v)))\n",
        "        return pd.DataFrame(data, columns=[\"feature\",\"importance\"]).sort_values(\"importance\", ascending=False).head(top)\n",
        "    # generic sklearn\n",
        "    if hasattr(model,\"feature_importances_\"):\n",
        "        vals = np.asarray(model.feature_importances_, dtype=\"float64\")\n",
        "        idx = np.argsort(-vals)[:top]\n",
        "        return pd.DataFrame({\"feature\":[names[i] for i in idx], \"importance\":vals[idx]})\n",
        "    return pd.DataFrame(columns=[\"feature\",\"importance\"])\n",
        "\n",
        "mdl = pick([\"model\",\"xgb_model\",\"clf\",\"booster\"])\n",
        "top_imp = xgb_importance(mdl, feat_names, top=20)\n",
        "print(\"\\nTop features:\")\n",
        "print(top_imp.to_string(index=False))"
      ]
    },
    {
      "cell_type": "code",
      "source": [
        "# <Student to fill this section>\n",
        "model_performance_explanations = \"\"\"\n",
        "Evaluates the trained model on validation (or train) with robust, imbalance-aware metrics and an F1-optimal threshold plus confusion matrix.\n",
        "\"\"\""
      ],
      "metadata": {
        "id": "_YbQldshHk_3"
      },
      "execution_count": null,
      "outputs": []
    },
    {
      "cell_type": "code",
      "source": [
        "# Do not modify this code\n",
        "print_tile(size=\"h3\", key='model_performance_explanations', value=model_performance_explanations)"
      ],
      "metadata": {
        "id": "-MkLnLzVHlDO"
      },
      "execution_count": null,
      "outputs": []
    },
    {
      "cell_type": "markdown",
      "source": [
        "### J.5 Business Impact from Current Model Performance\n",
        "\n",
        "> Provide some analysis on the model impacts from the business point of view\n"
      ],
      "metadata": {
        "id": "W1HgZMPcmtu7"
      }
    },
    {
      "cell_type": "code",
      "source": [
        "# --- J.5: Business Impact from Current Model Performance (compact) ---\n",
        "import numpy as np, pandas as pd\n",
        "\n",
        "g = globals()\n",
        "def pick(names):\n",
        "    for n in names:\n",
        "        obj = g.get(n)\n",
        "        if obj is not None: return obj\n",
        "    return None\n",
        "\n",
        "# 0) Eval set (VAL preferred) + probabilities\n",
        "X = pick([\"X_g1_va\",\"X_e3_val\",\"X_e2_val\",\"X_e1_val\",\"X_g1_tr\",\"X_e3_trn\",\"X_e2_trn\",\"X_e1_trn\"])\n",
        "y = pick([\"y_g1_va\",\"y_g1_tr\",\"y_e3_trn\",\"y_trn\",\"y\"])\n",
        "assert X is not None and y is not None, \"Need (X,y). Run G.1/E.3 first.\"\n",
        "y = pd.Series(y).astype(int).to_numpy()\n",
        "\n",
        "def get_probs(X):\n",
        "    # precomputed?\n",
        "    for n in [\"y_score_va\",\"y_pred_proba_va\",\"probs\",\"proba_va\",\"y_score_tr\"]:\n",
        "        if n in g and g[n] is not None:\n",
        "            p = np.asarray(g[n]).reshape(-1);\n",
        "            if len(p)==len(y): return np.clip(p,0,1)\n",
        "    mdl = pick([\"model\",\"xgb_model\",\"clf\",\"best_model\",\"booster\"])\n",
        "    assert mdl is not None, \"No model/probs found; run J.3 or set y_score_va.\"\n",
        "    # sklearn-style\n",
        "    if hasattr(mdl,\"predict_proba\"): return mdl.predict_proba(X if not isinstance(X,pd.DataFrame) else X.to_numpy())[:,1]\n",
        "    if hasattr(mdl,\"decision_function\"):\n",
        "        s = mdl.decision_function(X if not isinstance(X,pd.DataFrame) else X.to_numpy())\n",
        "        r = pd.Series(s).rank(method=\"average\").to_numpy()\n",
        "        return (r-0.5)/max(len(r),1)\n",
        "    # xgboost Booster/sklearn wrapper\n",
        "    try:\n",
        "        import xgboost as xgb\n",
        "        A = X.to_numpy() if isinstance(X,pd.DataFrame) else np.asarray(X)\n",
        "        if hasattr(mdl,\"get_booster\"): return mdl.get_booster().predict(xgb.DMatrix(A))\n",
        "        if mdl.__class__.__name__==\"Booster\": return mdl.predict(xgb.DMatrix(A))\n",
        "    except Exception: pass\n",
        "    raise AssertionError(\"Unsupported model for probabilities.\")\n",
        "p = np.clip(get_probs(X), 0, 1).astype(\"float64\")\n",
        "assert len(p)==len(y), \"Probabilities length mismatch.\"\n",
        "\n",
        "# 1) Business values (EDIT to your case)\n",
        "VALUE_TP = 1.0    # benefit per true positive found\n",
        "COST_FP  = 0.2    # cost per false alarm reviewed\n",
        "COST_FN  = 0.5    # opportunity cost per missed positive\n",
        "COST_TN  = 0.0    # usually zero\n",
        "TARGET_KS = [50, 100, 200]   # shortlist sizes you can act on\n",
        "\n",
        "# 2) Profit at threshold (pick best)\n",
        "thr_grid = np.unique(np.quantile(p, np.linspace(0.01, 0.99, 199)))\n",
        "best = (-1e18, 0.5, None)  # (profit, threshold, counts)\n",
        "for t in thr_grid:\n",
        "    yhat = (p >= t).astype(int)\n",
        "    tp = int(((y==1)&(yhat==1)).sum())\n",
        "    fp = int(((y==0)&(yhat==1)).sum())\n",
        "    fn = int(((y==1)&(yhat==0)).sum())\n",
        "    tn = int(((y==0)&(yhat==0)).sum())\n",
        "    profit = tp*VALUE_TP - fp*COST_FP - fn*COST_FN - tn*COST_TN\n",
        "    if profit > best[0]:\n",
        "        best = (profit, float(t), (tp, fp, fn, tn))\n",
        "best_profit, t_star, (tp,fp,fn,tn) = best\n",
        "\n",
        "# 3) Capacity-constrained Top-K profit\n",
        "order = np.argsort(-p)\n",
        "topk_lines = []\n",
        "for K in TARGET_KS:\n",
        "    K = int(min(max(1,K), len(y)))\n",
        "    yk = y[order][:K]\n",
        "    tp_k = int(yk.sum()); fp_k = K - tp_k\n",
        "    fn_k = int(y.sum()) - tp_k; tn_k = int((len(y)-y.sum()) - fp_k)\n",
        "    prof_k = tp_k*VALUE_TP - fp_k*COST_FP - fn_k*COST_FN - tn_k*COST_TN\n",
        "    prec_k = tp_k / K; rec_k = tp_k / max(1,int(y.sum()))\n",
        "    topk_lines.append((K, prof_k, prec_k, rec_k, tp_k, fp_k))\n",
        "\n",
        "# 4) Print summary\n",
        "n = len(y); pos = int(y.sum()); base = pos/max(1,n)\n",
        "print(f\" n={n} | positives={pos} (base rate={base:.3f})\")\n",
        "print(f\" Profit-max threshold t*={t_star:.3f} → Profit={best_profit:.2f} | TP={tp} FP={fp} FN={fn} TN={tn}\")\n",
        "for (K, prof_k, prec_k, rec_k, tp_k, fp_k) in topk_lines:\n",
        "    print(f\" Top-{K}: Profit={prof_k:.2f} | Precision={prec_k:.3f} Recall={rec_k:.3f} | TP={tp_k} FP={fp_k}\")\n"
      ],
      "metadata": {
        "id": "XGq2RWyqmuKM"
      },
      "execution_count": null,
      "outputs": []
    },
    {
      "cell_type": "code",
      "source": [
        "# <Student to fill this section>\n",
        "business_impacts_explanations = \"\"\"\n",
        "Given business values/costs, it finds the threshold that maximizes expected profit and also computes Top-K profit for capacity-limited shortlists.\n",
        "\"\"\""
      ],
      "metadata": {
        "id": "7bcCHiP-Hozj"
      },
      "execution_count": null,
      "outputs": []
    },
    {
      "cell_type": "code",
      "source": [
        "# Do not modify this code\n",
        "print_tile(size=\"h3\", key='business_impacts_explanations', value=business_impacts_explanations)"
      ],
      "metadata": {
        "id": "RQ3lJGAnHo3O"
      },
      "execution_count": null,
      "outputs": []
    },
    {
      "cell_type": "markdown",
      "source": [
        "## H. Project Outcomes"
      ],
      "metadata": {
        "id": "mp1Ie9o8nDl1"
      }
    },
    {
      "cell_type": "code",
      "source": [
        "# --- Consistency check: compute metrics & CM from the SAME p,y and threshold ---\n",
        "import numpy as np, pandas as pd\n",
        "from sklearn.metrics import roc_auc_score, average_precision_score, brier_score_loss, log_loss\n",
        "from sklearn.metrics import precision_recall_curve, confusion_matrix\n",
        "\n",
        "g = globals()\n",
        "# pick probs & labels from VAL (edit names if needed)\n",
        "p = np.asarray(g.get(\"y_score_va\")).reshape(-1)          # probabilities you used\n",
        "y = pd.Series(g.get(\"y_g1_va\")).astype(int).to_numpy()   # labels on the SAME rows\n",
        "assert len(p)==len(y), \"Length mismatch between p and y.\"\n",
        "\n",
        "# threshold to test (profit-max or F1-opt); set one source of truth:\n",
        "t_star = float(g.get(\"t_star\", 0.5))\n",
        "\n",
        "# core metrics\n",
        "roc = roc_auc_score(y,p); pra = average_precision_score(y,p)\n",
        "bri = brier_score_loss(y,p); ll = log_loss(y, np.clip(p,1e-6,1-1e-6))\n",
        "\n",
        "# F1-opt threshold (recomputed so it matches CM below)\n",
        "prec, rec, thr = precision_recall_curve(y,p)\n",
        "f1 = 2*prec*rec/(prec+rec+1e-12)\n",
        "i = int(np.nanargmax(f1[1:]))+1 if len(thr)>0 else 1\n",
        "t_f1 = float(thr[i-1]) if len(thr)>0 else 0.5\n",
        "\n",
        "# confusion & P/R/F1 at chosen t (here: profit-max t_star)\n",
        "yhat = (p >= t_star).astype(int)\n",
        "tn, fp, fn, tp = confusion_matrix(y,yhat).ravel()\n",
        "prec_t = tp/max(1,tp+fp); rec_t = tp/max(1,tp+fn)\n",
        "f1_t = 2*prec_t*rec_t/(prec_t+rec_t+1e-12)\n",
        "\n",
        "print(f\"ROC AUC={roc:.3f} | PR AUC={pra:.3f} | LogLoss={ll:.4f} | Brier={bri:.4f}\")\n",
        "print(f\"F1-opt threshold={t_f1:.4f}\")\n",
        "print(f\"At t*={t_star:.4f} → Precision={prec_t:.3f} Recall={rec_t:.3f} F1={f1_t:.3f} | CM [tn,fp,fn,tp]=[{tn},{fp},{fn},{tp}]\")\n"
      ],
      "metadata": {
        "id": "AvFNheh1HtPb"
      },
      "execution_count": null,
      "outputs": []
    },
    {
      "cell_type": "code",
      "source": [
        "# <Student to fill this section>\n",
        "experiment_results_explanations =\"\"\"\n",
        "Your numbers conflicted because you mixed different probs/labels or thresholds across cells—precision/recall must come from the same p & y used for the confusion matrix.\n",
        "Run the tiny checker I gave to recompute all metrics + CM at one threshold from the same arrays, and fix the engineered-features line (your list had blanks).\n",
        "\"\"\""
      ],
      "metadata": {
        "id": "iFF8wsz6HteA"
      },
      "execution_count": 16,
      "outputs": []
    },
    {
      "cell_type": "markdown",
      "source": [
        "Thank you"
      ],
      "metadata": {
        "id": "PIpgAu2RwlSt"
      }
    }
  ],
  "metadata": {
    "colab": {
      "provenance": []
    },
    "kernelspec": {
      "display_name": "Python 3 (ipykernel)",
      "language": "python",
      "name": "python3"
    },
    "language_info": {
      "codemirror_mode": {
        "name": "ipython",
        "version": 3
      },
      "file_extension": ".py",
      "mimetype": "text/x-python",
      "name": "python",
      "nbconvert_exporter": "python",
      "pygments_lexer": "ipython3",
      "version": "3.10.10"
    }
  },
  "nbformat": 4,
  "nbformat_minor": 0
}