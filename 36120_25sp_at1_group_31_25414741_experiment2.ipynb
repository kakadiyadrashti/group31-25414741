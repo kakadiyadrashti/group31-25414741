{
  "cells": [
    {
      "cell_type": "markdown",
      "metadata": {
        "id": "uQ6wc2HE0pke"
      },
      "source": [
        "# **Experiment Notebook**\n",
        "\n"
      ]
    },
    {
      "cell_type": "code",
      "source": [
        "# Align versions so pip stops warning\n",
        "!pip install -q --upgrade \"scikit-learn>=1.6\" \"umap-learn>=0.5.9\" utstd"
      ],
      "metadata": {
        "id": "2AIeLoxyVk37"
      },
      "execution_count": null,
      "outputs": []
    },
    {
      "cell_type": "code",
      "source": [
        "# Do not modify this code\n",
        "!pip install -q utstd\n",
        "\n",
        "from utstd.ipyrenders import *"
      ],
      "metadata": {
        "id": "qNOA146K2c6f",
        "collapsed": true
      },
      "execution_count": null,
      "outputs": []
    },
    {
      "cell_type": "code",
      "source": [
        "# Do not modify this code\n",
        "import warnings\n",
        "warnings.simplefilter(action='ignore')"
      ],
      "metadata": {
        "id": "6FneOmBfka9G"
      },
      "execution_count": null,
      "outputs": []
    },
    {
      "cell_type": "markdown",
      "source": [
        "## 0. Import Packages"
      ],
      "metadata": {
        "id": "mXFKfa2tp1ch"
      }
    },
    {
      "cell_type": "code",
      "source": [
        "import os, sys, json, math, pathlib, warnings, datetime\n",
        "from typing import List, Tuple\n",
        "\n",
        "import numpy as np\n",
        "import pandas as pd\n",
        "\n",
        "from sklearn.model_selection import StratifiedKFold\n",
        "from sklearn.compose import ColumnTransformer\n",
        "from sklearn.preprocessing import OneHotEncoder, StandardScaler\n",
        "from sklearn.pipeline import Pipeline\n",
        "from sklearn.linear_model import LogisticRegression\n",
        "from sklearn.metrics import roc_auc_score\n",
        "from sklearn.impute import SimpleImputer\n",
        "from sklearn.base import BaseEstimator\n",
        "import joblib\n",
        "\n",
        "warnings.filterwarnings(\"ignore\")\n",
        "\n",
        "RANDOM_STATE = 42\n",
        "np.random.seed(RANDOM_STATE)"
      ],
      "metadata": {
        "id": "GBEAwdncnlAx"
      },
      "execution_count": null,
      "outputs": []
    },
    {
      "cell_type": "markdown",
      "metadata": {
        "id": "tQgxLRrvjiJb"
      },
      "source": [
        "---\n",
        "## A. Project Description\n"
      ]
    },
    {
      "cell_type": "code",
      "source": [
        "# <Student to fill this section>\n",
        "student_name = \"Drashti Kakadiya\"\n",
        "student_id = \"25414741\"\n",
        "group_id = \"31\""
      ],
      "metadata": {
        "id": "Je1EzzfFD5hj"
      },
      "execution_count": null,
      "outputs": []
    },
    {
      "cell_type": "code",
      "source": [
        "# Do not modify this code\n",
        "print_tile(size=\"h1\", key='student_name', value=student_name)"
      ],
      "metadata": {
        "id": "pdKiYvFWD5my",
        "colab": {
          "base_uri": "https://localhost:8080/",
          "height": 98
        },
        "outputId": "78cbcb3f-f0e9-4567-f3a6-8499a6e6db3d"
      },
      "execution_count": null,
      "outputs": [
        {
          "output_type": "display_data",
          "data": {
            "text/plain": [
              "<IPython.core.display.HTML object>"
            ],
            "text/html": [
              "<p style=\"color:grey\">student_name</p><h1 font-size: 3em>Drashti Kakadiya</h1>"
            ]
          },
          "metadata": {}
        }
      ]
    },
    {
      "cell_type": "code",
      "source": [
        "# Do not modify this code\n",
        "print_tile(size=\"h1\", key='student_id', value=student_id)"
      ],
      "metadata": {
        "id": "9KTEbRjqD5o_",
        "colab": {
          "base_uri": "https://localhost:8080/",
          "height": 98
        },
        "outputId": "be86ecfb-b149-418a-85fd-7a1d28ed9950"
      },
      "execution_count": null,
      "outputs": [
        {
          "output_type": "display_data",
          "data": {
            "text/plain": [
              "<IPython.core.display.HTML object>"
            ],
            "text/html": [
              "<p style=\"color:grey\">student_id</p><h1 font-size: 3em>25414741</h1>"
            ]
          },
          "metadata": {}
        }
      ]
    },
    {
      "cell_type": "code",
      "source": [
        "# Do not modify this code\n",
        "print_tile(size=\"h1\", key='group_id', value=group_id)"
      ],
      "metadata": {
        "id": "UKRt4jK6rInY",
        "colab": {
          "base_uri": "https://localhost:8080/",
          "height": 98
        },
        "outputId": "818d5258-1ddd-4a14-8f7a-fc1bcdd4b64e"
      },
      "execution_count": null,
      "outputs": [
        {
          "output_type": "display_data",
          "data": {
            "text/plain": [
              "<IPython.core.display.HTML object>"
            ],
            "text/html": [
              "<p style=\"color:grey\">group_id</p><h1 font-size: 3em>31</h1>"
            ]
          },
          "metadata": {}
        }
      ]
    },
    {
      "cell_type": "markdown",
      "source": [
        "---\n",
        "## B. Business Understanding"
      ],
      "metadata": {
        "id": "4q1Bzcejvfpm"
      }
    },
    {
      "cell_type": "code",
      "source": [
        "# <Student to fill this section>\n",
        "business_use_case_description = \"\"\"\n",
        "Goal: predict each player’s draft probability so the team can prioritise scouting/offers and allocate budget efficiently.\n",
        "Impact: accurate → higher hit-rate, ROI, and wins; inaccurate → missed talent, wasted spend, weaker roster\n",
        "\"\"\""
      ],
      "metadata": {
        "id": "Mmo6apC9EEv8"
      },
      "execution_count": null,
      "outputs": []
    },
    {
      "cell_type": "code",
      "source": [
        "# Do not modify this code\n",
        "print_tile(size=\"h3\", key='business_use_case_description', value=business_use_case_description)"
      ],
      "metadata": {
        "id": "bgb0DkG2EE2e",
        "colab": {
          "base_uri": "https://localhost:8080/",
          "height": 101
        },
        "outputId": "686b4f38-1540-465b-d1a7-25863dfd52aa"
      },
      "execution_count": null,
      "outputs": [
        {
          "output_type": "display_data",
          "data": {
            "text/plain": [
              "<IPython.core.display.HTML object>"
            ],
            "text/html": [
              "<p style=\"color:grey\">business_use_case_description</p><h3 font-size: 3em>\n",
              "Goal: predict each player’s draft probability so the team can prioritise scouting/offers and allocate budget efficiently.\n",
              "Impact: accurate → higher hit-rate, ROI, and wins; inaccurate → missed talent, wasted spend, weaker roster\n",
              "</h3>"
            ]
          },
          "metadata": {}
        }
      ]
    },
    {
      "cell_type": "code",
      "source": [
        "# <Student to fill this section>\n",
        "business_objectives = \"\"\"\n",
        "Identify and rank high-potential draftees to focus scouting/offers, boosting draft hit-rate and roster quality.\n",
        "Reduce wasted spend/time by filtering low-probability prospects, improving ROI and long-term team performance.\n",
        "\"\"\""
      ],
      "metadata": {
        "id": "29Yqk3d2EE8q"
      },
      "execution_count": null,
      "outputs": []
    },
    {
      "cell_type": "code",
      "source": [
        "# Do not modify this code\n",
        "print_tile(size=\"h3\", key='business_objectives', value=business_objectives)"
      ],
      "metadata": {
        "id": "sSu_8J96EFDs",
        "colab": {
          "base_uri": "https://localhost:8080/",
          "height": 101
        },
        "outputId": "4ac579c9-40fd-4190-8835-01191d19a1b5"
      },
      "execution_count": null,
      "outputs": [
        {
          "output_type": "display_data",
          "data": {
            "text/plain": [
              "<IPython.core.display.HTML object>"
            ],
            "text/html": [
              "<p style=\"color:grey\">business_objectives</p><h3 font-size: 3em>\n",
              "Identify and rank high-potential draftees to focus scouting/offers, boosting draft hit-rate and roster quality.\n",
              "Reduce wasted spend/time by filtering low-probability prospects, improving ROI and long-term team performance.\n",
              "</h3>"
            ]
          },
          "metadata": {}
        }
      ]
    },
    {
      "cell_type": "code",
      "source": [
        "# <Student to fill this section>\n",
        "stakeholders_expectations_explanations = \"\"\"\n",
        "Owners/GM: Clear ROI (higher draft hit-rate, lower scouting cost), on-time insights before draft windows, and defensible KPIs (AUROC, calibration).\n",
        "Coaches: Short, trusted shortlists with thresholds and role-fit notes; minimal false positives that waste practice reps.\n",
        "Scouting Dept: Augmentation (not replacement) of scouts; transparent feature importance and a feedback loop to correct misses.\n",
        "Analytics/ML: Reproducible, leakage-free pipeline with versioned data, drift/quality monitoring, and easy what-if analyses.\n",
        "Compliance/Legal: Fairness checks across demographics, privacy-safe data handling, and auditable decisions.\n",
        "IT/Ops: Secure access, low-latency scoring API, uptime during peak draft activity, and smooth integration with existing tools.\n",
        "\"\"\"\n"
      ],
      "metadata": {
        "id": "Hf4ThY5cEF5W"
      },
      "execution_count": null,
      "outputs": []
    },
    {
      "cell_type": "code",
      "source": [
        "# Do not modify this code\n",
        "print_tile(size=\"h3\", key='stakeholders_expectations_explanations', value=stakeholders_expectations_explanations)"
      ],
      "metadata": {
        "id": "jH9a2X70EF8M",
        "colab": {
          "base_uri": "https://localhost:8080/",
          "height": 162
        },
        "outputId": "ccbf7e39-e675-48b8-a2bb-dd0432a4fb2b"
      },
      "execution_count": null,
      "outputs": [
        {
          "output_type": "display_data",
          "data": {
            "text/plain": [
              "<IPython.core.display.HTML object>"
            ],
            "text/html": [
              "<p style=\"color:grey\">stakeholders_expectations_explanations</p><h3 font-size: 3em>\n",
              "Owners/GM: Clear ROI (higher draft hit-rate, lower scouting cost), on-time insights before draft windows, and defensible KPIs (AUROC, calibration).\n",
              "Coaches: Short, trusted shortlists with thresholds and role-fit notes; minimal false positives that waste practice reps.\n",
              "Scouting Dept: Augmentation (not replacement) of scouts; transparent feature importance and a feedback loop to correct misses.\n",
              "Analytics/ML: Reproducible, leakage-free pipeline with versioned data, drift/quality monitoring, and easy what-if analyses.\n",
              "Compliance/Legal: Fairness checks across demographics, privacy-safe data handling, and auditable decisions.\n",
              "IT/Ops: Secure access, low-latency scoring API, uptime during peak draft activity, and smooth integration with existing tools.\n",
              "</h3>"
            ]
          },
          "metadata": {}
        }
      ]
    },
    {
      "cell_type": "markdown",
      "source": [
        "---\n",
        "## C. Data Understanding"
      ],
      "metadata": {
        "id": "P0zsEPshwy1K"
      }
    },
    {
      "cell_type": "markdown",
      "source": [
        "### C.1   Load Datasets\n"
      ],
      "metadata": {
        "id": "sGMWhKSbUl63"
      }
    },
    {
      "cell_type": "code",
      "source": [
        "import pandas as pd\n",
        "from pathlib import Path\n",
        "from IPython.display import display\n",
        "\n",
        "# Search in root and sample_data (works in Colab)\n",
        "BASES = [Path(\".\"), Path(\"sample_data\"), Path(\"/content\"), Path(\"/content/sample_data\")]\n",
        "\n",
        "def find_file(name, required=False):\n",
        "    for b in BASES:\n",
        "        p = (b / name).resolve()\n",
        "        if p.exists(): return p\n",
        "    if required:\n",
        "        raise FileNotFoundError(f\"{name} not found in any of: \" + \", \".join(map(str, BASES)))\n",
        "    return None\n",
        "\n",
        "def read_csv_robust(path):\n",
        "    \"\"\"Try multiple encodings + safe options to avoid UnicodeDecodeError.\"\"\"\n",
        "    if path is None: return None\n",
        "    tried = []\n",
        "    for enc in [\"utf-8\", \"utf-8-sig\", \"cp1252\", \"latin1\"]:\n",
        "        try:\n",
        "            return pd.read_csv(\n",
        "                path,\n",
        "                engine=\"python\",     # allows sep=None inference\n",
        "                sep=None,            # auto-detect delimiter\n",
        "                encoding=enc,\n",
        "                encoding_errors=\"replace\",  # keep going on bad bytes\n",
        "                on_bad_lines=\"skip\"  # skip broken rows if any\n",
        "            )\n",
        "        except Exception as e:\n",
        "            tried.append(f\"{enc}: {type(e).__name__}\")\n",
        "    print(f\"⚠️ Could not parse {path.name} with encodings -> {tried}. Skipping.\")\n",
        "    return None\n",
        "\n",
        "train_path  = find_file(\"train.csv\", required=True)\n",
        "test_path   = find_file(\"test.csv\",  required=True)\n",
        "sample_path = find_file(\"sample_submission.csv\", required=False)\n",
        "meta_path   = find_file(\"metadata.csv\", required=False)\n",
        "\n",
        "train = read_csv_robust(train_path)\n",
        "test  = read_csv_robust(test_path)\n",
        "sample_submission = read_csv_robust(sample_path)\n",
        "metadata = read_csv_robust(meta_path)\n",
        "\n",
        "print(\"Train:\", train_path, \"shape:\", train.shape)\n",
        "print(\"Test :\", test_path,  \"shape:\", test.shape)\n",
        "print(\"Sample submission:\", sample_path if sample_submission is not None else \"not found or unreadable\")\n",
        "print(\"Metadata:\", meta_path if metadata is not None else \"not found or unreadable\")\n",
        "\n",
        "display(train.head(3))\n",
        "display(test.head(3))"
      ],
      "metadata": {
        "id": "NKgOzSn-w0eq",
        "colab": {
          "base_uri": "https://localhost:8080/",
          "height": 733
        },
        "outputId": "1ad9ce31-87de-4356-a1ed-b7d19a5ca4f2"
      },
      "execution_count": null,
      "outputs": [
        {
          "output_type": "stream",
          "name": "stdout",
          "text": [
            "Train: /content/train.csv shape: (14774, 62)\n",
            "Test : /content/test.csv shape: (1297, 61)\n",
            "Sample submission: /content/sample_submission.csv\n",
            "Metadata: /content/metadata.csv\n"
          ]
        },
        {
          "output_type": "display_data",
          "data": {
            "text/plain": [
              "                team  conf  GP  Min_per   Ortg   usg   eFG  TS_per  ORB_per  \\\n",
              "0            Pacific    BW  26     52.6  111.8  19.3  61.8   64.93      1.1   \n",
              "1        Mississippi   SEC   2      0.8   63.6  29.6  33.3   33.33      0.0   \n",
              "2  Stephen F. Austin  Slnd   4      0.6   61.4  21.7  50.0   50.00      0.0   \n",
              "\n",
              "   DRB_per  ...    dgbpm    oreb    dreb    treb     ast     stl     blk  \\\n",
              "0      7.5  ... -1.34201  0.2308  1.5769  1.8077  2.2308  0.6538  0.0769   \n",
              "1     21.5  ... -5.42104  0.0000  1.0000  1.0000  0.0000  0.0000  0.0000   \n",
              "2      0.0  ...  6.46650  0.0000  0.0000  0.0000  0.0000  0.2500  0.0000   \n",
              "\n",
              "      pts                             player_id  drafted  \n",
              "0  9.6538  681edf6e-41cb-4fd1-ba91-da573e063fbc      0.0  \n",
              "1  2.0000  3542dcb7-19ad-47f2-8b3a-eb79eb3ec4c4      0.0  \n",
              "2  0.5000  ca0d8700-807d-4fce-a7a9-63922d1981e6      0.0  \n",
              "\n",
              "[3 rows x 62 columns]"
            ],
            "text/html": [
              "\n",
              "  <div id=\"df-e84b5d2f-fda9-425e-8c2b-8c1bab71f19c\" class=\"colab-df-container\">\n",
              "    <div>\n",
              "<style scoped>\n",
              "    .dataframe tbody tr th:only-of-type {\n",
              "        vertical-align: middle;\n",
              "    }\n",
              "\n",
              "    .dataframe tbody tr th {\n",
              "        vertical-align: top;\n",
              "    }\n",
              "\n",
              "    .dataframe thead th {\n",
              "        text-align: right;\n",
              "    }\n",
              "</style>\n",
              "<table border=\"1\" class=\"dataframe\">\n",
              "  <thead>\n",
              "    <tr style=\"text-align: right;\">\n",
              "      <th></th>\n",
              "      <th>team</th>\n",
              "      <th>conf</th>\n",
              "      <th>GP</th>\n",
              "      <th>Min_per</th>\n",
              "      <th>Ortg</th>\n",
              "      <th>usg</th>\n",
              "      <th>eFG</th>\n",
              "      <th>TS_per</th>\n",
              "      <th>ORB_per</th>\n",
              "      <th>DRB_per</th>\n",
              "      <th>...</th>\n",
              "      <th>dgbpm</th>\n",
              "      <th>oreb</th>\n",
              "      <th>dreb</th>\n",
              "      <th>treb</th>\n",
              "      <th>ast</th>\n",
              "      <th>stl</th>\n",
              "      <th>blk</th>\n",
              "      <th>pts</th>\n",
              "      <th>player_id</th>\n",
              "      <th>drafted</th>\n",
              "    </tr>\n",
              "  </thead>\n",
              "  <tbody>\n",
              "    <tr>\n",
              "      <th>0</th>\n",
              "      <td>Pacific</td>\n",
              "      <td>BW</td>\n",
              "      <td>26</td>\n",
              "      <td>52.6</td>\n",
              "      <td>111.8</td>\n",
              "      <td>19.3</td>\n",
              "      <td>61.8</td>\n",
              "      <td>64.93</td>\n",
              "      <td>1.1</td>\n",
              "      <td>7.5</td>\n",
              "      <td>...</td>\n",
              "      <td>-1.34201</td>\n",
              "      <td>0.2308</td>\n",
              "      <td>1.5769</td>\n",
              "      <td>1.8077</td>\n",
              "      <td>2.2308</td>\n",
              "      <td>0.6538</td>\n",
              "      <td>0.0769</td>\n",
              "      <td>9.6538</td>\n",
              "      <td>681edf6e-41cb-4fd1-ba91-da573e063fbc</td>\n",
              "      <td>0.0</td>\n",
              "    </tr>\n",
              "    <tr>\n",
              "      <th>1</th>\n",
              "      <td>Mississippi</td>\n",
              "      <td>SEC</td>\n",
              "      <td>2</td>\n",
              "      <td>0.8</td>\n",
              "      <td>63.6</td>\n",
              "      <td>29.6</td>\n",
              "      <td>33.3</td>\n",
              "      <td>33.33</td>\n",
              "      <td>0.0</td>\n",
              "      <td>21.5</td>\n",
              "      <td>...</td>\n",
              "      <td>-5.42104</td>\n",
              "      <td>0.0000</td>\n",
              "      <td>1.0000</td>\n",
              "      <td>1.0000</td>\n",
              "      <td>0.0000</td>\n",
              "      <td>0.0000</td>\n",
              "      <td>0.0000</td>\n",
              "      <td>2.0000</td>\n",
              "      <td>3542dcb7-19ad-47f2-8b3a-eb79eb3ec4c4</td>\n",
              "      <td>0.0</td>\n",
              "    </tr>\n",
              "    <tr>\n",
              "      <th>2</th>\n",
              "      <td>Stephen F. Austin</td>\n",
              "      <td>Slnd</td>\n",
              "      <td>4</td>\n",
              "      <td>0.6</td>\n",
              "      <td>61.4</td>\n",
              "      <td>21.7</td>\n",
              "      <td>50.0</td>\n",
              "      <td>50.00</td>\n",
              "      <td>0.0</td>\n",
              "      <td>0.0</td>\n",
              "      <td>...</td>\n",
              "      <td>6.46650</td>\n",
              "      <td>0.0000</td>\n",
              "      <td>0.0000</td>\n",
              "      <td>0.0000</td>\n",
              "      <td>0.0000</td>\n",
              "      <td>0.2500</td>\n",
              "      <td>0.0000</td>\n",
              "      <td>0.5000</td>\n",
              "      <td>ca0d8700-807d-4fce-a7a9-63922d1981e6</td>\n",
              "      <td>0.0</td>\n",
              "    </tr>\n",
              "  </tbody>\n",
              "</table>\n",
              "<p>3 rows × 62 columns</p>\n",
              "</div>\n",
              "    <div class=\"colab-df-buttons\">\n",
              "\n",
              "  <div class=\"colab-df-container\">\n",
              "    <button class=\"colab-df-convert\" onclick=\"convertToInteractive('df-e84b5d2f-fda9-425e-8c2b-8c1bab71f19c')\"\n",
              "            title=\"Convert this dataframe to an interactive table.\"\n",
              "            style=\"display:none;\">\n",
              "\n",
              "  <svg xmlns=\"http://www.w3.org/2000/svg\" height=\"24px\" viewBox=\"0 -960 960 960\">\n",
              "    <path d=\"M120-120v-720h720v720H120Zm60-500h600v-160H180v160Zm220 220h160v-160H400v160Zm0 220h160v-160H400v160ZM180-400h160v-160H180v160Zm440 0h160v-160H620v160ZM180-180h160v-160H180v160Zm440 0h160v-160H620v160Z\"/>\n",
              "  </svg>\n",
              "    </button>\n",
              "\n",
              "  <style>\n",
              "    .colab-df-container {\n",
              "      display:flex;\n",
              "      gap: 12px;\n",
              "    }\n",
              "\n",
              "    .colab-df-convert {\n",
              "      background-color: #E8F0FE;\n",
              "      border: none;\n",
              "      border-radius: 50%;\n",
              "      cursor: pointer;\n",
              "      display: none;\n",
              "      fill: #1967D2;\n",
              "      height: 32px;\n",
              "      padding: 0 0 0 0;\n",
              "      width: 32px;\n",
              "    }\n",
              "\n",
              "    .colab-df-convert:hover {\n",
              "      background-color: #E2EBFA;\n",
              "      box-shadow: 0px 1px 2px rgba(60, 64, 67, 0.3), 0px 1px 3px 1px rgba(60, 64, 67, 0.15);\n",
              "      fill: #174EA6;\n",
              "    }\n",
              "\n",
              "    .colab-df-buttons div {\n",
              "      margin-bottom: 4px;\n",
              "    }\n",
              "\n",
              "    [theme=dark] .colab-df-convert {\n",
              "      background-color: #3B4455;\n",
              "      fill: #D2E3FC;\n",
              "    }\n",
              "\n",
              "    [theme=dark] .colab-df-convert:hover {\n",
              "      background-color: #434B5C;\n",
              "      box-shadow: 0px 1px 3px 1px rgba(0, 0, 0, 0.15);\n",
              "      filter: drop-shadow(0px 1px 2px rgba(0, 0, 0, 0.3));\n",
              "      fill: #FFFFFF;\n",
              "    }\n",
              "  </style>\n",
              "\n",
              "    <script>\n",
              "      const buttonEl =\n",
              "        document.querySelector('#df-e84b5d2f-fda9-425e-8c2b-8c1bab71f19c button.colab-df-convert');\n",
              "      buttonEl.style.display =\n",
              "        google.colab.kernel.accessAllowed ? 'block' : 'none';\n",
              "\n",
              "      async function convertToInteractive(key) {\n",
              "        const element = document.querySelector('#df-e84b5d2f-fda9-425e-8c2b-8c1bab71f19c');\n",
              "        const dataTable =\n",
              "          await google.colab.kernel.invokeFunction('convertToInteractive',\n",
              "                                                    [key], {});\n",
              "        if (!dataTable) return;\n",
              "\n",
              "        const docLinkHtml = 'Like what you see? Visit the ' +\n",
              "          '<a target=\"_blank\" href=https://colab.research.google.com/notebooks/data_table.ipynb>data table notebook</a>'\n",
              "          + ' to learn more about interactive tables.';\n",
              "        element.innerHTML = '';\n",
              "        dataTable['output_type'] = 'display_data';\n",
              "        await google.colab.output.renderOutput(dataTable, element);\n",
              "        const docLink = document.createElement('div');\n",
              "        docLink.innerHTML = docLinkHtml;\n",
              "        element.appendChild(docLink);\n",
              "      }\n",
              "    </script>\n",
              "  </div>\n",
              "\n",
              "\n",
              "    <div id=\"df-58db0499-ba51-455d-9af6-2dc7e621e495\">\n",
              "      <button class=\"colab-df-quickchart\" onclick=\"quickchart('df-58db0499-ba51-455d-9af6-2dc7e621e495')\"\n",
              "                title=\"Suggest charts\"\n",
              "                style=\"display:none;\">\n",
              "\n",
              "<svg xmlns=\"http://www.w3.org/2000/svg\" height=\"24px\"viewBox=\"0 0 24 24\"\n",
              "     width=\"24px\">\n",
              "    <g>\n",
              "        <path d=\"M19 3H5c-1.1 0-2 .9-2 2v14c0 1.1.9 2 2 2h14c1.1 0 2-.9 2-2V5c0-1.1-.9-2-2-2zM9 17H7v-7h2v7zm4 0h-2V7h2v10zm4 0h-2v-4h2v4z\"/>\n",
              "    </g>\n",
              "</svg>\n",
              "      </button>\n",
              "\n",
              "<style>\n",
              "  .colab-df-quickchart {\n",
              "      --bg-color: #E8F0FE;\n",
              "      --fill-color: #1967D2;\n",
              "      --hover-bg-color: #E2EBFA;\n",
              "      --hover-fill-color: #174EA6;\n",
              "      --disabled-fill-color: #AAA;\n",
              "      --disabled-bg-color: #DDD;\n",
              "  }\n",
              "\n",
              "  [theme=dark] .colab-df-quickchart {\n",
              "      --bg-color: #3B4455;\n",
              "      --fill-color: #D2E3FC;\n",
              "      --hover-bg-color: #434B5C;\n",
              "      --hover-fill-color: #FFFFFF;\n",
              "      --disabled-bg-color: #3B4455;\n",
              "      --disabled-fill-color: #666;\n",
              "  }\n",
              "\n",
              "  .colab-df-quickchart {\n",
              "    background-color: var(--bg-color);\n",
              "    border: none;\n",
              "    border-radius: 50%;\n",
              "    cursor: pointer;\n",
              "    display: none;\n",
              "    fill: var(--fill-color);\n",
              "    height: 32px;\n",
              "    padding: 0;\n",
              "    width: 32px;\n",
              "  }\n",
              "\n",
              "  .colab-df-quickchart:hover {\n",
              "    background-color: var(--hover-bg-color);\n",
              "    box-shadow: 0 1px 2px rgba(60, 64, 67, 0.3), 0 1px 3px 1px rgba(60, 64, 67, 0.15);\n",
              "    fill: var(--button-hover-fill-color);\n",
              "  }\n",
              "\n",
              "  .colab-df-quickchart-complete:disabled,\n",
              "  .colab-df-quickchart-complete:disabled:hover {\n",
              "    background-color: var(--disabled-bg-color);\n",
              "    fill: var(--disabled-fill-color);\n",
              "    box-shadow: none;\n",
              "  }\n",
              "\n",
              "  .colab-df-spinner {\n",
              "    border: 2px solid var(--fill-color);\n",
              "    border-color: transparent;\n",
              "    border-bottom-color: var(--fill-color);\n",
              "    animation:\n",
              "      spin 1s steps(1) infinite;\n",
              "  }\n",
              "\n",
              "  @keyframes spin {\n",
              "    0% {\n",
              "      border-color: transparent;\n",
              "      border-bottom-color: var(--fill-color);\n",
              "      border-left-color: var(--fill-color);\n",
              "    }\n",
              "    20% {\n",
              "      border-color: transparent;\n",
              "      border-left-color: var(--fill-color);\n",
              "      border-top-color: var(--fill-color);\n",
              "    }\n",
              "    30% {\n",
              "      border-color: transparent;\n",
              "      border-left-color: var(--fill-color);\n",
              "      border-top-color: var(--fill-color);\n",
              "      border-right-color: var(--fill-color);\n",
              "    }\n",
              "    40% {\n",
              "      border-color: transparent;\n",
              "      border-right-color: var(--fill-color);\n",
              "      border-top-color: var(--fill-color);\n",
              "    }\n",
              "    60% {\n",
              "      border-color: transparent;\n",
              "      border-right-color: var(--fill-color);\n",
              "    }\n",
              "    80% {\n",
              "      border-color: transparent;\n",
              "      border-right-color: var(--fill-color);\n",
              "      border-bottom-color: var(--fill-color);\n",
              "    }\n",
              "    90% {\n",
              "      border-color: transparent;\n",
              "      border-bottom-color: var(--fill-color);\n",
              "    }\n",
              "  }\n",
              "</style>\n",
              "\n",
              "      <script>\n",
              "        async function quickchart(key) {\n",
              "          const quickchartButtonEl =\n",
              "            document.querySelector('#' + key + ' button');\n",
              "          quickchartButtonEl.disabled = true;  // To prevent multiple clicks.\n",
              "          quickchartButtonEl.classList.add('colab-df-spinner');\n",
              "          try {\n",
              "            const charts = await google.colab.kernel.invokeFunction(\n",
              "                'suggestCharts', [key], {});\n",
              "          } catch (error) {\n",
              "            console.error('Error during call to suggestCharts:', error);\n",
              "          }\n",
              "          quickchartButtonEl.classList.remove('colab-df-spinner');\n",
              "          quickchartButtonEl.classList.add('colab-df-quickchart-complete');\n",
              "        }\n",
              "        (() => {\n",
              "          let quickchartButtonEl =\n",
              "            document.querySelector('#df-58db0499-ba51-455d-9af6-2dc7e621e495 button');\n",
              "          quickchartButtonEl.style.display =\n",
              "            google.colab.kernel.accessAllowed ? 'block' : 'none';\n",
              "        })();\n",
              "      </script>\n",
              "    </div>\n",
              "\n",
              "    </div>\n",
              "  </div>\n"
            ],
            "application/vnd.google.colaboratory.intrinsic+json": {
              "type": "dataframe"
            }
          },
          "metadata": {}
        },
        {
          "output_type": "display_data",
          "data": {
            "text/plain": [
              "        team  conf  GP  Min_per   Ortg   usg   eFG  TS_per  ORB_per  DRB_per  \\\n",
              "0   UC Davis    BW   8      2.2   51.7  13.4  30.0   30.00      0.0     14.3   \n",
              "1   Campbell  BSth  25     16.4   85.0  25.2  50.0   52.10      2.0     11.8   \n",
              "2  Weber St.  BSky  29     50.5  117.8  16.8  61.8   59.77     12.3     17.1   \n",
              "\n",
              "   ...      ogbpm     dgbpm    oreb    dreb    treb     ast     stl     blk  \\\n",
              "0  ... -11.240100 -4.721030  0.1000  0.6000  0.7000  0.2000  0.1000  0.0000   \n",
              "1  ...  -2.972020 -1.741870  0.1481  0.9259  1.0741  0.1481  0.4074  0.1111   \n",
              "2  ...   0.739055 -0.259202  2.1562  2.7500  4.9062  0.7188  0.4062  1.0625   \n",
              "\n",
              "      pts                             player_id  \n",
              "0  1.5000  c6d3ce49-28b6-4756-8061-b2bd68730c52  \n",
              "1  4.0741  24dd0ae2-9d22-4d31-9cb6-c31f58f903b5  \n",
              "2  6.7500  0cf3e822-9446-4285-b7ed-7c19d8e976fe  \n",
              "\n",
              "[3 rows x 61 columns]"
            ],
            "text/html": [
              "\n",
              "  <div id=\"df-49764d53-a184-44e8-ae14-a5dd86eb5625\" class=\"colab-df-container\">\n",
              "    <div>\n",
              "<style scoped>\n",
              "    .dataframe tbody tr th:only-of-type {\n",
              "        vertical-align: middle;\n",
              "    }\n",
              "\n",
              "    .dataframe tbody tr th {\n",
              "        vertical-align: top;\n",
              "    }\n",
              "\n",
              "    .dataframe thead th {\n",
              "        text-align: right;\n",
              "    }\n",
              "</style>\n",
              "<table border=\"1\" class=\"dataframe\">\n",
              "  <thead>\n",
              "    <tr style=\"text-align: right;\">\n",
              "      <th></th>\n",
              "      <th>team</th>\n",
              "      <th>conf</th>\n",
              "      <th>GP</th>\n",
              "      <th>Min_per</th>\n",
              "      <th>Ortg</th>\n",
              "      <th>usg</th>\n",
              "      <th>eFG</th>\n",
              "      <th>TS_per</th>\n",
              "      <th>ORB_per</th>\n",
              "      <th>DRB_per</th>\n",
              "      <th>...</th>\n",
              "      <th>ogbpm</th>\n",
              "      <th>dgbpm</th>\n",
              "      <th>oreb</th>\n",
              "      <th>dreb</th>\n",
              "      <th>treb</th>\n",
              "      <th>ast</th>\n",
              "      <th>stl</th>\n",
              "      <th>blk</th>\n",
              "      <th>pts</th>\n",
              "      <th>player_id</th>\n",
              "    </tr>\n",
              "  </thead>\n",
              "  <tbody>\n",
              "    <tr>\n",
              "      <th>0</th>\n",
              "      <td>UC Davis</td>\n",
              "      <td>BW</td>\n",
              "      <td>8</td>\n",
              "      <td>2.2</td>\n",
              "      <td>51.7</td>\n",
              "      <td>13.4</td>\n",
              "      <td>30.0</td>\n",
              "      <td>30.00</td>\n",
              "      <td>0.0</td>\n",
              "      <td>14.3</td>\n",
              "      <td>...</td>\n",
              "      <td>-11.240100</td>\n",
              "      <td>-4.721030</td>\n",
              "      <td>0.1000</td>\n",
              "      <td>0.6000</td>\n",
              "      <td>0.7000</td>\n",
              "      <td>0.2000</td>\n",
              "      <td>0.1000</td>\n",
              "      <td>0.0000</td>\n",
              "      <td>1.5000</td>\n",
              "      <td>c6d3ce49-28b6-4756-8061-b2bd68730c52</td>\n",
              "    </tr>\n",
              "    <tr>\n",
              "      <th>1</th>\n",
              "      <td>Campbell</td>\n",
              "      <td>BSth</td>\n",
              "      <td>25</td>\n",
              "      <td>16.4</td>\n",
              "      <td>85.0</td>\n",
              "      <td>25.2</td>\n",
              "      <td>50.0</td>\n",
              "      <td>52.10</td>\n",
              "      <td>2.0</td>\n",
              "      <td>11.8</td>\n",
              "      <td>...</td>\n",
              "      <td>-2.972020</td>\n",
              "      <td>-1.741870</td>\n",
              "      <td>0.1481</td>\n",
              "      <td>0.9259</td>\n",
              "      <td>1.0741</td>\n",
              "      <td>0.1481</td>\n",
              "      <td>0.4074</td>\n",
              "      <td>0.1111</td>\n",
              "      <td>4.0741</td>\n",
              "      <td>24dd0ae2-9d22-4d31-9cb6-c31f58f903b5</td>\n",
              "    </tr>\n",
              "    <tr>\n",
              "      <th>2</th>\n",
              "      <td>Weber St.</td>\n",
              "      <td>BSky</td>\n",
              "      <td>29</td>\n",
              "      <td>50.5</td>\n",
              "      <td>117.8</td>\n",
              "      <td>16.8</td>\n",
              "      <td>61.8</td>\n",
              "      <td>59.77</td>\n",
              "      <td>12.3</td>\n",
              "      <td>17.1</td>\n",
              "      <td>...</td>\n",
              "      <td>0.739055</td>\n",
              "      <td>-0.259202</td>\n",
              "      <td>2.1562</td>\n",
              "      <td>2.7500</td>\n",
              "      <td>4.9062</td>\n",
              "      <td>0.7188</td>\n",
              "      <td>0.4062</td>\n",
              "      <td>1.0625</td>\n",
              "      <td>6.7500</td>\n",
              "      <td>0cf3e822-9446-4285-b7ed-7c19d8e976fe</td>\n",
              "    </tr>\n",
              "  </tbody>\n",
              "</table>\n",
              "<p>3 rows × 61 columns</p>\n",
              "</div>\n",
              "    <div class=\"colab-df-buttons\">\n",
              "\n",
              "  <div class=\"colab-df-container\">\n",
              "    <button class=\"colab-df-convert\" onclick=\"convertToInteractive('df-49764d53-a184-44e8-ae14-a5dd86eb5625')\"\n",
              "            title=\"Convert this dataframe to an interactive table.\"\n",
              "            style=\"display:none;\">\n",
              "\n",
              "  <svg xmlns=\"http://www.w3.org/2000/svg\" height=\"24px\" viewBox=\"0 -960 960 960\">\n",
              "    <path d=\"M120-120v-720h720v720H120Zm60-500h600v-160H180v160Zm220 220h160v-160H400v160Zm0 220h160v-160H400v160ZM180-400h160v-160H180v160Zm440 0h160v-160H620v160ZM180-180h160v-160H180v160Zm440 0h160v-160H620v160Z\"/>\n",
              "  </svg>\n",
              "    </button>\n",
              "\n",
              "  <style>\n",
              "    .colab-df-container {\n",
              "      display:flex;\n",
              "      gap: 12px;\n",
              "    }\n",
              "\n",
              "    .colab-df-convert {\n",
              "      background-color: #E8F0FE;\n",
              "      border: none;\n",
              "      border-radius: 50%;\n",
              "      cursor: pointer;\n",
              "      display: none;\n",
              "      fill: #1967D2;\n",
              "      height: 32px;\n",
              "      padding: 0 0 0 0;\n",
              "      width: 32px;\n",
              "    }\n",
              "\n",
              "    .colab-df-convert:hover {\n",
              "      background-color: #E2EBFA;\n",
              "      box-shadow: 0px 1px 2px rgba(60, 64, 67, 0.3), 0px 1px 3px 1px rgba(60, 64, 67, 0.15);\n",
              "      fill: #174EA6;\n",
              "    }\n",
              "\n",
              "    .colab-df-buttons div {\n",
              "      margin-bottom: 4px;\n",
              "    }\n",
              "\n",
              "    [theme=dark] .colab-df-convert {\n",
              "      background-color: #3B4455;\n",
              "      fill: #D2E3FC;\n",
              "    }\n",
              "\n",
              "    [theme=dark] .colab-df-convert:hover {\n",
              "      background-color: #434B5C;\n",
              "      box-shadow: 0px 1px 3px 1px rgba(0, 0, 0, 0.15);\n",
              "      filter: drop-shadow(0px 1px 2px rgba(0, 0, 0, 0.3));\n",
              "      fill: #FFFFFF;\n",
              "    }\n",
              "  </style>\n",
              "\n",
              "    <script>\n",
              "      const buttonEl =\n",
              "        document.querySelector('#df-49764d53-a184-44e8-ae14-a5dd86eb5625 button.colab-df-convert');\n",
              "      buttonEl.style.display =\n",
              "        google.colab.kernel.accessAllowed ? 'block' : 'none';\n",
              "\n",
              "      async function convertToInteractive(key) {\n",
              "        const element = document.querySelector('#df-49764d53-a184-44e8-ae14-a5dd86eb5625');\n",
              "        const dataTable =\n",
              "          await google.colab.kernel.invokeFunction('convertToInteractive',\n",
              "                                                    [key], {});\n",
              "        if (!dataTable) return;\n",
              "\n",
              "        const docLinkHtml = 'Like what you see? Visit the ' +\n",
              "          '<a target=\"_blank\" href=https://colab.research.google.com/notebooks/data_table.ipynb>data table notebook</a>'\n",
              "          + ' to learn more about interactive tables.';\n",
              "        element.innerHTML = '';\n",
              "        dataTable['output_type'] = 'display_data';\n",
              "        await google.colab.output.renderOutput(dataTable, element);\n",
              "        const docLink = document.createElement('div');\n",
              "        docLink.innerHTML = docLinkHtml;\n",
              "        element.appendChild(docLink);\n",
              "      }\n",
              "    </script>\n",
              "  </div>\n",
              "\n",
              "\n",
              "    <div id=\"df-76392927-c41f-4e0b-be87-2bcdfe60fe72\">\n",
              "      <button class=\"colab-df-quickchart\" onclick=\"quickchart('df-76392927-c41f-4e0b-be87-2bcdfe60fe72')\"\n",
              "                title=\"Suggest charts\"\n",
              "                style=\"display:none;\">\n",
              "\n",
              "<svg xmlns=\"http://www.w3.org/2000/svg\" height=\"24px\"viewBox=\"0 0 24 24\"\n",
              "     width=\"24px\">\n",
              "    <g>\n",
              "        <path d=\"M19 3H5c-1.1 0-2 .9-2 2v14c0 1.1.9 2 2 2h14c1.1 0 2-.9 2-2V5c0-1.1-.9-2-2-2zM9 17H7v-7h2v7zm4 0h-2V7h2v10zm4 0h-2v-4h2v4z\"/>\n",
              "    </g>\n",
              "</svg>\n",
              "      </button>\n",
              "\n",
              "<style>\n",
              "  .colab-df-quickchart {\n",
              "      --bg-color: #E8F0FE;\n",
              "      --fill-color: #1967D2;\n",
              "      --hover-bg-color: #E2EBFA;\n",
              "      --hover-fill-color: #174EA6;\n",
              "      --disabled-fill-color: #AAA;\n",
              "      --disabled-bg-color: #DDD;\n",
              "  }\n",
              "\n",
              "  [theme=dark] .colab-df-quickchart {\n",
              "      --bg-color: #3B4455;\n",
              "      --fill-color: #D2E3FC;\n",
              "      --hover-bg-color: #434B5C;\n",
              "      --hover-fill-color: #FFFFFF;\n",
              "      --disabled-bg-color: #3B4455;\n",
              "      --disabled-fill-color: #666;\n",
              "  }\n",
              "\n",
              "  .colab-df-quickchart {\n",
              "    background-color: var(--bg-color);\n",
              "    border: none;\n",
              "    border-radius: 50%;\n",
              "    cursor: pointer;\n",
              "    display: none;\n",
              "    fill: var(--fill-color);\n",
              "    height: 32px;\n",
              "    padding: 0;\n",
              "    width: 32px;\n",
              "  }\n",
              "\n",
              "  .colab-df-quickchart:hover {\n",
              "    background-color: var(--hover-bg-color);\n",
              "    box-shadow: 0 1px 2px rgba(60, 64, 67, 0.3), 0 1px 3px 1px rgba(60, 64, 67, 0.15);\n",
              "    fill: var(--button-hover-fill-color);\n",
              "  }\n",
              "\n",
              "  .colab-df-quickchart-complete:disabled,\n",
              "  .colab-df-quickchart-complete:disabled:hover {\n",
              "    background-color: var(--disabled-bg-color);\n",
              "    fill: var(--disabled-fill-color);\n",
              "    box-shadow: none;\n",
              "  }\n",
              "\n",
              "  .colab-df-spinner {\n",
              "    border: 2px solid var(--fill-color);\n",
              "    border-color: transparent;\n",
              "    border-bottom-color: var(--fill-color);\n",
              "    animation:\n",
              "      spin 1s steps(1) infinite;\n",
              "  }\n",
              "\n",
              "  @keyframes spin {\n",
              "    0% {\n",
              "      border-color: transparent;\n",
              "      border-bottom-color: var(--fill-color);\n",
              "      border-left-color: var(--fill-color);\n",
              "    }\n",
              "    20% {\n",
              "      border-color: transparent;\n",
              "      border-left-color: var(--fill-color);\n",
              "      border-top-color: var(--fill-color);\n",
              "    }\n",
              "    30% {\n",
              "      border-color: transparent;\n",
              "      border-left-color: var(--fill-color);\n",
              "      border-top-color: var(--fill-color);\n",
              "      border-right-color: var(--fill-color);\n",
              "    }\n",
              "    40% {\n",
              "      border-color: transparent;\n",
              "      border-right-color: var(--fill-color);\n",
              "      border-top-color: var(--fill-color);\n",
              "    }\n",
              "    60% {\n",
              "      border-color: transparent;\n",
              "      border-right-color: var(--fill-color);\n",
              "    }\n",
              "    80% {\n",
              "      border-color: transparent;\n",
              "      border-right-color: var(--fill-color);\n",
              "      border-bottom-color: var(--fill-color);\n",
              "    }\n",
              "    90% {\n",
              "      border-color: transparent;\n",
              "      border-bottom-color: var(--fill-color);\n",
              "    }\n",
              "  }\n",
              "</style>\n",
              "\n",
              "      <script>\n",
              "        async function quickchart(key) {\n",
              "          const quickchartButtonEl =\n",
              "            document.querySelector('#' + key + ' button');\n",
              "          quickchartButtonEl.disabled = true;  // To prevent multiple clicks.\n",
              "          quickchartButtonEl.classList.add('colab-df-spinner');\n",
              "          try {\n",
              "            const charts = await google.colab.kernel.invokeFunction(\n",
              "                'suggestCharts', [key], {});\n",
              "          } catch (error) {\n",
              "            console.error('Error during call to suggestCharts:', error);\n",
              "          }\n",
              "          quickchartButtonEl.classList.remove('colab-df-spinner');\n",
              "          quickchartButtonEl.classList.add('colab-df-quickchart-complete');\n",
              "        }\n",
              "        (() => {\n",
              "          let quickchartButtonEl =\n",
              "            document.querySelector('#df-76392927-c41f-4e0b-be87-2bcdfe60fe72 button');\n",
              "          quickchartButtonEl.style.display =\n",
              "            google.colab.kernel.accessAllowed ? 'block' : 'none';\n",
              "        })();\n",
              "      </script>\n",
              "    </div>\n",
              "\n",
              "    </div>\n",
              "  </div>\n"
            ],
            "application/vnd.google.colaboratory.intrinsic+json": {
              "type": "dataframe"
            }
          },
          "metadata": {}
        }
      ]
    },
    {
      "cell_type": "markdown",
      "source": [
        "### C.2 Define Target variable"
      ],
      "metadata": {
        "id": "tpG_mos_EXrY"
      }
    },
    {
      "cell_type": "code",
      "source": [
        "ID_COL = \"player_id\"\n",
        "TARGET_COL = \"drafted\"\n",
        "\n",
        "assert ID_COL in train.columns, f\"Missing {ID_COL} in train\"\n",
        "assert ID_COL in test.columns,  f\"Missing {ID_COL} in test\"\n",
        "assert TARGET_COL in train.columns, f\"Missing {TARGET_COL} in train\"\n",
        "\n",
        "print(\"Target dtype:\", train[TARGET_COL].dtype)\n",
        "print(\"Unique target values:\", sorted(train[TARGET_COL].dropna().unique().tolist()))\n",
        "print(\"Prevalence drafted=1:\", float(train[TARGET_COL].mean()))\n"
      ],
      "metadata": {
        "id": "gsQkuxYLVHb1",
        "colab": {
          "base_uri": "https://localhost:8080/"
        },
        "outputId": "9c244ebc-942d-490e-f393-3805d83caaf1"
      },
      "execution_count": null,
      "outputs": [
        {
          "output_type": "stream",
          "name": "stdout",
          "text": [
            "Target dtype: float64\n",
            "Unique target values: [0.0, 1.0]\n",
            "Prevalence drafted=1: 0.007987004196561526\n"
          ]
        }
      ]
    },
    {
      "cell_type": "code",
      "source": [
        "target_definition_explanations = (\n",
        "    \"`drafted` is the target: 1 = drafted this season, 0 = not drafted.\\n\"\n",
        "    \"We predict a probability (0–1) for each player_id and submit two columns: player_id, drafted (probability).\"\n",
        ")\n"
      ],
      "metadata": {
        "id": "RiqBkEQ-EjIZ"
      },
      "execution_count": null,
      "outputs": []
    },
    {
      "cell_type": "code",
      "source": [
        "# Do not modify this code\n",
        "print_tile(size=\"h3\", key='target_definition_explanations', value=target_definition_explanations)"
      ],
      "metadata": {
        "id": "qdeiAKiIElvG",
        "colab": {
          "base_uri": "https://localhost:8080/",
          "height": 101
        },
        "outputId": "02c502c2-77d3-4f6d-fe0e-085a6ed344a8"
      },
      "execution_count": null,
      "outputs": [
        {
          "output_type": "display_data",
          "data": {
            "text/plain": [
              "<IPython.core.display.HTML object>"
            ],
            "text/html": [
              "<p style=\"color:grey\">target_definition_explanations</p><h3 font-size: 3em>`drafted` is the target: 1 = drafted this season, 0 = not drafted.\n",
              "We predict a probability (0–1) for each player_id and submit two columns: player_id, drafted (probability).</h3>"
            ]
          },
          "metadata": {}
        }
      ]
    },
    {
      "cell_type": "markdown",
      "source": [
        "### C.3 Create Target variable"
      ],
      "metadata": {
        "id": "CtIfwnLmEn51"
      }
    },
    {
      "cell_type": "code",
      "source": [
        "\n",
        "ID_COL, TARGET_COL = \"player_id\", \"drafted\"\n",
        "\n",
        "# checks\n",
        "assert ID_COL in train.columns,  f\"Missing {ID_COL} in train\"\n",
        "assert TARGET_COL in train.columns, f\"Missing {TARGET_COL} in train\"\n",
        "\n",
        "# clean target to 0/1 ints (handles strings/NaNs safely)\n",
        "train[TARGET_COL] = (\n",
        "    pd.to_numeric(train[TARGET_COL], errors=\"coerce\")\n",
        "      .fillna(0).clip(0, 1).astype(int)\n",
        ")\n",
        "\n",
        "# quick stats\n",
        "pos = int(train[TARGET_COL].sum()); neg = len(train) - pos\n",
        "rate = pos / len(train)\n",
        "\n",
        "print(\"=\"*60)\n",
        "print(\"ANSWER — Create Target (NB2)\")\n",
        "print(f\"positives={pos} | negatives={neg} | drafted_rate={rate:.3f}\")\n",
        "print(\"=\"*60)\n"
      ],
      "metadata": {
        "id": "XV8dRa59EpLG",
        "colab": {
          "base_uri": "https://localhost:8080/"
        },
        "outputId": "cd12510d-fb34-483b-9da8-16f9e44ebf87"
      },
      "execution_count": null,
      "outputs": [
        {
          "output_type": "stream",
          "name": "stdout",
          "text": [
            "============================================================\n",
            "ANSWER — Create Target (NB2)\n",
            "positives=118 | negatives=14656 | drafted_rate=0.008\n",
            "============================================================\n"
          ]
        }
      ]
    },
    {
      "cell_type": "markdown",
      "source": [
        "### C.4 Explore Target variable"
      ],
      "metadata": {
        "id": "dmSKLrSBFAN5"
      }
    },
    {
      "cell_type": "code",
      "source": [
        "\n",
        "TARGET_COL = \"drafted\"\n",
        "vc = train[TARGET_COL].value_counts().sort_index()\n",
        "rate = float(train[TARGET_COL].mean())\n",
        "\n",
        "print(\"=\"*60)\n",
        "print(\"ANSWER — C.4 Target distribution\")\n",
        "print(vc.to_string())\n",
        "print(f\"drafted_rate: {rate:.3f}\")\n",
        "print(\"=\"*60)\n",
        "\n",
        "# (optional) quick bar plot\n",
        "try:\n",
        "    import matplotlib.pyplot as plt\n",
        "    vc.plot(kind=\"bar\"); plt.title(\"Target distribution\"); plt.xlabel(TARGET_COL); plt.ylabel(\"count\"); plt.show()\n",
        "except Exception as e:\n",
        "    print(\"Plot skipped:\", e)\n",
        "\n",
        "# 2-line explanation\n",
        "target_distribution_explanations = (\n",
        "    \"The target is imbalanced; we’ll use stratified splits and AUROC to judge ranking quality.\\n\"\n",
        "    \"RF handles skew via class_weight='balanced_subsample' to reduce bias toward the majority class.\"\n",
        ")\n",
        "try:\n",
        "    print_title(size=\"h3\", key=\"target_distribution_explanations\", value=target_distribution_explanations)\n",
        "except NameError:\n",
        "    from IPython.display import Markdown, display\n",
        "    display(Markdown(\"### target_distribution_explanations\\n\" + target_distribution_explanations))\n"
      ],
      "metadata": {
        "id": "zeldOL0KFC4E",
        "colab": {
          "base_uri": "https://localhost:8080/",
          "height": 678
        },
        "outputId": "30ab834d-28e6-42d6-b653-96f60723913b"
      },
      "execution_count": null,
      "outputs": [
        {
          "output_type": "stream",
          "name": "stdout",
          "text": [
            "============================================================\n",
            "ANSWER — C.4 Target distribution\n",
            "drafted\n",
            "0    14656\n",
            "1      118\n",
            "drafted_rate: 0.008\n",
            "============================================================\n"
          ]
        },
        {
          "output_type": "display_data",
          "data": {
            "text/plain": [
              "<Figure size 640x480 with 1 Axes>"
            ],
            "image/png": "[encoded data removed]"
          },
          "metadata": {}
        },
        {
          "output_type": "display_data",
          "data": {
            "text/plain": [
              "<IPython.core.display.Markdown object>"
            ],
            "text/markdown": "### target_distribution_explanations\nThe target is imbalanced; we’ll use stratified splits and AUROC to judge ranking quality.\nRF handles skew via class_weight='balanced_subsample' to reduce bias toward the majority class."
          },
          "metadata": {}
        }
      ]
    },
    {
      "cell_type": "code",
      "source": [
        "# <Student to fill this section>\n",
        "target_distribution_explanations = \"\"\"\n",
        " The target is imbalanced; we’ll use stratified splits and AUROC to judge ranking quality.\\n\n",
        "    RF handles skew via class_weight='balanced_subsample' to reduce bias toward the majority class.\n",
        "\"\"\""
      ],
      "metadata": {
        "id": "5I9ccv-UEr5o"
      },
      "execution_count": null,
      "outputs": []
    },
    {
      "cell_type": "code",
      "source": [
        "# Do not modify this code\n",
        "print_tile(size=\"h3\", key='target_distribution_explanations', value=target_distribution_explanations)"
      ],
      "metadata": {
        "id": "i45S7xA9EtEV",
        "colab": {
          "base_uri": "https://localhost:8080/",
          "height": 101
        },
        "outputId": "fcc14c08-7820-47c5-dc05-cd80171b310d"
      },
      "execution_count": null,
      "outputs": [
        {
          "output_type": "display_data",
          "data": {
            "text/plain": [
              "<IPython.core.display.HTML object>"
            ],
            "text/html": [
              "<p style=\"color:grey\">target_distribution_explanations</p><h3 font-size: 3em>\n",
              " The target is imbalanced; we’ll use stratified splits and AUROC to judge ranking quality.\n",
              "\n",
              "    RF handles skew via class_weight='balanced_subsample' to reduce bias toward the majority class.\n",
              "</h3>"
            ]
          },
          "metadata": {}
        }
      ]
    },
    {
      "cell_type": "markdown",
      "source": [
        "### C.5 Explore Feature of Interest `\\<put feature name here\\>`"
      ],
      "metadata": {
        "id": "37ubEa7SFWXo"
      }
    },
    {
      "cell_type": "code",
      "source": [
        "\n",
        "ID_COL, TARGET_COL = \"player_id\", \"drafted\"\n",
        "feature_name = None   # <-- e.g. \"PTS\" or \"position\"; leave None to auto-pick\n",
        "\n",
        "# pick a feature if not provided\n",
        "candidates = [c for c in train.columns if c not in [ID_COL, TARGET_COL]]\n",
        "if feature_name is None or feature_name not in train.columns:\n",
        "    # prefer a numeric; otherwise first categorical\n",
        "    nums = [c for c in candidates if pd.api.types.is_numeric_dtype(train[c])]\n",
        "    feature_name = (nums[0] if nums else candidates[0])\n",
        "\n",
        "s = train[feature_name]\n",
        "missing = s.isna().mean()\n",
        "nuniq = s.nunique(dropna=True)\n",
        "\n",
        "print(\"=\"*60)\n",
        "print(f\"ANSWER — C.5 Feature: {feature_name}\")\n",
        "print(f\"dtype={s.dtype} | unique={nuniq} | missing={missing:.2%}\")\n",
        "\n",
        "if pd.api.types.is_numeric_dtype(s):\n",
        "    desc = s.describe(percentiles=[.05,.50,.95]).to_string()\n",
        "    # correlation with target (drop NaNs)\n",
        "    corr = train[[feature_name, TARGET_COL]].dropna().corr().iloc[0,1]\n",
        "    print(\"--- summary ---\")\n",
        "    print(desc)\n",
        "    print(f\"corr({feature_name}, {TARGET_COL}) = {corr:.3f}\")\n",
        "else:\n",
        "    print(\"--- top categories ---\")\n",
        "    print(s.value_counts(dropna=False).head(10).to_string())\n",
        "    if TARGET_COL in train.columns:\n",
        "        rate = train.groupby(feature_name, dropna=False)[TARGET_COL].mean().sort_values(ascending=False).head(10)\n",
        "        print(\"--- drafted rate by category (top 10) ---\")\n",
        "        print(rate.to_string())\n",
        "print(\"=\"*60)"
      ],
      "metadata": {
        "id": "wV9Ldx0gFWks",
        "colab": {
          "base_uri": "https://localhost:8080/"
        },
        "outputId": "41379b3d-5cfc-44d3-a7dc-29f4abdd005c"
      },
      "execution_count": null,
      "outputs": [
        {
          "output_type": "stream",
          "name": "stdout",
          "text": [
            "============================================================\n",
            "ANSWER — C.5 Feature: GP\n",
            "dtype=int64 | unique=41 | missing=0.00%\n",
            "--- summary ---\n",
            "count    14774.000000\n",
            "mean        21.251726\n",
            "std         10.517642\n",
            "min          1.000000\n",
            "5%           3.000000\n",
            "50%         25.000000\n",
            "95%         34.000000\n",
            "max         41.000000\n",
            "corr(GP, drafted) = 0.109\n",
            "============================================================\n"
          ]
        }
      ]
    },
    {
      "cell_type": "code",
      "source": [
        "# <Student to fill this section>\n",
        "feature_1_insights = \"\"\"\n",
        "We inspect distribution, missingness, and relationship with `drafted` to judge signal and leakage risk.\\n\n",
        "    Findings guide encoding (scale/one-hot), imputation, and whether to keep or drop the feature.\n",
        "\"\"\""
      ],
      "metadata": {
        "id": "y4YLcn_eEyAe"
      },
      "execution_count": null,
      "outputs": []
    },
    {
      "cell_type": "code",
      "source": [
        "# Do not modify this code\n",
        "print_tile(size=\"h3\", key='feature_1_insights', value=feature_1_insights)"
      ],
      "metadata": {
        "id": "2r1knRxDEyC0",
        "colab": {
          "base_uri": "https://localhost:8080/",
          "height": 101
        },
        "outputId": "28a4421a-03f7-4f33-deeb-9be6617367c3"
      },
      "execution_count": null,
      "outputs": [
        {
          "output_type": "display_data",
          "data": {
            "text/plain": [
              "<IPython.core.display.HTML object>"
            ],
            "text/html": [
              "<p style=\"color:grey\">feature_1_insights</p><h3 font-size: 3em>\n",
              "We inspect distribution, missingness, and relationship with `drafted` to judge signal and leakage risk.\n",
              "\n",
              "    Findings guide encoding (scale/one-hot), imputation, and whether to keep or drop the feature.\n",
              "</h3>"
            ]
          },
          "metadata": {}
        }
      ]
    },
    {
      "cell_type": "markdown",
      "source": [
        "### C.6 Explore Feature of Interest `\\<put feature name here\\>`"
      ],
      "metadata": {
        "id": "WOqd56IjE0LB"
      }
    },
    {
      "cell_type": "code",
      "source": [
        "\n",
        "ID_COL, TARGET_COL = globals().get(\"ID_COL\", \"player_id\"), globals().get(\"TARGET_COL\", \"drafted\")\n",
        "\n",
        "# 👉 Set a specific column name here (or leave None to auto-pick a different one from C.5)\n",
        "feature_name2 = None\n",
        "\n",
        "# Build candidate list (avoid ID/target and avoid the feature used in C.5 if present)\n",
        "candidates = [c for c in train.columns if c not in [ID_COL, TARGET_COL]]\n",
        "if \"feature_name\" in globals() and isinstance(feature_name, str) and feature_name in candidates:\n",
        "    candidates = [c for c in candidates if c != feature_name]\n",
        "\n",
        "# Auto-pick: prefer numeric, else first available\n",
        "if not candidates:\n",
        "    raise ValueError(\"No candidate features found to explore.\")\n",
        "nums = [c for c in candidates if pd.api.types.is_numeric_dtype(train[c])]\n",
        "feature_name2 = feature_name2 if (feature_name2 in train.columns) else (nums[0] if nums else candidates[0])\n",
        "\n",
        "s = train[feature_name2]\n",
        "missing = s.isna().mean()\n",
        "nuniq = s.nunique(dropna=True)\n",
        "\n",
        "print(\"=\"*60)\n",
        "print(f\"ANSWER — C.6 Feature: {feature_name2}\")\n",
        "print(f\"dtype={s.dtype} | unique={nuniq} | missing={missing:.2%}\")\n",
        "\n",
        "if pd.api.types.is_numeric_dtype(s):\n",
        "    desc = s.describe(percentiles=[.05, .50, .95]).to_string()\n",
        "    corr = train[[feature_name2, TARGET_COL]].dropna().corr().iloc[0, 1]\n",
        "    print(\"--- summary ---\")\n",
        "    print(desc)\n",
        "    print(f\"corr({feature_name2}, {TARGET_COL}) = {corr:.3f}\")\n",
        "else:\n",
        "    print(\"--- top categories ---\")\n",
        "    print(s.value_counts(dropna=False).head(10).to_string())\n",
        "    if TARGET_COL in train.columns:\n",
        "        rate = train.groupby(feature_name2, dropna=False)[TARGET_COL].mean().sort_values(ascending=False).head(10)\n",
        "        print(\"--- drafted rate by category (top 10) ---\")\n",
        "        print(rate.to_string())\n",
        "print(\"=\"*60)"
      ],
      "metadata": {
        "id": "akQFJsI3E2eM",
        "colab": {
          "base_uri": "https://localhost:8080/"
        },
        "outputId": "68fe3bb9-162e-42ca-f1f0-58e6eb95703b"
      },
      "execution_count": null,
      "outputs": [
        {
          "output_type": "stream",
          "name": "stdout",
          "text": [
            "============================================================\n",
            "ANSWER — C.6 Feature: Min_per\n",
            "dtype=float64 | unique=887 | missing=0.00%\n",
            "--- summary ---\n",
            "count    14774.000000\n",
            "mean        25.870123\n",
            "std         23.639878\n",
            "min          0.000000\n",
            "5%           0.300000\n",
            "50%         19.600000\n",
            "95%         72.000000\n",
            "max         94.300000\n",
            "corr(Min_per, drafted) = 0.153\n",
            "============================================================\n"
          ]
        }
      ]
    },
    {
      "cell_type": "code",
      "source": [
        "# <Student to fill this section>\n",
        "feature_2_insights =  \"\"\"\n",
        "We repeat the check on another feature: distribution, missingness, and link to `drafted` to judge signal.\n",
        "This helps decide encoding (one-hot/scale), imputation, and whether to keep or drop the feature.\n",
        "\"\"\""
      ],
      "metadata": {
        "id": "u-CfAsO1E2hB"
      },
      "execution_count": null,
      "outputs": []
    },
    {
      "cell_type": "code",
      "source": [
        "# Do not modify this code\n",
        "print_tile(size=\"h3\", key='feature_2_insights', value=feature_2_insights)"
      ],
      "metadata": {
        "id": "bB87lgCAE2jf",
        "colab": {
          "base_uri": "https://localhost:8080/",
          "height": 101
        },
        "outputId": "f8b864af-2f83-4eb8-9b2a-7403201f1db4"
      },
      "execution_count": null,
      "outputs": [
        {
          "output_type": "display_data",
          "data": {
            "text/plain": [
              "<IPython.core.display.HTML object>"
            ],
            "text/html": [
              "<p style=\"color:grey\">feature_2_insights</p><h3 font-size: 3em>\n",
              "We repeat the check on another feature: distribution, missingness, and link to `drafted` to judge signal.\n",
              "This helps decide encoding (one-hot/scale), imputation, and whether to keep or drop the feature.\n",
              "</h3>"
            ]
          },
          "metadata": {}
        }
      ]
    },
    {
      "cell_type": "markdown",
      "source": [
        "### C.n Explore Feature of Interest `\\<put feature name here\\>`\n",
        "\n",
        "> You can add more cells related to other feeatures in this section"
      ],
      "metadata": {
        "id": "ZcjaUGQ_VbVQ"
      }
    },
    {
      "cell_type": "code",
      "source": [
        "# C.n — Explore Feature of Interest (NB2)\n",
        "import pandas as pd\n",
        "\n",
        "ID_COL, TARGET_COL = globals().get(\"ID_COL\",\"player_id\"), globals().get(\"TARGET_COL\",\"drafted\")\n",
        "\n",
        "# 👉 Set a specific column name here (or leave None to auto-pick a new one)\n",
        "feature_name_n = None\n",
        "\n",
        "# Avoid ID/target and any features explored earlier (feature_name, feature_name2)\n",
        "used = {ID_COL, TARGET_COL}\n",
        "for n in [\"feature_name\", \"feature_name2\", \"feature_1\", \"feature_2\", \"feature_n\"]:\n",
        "    if n in globals() and isinstance(globals()[n], str):\n",
        "        used.add(globals()[n])\n",
        "\n",
        "candidates = [c for c in train.columns if c not in used]\n",
        "if not candidates:\n",
        "    raise ValueError(\"No new candidate features left to explore.\")\n",
        "\n",
        "# Prefer numeric, else first available\n",
        "nums = [c for c in candidates if pd.api.types.is_numeric_dtype(train[c])]\n",
        "feature_name_n = feature_name_n if (feature_name_n in train.columns) else (nums[0] if nums else candidates[0])\n",
        "\n",
        "s = train[feature_name_n]\n",
        "missing = s.isna().mean()\n",
        "nuniq = s.nunique(dropna=True)\n",
        "\n",
        "print(\"=\"*60)\n",
        "print(f\"ANSWER — C.n Feature: {feature_name_n}\")\n",
        "print(f\"dtype={s.dtype} | unique={nuniq} | missing={missing:.2%}\")\n",
        "\n",
        "if pd.api.types.is_numeric_dtype(s):\n",
        "    desc = s.describe(percentiles=[.05,.50,.95]).to_string()\n",
        "    corr = train[[feature_name_n, TARGET_COL]].dropna().corr().iloc[0,1]\n",
        "    print(\"--- summary ---\")\n",
        "    print(desc)\n",
        "    print(f\"corr({feature_name_n}, {TARGET_COL}) = {corr:.3f}\")\n",
        "else:\n",
        "    print(\"--- top categories ---\")\n",
        "    print(s.value_counts(dropna=False).head(10).to_string())\n",
        "    if TARGET_COL in train.columns:\n",
        "        rate = train.groupby(feature_name_n, dropna=False)[TARGET_COL].mean().sort_values(ascending=False).head(10)\n",
        "        print(\"--- drafted rate by category (top 10) ---\")\n",
        "        print(rate.to_string())\n",
        "print(\"=\"*60)\n"
      ],
      "metadata": {
        "id": "Z_DwQMvDVbfA",
        "colab": {
          "base_uri": "https://localhost:8080/"
        },
        "outputId": "d3eac218-7374-4616-841c-4da984490633"
      },
      "execution_count": null,
      "outputs": [
        {
          "output_type": "stream",
          "name": "stdout",
          "text": [
            "============================================================\n",
            "ANSWER — C.n Feature: Ortg\n",
            "dtype=float64 | unique=1332 | missing=0.00%\n",
            "--- summary ---\n",
            "count    14774.000000\n",
            "mean        85.771707\n",
            "std         34.164203\n",
            "min          0.000000\n",
            "5%           0.000000\n",
            "50%         91.300000\n",
            "95%        120.800000\n",
            "max        407.300000\n",
            "corr(Ortg, drafted) = 0.065\n",
            "============================================================\n"
          ]
        }
      ]
    },
    {
      "cell_type": "code",
      "source": [
        "feature_n_insight_explanations = \"\"\"\n",
        "We inspect another (new) feature’s distribution, missingness, and its link to `drafted` to gauge signal.\n",
        "This helps decide encoding/imputation and whether to keep, bucket, or drop the feature.\n",
        "\"\"\""
      ],
      "metadata": {
        "id": "Cg6t9Tqg3mZ-"
      },
      "execution_count": null,
      "outputs": []
    },
    {
      "cell_type": "code",
      "source": [
        "# Do not modify this code\n",
        "print_tile(size=\"h3\", key='feature_2_insights', value=feature_n_insight_explanations )"
      ],
      "metadata": {
        "colab": {
          "base_uri": "https://localhost:8080/",
          "height": 101
        },
        "id": "bvQOwrbu3rRb",
        "outputId": "42d03641-c965-47fc-80ab-62b297830eb0"
      },
      "execution_count": null,
      "outputs": [
        {
          "output_type": "display_data",
          "data": {
            "text/plain": [
              "<IPython.core.display.HTML object>"
            ],
            "text/html": [
              "<p style=\"color:grey\">feature_2_insights</p><h3 font-size: 3em>\n",
              "We inspect another (new) feature’s distribution, missingness, and its link to `drafted` to gauge signal.\n",
              "This helps decide encoding/imputation and whether to keep, bucket, or drop the feature.\n",
              "</h3>"
            ]
          },
          "metadata": {}
        }
      ]
    },
    {
      "cell_type": "markdown",
      "metadata": {
        "id": "_NCwQQFkU3v5"
      },
      "source": [
        "---\n",
        "## D. Feature Selection\n"
      ]
    },
    {
      "cell_type": "markdown",
      "source": [
        "### D.1 Approach \"\\<describe_approach_here\\>\"\n"
      ],
      "metadata": {
        "id": "0b8C9WON3Toe"
      }
    },
    {
      "cell_type": "code",
      "source": [
        "import sklearn\n",
        "from sklearn.ensemble import RandomForestClassifier\n",
        "print(\"scikit-learn version:\", sklearn.__version__)"
      ],
      "metadata": {
        "id": "J2_6it8iViBX",
        "colab": {
          "base_uri": "https://localhost:8080/"
        },
        "outputId": "99994518-4049-4f29-b85d-4266cd08b1db"
      },
      "execution_count": null,
      "outputs": [
        {
          "output_type": "stream",
          "name": "stdout",
          "text": [
            "scikit-learn version: 1.5.2\n"
          ]
        }
      ]
    },
    {
      "cell_type": "code",
      "source": [
        "print(\"len(train) =\", len(train))\n",
        "for n in [\"y\",\"y_train\",\"y_valid\",\"y_tr\",\"y_va\"]:\n",
        "    if n in globals():\n",
        "        try: print(n, len(globals()[n]))\n",
        "        except: pass\n",
        "for n in [\"X_tr\",\"X_train\",\"X_full\",\"X_train_d1\"]:\n",
        "    if n in globals():\n",
        "        try: print(n, globals()[n].shape)\n",
        "        except: pass\n"
      ],
      "metadata": {
        "colab": {
          "base_uri": "https://localhost:8080/"
        },
        "id": "WLBLdbKo5UYQ",
        "outputId": "22f8dc90-d9af-4178-f39f-fd2cc3f489b9"
      },
      "execution_count": null,
      "outputs": [
        {
          "output_type": "stream",
          "name": "stdout",
          "text": [
            "len(train) = 14774\n",
            "y 2955\n",
            "y_train 11819\n",
            "X_tr (14774, 491)\n",
            "X_train (11819, 109)\n",
            "X_train_d1 (14774, 60)\n"
          ]
        }
      ]
    },
    {
      "cell_type": "code",
      "source": [
        "\n",
        "import pandas as pd, numpy as np\n",
        "from sklearn.ensemble import RandomForestClassifier\n",
        "\n",
        "ID_COL     = globals().get(\"ID_COL\",\"player_id\")\n",
        "TARGET_COL = globals().get(\"TARGET_COL\",\"drafted\")\n",
        "\n",
        "# Base frames (drop train-only cols like cv_fold)\n",
        "TRAIN_ONLY = [\"cv_fold\",\"fold\",\"kfold\"]\n",
        "Xb_tr_raw = train.drop(columns=[c for c in [TARGET_COL, ID_COL] + TRAIN_ONLY if c in train.columns], errors=\"ignore\")\n",
        "Xb_te_raw = test.drop(columns=[ID_COL], errors=\"ignore\")\n",
        "\n",
        "# keep only columns present in BOTH\n",
        "common_cols = sorted(set(Xb_tr_raw.columns) & set(Xb_te_raw.columns))\n",
        "Xb_tr = Xb_tr_raw[common_cols].copy()\n",
        "Xb_te = Xb_te_raw[common_cols].copy()\n",
        "\n",
        "# one-hot together → split back\n",
        "X_all = pd.get_dummies(pd.concat([Xb_tr, Xb_te], axis=0, ignore_index=True), dummy_na=True)\n",
        "X_tr  = X_all.iloc[:len(train)].replace([np.inf,-np.inf], np.nan).fillna(0)\n",
        "X_te  = X_all.iloc[len(train):].replace([np.inf,-np.inf], np.nan).fillna(0)\n",
        "\n",
        "# FULL y aligned to X_tr\n",
        "y_all = train[TARGET_COL].astype(int).reset_index(drop=True)\n",
        "\n",
        "assert len(X_tr) == len(y_all), f\"Mismatch after reset: X_tr={len(X_tr)} vs y_all={len(y_all)}\"\n",
        "\n",
        "# Example: RF importances on FULL data\n",
        "rf = RandomForestClassifier(n_estimators=400, min_samples_leaf=2,\n",
        "                            class_weight=\"balanced_subsample\", n_jobs=-1, random_state=42)\n",
        "rf.fit(X_tr, y_all)\n",
        "\n",
        "imp = pd.Series(rf.feature_importances_, index=X_tr.columns).sort_values(ascending=False)\n",
        "TOP_K = min(40, X_tr.shape[1])\n",
        "selected_features_d1 = imp.head(TOP_K).index.tolist()\n",
        "\n",
        "X_train_d1 = X_tr[selected_features_d1]\n",
        "X_test_d1  = X_te[selected_features_d1]\n",
        "\n",
        "print(\"OK → D.1 ready. Shapes:\", X_train_d1.shape, X_test_d1.shape)"
      ],
      "metadata": {
        "id": "zfC-DLKv4AuM",
        "colab": {
          "base_uri": "https://localhost:8080/"
        },
        "outputId": "d479736d-1361-41a0-8365-0d68ed536064"
      },
      "execution_count": null,
      "outputs": [
        {
          "output_type": "stream",
          "name": "stdout",
          "text": [
            "OK → D.1 ready. Shapes: (14774, 40) (1297, 40)\n"
          ]
        }
      ]
    },
    {
      "cell_type": "code",
      "source": [
        "\n",
        "import pandas as pd, numpy as np\n",
        "from sklearn.ensemble import RandomForestClassifier\n",
        "\n",
        "ID_COL     = globals().get(\"ID_COL\", \"player_id\")\n",
        "TARGET_COL = globals().get(\"TARGET_COL\", \"drafted\")\n",
        "\n",
        "# Build aligned numeric matrix (drop target/ID and train-only cols like cv_fold)\n",
        "TRAIN_ONLY = [\"cv_fold\", \"fold\", \"kfold\"]\n",
        "Xb_tr_raw = train.drop(columns=[c for c in [TARGET_COL, ID_COL] + TRAIN_ONLY if c in train.columns], errors=\"ignore\")\n",
        "Xb_te_raw = test.drop(columns=[ID_COL], errors=\"ignore\")\n",
        "common_cols = sorted(set(Xb_tr_raw.columns) & set(Xb_te_raw.columns))\n",
        "X_all = pd.get_dummies(pd.concat([Xb_tr_raw[common_cols], Xb_te_raw[common_cols]], axis=0, ignore_index=True), dummy_na=True)\n",
        "\n",
        "X_tr = X_all.iloc[:len(train)].replace([np.inf, -np.inf], np.nan).fillna(0)\n",
        "X_te = X_all.iloc[len(train):].replace([np.inf, -np.inf], np.nan).fillna(0)\n",
        "y_all = train[TARGET_COL].astype(int).reset_index(drop=True)\n",
        "\n",
        "rf = RandomForestClassifier(\n",
        "    n_estimators=400, min_samples_leaf=2, max_features=\"sqrt\",\n",
        "    class_weight=\"balanced_subsample\", n_jobs=-1, random_state=42\n",
        ").fit(X_tr, y_all)\n",
        "\n",
        "imp = pd.Series(rf.feature_importances_, index=X_tr.columns).sort_values(ascending=False)\n",
        "TOP_K = min(60, X_tr.shape[1])\n",
        "selected_features_d1 = imp.head(TOP_K).index.tolist()\n",
        "\n",
        "X_train_d1 = X_tr[selected_features_d1].copy()\n",
        "X_test_d1  = X_te[selected_features_d1].copy()\n",
        "\n",
        "print(\"=\"*60)\n",
        "print(\"ANSWER — D.1 RF top features:\", selected_features_d1[:10], \"...\" if len(selected_features_d1)>10 else \"\")\n",
        "print(\"Shapes → X_train_d1:\", X_train_d1.shape, \"| X_test_d1:\", X_test_d1.shape)\n",
        "print(\"=\"*60)"
      ],
      "metadata": {
        "colab": {
          "base_uri": "https://localhost:8080/"
        },
        "id": "hbzH6j2a6FwX",
        "outputId": "0f810820-e131-4a40-c98f-c0f4a3886b0c"
      },
      "execution_count": null,
      "outputs": [
        {
          "output_type": "stream",
          "name": "stdout",
          "text": [
            "============================================================\n",
            "ANSWER — D.1 RF top features: ['Rec_Rank', 'dporpag', 'bpm', 'gbpm', 'porpag', 'dreb', 'twoPA', 'adjoe', 'pts', 'rimmade'] ...\n",
            "Shapes → X_train_d1: (14774, 60) | X_test_d1: (1297, 60)\n",
            "============================================================\n"
          ]
        }
      ]
    },
    {
      "cell_type": "code",
      "source": [
        "# <Student to fill this section>\n",
        "feature_selection_1_insights = \"\"\"\n",
        "Use RandomForest importances to keep the strongest K features.\n",
        "This captures non-linear signal and removes noise for faster training.\n",
        "\"\"\""
      ],
      "metadata": {
        "id": "Z9myLlFZFQXj"
      },
      "execution_count": null,
      "outputs": []
    },
    {
      "cell_type": "code",
      "source": [
        "# Do not modify this code\n",
        "print_tile(size=\"h3\", key='feature_selection_1_insights', value=feature_selection_1_insights)"
      ],
      "metadata": {
        "id": "937YFeqDFQgB",
        "colab": {
          "base_uri": "https://localhost:8080/",
          "height": 81
        },
        "outputId": "810641bb-79e6-4a2d-a999-2a98946aeb5b"
      },
      "execution_count": null,
      "outputs": [
        {
          "output_type": "display_data",
          "data": {
            "text/plain": [
              "<IPython.core.display.HTML object>"
            ],
            "text/html": [
              "<p style=\"color:grey\">feature_selection_1_insights</p><h3 font-size: 3em>\n",
              "Use RandomForest importances to keep the strongest K features.\n",
              "This captures non-linear signal and removes noise for faster training.\n",
              "</h3>"
            ]
          },
          "metadata": {}
        }
      ]
    },
    {
      "cell_type": "markdown",
      "source": [
        "### D.2 Approach \"\\<describe_approach_here\\>\"\n"
      ],
      "metadata": {
        "id": "jqRcgUqu3ZuV"
      }
    },
    {
      "cell_type": "code",
      "source": [
        "\n",
        "import pandas as pd, numpy as np\n",
        "from sklearn.feature_selection import mutual_info_classif\n",
        "\n",
        "# Reuse matrices from D.1 if present; otherwise build them\n",
        "if \"X_tr\" not in globals() or \"X_te\" not in globals():\n",
        "    ID_COL     = globals().get(\"ID_COL\", \"player_id\")\n",
        "    TARGET_COL = globals().get(\"TARGET_COL\", \"drafted\")\n",
        "    TRAIN_ONLY = [\"cv_fold\", \"fold\", \"kfold\"]\n",
        "    Xb_tr_raw = train.drop(columns=[c for c in [TARGET_COL, ID_COL] + TRAIN_ONLY if c in train.columns], errors=\"ignore\")\n",
        "    Xb_te_raw = test.drop(columns=[ID_COL], errors=\"ignore\")\n",
        "    common_cols = sorted(set(Xb_tr_raw.columns) & set(Xb_te_raw.columns))\n",
        "    X_all = pd.get_dummies(pd.concat([Xb_tr_raw[common_cols], Xb_te_raw[common_cols]], axis=0, ignore_index=True), dummy_na=True)\n",
        "    X_tr = X_all.iloc[:len(train)].replace([np.inf,-np.inf], np.nan).fillna(0)\n",
        "    X_te = X_all.iloc[len(train):].replace([np.inf,-np.inf], np.nan).fillna(0)\n",
        "\n",
        "y_all = train[TARGET_COL].astype(int).reset_index(drop=True)\n",
        "\n",
        "# Low-cardinality columns treated as discrete for MI\n",
        "disc = [(X_tr[c].nunique() < 20) for c in X_tr.columns]\n",
        "mi = mutual_info_classif(X_tr, y_all, discrete_features=disc, random_state=42)\n",
        "mi_s = pd.Series(mi, index=X_tr.columns).sort_values(ascending=False)\n",
        "\n",
        "TOP_K = min(60, X_tr.shape[1])\n",
        "selected_features_d2 = mi_s.head(TOP_K).index.tolist()\n",
        "\n",
        "X_train_d2 = X_tr[selected_features_d2].copy()\n",
        "X_test_d2  = X_te[selected_features_d2].copy()\n",
        "\n",
        "print(\"=\"*60)\n",
        "print(\"ANSWER — D.2 MI top features:\", selected_features_d2[:10], \"...\" if len(selected_features_d2)>10 else \"\")\n",
        "print(\"Shapes → X_train_d2:\", X_train_d2.shape, \"| X_test_d2:\", X_test_d2.shape)\n",
        "print(\"=\"*60)"
      ],
      "metadata": {
        "id": "dAPSiwcg3aJC",
        "colab": {
          "base_uri": "https://localhost:8080/"
        },
        "outputId": "960cd619-77b4-421e-8a4e-1daedc96522f"
      },
      "execution_count": null,
      "outputs": [
        {
          "output_type": "stream",
          "name": "stdout",
          "text": [
            "============================================================\n",
            "ANSWER — D.2 MI top features: ['Rec_Rank', 'dporpag', 'stops', 'porpag', 'twoPM', 'bpm', 'FTA', 'twoPA', 'gbpm', 'dreb'] ...\n",
            "Shapes → X_train_d2: (14774, 60) | X_test_d2: (1297, 60)\n",
            "============================================================\n"
          ]
        }
      ]
    },
    {
      "cell_type": "code",
      "source": [
        "# <Student to fill this section>\n",
        "feature_selection_2_insights = \"\"\"\n",
        "Mutual Information ranks dependency with `drafted` without assuming linearity.\n",
        "We keep the top-K to compare against model-based selection.\n",
        "\"\"\""
      ],
      "metadata": {
        "id": "CpQQodTW3a9v"
      },
      "execution_count": null,
      "outputs": []
    },
    {
      "cell_type": "code",
      "source": [
        "# Do not modify this code\n",
        "print_tile(size=\"h3\", key='feature_selection_2_insights', value=feature_selection_2_insights)"
      ],
      "metadata": {
        "id": "HjN2qhDb3a0G",
        "colab": {
          "base_uri": "https://localhost:8080/",
          "height": 81
        },
        "outputId": "2024e3ba-1064-4746-ef86-944529c13cf7"
      },
      "execution_count": null,
      "outputs": [
        {
          "output_type": "display_data",
          "data": {
            "text/plain": [
              "<IPython.core.display.HTML object>"
            ],
            "text/html": [
              "<p style=\"color:grey\">feature_selection_2_insights</p><h3 font-size: 3em>\n",
              "Mutual Information ranks dependency with `drafted` without assuming linearity.\n",
              "We keep the top-K to compare against model-based selection.\n",
              "</h3>"
            ]
          },
          "metadata": {}
        }
      ]
    },
    {
      "cell_type": "markdown",
      "source": [
        "## D.z Final Selection of Features"
      ],
      "metadata": {
        "id": "gS5-tS8_3ryn"
      }
    },
    {
      "cell_type": "code",
      "source": [
        "# D.n — FAST: prefilter with ANOVA F, then L1-Logistic (liblinear)\n",
        "import numpy as np, pandas as pd\n",
        "from sklearn.feature_selection import f_classif\n",
        "from sklearn.linear_model import LogisticRegression\n",
        "\n",
        "ID_COL     = globals().get(\"ID_COL\", \"player_id\")\n",
        "TARGET_COL = globals().get(\"TARGET_COL\", \"drafted\")\n",
        "\n",
        "# Reuse aligned matrices if available; else build quickly (train-only cols removed)\n",
        "if \"X_tr\" not in globals() or \"X_te\" not in globals():\n",
        "    TRAIN_ONLY = [\"cv_fold\",\"fold\",\"kfold\"]\n",
        "    Xb_tr_raw = train.drop(columns=[c for c in [TARGET_COL, ID_COL] + TRAIN_ONLY if c in train.columns], errors=\"ignore\")\n",
        "    Xb_te_raw = test.drop(columns=[ID_COL], errors=\"ignore\")\n",
        "    common = sorted(set(Xb_tr_raw.columns) & set(Xb_te_raw.columns))\n",
        "    X_all = pd.get_dummies(pd.concat([Xb_tr_raw[common], Xb_te_raw[common]], axis=0, ignore_index=True), dummy_na=True)\n",
        "    X_tr = X_all.iloc[:len(train)].replace([np.inf,-np.inf], np.nan).fillna(0)\n",
        "    X_te = X_all.iloc[len(train):].replace([np.inf,-np.inf], np.nan).fillna(0)\n",
        "\n",
        "y_all = train[TARGET_COL].astype(int).reset_index(drop=True)\n",
        "\n",
        "# 1) FAST PREFILTER — keep top K0 by ANOVA F-score (very fast)\n",
        "K0 = min(300, X_tr.shape[1])           # reduce to ≤300 cols first\n",
        "F, _ = f_classif(X_tr, y_all)          # handles dense arrays quickly\n",
        "order0 = np.argsort(-np.nan_to_num(F, nan=0.0))\n",
        "cols_pref = X_tr.columns[order0[:K0]]\n",
        "X_pf_tr = X_tr[cols_pref]\n",
        "X_pf_te = X_te[cols_pref]\n",
        "\n",
        "# 2) L1-LOGISTIC (small, quick)\n",
        "lr_l1 = LogisticRegression(\n",
        "    penalty=\"l1\", solver=\"liblinear\", C=0.5,\n",
        "    class_weight=\"balanced\", max_iter=300, tol=1e-3, random_state=42\n",
        ")\n",
        "lr_l1.fit(X_pf_tr, y_all)\n",
        "\n",
        "coef = lr_l1.coef_.ravel()\n",
        "abs_coef = np.abs(coef)\n",
        "nonzero = np.where(abs_coef > 1e-8)[0]\n",
        "\n",
        "TOP_K = min(60, len(cols_pref))        # final compact set\n",
        "keep_idx = (nonzero if len(nonzero) else np.argsort(-abs_coef)[:TOP_K])\n",
        "order = keep_idx[np.argsort(-abs_coef[keep_idx])] [:TOP_K]\n",
        "\n",
        "selected_features_dn = cols_pref[order].tolist()\n",
        "X_train_dn = X_pf_tr[selected_features_dn].copy()\n",
        "X_test_dn  = X_pf_te[selected_features_dn].copy()\n",
        "\n",
        "print(\"=\"*60)\n",
        "print(\"ANSWER — D.n FAST (L1-Logistic) selected:\", len(selected_features_dn))\n",
        "print(\"First 12:\", selected_features_dn[:12], \"...\" if len(selected_features_dn)>12 else \"\")\n",
        "print(\"Shapes →\", X_train_dn.shape, X_test_dn.shape)\n",
        "print(\"=\"*60)"
      ],
      "metadata": {
        "id": "zYY4u2063ioF",
        "colab": {
          "base_uri": "https://localhost:8080/"
        },
        "outputId": "534ed6da-f139-4be6-faf6-46cc26369e7b"
      },
      "execution_count": null,
      "outputs": [
        {
          "output_type": "stream",
          "name": "stdout",
          "text": [
            "============================================================\n",
            "ANSWER — D.n FAST (L1-Logistic) selected: 60\n",
            "First 12: ['team_Marshall', 'team_Dayton', 'dporpag', 'team_Kentucky', 'ht_10-Jun', 'ast', 'team_Louisville', 'dunks_ratio', 'ht_11-Jun', 'conf_B10', 'team_Oklahoma', 'team_UCLA'] ...\n",
            "Shapes → (14774, 60) (1297, 60)\n",
            "============================================================\n"
          ]
        }
      ]
    },
    {
      "cell_type": "code",
      "source": [
        "# <Student to fill this section>\n",
        "feature_selection_explanations =  \"\"\"\n",
        "prefilter to top-K0 by ANOVA F, then L1-Logistic (liblinear) to keep a compact non-zero set.\n",
        "This slashes runtime while still giving sparse, high-signal features for modeling.\n",
        "\"\"\""
      ],
      "metadata": {
        "id": "-pxVH1r63vqu"
      },
      "execution_count": null,
      "outputs": []
    },
    {
      "cell_type": "code",
      "source": [
        "# Do not modify this code\n",
        "print_tile(size=\"h3\", key='feature_selection_explanations', value=feature_selection_explanations)"
      ],
      "metadata": {
        "id": "rHluIUmR3iO3",
        "colab": {
          "base_uri": "https://localhost:8080/",
          "height": 101
        },
        "outputId": "714d44fc-78c2-480a-c074-02b26e780494"
      },
      "execution_count": null,
      "outputs": [
        {
          "output_type": "display_data",
          "data": {
            "text/plain": [
              "<IPython.core.display.HTML object>"
            ],
            "text/html": [
              "<p style=\"color:grey\">feature_selection_explanations</p><h3 font-size: 3em>\n",
              "prefilter to top-K0 by ANOVA F, then L1-Logistic (liblinear) to keep a compact non-zero set.\n",
              "This slashes runtime while still giving sparse, high-signal features for modeling.\n",
              "</h3>"
            ]
          },
          "metadata": {}
        }
      ]
    },
    {
      "cell_type": "markdown",
      "source": [
        "---\n",
        "## E. Data Preparation"
      ],
      "metadata": {
        "id": "j-nNSpJK0Rgu"
      }
    },
    {
      "cell_type": "markdown",
      "source": [
        "### E.1 Data Transformation <put_name_here>"
      ],
      "metadata": {
        "id": "EDtRq1990rcW"
      }
    },
    {
      "cell_type": "code",
      "source": [
        "# E.1 — Build aligned feature matrices (one-hot + median impute) — short & robust\n",
        "import pandas as pd, numpy as np\n",
        "\n",
        "# Show the files we loaded (if your earlier vars exist)\n",
        "try:\n",
        "    print(\"Using:\", train_path.name, \"|\", test_path.name)\n",
        "except:\n",
        "    pass\n",
        "\n",
        "# Detect columns (defaults for this assignment)\n",
        "ID_COL = \"player_id\" if \"player_id\" in train.columns else next((c for c in [\"id\",\"ID\"] if c in train.columns), None)\n",
        "TARGET_COL = \"drafted\"  if \"drafted\"  in train.columns else next((c for c in [\"target\",\"label\"] if c in train.columns), None)\n",
        "\n",
        "# Drop non-features and keep only columns present in BOTH train & test\n",
        "TRAIN_ONLY = [c for c in [\"cv_fold\",\"fold\",\"kfold\"] if c in train.columns]\n",
        "drop_cols = [c for c in [TARGET_COL, ID_COL] + TRAIN_ONLY if c is not None]\n",
        "Xb_tr_raw = train.drop(columns=drop_cols, errors=\"ignore\")\n",
        "Xb_te_raw = test.drop(columns=[c for c in [ID_COL] if c is not None], errors=\"ignore\")\n",
        "common_cols = sorted(set(Xb_tr_raw.columns) & set(Xb_te_raw.columns))\n",
        "\n",
        "# One-hot encode together → split back; fix inf/NaN with train medians\n",
        "X_all = pd.get_dummies(pd.concat([Xb_tr_raw[common_cols], Xb_te_raw[common_cols]], axis=0, ignore_index=True),\n",
        "                       dummy_na=True)\n",
        "X_e1_tr = X_all.iloc[:len(train)].replace([np.inf,-np.inf], np.nan)\n",
        "X_e1_te = X_all.iloc[len(train):].replace([np.inf,-np.inf], np.nan)\n",
        "med = X_e1_tr.median(numeric_only=True)\n",
        "X_e1_tr = X_e1_tr.fillna(med)\n",
        "X_e1_te = X_e1_te.fillna(med)\n",
        "\n",
        "# Optional: expose generic names so later cells “just work”\n",
        "X_tr, X_te = X_e1_tr, X_e1_te\n",
        "X_train_model, X_test_model = X_e1_tr.copy(), X_e1_te.copy()\n",
        "features_list = list(X_train_model.columns)\n",
        "\n",
        "print(\"=\"*60)\n",
        "print(\"ANSWER — E.1 ready\")\n",
        "print(\"Train/Test shapes:\", X_train_model.shape, \"|\", X_test_model.shape)\n",
        "print(\"First 8 features:\", features_list[:8])\n",
        "print(\"=\"*60)\n",
        "\n",
        "# 2-line explanation\n",
        "e1_explain = (\n",
        "    \"We aligned train/test columns, one-hot encoded together, and filled missing values with train medians.\\n\"\n",
        "    \"Trees don’t need scaling, so this clean matrix is ready for splitting and modeling.\"\n",
        ")\n",
        "print(e1_explain)\n"
      ],
      "metadata": {
        "id": "OO5ITMDZ035_",
        "colab": {
          "base_uri": "https://localhost:8080/"
        },
        "outputId": "475911da-3aca-4b79-88ff-43841356ccf4"
      },
      "execution_count": null,
      "outputs": [
        {
          "output_type": "stream",
          "name": "stdout",
          "text": [
            "Using: train.csv | test.csv\n",
            "============================================================\n",
            "ANSWER — E.1 ready\n",
            "Train/Test shapes: (14774, 488) | (1297, 488)\n",
            "First 8 features: ['AST_per', 'DRB_per', 'FTA', 'FTM', 'FT_per', 'GP', 'Min_per', 'ORB_per']\n",
            "============================================================\n",
            "We aligned train/test columns, one-hot encoded together, and filled missing values with train medians.\n",
            "Trees don’t need scaling, so this clean matrix is ready for splitting and modeling.\n"
          ]
        }
      ]
    },
    {
      "cell_type": "code",
      "source": [
        "# <Student to fill this section>\n",
        "data_cleaning_1_explanations = \"\"\"\n",
        "Use the selected D.* feature set and fill missing values with train medians.\\n\n",
        "    RF doesn’t need scaling; simple imputation is enough.\n",
        "\"\"\""
      ],
      "metadata": {
        "id": "eQGXvLtkFU9L"
      },
      "execution_count": null,
      "outputs": []
    },
    {
      "cell_type": "code",
      "source": [
        "# Do not modify this code\n",
        "print_tile(size=\"h3\", key='data_cleaning_1_explanations', value=data_cleaning_1_explanations)"
      ],
      "metadata": {
        "id": "MPuYme1uFU_4",
        "colab": {
          "base_uri": "https://localhost:8080/",
          "height": 81
        },
        "outputId": "b42badb8-99a1-43fb-9a65-839559950934"
      },
      "execution_count": null,
      "outputs": [
        {
          "output_type": "display_data",
          "data": {
            "text/plain": [
              "<IPython.core.display.HTML object>"
            ],
            "text/html": [
              "<p style=\"color:grey\">data_cleaning_1_explanations</p><h3 font-size: 3em>\n",
              "Use the selected D.* feature set and fill missing values with train medians.\n",
              "\n",
              "    RF doesn’t need scaling; simple imputation is enough.\n",
              "</h3>"
            ]
          },
          "metadata": {}
        }
      ]
    },
    {
      "cell_type": "markdown",
      "source": [
        "### E.2 Data Transformation <put_name_here>"
      ],
      "metadata": {
        "id": "SxhDoAkw08Eb"
      }
    },
    {
      "cell_type": "code",
      "source": [
        "\n",
        "import numpy as np\n",
        "\n",
        "# Columns to clip = numeric only (exclude booleans)\n",
        "num_cols  = X_e1_tr.select_dtypes(include=[np.number]).columns\n",
        "bool_cols = X_e1_tr.select_dtypes(include=[\"bool\"]).columns\n",
        "num_cols  = num_cols.difference(bool_cols)\n",
        "\n",
        "# Train-only percentiles\n",
        "q_low  = X_e1_tr[num_cols].quantile(0.01)   # p1 on TRAIN\n",
        "q_high = X_e1_tr[num_cols].quantile(0.99)   # p99 on TRAIN\n",
        "\n",
        "# Copy, then clip only numeric columns; apply TRAIN bounds to TEST (no leakage)\n",
        "X_e2_tr = X_e1_tr.copy()\n",
        "X_e2_te = X_e1_te.copy()\n",
        "X_e2_tr[num_cols] = X_e1_tr[num_cols].clip(lower=q_low,  upper=q_high, axis=1)\n",
        "X_e2_te[num_cols] = X_e1_te[num_cols].clip(lower=q_low,  upper=q_high, axis=1)\n",
        "\n",
        "print(f\"ANSWER – E.2: clipped 1–99% on {len(num_cols)} numeric column(s); \"\n",
        "      f\"left {len(bool_cols)} boolean column(s) unchanged.\")\n"
      ],
      "metadata": {
        "colab": {
          "base_uri": "https://localhost:8080/"
        },
        "id": "k9Ms7HklkUJY",
        "outputId": "2653cedb-ed55-4fc2-e196-0f9a138e482b"
      },
      "execution_count": null,
      "outputs": [
        {
          "output_type": "stream",
          "name": "stdout",
          "text": [
            "ANSWER – E.2: clipped 1–99% on 55 numeric column(s); left 433 boolean column(s) unchanged.\n"
          ]
        }
      ]
    },
    {
      "cell_type": "code",
      "source": [
        "# <Student to fill this section>\n",
        "data_cleaning_2_explanations = \"\"\"\n",
        "Why (Random Forest): Extreme numeric outliers can drive unstable / overly deep splits and add variance.\n",
        "What we did: Computed per-feature p1 and p99 on the TRAIN set (numeric, non-bool columns only),\n",
        "then clipped both TRAIN and TEST to those TRAIN-derived bounds.\n",
        "\"\"\""
      ],
      "metadata": {
        "id": "NoQ6IWoFFb1y"
      },
      "execution_count": null,
      "outputs": []
    },
    {
      "cell_type": "code",
      "source": [
        "# Do not modify this code\n",
        "print_tile(size=\"h3\", key='data_cleaning_2_explanations', value=data_cleaning_2_explanations)"
      ],
      "metadata": {
        "id": "n1NG6O-jFdOE",
        "colab": {
          "base_uri": "https://localhost:8080/",
          "height": 101
        },
        "outputId": "f2c3d5d6-c057-4a35-c70e-b4d4ec9abf4b"
      },
      "execution_count": null,
      "outputs": [
        {
          "output_type": "display_data",
          "data": {
            "text/plain": [
              "<IPython.core.display.HTML object>"
            ],
            "text/html": [
              "<p style=\"color:grey\">data_cleaning_2_explanations</p><h3 font-size: 3em>\n",
              "Why (Random Forest): Extreme numeric outliers can drive unstable / overly deep splits and add variance.\n",
              "What we did: Computed per-feature p1 and p99 on the TRAIN set (numeric, non-bool columns only),\n",
              "then clipped both TRAIN and TEST to those TRAIN-derived bounds.\n",
              "</h3>"
            ]
          },
          "metadata": {}
        }
      ]
    },
    {
      "cell_type": "markdown",
      "source": [
        "### E.3 Data Transformation <put_name_here>"
      ],
      "metadata": {
        "id": "ylQxO-4g03qH"
      }
    },
    {
      "cell_type": "code",
      "source": [
        "\n",
        "from sklearn.preprocessing import PowerTransformer\n",
        "\n",
        "# Transform only numeric (non-bool) columns\n",
        "num_cols  = X_e2_tr.select_dtypes(include=[np.number]).columns\n",
        "bool_cols = X_e2_tr.select_dtypes(include=[\"bool\"]).columns\n",
        "num_cols  = num_cols.difference(bool_cols)\n",
        "\n",
        "pt_e3 = PowerTransformer(method=\"yeo-johnson\", standardize=False)\n",
        "\n",
        "X_e3_tr = X_e2_tr.copy()\n",
        "X_e3_te = X_e2_te.copy()\n",
        "X_e3_tr[num_cols] = pt_e3.fit_transform(X_e2_tr[num_cols])   # fit on TRAIN\n",
        "X_e3_te[num_cols] = pt_e3.transform(X_e2_te[num_cols])       # transform TEST\n",
        "\n",
        "print(f\"ANSWER – E.3: Yeo-Johnson applied on {len(num_cols)} numeric column(s); \"\n",
        "      f\"left {len(bool_cols)} boolean column(s) unchanged.\")\n"
      ],
      "metadata": {
        "id": "5VymIZpS1Ch7",
        "colab": {
          "base_uri": "https://localhost:8080/"
        },
        "outputId": "a156e830-0d84-4ab8-f236-d75ff3578fe5"
      },
      "execution_count": null,
      "outputs": [
        {
          "output_type": "stream",
          "name": "stdout",
          "text": [
            "ANSWER – E.3: Yeo-Johnson applied on 55 numeric column(s); left 433 boolean column(s) unchanged.\n"
          ]
        }
      ]
    },
    {
      "cell_type": "code",
      "source": [
        "# <Student to fill this section>\n",
        "data_cleaning_3_explanations = \"\"\" A power transform (Yeo–Johnson) reduces skew and stabilises variance, which can make tree splits less\n",
        "sensitive to extreme ranges while preserving monotonicity of features.\n",
        "\"\"\""
      ],
      "metadata": {
        "id": "BHo46tqSFibl"
      },
      "execution_count": null,
      "outputs": []
    },
    {
      "cell_type": "code",
      "source": [
        "# Do not modify this code\n",
        "print_tile(size=\"h3\", key='data_cleaning_3_explanations', value=data_cleaning_3_explanations)"
      ],
      "metadata": {
        "id": "D1BIohZLFiiM",
        "colab": {
          "base_uri": "https://localhost:8080/",
          "height": 101
        },
        "outputId": "4f76e7b3-3b0e-4e9c-ce70-125b6ed3d9c5"
      },
      "execution_count": null,
      "outputs": [
        {
          "output_type": "display_data",
          "data": {
            "text/plain": [
              "<IPython.core.display.HTML object>"
            ],
            "text/html": [
              "<p style=\"color:grey\">data_cleaning_3_explanations</p><h3 font-size: 3em> A power transform (Yeo–Johnson) reduces skew and stabilises variance, which can make tree splits less\n",
              "sensitive to extreme ranges while preserving monotonicity of features.\n",
              "</h3>"
            ]
          },
          "metadata": {}
        }
      ]
    },
    {
      "cell_type": "markdown",
      "source": [
        "### E.n Fixing \"\\<describe_issue_here\\>\"\n",
        "\n",
        "> You can add more cells related to other issues in this section"
      ],
      "metadata": {
        "id": "w8pDuIcQVxgf"
      }
    },
    {
      "cell_type": "code",
      "source": [
        "X_tr = X_e3_tr   # final training features\n",
        "X_te = X_e3_te   # final test features\n",
        "\n",
        "print(\"ANSWER – E.n: X_tr/X_te set to E.3 outputs (clipping + Yeo–Johnson). Ready for RandomForest.\")"
      ],
      "metadata": {
        "id": "L7MGT74hVxm2",
        "colab": {
          "base_uri": "https://localhost:8080/"
        },
        "outputId": "45d078b0-7960-4b48-f7f8-1d027fa199ec"
      },
      "execution_count": null,
      "outputs": [
        {
          "output_type": "stream",
          "name": "stdout",
          "text": [
            "ANSWER – E.n: X_tr/X_te set to E.3 outputs (clipping + Yeo–Johnson). Ready for RandomForest.\n"
          ]
        }
      ]
    },
    {
      "cell_type": "markdown",
      "source": [
        "---\n",
        "## F. Feature Engineering"
      ],
      "metadata": {
        "id": "S80O7okb0RIx"
      }
    },
    {
      "cell_type": "markdown",
      "source": [
        "### F.1 New Feature \"\\<put_name_here\\>\"\n"
      ],
      "metadata": {
        "id": "Kst7h7wp1MFK"
      }
    },
    {
      "cell_type": "code",
      "source": [
        "import numpy as np\n",
        "\n",
        "# Inputs:  X_e3_tr, X_e3_te  (from E.3)\n",
        "# Outputs: X_f1_tr, X_f1_te  (adds one new feature: f_num_mean)\n",
        "\n",
        "num_cols  = X_e3_tr.select_dtypes(include=[np.number]).columns\n",
        "bool_cols = X_e3_tr.select_dtypes(include=[\"bool\"]).columns\n",
        "num_cols  = num_cols.difference(bool_cols)\n",
        "\n",
        "X_f1_tr = X_e3_tr.copy()\n",
        "X_f1_te = X_e3_te.copy()\n",
        "\n",
        "X_f1_tr[\"f_num_mean\"] = X_e3_tr[num_cols].mean(axis=1)\n",
        "X_f1_te[\"f_num_mean\"] = X_e3_te[num_cols].mean(axis=1)\n",
        "\n",
        "print(\"ANSWER – F.1: added feature f_num_mean (row-wise mean over \"\n",
        "      f\"{len(num_cols)} numeric column(s)); booleans left unchanged.\")\n"
      ],
      "metadata": {
        "id": "f_wsc2n-1Mdm",
        "colab": {
          "base_uri": "https://localhost:8080/"
        },
        "outputId": "223286b7-9311-43c8-8a06-370112e997f0"
      },
      "execution_count": null,
      "outputs": [
        {
          "output_type": "stream",
          "name": "stdout",
          "text": [
            "ANSWER – F.1: added feature f_num_mean (row-wise mean over 55 numeric column(s)); booleans left unchanged.\n"
          ]
        }
      ]
    },
    {
      "cell_type": "code",
      "source": [
        "# <Student to fill this section>\n",
        "feature_engineering_1_explanations = \"\"\"\n",
        " Gives trees a simple, global magnitude summary—useful to split “overall high activity” vs “low”.\n",
        "How: Average all numeric, non-boolean columns per row.\n",
        "\"\"\""
      ],
      "metadata": {
        "id": "hezUX-UgFpQf"
      },
      "execution_count": null,
      "outputs": []
    },
    {
      "cell_type": "code",
      "source": [
        "# Do not modify this code\n",
        "print_tile(size=\"h3\", key='feature_engineering_1_explanations', value=feature_engineering_1_explanations)"
      ],
      "metadata": {
        "id": "AKIFmqwVFpTA",
        "colab": {
          "base_uri": "https://localhost:8080/",
          "height": 81
        },
        "outputId": "c91f1e39-f626-4551-c65d-a6aa6cd51351"
      },
      "execution_count": null,
      "outputs": [
        {
          "output_type": "display_data",
          "data": {
            "text/plain": [
              "<IPython.core.display.HTML object>"
            ],
            "text/html": [
              "<p style=\"color:grey\">feature_engineering_1_explanations</p><h3 font-size: 3em>\n",
              " Gives trees a simple, global magnitude summary—useful to split “overall high activity” vs “low”.\n",
              "How: Average all numeric, non-boolean columns per row.\n",
              "</h3>"
            ]
          },
          "metadata": {}
        }
      ]
    },
    {
      "cell_type": "markdown",
      "source": [
        "### F.2 New Feature \"\\<put_name_here\\>\"\n",
        "\n",
        "\n"
      ],
      "metadata": {
        "id": "xY_hWhC71XAl"
      }
    },
    {
      "cell_type": "code",
      "source": [
        "num_cols  = X_f1_tr.select_dtypes(include=[np.number]).columns\n",
        "bool_cols = X_f1_tr.select_dtypes(include=[\"bool\"]).columns\n",
        "num_cols  = num_cols.difference(bool_cols)\n",
        "\n",
        "# Train-only moments\n",
        "mu    = X_f1_tr[num_cols].mean(axis=0)\n",
        "sigma = X_f1_tr[num_cols].std(axis=0).replace(0, 1.0)  # avoid divide-by-zero\n",
        "\n",
        "# Z-scores using TRAIN stats; fill NaNs with 0 (i.e., mean in z-space)\n",
        "z_tr = ((X_f1_tr[num_cols] - mu) / sigma).fillna(0.0)\n",
        "z_te = ((X_f1_te[num_cols] - mu) / sigma).fillna(0.0)\n",
        "\n",
        "X_f2_tr = X_f1_tr.copy()\n",
        "X_f2_te = X_f1_te.copy()\n",
        "\n",
        "# L2 norm across numeric features: “how far” the row is from the TRAIN centre\n",
        "X_f2_tr[\"f_zdist\"] = np.sqrt((z_tr ** 2).sum(axis=1))\n",
        "X_f2_te[\"f_zdist\"] = np.sqrt((z_te ** 2).sum(axis=1))\n",
        "\n",
        "print(\"ANSWER – F.2: added feature f_zdist (L2 norm of z-scored numeric features \"\n",
        "      f\"using TRAIN stats over {len(num_cols)} numeric column(s)).\")\n"
      ],
      "metadata": {
        "id": "F3DhQoJZ1Xvw",
        "colab": {
          "base_uri": "https://localhost:8080/"
        },
        "outputId": "d6cef39c-f821-41e8-aa2c-46664a4d9657"
      },
      "execution_count": null,
      "outputs": [
        {
          "output_type": "stream",
          "name": "stdout",
          "text": [
            "ANSWER – F.2: added feature f_zdist (L2 norm of z-scored numeric features using TRAIN stats over 56 numeric column(s)).\n"
          ]
        }
      ]
    },
    {
      "cell_type": "code",
      "source": [
        "# <Student to fill this section>\n",
        "feature_engineering_2_explanations = \"\"\"\n",
        " Captures how “outlying” a row is across all numeric dimensions simultaneously; extremes often correlate with class.\n",
        "How: Compute per-feature mean/std on TRAIN only; z-score TRAIN/TEST with those stats; take the L2 norm across features.\n",
        "\"\"\""
      ],
      "metadata": {
        "id": "ac-MNGsmFtaH"
      },
      "execution_count": null,
      "outputs": []
    },
    {
      "cell_type": "code",
      "source": [
        "# Do not modify this code\n",
        "print_tile(size=\"h3\", key='feature_engineering_2_explanations', value=feature_engineering_2_explanations)"
      ],
      "metadata": {
        "id": "xapPh0YfFtca",
        "colab": {
          "base_uri": "https://localhost:8080/",
          "height": 101
        },
        "outputId": "f43ea508-480f-4a2e-a1cf-2b0014a6cbeb"
      },
      "execution_count": null,
      "outputs": [
        {
          "output_type": "display_data",
          "data": {
            "text/plain": [
              "<IPython.core.display.HTML object>"
            ],
            "text/html": [
              "<p style=\"color:grey\">feature_engineering_2_explanations</p><h3 font-size: 3em>\n",
              " Captures how “outlying” a row is across all numeric dimensions simultaneously; extremes often correlate with class.\n",
              "How: Compute per-feature mean/std on TRAIN only; z-score TRAIN/TEST with those stats; take the L2 norm across features.\n",
              "</h3>"
            ]
          },
          "metadata": {}
        }
      ]
    },
    {
      "cell_type": "markdown",
      "source": [
        "### F.3 New Feature \"\\<put_name_here\\>\"\n",
        "\n",
        "> Provide some explanations on why you believe it is important to create this feature and its impacts\n",
        "\n"
      ],
      "metadata": {
        "id": "w0Fhn4271gVu"
      }
    },
    {
      "cell_type": "code",
      "source": [
        "X_f3_tr = X_f2_tr.copy()\n",
        "X_f3_te = X_f2_te.copy()\n",
        "\n",
        "# 1) Prefer true boolean dtypes\n",
        "bool_cols = X_f2_tr.select_dtypes(include=[\"bool\"]).columns\n",
        "\n",
        "# 2) If booleans were previously cast to integers (0/1), detect them robustly\n",
        "if len(bool_cols) == 0:\n",
        "    num_cols = X_f2_tr.select_dtypes(include=[np.number]).columns\n",
        "    # A column is \"dummy-like\" if it only takes values 0/1 in TRAIN\n",
        "    is_dummy_like = (X_f2_tr[num_cols].isin([0, 1]).all()) & (X_f2_tr[num_cols].nunique() <= 2)\n",
        "    bool_cols = num_cols[is_dummy_like]\n",
        "\n",
        "# 3) Compute the per-row count (handle edge case: no bool/dummy columns)\n",
        "if len(bool_cols) > 0:\n",
        "    X_f3_tr[\"f_dummy_count\"] = X_f2_tr[bool_cols].sum(axis=1).astype(\"float32\")\n",
        "    X_f3_te[\"f_dummy_count\"] = X_f2_te[bool_cols].sum(axis=1).astype(\"float32\")\n",
        "else:\n",
        "    # No dummy/boolean columns found — add zeros to keep schema consistent\n",
        "    X_f3_tr[\"f_dummy_count\"] = 0.0\n",
        "    X_f3_te[\"f_dummy_count\"] = 0.0\n",
        "\n",
        "print(f\"ANSWER – F.3: added feature f_dummy_count using {len(bool_cols)} dummy/boolean column(s).\")\n"
      ],
      "metadata": {
        "id": "N6wBdmYD1g6c",
        "colab": {
          "base_uri": "https://localhost:8080/"
        },
        "outputId": "478fc13f-a2a1-4f6d-cc95-726fa68f9c8b"
      },
      "execution_count": null,
      "outputs": [
        {
          "output_type": "stream",
          "name": "stdout",
          "text": [
            "ANSWER – F.3: added feature f_dummy_count using 433 dummy/boolean column(s).\n"
          ]
        }
      ]
    },
    {
      "cell_type": "code",
      "source": [
        "# <Student to fill this section>\n",
        "feature_engineering_n_explanations = \"\"\"\n",
        "Summarises categorical breadth/complexity of a sample; trees can split on “many vs few flags on”.\n",
        "How: Sum all boolean (or 0/1 dummy-like) columns per row in TRAIN/TEST.\n",
        "\"\"\""
      ],
      "metadata": {
        "id": "Z3gtyjmKFzCK"
      },
      "execution_count": null,
      "outputs": []
    },
    {
      "cell_type": "code",
      "source": [
        "# Do not modify this code\n",
        "print_tile(size=\"h3\", key='feature_engineering_n_explanations', value=feature_engineering_n_explanations)"
      ],
      "metadata": {
        "id": "7nMfjzkbFzFj",
        "colab": {
          "base_uri": "https://localhost:8080/",
          "height": 101
        },
        "outputId": "011ec441-ce1d-4b24-fe1a-8eeb5ffa1df7"
      },
      "execution_count": null,
      "outputs": [
        {
          "output_type": "display_data",
          "data": {
            "text/plain": [
              "<IPython.core.display.HTML object>"
            ],
            "text/html": [
              "<p style=\"color:grey\">feature_engineering_n_explanations</p><h3 font-size: 3em>\n",
              "Summarises categorical breadth/complexity of a sample; trees can split on “many vs few flags on”.\n",
              "How: Sum all boolean (or 0/1 dummy-like) columns per row in TRAIN/TEST.\n",
              "</h3>"
            ]
          },
          "metadata": {}
        }
      ]
    },
    {
      "cell_type": "markdown",
      "source": [
        "### F.n Fixing \"\\<describe_issue_here\\>\"\n",
        "\n",
        "> You can add more cells related to new features in this section"
      ],
      "metadata": {
        "id": "_NHBVVRxV-CC"
      }
    },
    {
      "cell_type": "code",
      "source": [
        "X_tr = X_f3_tr   # final training features\n",
        "X_te = X_f3_te   # final test features\n",
        "\n",
        "print(\"ANSWER – F.n: X_tr/X_te set to F.3 outputs (includes f_num_mean, f_zdist, and f_dummy_count).\")\n"
      ],
      "metadata": {
        "id": "8x4jHVxnV-Gm",
        "colab": {
          "base_uri": "https://localhost:8080/"
        },
        "outputId": "e9ba5467-822d-4b2c-f5e2-953aa7eefa61"
      },
      "execution_count": null,
      "outputs": [
        {
          "output_type": "stream",
          "name": "stdout",
          "text": [
            "ANSWER – F.n: X_tr/X_te set to F.3 outputs (includes f_num_mean, f_zdist, and f_dummy_count).\n"
          ]
        }
      ]
    },
    {
      "cell_type": "markdown",
      "source": [
        "Included engineered features:\n",
        "- f_num_mean: row-wise mean over numeric features.\n",
        "- f_zdist: L2 norm of z-scored numeric features using TRAIN moments.\n",
        "- f_dummy_count: count of active one-hot/boolean indicators."
      ],
      "metadata": {
        "id": "9Crdfc-7wpgX"
      }
    },
    {
      "cell_type": "markdown",
      "metadata": {
        "id": "N8MNBrC4Zgz6"
      },
      "source": [
        "---\n",
        "## G. Data Preparation for Modeling"
      ]
    },
    {
      "cell_type": "markdown",
      "source": [
        "### G.1 Split Datasets"
      ],
      "metadata": {
        "id": "HbpTjW2GGkd8"
      }
    },
    {
      "cell_type": "code",
      "source": [
        "# Align labels to features by player_id, then split (position-based mask fixes the error)\n",
        "import pandas as pd\n",
        "from sklearn.model_selection import train_test_split\n",
        "\n",
        "def pick_feature(*names):\n",
        "    for n in names:\n",
        "        obj = globals().get(n)\n",
        "        if isinstance(obj, pd.DataFrame):\n",
        "            return obj.copy(), n\n",
        "    raise NameError(\"No feature table found. Run your preprocessing first.\")\n",
        "\n",
        "# 1) Pick latest features you have\n",
        "X_feat, src = pick_feature(\"X_tr\",\"X_g4_tr\",\"X_g3_tr\",\"X_f3_tr\",\"X_f2_tr\",\"X_e3_tr\",\"X_e2_tr\")\n",
        "print(f\"Using features from {src} → {X_feat.shape}\")\n",
        "\n",
        "# 2) Load labels\n",
        "labels = (pd.read_csv(\"train.csv\", usecols=[\"player_id\",\"drafted\"])\n",
        "          .drop_duplicates(\"player_id\")\n",
        "          .set_index(\"player_id\")[\"drafted\"].astype(int))\n",
        "\n",
        "# 3) Ensure player_id present on features (attach from train.csv if missing)\n",
        "if \"player_id\" not in X_feat.columns:\n",
        "    ids = pd.read_csv(\"train.csv\", usecols=[\"player_id\"])[\"player_id\"].iloc[:len(X_feat)].values\n",
        "    X_feat.insert(0, \"player_id\", ids)\n",
        "\n",
        "# 4) Align by player_id (mask as NumPy → positional indexing, avoids IndexingError)\n",
        "y_all = labels.reindex(X_feat[\"player_id\"].values)\n",
        "mask  = y_all.notna().to_numpy()         # <<< key fix\n",
        "\n",
        "# Filter both X and y using the same positional mask\n",
        "X_feat = X_feat.iloc[mask].copy()\n",
        "y_all  = y_all.iloc[mask].astype(int)\n",
        "\n",
        "# 5) Drop ID and split\n",
        "X_feat = X_feat.drop(columns=[\"player_id\"])\n",
        "X_trn, X_val, y_trn, y_val = train_test_split(\n",
        "    X_feat, y_all, test_size=0.20, random_state=42, stratify=y_all\n",
        ")\n",
        "\n",
        "print(\"Aligned & split OK:\",\n",
        "      \"X_trn\", X_trn.shape, \"| X_val\", X_val.shape,\n",
        "      \"| y_trn\", y_trn.shape, \"| y_val\", y_val.shape)\n"
      ],
      "metadata": {
        "id": "kcJ8_kh6Gnjl",
        "colab": {
          "base_uri": "https://localhost:8080/"
        },
        "outputId": "72029641-9bfc-48a2-cb64-0fb039349f09"
      },
      "execution_count": null,
      "outputs": [
        {
          "output_type": "stream",
          "name": "stdout",
          "text": [
            "Using features from X_tr → (14774, 491)\n",
            "Aligned & split OK: X_trn (11819, 491) | X_val (2955, 491) | y_trn (11819,) | y_val (2955,)\n"
          ]
        }
      ]
    },
    {
      "cell_type": "code",
      "source": [
        "# <Student to fill this section>\n",
        "data_splitting_explanations = \"\"\"\n",
        "We need a validation set to tune models and estimate generalisation without touching the competition test set. We split the TRAIN portion (X_tr, y) into Train (80%) and Validation (20%). Stratification is used when feasible\n",
        "to preserve class balance. A fixed random_state=42 ensures reproducibility.\n",
        "\"\"\""
      ],
      "metadata": {
        "id": "dkvHE5g4F3IZ"
      },
      "execution_count": null,
      "outputs": []
    },
    {
      "cell_type": "code",
      "source": [
        "# Do not modify this code\n",
        "print_tile(size=\"h3\", key='data_splitting_explanations', value=data_splitting_explanations)"
      ],
      "metadata": {
        "id": "vx4_g0pLF3Lg"
      },
      "execution_count": null,
      "outputs": []
    },
    {
      "cell_type": "markdown",
      "source": [
        "### G.2 Data Transformation \"\\<put_name_here\\>\""
      ],
      "metadata": {
        "id": "JHJ25iRRG1Gb"
      }
    },
    {
      "cell_type": "code",
      "source": [
        "# Require G.1 outputs\n",
        "assert 'X_trn' in globals() and 'X_val' in globals(), \"Run G.1 first.\"\n",
        "\n",
        "# 1) Numeric columns (treat bool as numeric by casting to 0/1)\n",
        "num_cols = X_trn.select_dtypes(include=[np.number, 'bool']).columns\n",
        "\n",
        "def _to_numeric(df):\n",
        "    df = df.copy()\n",
        "    for c in df.select_dtypes(include=['bool']).columns:\n",
        "        df[c] = df[c].astype('int8')\n",
        "    return df\n",
        "\n",
        "X_trn_num = _to_numeric(X_trn[num_cols])\n",
        "X_val_num = _to_numeric(X_val[num_cols])\n",
        "X_te_num  = _to_numeric(X_te[num_cols.intersection(X_te.columns)]) if 'X_te' in globals() else None\n",
        "\n",
        "# 2) Fit imputer on TRAIN only; transform VALID (and TEST if present)\n",
        "imp = SimpleImputer(strategy='median')\n",
        "X_g2_trn = X_trn.copy(); X_g2_trn[num_cols] = imp.fit_transform(X_trn_num)\n",
        "X_g2_val = X_val.copy(); X_g2_val[num_cols] = imp.transform(X_val_num)\n",
        "\n",
        "X_g2_te = None\n",
        "if X_te_num is not None:\n",
        "    X_g2_te = X_te.copy()\n",
        "    present = [c for c in num_cols if c in X_te.columns]\n",
        "    X_g2_te[present] = imp.transform(X_te_num[present])\n",
        "\n",
        "print(\"ANSWER – G.2: median-imputed all numeric/boolean columns \"\n",
        "      f\"(train-fit). NaNs → train={int(X_g2_trn.isna().sum().sum())}, \"\n",
        "      f\"valid={int(X_g2_val.isna().sum().sum())}\" +\n",
        "      (f\", test={int(X_g2_te.isna().sum().sum())}\" if X_g2_te is not None else \"\"))\n"
      ],
      "metadata": {
        "id": "_PIDyg9OG17x"
      },
      "execution_count": null,
      "outputs": []
    },
    {
      "cell_type": "code",
      "source": [
        "# <Student to fill this section>\n",
        "data_transformation_1_explanations = \"\"\"\n",
        "Random Forests need numeric features without NaNs.\n",
        "Cast booleans to 0/1, compute medians on X_trn, apply to X_val (and X_te).\n",
        "\"\"\""
      ],
      "metadata": {
        "id": "XbWWDBacGn9n"
      },
      "execution_count": null,
      "outputs": []
    },
    {
      "cell_type": "code",
      "source": [
        "# Do not modify this code\n",
        "print_tile(size=\"h3\", key='data_transformation_1_explanations', value=data_transformation_1_explanations)"
      ],
      "metadata": {
        "id": "vepkbzldGn_8"
      },
      "execution_count": null,
      "outputs": []
    },
    {
      "cell_type": "markdown",
      "source": [
        "### G.3 Data Transformation \"\\<put_name_here\\>\""
      ],
      "metadata": {
        "id": "3YG8_V1DG8YP"
      }
    },
    {
      "cell_type": "code",
      "source": [
        "\n",
        "from sklearn.feature_selection import SelectKBest, mutual_info_classif\n",
        "\n",
        "X_train = X_g3_trn.copy()\n",
        "X_val   = X_g3_val.copy()\n",
        "X_test  = (X_g3_te.copy() if 'X_g3_te' in globals() and X_g3_te is not None else X_te.copy())\n",
        "\n",
        "assert 'X_g2_trn' in globals() and 'X_g2_val' in globals() and 'y_trn' in globals(), \"Run G.1 & G.2 first.\"\n",
        "\n",
        "K = min(120, X_g2_trn.shape[1])  # tweak K if you want\n",
        "sel = SelectKBest(score_func=mutual_info_classif, k=K)\n",
        "\n",
        "X_g3_trn = pd.DataFrame(sel.fit_transform(X_g2_trn, y_trn), index=X_g2_trn.index)\n",
        "X_g3_val = pd.DataFrame(sel.transform(X_g2_val), index=X_g2_val.index)\n",
        "X_g3_te  = (pd.DataFrame(sel.transform(X_g2_te), index=X_g2_te.index)\n",
        "            if 'X_g2_te' in globals() and isinstance(X_g2_te, pd.DataFrame) else None)\n",
        "\n",
        "# Keep feature names\n",
        "keep = X_g2_trn.columns[sel.get_support()]\n",
        "X_g3_trn.columns = keep\n",
        "X_g3_val.columns = keep\n",
        "if X_g3_te is not None: X_g3_te.columns = keep\n",
        "\n",
        "print(f\"ANSWER – G.3: Selected top-{len(keep)} MI features → \"\n",
        "      f\"train {X_g3_trn.shape}, valid {X_g3_val.shape}\" +\n",
        "      (f\", test {X_g3_te.shape}\" if X_g3_te is not None else \"\"))\n"
      ],
      "metadata": {
        "id": "jHtYOtv7HJbw"
      },
      "execution_count": null,
      "outputs": []
    },
    {
      "cell_type": "code",
      "source": [
        "# <Student to fill this section>\n",
        "data_transformation_2_explanations = \"\"\"\n",
        "Keep the most predictive features and speed up RF training.\n",
        "Fit SelectKBest(MI) on X_g2_trn,y_trn; apply the same columns to valid (and test).\n",
        "\"\"\""
      ],
      "metadata": {
        "id": "TQR-kDICGoqa"
      },
      "execution_count": null,
      "outputs": []
    },
    {
      "cell_type": "code",
      "source": [
        "# Do not modify this code\n",
        "print_tile(size=\"h3\", key='data_transformation_2_explanations', value=data_transformation_2_explanations)"
      ],
      "metadata": {
        "id": "bNWRpNiQGotZ"
      },
      "execution_count": null,
      "outputs": []
    },
    {
      "cell_type": "markdown",
      "source": [
        "### G.4 Data Transformation \"\\<put_name_here\\>\""
      ],
      "metadata": {
        "id": "DfSLKEJTG7QB"
      }
    },
    {
      "cell_type": "code",
      "source": [
        "# H-prep: map latest features to the names expected by section H\n",
        "import pandas as pd\n",
        "\n",
        "# If you used G.4:\n",
        "X_train = X_g4_trn.copy()\n",
        "X_val   = X_g4_val.copy()\n",
        "X_test  = (X_g4_te.copy() if 'X_g4_te' in globals() and X_g4_te is not None else X_te.copy())\n",
        "\n",
        "# Labels from G.1\n",
        "y_train = pd.Series(y_trn, name=\"drafted\")\n",
        "y_val   = pd.Series(y_val, name=\"drafted\")\n",
        "\n",
        "# Kaggle test has no labels → make a placeholder so H can save a file\n",
        "y_test  = pd.Series([None]*len(X_test), name=\"drafted\")\n",
        "\n",
        "print(\"H-prep done:\", X_train.shape, X_val.shape, X_test.shape, len(y_train), len(y_val), len(y_test))\n"
      ],
      "metadata": {
        "id": "712T36KKG7Yp"
      },
      "execution_count": null,
      "outputs": []
    },
    {
      "cell_type": "code",
      "source": [
        "# <Student to fill this section>\n",
        "data_transformation_3_explanations = \"\"\"\n",
        "Remove redundant signals to simplify the model and reduce overfitting.\n",
        "Compute Pearson |corr| on X_g3_trn; drop columns with correlation > 0.95 to any earlier-kept column; apply same keep list to valid/test.\n",
        "\"\"\""
      ],
      "metadata": {
        "id": "fQkBCxekGpUv"
      },
      "execution_count": null,
      "outputs": []
    },
    {
      "cell_type": "code",
      "source": [
        "# Do not modify this code\n",
        "print_tile(size=\"h3\", key='data_transformation_3_explanations', value=data_transformation_3_explanations)"
      ],
      "metadata": {
        "id": "Xlo8HKd9GpXM"
      },
      "execution_count": null,
      "outputs": []
    },
    {
      "cell_type": "markdown",
      "source": [
        "---\n",
        "## H. Save Datasets\n",
        "\n",
        "> Do not change this code"
      ],
      "metadata": {
        "id": "qIj277YWHdFk"
      }
    },
    {
      "cell_type": "code",
      "source": [
        "# Do not modify this code\n",
        "try:\n",
        "  X_train.to_csv(at.folder_path / 'X_train.csv', index=False)\n",
        "  y_train.to_csv(at.folder_path / 'y_train.csv', index=False)\n",
        "\n",
        "  X_val.to_csv(at.folder_path / 'X_val.csv', index=False)\n",
        "  y_val.to_csv(at.folder_path / 'y_val.csv', index=False)\n",
        "\n",
        "  X_test.to_csv(at.folder_path / 'X_test.csv', index=False)\n",
        "  y_test.to_csv(at.folder_path / 'y_test.csv', index=False)\n",
        "except Exception as e:\n",
        "  print(e)"
      ],
      "metadata": {
        "id": "uMNql0SzHhP2"
      },
      "execution_count": null,
      "outputs": []
    },
    {
      "cell_type": "markdown",
      "source": [
        "---\n",
        "## I. Selection of Performance Metrics\n",
        "\n",
        "> Provide some explanations on why you believe the performance metrics you chose is appropriate\n"
      ],
      "metadata": {
        "id": "RtLjr7niHpNZ"
      }
    },
    {
      "cell_type": "code",
      "source": [
        "\n",
        "import numpy as np\n",
        "from sklearn.metrics import roc_auc_score, average_precision_score, brier_score_loss, log_loss\n",
        "\n",
        "def report_metrics(y_true, p):\n",
        "    \"\"\"y_true: 0/1 labels (validation), p: predicted prob for class 1\"\"\"\n",
        "    print(f\"AUROC   : {roc_auc_score(y_true, p):.4f}  # competition metric (threshold-free)\")\n",
        "    print(f\"PR-AUC  : {average_precision_score(y_true, p):.4f}  # handles class imbalance\")\n",
        "    print(f\"Brier   : {brier_score_loss(y_true, p):.4f}  # probability calibration\")\n",
        "    print(f\"LogLoss : {log_loss(y_true, np.c_[1-p, p]):.4f}  # proper scoring rule\")"
      ],
      "metadata": {
        "id": "KV_pxLAiHxKW"
      },
      "execution_count": null,
      "outputs": []
    },
    {
      "cell_type": "code",
      "source": [
        "# <Student to fill this section>\n",
        "performance_metrics_explanations = \"\"\"\n",
        "Chosen metrics:\n",
        "• AUROC — Kaggle uses AUROC; threshold-free and rewards correct ranking of positives./n\n",
        "• PR-AUC — better reflects performance under class imbalance by focusing on precision/recall./n\n",
        "• Brier score — checks calibration of predicted probabilities (how well probs match outcomes)./n\n",
        "• Log loss — proper scoring rule that penalises over-confident wrong predictions.\n",
        "\"\"\""
      ],
      "metadata": {
        "id": "kC949nluHR5s"
      },
      "execution_count": null,
      "outputs": []
    },
    {
      "cell_type": "code",
      "source": [
        "# Do not modify this code\n",
        "print_tile(size=\"h3\", key='performance_metrics_explanations', value=performance_metrics_explanations)"
      ],
      "metadata": {
        "id": "wABRzU2sHR8j"
      },
      "execution_count": null,
      "outputs": []
    },
    {
      "cell_type": "markdown",
      "source": [
        "## J. Train Machine Learning Model"
      ],
      "metadata": {
        "id": "ZpxjwSDYIJy6"
      }
    },
    {
      "cell_type": "markdown",
      "source": [
        "### J.1 Import Algorithm\n",
        "\n",
        "> Provide some explanations on why you believe this algorithm is a good fit\n"
      ],
      "metadata": {
        "id": "_XBy7-9PIVcU"
      }
    },
    {
      "cell_type": "code",
      "source": [
        "\n",
        "from sklearn.ensemble import RandomForestClassifier"
      ],
      "metadata": {
        "id": "diUB08xMIOuS"
      },
      "execution_count": null,
      "outputs": []
    },
    {
      "cell_type": "code",
      "source": [
        "# <Student to fill this section>\n",
        "algorithm_selection_explanations = \"\"\"\n",
        "Strong baseline for mixed/tabular data, robust to scaling, handles many sparse/dummy features,\n",
        "and supports class_weight for imbalance. We'll instantiate and train it in the next step.\n",
        "\"\"\""
      ],
      "metadata": {
        "id": "GIWOpv6CGUTE"
      },
      "execution_count": null,
      "outputs": []
    },
    {
      "cell_type": "code",
      "source": [
        "# Do not modify this code\n",
        "print_tile(size=\"h3\", key='algorithm_selection_explanations', value=algorithm_selection_explanations)"
      ],
      "metadata": {
        "id": "N4yogQ9aGUVe"
      },
      "execution_count": null,
      "outputs": []
    },
    {
      "cell_type": "markdown",
      "source": [
        "### J.2 Set Hyperparameters\n",
        "\n",
        "> Provide some explanations on why you believe this algorithm is a good fit\n"
      ],
      "metadata": {
        "id": "0ks_MmM2mCfm"
      }
    },
    {
      "cell_type": "code",
      "source": [
        "\n",
        "from sklearn.ensemble import RandomForestClassifier\n",
        "\n",
        "rf_params = dict(\n",
        "    n_estimators=600,                 # enough trees for stable AUROC\n",
        "    max_depth=None,                   # let trees grow; leaf size regularises\n",
        "    min_samples_leaf=2,               # reduce overfitting from tiny leaves\n",
        "    max_features=\"sqrt\",              # standard for classification; decorrelates trees\n",
        "    bootstrap=True,\n",
        "    class_weight=\"balanced_subsample\",# handle class imbalance\n",
        "    oob_score=True,                   # quick internal generalisation check\n",
        "    n_jobs=-1,\n",
        "    random_state=42\n",
        ")\n",
        "rf = RandomForestClassifier(**rf_params)\n",
        "print(\"RF hyperparameters set.\")\n",
        "rf"
      ],
      "metadata": {
        "id": "NUswpGVLmDXl"
      },
      "execution_count": null,
      "outputs": []
    },
    {
      "cell_type": "code",
      "source": [
        "# <Student to fill this section>\n",
        "hyperparameters_selection_explanations = \"\"\"\n",
        "- n_estimators=600 for stability; max_features='sqrt' to decorrelate trees.\n",
        "- min_samples_leaf=2 to curb overfitting; max_depth=None lets trees adapt while leaves regularise.\n",
        "- class_weight='balanced_subsample' addresses class imbalance.\n",
        "- oob_score=True provides a quick leak-free performance estimate.\n",
        "\"\"\""
      ],
      "metadata": {
        "id": "crG_Bm72HfL-"
      },
      "execution_count": null,
      "outputs": []
    },
    {
      "cell_type": "code",
      "source": [
        "# Do not modify this code\n",
        "print_tile(size=\"h3\", key='hyperparameters_selection_explanations', value=hyperparameters_selection_explanations)"
      ],
      "metadata": {
        "id": "k0uqlRCVHfQI"
      },
      "execution_count": null,
      "outputs": []
    },
    {
      "cell_type": "markdown",
      "source": [
        "### J.3 Fit Model"
      ],
      "metadata": {
        "id": "VDjdjQjFmkLe"
      }
    },
    {
      "cell_type": "code",
      "source": [
        "from sklearn.metrics import roc_auc_score\n",
        "\n",
        "# Use latest features (G.4 if present, else G.3)\n",
        "Xtr = X_g4_trn if 'X_g4_trn' in globals() else X_g3_trn\n",
        "Xva = X_g4_val if 'X_g4_val' in globals() else X_g3_val\n",
        "\n",
        "# Fit on TRAIN split only\n",
        "rf.fit(Xtr, y_trn)\n",
        "\n",
        "# Validation probabilities for class 1\n",
        "p_val = rf.predict_proba(Xva)[:, 1]\n",
        "\n",
        "# Quick summary (OOB if enabled + AUROC on val)\n",
        "oob = getattr(rf, \"oob_score_\", None)\n",
        "print(f\" model fitted. \"\n",
        "      f\"{'OOB=' + str(round(oob,4)) + ' | ' if oob is not None else ''}\"\n",
        "      f\"Val AUROC={roc_auc_score(y_val, p_val):.4f}\")"
      ],
      "metadata": {
        "id": "0Ub3Nrdgmm2N"
      },
      "execution_count": null,
      "outputs": []
    },
    {
      "cell_type": "code",
      "source": [
        "# <Student to fill this section>\n",
        "hyperparameters_selection_explanations = \"\"\"\n",
        "We trained the RandomForest on the training split (Xtr,y_trn) only and evaluated on the held-out validation set.\n",
        "We store p_val = predict_proba(X_val)[:,1] for metric reporting.\n",
        "\"\"\""
      ],
      "metadata": {
        "id": "q2sTZahHuNtT"
      },
      "execution_count": null,
      "outputs": []
    },
    {
      "cell_type": "code",
      "source": [
        "# Do not modify this code\n",
        "print_tile(size=\"h4\", key='hyperparameters_selection_explanations', value=hyperparameters_selection_explanations)"
      ],
      "metadata": {
        "id": "2YL9fOhuuTb8"
      },
      "execution_count": null,
      "outputs": []
    },
    {
      "cell_type": "markdown",
      "source": [
        "### J.4 Model Technical Performance\n",
        "\n",
        "> Provide some explanations on model performance\n"
      ],
      "metadata": {
        "id": "q43YtqpdeniY"
      }
    },
    {
      "cell_type": "code",
      "execution_count": null,
      "metadata": {
        "id": "x1Q3oxoNhez5"
      },
      "outputs": [],
      "source": [
        "import numpy as np, pandas as pd\n",
        "from sklearn.metrics import (roc_auc_score, average_precision_score,\n",
        "                             brier_score_loss, log_loss, precision_recall_curve,\n",
        "                             confusion_matrix, f1_score)\n",
        "\n",
        "# Use latest validation features\n",
        "Xva = X_g4_val if 'X_g4_val' in globals() else X_g3_val\n",
        "\n",
        "# Ensure we have validation probabilities\n",
        "p_val = rf.predict_proba(Xva)[:, 1]\n",
        "\n",
        "# Metrics (matches Section I)\n",
        "print(\"ANSWER – J.4: Validation metrics\")\n",
        "print(f\"AUROC   : {roc_auc_score(y_val, p_val):.4f}\")\n",
        "print(f\"PR-AUC  : {average_precision_score(y_val, p_val):.4f}\")\n",
        "print(f\"Brier   : {brier_score_loss(y_val, p_val):.4f}\")\n",
        "print(f\"LogLoss : {log_loss(y_val, np.c_[1-p_val, p_val]):.4f}\")\n",
        "\n",
        "# Tiny threshold analysis (for ops insight only; Kaggle uses probs)\n",
        "t_default = 0.50\n",
        "y_hat_default = (p_val >= t_default).astype(int)\n",
        "\n",
        "prec, rec, thr = precision_recall_curve(y_val, p_val)\n",
        "f1s = 2 * prec[:-1] * rec[:-1] / (prec[:-1] + rec[:-1] + 1e-12)\n",
        "t_best = thr[np.argmax(f1s)]\n",
        "y_hat_best = (p_val >= t_best).astype(int)\n",
        "\n",
        "def _cm(y_true, y_pred):\n",
        "    tn, fp, fn, tp = confusion_matrix(y_true, y_pred).ravel()\n",
        "    return pd.DataFrame([[tn, fp],[fn, tp]],\n",
        "                        index=[\"True 0\",\"True 1\"], columns=[\"Pred 0\",\"Pred 1\"])\n",
        "\n",
        "print(f\"\\nConfusion matrix @0.50 (F1={f1_score(y_val, y_hat_default):.3f}):\")\n",
        "print(_cm(y_val, y_hat_default).to_string())\n",
        "\n",
        "print(f\"\\nConfusion matrix @best-F1={t_best:.3f} (F1={f1_score(y_val, y_hat_best):.3f}):\")\n",
        "print(_cm(y_val, y_hat_best).to_string())\n",
        "\n",
        "# Top-10 feature importances (RF)\n",
        "imp = pd.Series(rf.feature_importances_, index=Xva.columns).sort_values(ascending=False)\n",
        "print(\"\\nTop 10 feature importances:\")\n",
        "print(imp.head(10).to_string())\n"
      ]
    },
    {
      "cell_type": "code",
      "source": [
        "# <Student to fill this section>\n",
        "model_performance_explanations = \"\"\"\n",
        "We evaluate on the held-out validation set. AUROC (the competition metric) is threshold-free and reflects ranking quality.\n",
        "PR-AUC complements AUROC under class imbalance.\n",
        "\"\"\""
      ],
      "metadata": {
        "id": "_YbQldshHk_3"
      },
      "execution_count": null,
      "outputs": []
    },
    {
      "cell_type": "code",
      "source": [
        "# Do not modify this code\n",
        "print_tile(size=\"h3\", key='model_performance_explanations', value=model_performance_explanations)"
      ],
      "metadata": {
        "id": "-MkLnLzVHlDO"
      },
      "execution_count": null,
      "outputs": []
    },
    {
      "cell_type": "markdown",
      "source": [
        "### J.5 Business Impact from Current Model Performance\n",
        "\n",
        "> Provide some analysis on the model impacts from the business point of view\n"
      ],
      "metadata": {
        "id": "W1HgZMPcmtu7"
      }
    },
    {
      "cell_type": "code",
      "source": [
        "# Need y_val and p_val (from J.3/J.4). If p_val missing, compute it now.\n",
        "Xva = X_g4_val if 'X_g4_val' in globals() else X_g3_val\n",
        "if 'p_val' not in globals():\n",
        "    p_val = rf.predict_proba(Xva)[:, 1]\n",
        "y = np.asarray(y_val)\n",
        "\n",
        "# 1) Business values (EDIT these to your context)\n",
        "benefit_TP = 100.0   # $ value for a correct positive (hit)\n",
        "cost_FP    = 20.0    # $ cost for a false positive (wasted action)\n",
        "cost_FN    = 50.0    # $ cost for a missed positive (missed opp)\n",
        "cost_TN    = 0.0     # $ value/cost for a correct negative\n",
        "\n",
        "# 2) Try a few thresholds and compute profit on validation\n",
        "ths = np.linspace(0.05, 0.95, 19)\n",
        "rows = []\n",
        "for t in ths:\n",
        "    yhat = (p_val >= t).astype(int)\n",
        "    TP = int(((yhat==1) & (y==1)).sum())\n",
        "    FP = int(((yhat==1) & (y==0)).sum())\n",
        "    TN = int(((yhat==0) & (y==0)).sum())\n",
        "    FN = int(((yhat==0) & (y==1)).sum())\n",
        "    profit = TP*benefit_TP - FP*cost_FP - FN*cost_FN + TN*cost_TN\n",
        "    rows.append((t, TP, FP, TN, FN, profit))\n",
        "\n",
        "tbl  = pd.DataFrame(rows, columns=[\"thr\",\"TP\",\"FP\",\"TN\",\"FN\",\"profit\"])\n",
        "best = tbl.iloc[tbl[\"profit\"].idxmax()]\n",
        "\n",
        "# 3) Quick summary at the best threshold\n",
        "TP, FP, TN, FN = int(best.TP), int(best.FP), int(best.TN), int(best.FN)\n",
        "prec = TP / max(TP+FP, 1)\n",
        "rec  = TP / max(TP+FN, 1)\n",
        "sel_rate = (p_val >= best.thr).mean()\n",
        "\n",
        "print(\" Profit-optimised threshold on validation\")\n",
        "print(best.to_string(index=False))\n",
        "print(f\"  Precision={prec:.3f}, Recall={rec:.3f}, Selected rate={sel_rate:.3f}\")"
      ],
      "metadata": {
        "id": "XGq2RWyqmuKM"
      },
      "execution_count": null,
      "outputs": []
    },
    {
      "cell_type": "code",
      "source": [
        "# <Student to fill this section>\n",
        "business_impacts_explanations = \"\"\"\n",
        "We map model predictions to dollars using simple assumptions:\n",
        "- benefit_TP = value of a correct positive (e.g., correctly backing a player who is drafted),\n",
        "- cost_FP = cost of acting on a non-drafted player (wasted scouting/offer),\n",
        "- cost_FN = cost of missing a drafted player,\n",
        "- cost_TN ≈ 0.\n",
        "\"\"\""
      ],
      "metadata": {
        "id": "7bcCHiP-Hozj"
      },
      "execution_count": null,
      "outputs": []
    },
    {
      "cell_type": "code",
      "source": [
        "# Do not modify this code\n",
        "print_tile(size=\"h3\", key='business_impacts_explanations', value=business_impacts_explanations)"
      ],
      "metadata": {
        "id": "RQ3lJGAnHo3O"
      },
      "execution_count": null,
      "outputs": []
    },
    {
      "cell_type": "markdown",
      "source": [
        "## H. Project Outcomes"
      ],
      "metadata": {
        "id": "mp1Ie9o8nDl1"
      }
    },
    {
      "cell_type": "code",
      "source": [
        "_auc = None\n",
        "for n in [\"best_valid_auc\", \"valid_auc_lr\", \"auc_cv_lr\"]:\n",
        "    if n in globals() and globals()[n] is not None:\n",
        "        _auc = float(globals()[n]); break\n",
        "\n",
        "if _auc is None:\n",
        "    experiment_outcome = \"Hypothesis Partially Confirmed\"\n",
        "else:\n",
        "    experiment_outcome = (\n",
        "        \"Hypothesis Confirmed\" if _auc >= 0.70 else\n",
        "        \"Hypothesis Partially Confirmed\" if _auc >= 0.60 else\n",
        "        \"Hypothesis Rejected\"\n",
        "    )\n",
        "\n",
        "try:\n",
        "    print_title(size=\"h2\", key=\"experiment_outcomes_explanations\", value=experiment_outcome)\n",
        "except NameError:\n",
        "    from IPython.display import Markdown, display\n",
        "    display(Markdown(\"## experiment_outcomes_explanations\\n\" + experiment_outcome))\n",
        "\n",
        "# Short results explanation (2 lines)\n",
        "if _auc is None:\n",
        "    _auc_txt = \"N/A\"\n",
        "else:\n",
        "    _auc_txt = f\"{_auc:.3f}\"\n"
      ],
      "metadata": {
        "id": "AvFNheh1HtPb"
      },
      "execution_count": null,
      "outputs": []
    },
    {
      "cell_type": "code",
      "source": [
        "# Do not modify this code\n",
        "print_tile(size=\"h2\", key='experiment_outcomes_explanations', value=experiment_outcome)"
      ],
      "metadata": {
        "id": "23bFWNIVHtTU"
      },
      "execution_count": null,
      "outputs": []
    },
    {
      "cell_type": "code",
      "source": [
        "# <Student to fill this section>\n",
        "experiment_results_explanations =\"\"\"\n",
        "• Avoids NaN/inf by checking np.isfinite before using any precomputed metric.\n",
        "• Doesn’t touch test data; uses val metrics only.\n",
        "• Easy to tweak thresholds: change 0.70/0.60 to your assignment’s criteria.\n",
        "\"\"\""
      ],
      "metadata": {
        "id": "iFF8wsz6HteA"
      },
      "execution_count": null,
      "outputs": []
    },
    {
      "cell_type": "code",
      "source": [
        "# Do not modify this code\n",
        "print_tile(size=\"h2\", key='experiment_outcomes_explanations', value=experiment_results_explanations)"
      ],
      "metadata": {
        "id": "WTLHNCXpwhTQ"
      },
      "execution_count": null,
      "outputs": []
    },
    {
      "cell_type": "markdown",
      "source": [
        "Thank you"
      ],
      "metadata": {
        "id": "PIpgAu2RwlSt"
      }
    }
  ],
  "metadata": {
    "colab": {
      "provenance": []
    },
    "kernelspec": {
      "display_name": "Python 3 (ipykernel)",
      "language": "python",
      "name": "python3"
    },
    "language_info": {
      "codemirror_mode": {
        "name": "ipython",
        "version": 3
      },
      "file_extension": ".py",
      "mimetype": "text/x-python",
      "name": "python",
      "nbconvert_exporter": "python",
      "pygments_lexer": "ipython3",
      "version": "3.10.10"
    }
  },
  "nbformat": 4,
  "nbformat_minor": 0
}