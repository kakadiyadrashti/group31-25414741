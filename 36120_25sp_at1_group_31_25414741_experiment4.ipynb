{
  "cells": [
    {
      "cell_type": "markdown",
      "metadata": {
        "id": "uQ6wc2HE0pke"
      },
      "source": [
        "# **Experiment Notebook**\n",
        "\n"
      ]
    },
    {
      "cell_type": "code",
      "source": [
        "# Align versions so pip stops warning\n",
        "!pip install -q --upgrade \"scikit-learn>=1.6\" \"umap-learn>=0.5.9\" utstd"
      ],
      "metadata": {
        "id": "2AIeLoxyVk37",
        "colab": {
          "base_uri": "https://localhost:8080/",
          "height": 0
        },
        "outputId": "7b11d192-2b1a-4a77-ff8e-7dfac2e1a81d"
      },
      "execution_count": 1,
      "outputs": [
        {
          "output_type": "stream",
          "name": "stdout",
          "text": [
            "\u001b[?25l   \u001b[90m━━━━━━━━━━━━━━━━━━━━━━━━━━━━━━━━━━━━━━━━\u001b[0m \u001b[32m0.0/1.6 MB\u001b[0m \u001b[31m?\u001b[0m eta \u001b[36m-:--:--\u001b[0m\r\u001b[2K   \u001b[91m━━━━━━━━━━━━━━\u001b[0m\u001b[90m╺\u001b[0m\u001b[90m━━━━━━━━━━━━━━━━━━━━━━━━━\u001b[0m \u001b[32m0.6/1.6 MB\u001b[0m \u001b[31m18.3 MB/s\u001b[0m eta \u001b[36m0:00:01\u001b[0m\r\u001b[2K   \u001b[91m━━━━━━━━━━━━━━━━━━━━━━━━━━━━━━━━━━━━━━━\u001b[0m\u001b[91m╸\u001b[0m \u001b[32m1.6/1.6 MB\u001b[0m \u001b[31m30.9 MB/s\u001b[0m eta \u001b[36m0:00:01\u001b[0m\r\u001b[2K   \u001b[90m━━━━━━━━━━━━━━━━━━━━━━━━━━━━━━━━━━━━━━━━\u001b[0m \u001b[32m1.6/1.6 MB\u001b[0m \u001b[31m21.2 MB/s\u001b[0m eta \u001b[36m0:00:00\u001b[0m\n",
            "\u001b[?25h"
          ]
        }
      ]
    },
    {
      "cell_type": "code",
      "source": [
        "# Do not modify this code\n",
        "!pip install -q utstd\n",
        "\n",
        "from utstd.ipyrenders import *"
      ],
      "metadata": {
        "id": "qNOA146K2c6f",
        "collapsed": true
      },
      "execution_count": 2,
      "outputs": []
    },
    {
      "cell_type": "code",
      "source": [
        "# Do not modify this code\n",
        "import warnings\n",
        "warnings.simplefilter(action='ignore')"
      ],
      "metadata": {
        "id": "6FneOmBfka9G"
      },
      "execution_count": 3,
      "outputs": []
    },
    {
      "cell_type": "markdown",
      "source": [
        "## 0. Import Packages"
      ],
      "metadata": {
        "id": "mXFKfa2tp1ch"
      }
    },
    {
      "cell_type": "code",
      "source": [
        "import os, sys, json, math, pathlib, warnings, datetime\n",
        "from typing import List, Tuple\n",
        "\n",
        "import numpy as np\n",
        "import pandas as pd\n",
        "\n",
        "from sklearn.model_selection import StratifiedKFold\n",
        "from sklearn.compose import ColumnTransformer\n",
        "from sklearn.preprocessing import OneHotEncoder, StandardScaler\n",
        "from sklearn.pipeline import Pipeline\n",
        "from sklearn.linear_model import LogisticRegression\n",
        "from sklearn.metrics import roc_auc_score\n",
        "from sklearn.impute import SimpleImputer\n",
        "from sklearn.base import BaseEstimator\n",
        "import joblib\n",
        "\n",
        "warnings.filterwarnings(\"ignore\")\n",
        "\n",
        "RANDOM_STATE = 42\n",
        "np.random.seed(RANDOM_STATE)"
      ],
      "metadata": {
        "id": "GBEAwdncnlAx"
      },
      "execution_count": 4,
      "outputs": []
    },
    {
      "cell_type": "markdown",
      "metadata": {
        "id": "tQgxLRrvjiJb"
      },
      "source": [
        "---\n",
        "## A. Project Description\n"
      ]
    },
    {
      "cell_type": "code",
      "source": [
        "# <Student to fill this section>\n",
        "student_name = \"Drashti Kakadiya\"\n",
        "student_id = \"25414741\"\n",
        "group_id = \"31\""
      ],
      "metadata": {
        "id": "Je1EzzfFD5hj"
      },
      "execution_count": 5,
      "outputs": []
    },
    {
      "cell_type": "code",
      "source": [
        "# Do not modify this code\n",
        "print_tile(size=\"h1\", key='student_name', value=student_name)"
      ],
      "metadata": {
        "id": "pdKiYvFWD5my",
        "colab": {
          "base_uri": "https://localhost:8080/",
          "height": 98
        },
        "outputId": "18ad50b6-aeb6-4a55-e1a6-72a42f98296e"
      },
      "execution_count": 6,
      "outputs": [
        {
          "output_type": "display_data",
          "data": {
            "text/plain": [
              "<IPython.core.display.HTML object>"
            ],
            "text/html": [
              "<p style=\"color:grey\">student_name</p><h1 font-size: 3em>Drashti Kakadiya</h1>"
            ]
          },
          "metadata": {}
        }
      ]
    },
    {
      "cell_type": "code",
      "source": [
        "# Do not modify this code\n",
        "print_tile(size=\"h1\", key='student_id', value=student_id)"
      ],
      "metadata": {
        "id": "9KTEbRjqD5o_",
        "colab": {
          "base_uri": "https://localhost:8080/",
          "height": 98
        },
        "outputId": "13b0eb08-9ece-44f3-b403-4b32189bc6af"
      },
      "execution_count": 7,
      "outputs": [
        {
          "output_type": "display_data",
          "data": {
            "text/plain": [
              "<IPython.core.display.HTML object>"
            ],
            "text/html": [
              "<p style=\"color:grey\">student_id</p><h1 font-size: 3em>25414741</h1>"
            ]
          },
          "metadata": {}
        }
      ]
    },
    {
      "cell_type": "code",
      "source": [
        "# Do not modify this code\n",
        "print_tile(size=\"h1\", key='group_id', value=group_id)"
      ],
      "metadata": {
        "id": "UKRt4jK6rInY",
        "colab": {
          "base_uri": "https://localhost:8080/",
          "height": 98
        },
        "outputId": "692bf14f-83d5-42e8-f692-301f2087e62b"
      },
      "execution_count": 8,
      "outputs": [
        {
          "output_type": "display_data",
          "data": {
            "text/plain": [
              "<IPython.core.display.HTML object>"
            ],
            "text/html": [
              "<p style=\"color:grey\">group_id</p><h1 font-size: 3em>31</h1>"
            ]
          },
          "metadata": {}
        }
      ]
    },
    {
      "cell_type": "markdown",
      "source": [
        "---\n",
        "## B. Business Understanding"
      ],
      "metadata": {
        "id": "4q1Bzcejvfpm"
      }
    },
    {
      "cell_type": "code",
      "source": [
        "# <Student to fill this section>\n",
        "business_use_case_description = \"\"\"\n",
        "Goal: predict each player’s draft probability so the team can prioritise scouting/offers and allocate budget efficiently.\n",
        "Impact: accurate → higher hit-rate, ROI, and wins; inaccurate → missed talent, wasted spend, weaker roster\n",
        "\"\"\""
      ],
      "metadata": {
        "id": "Mmo6apC9EEv8"
      },
      "execution_count": 9,
      "outputs": []
    },
    {
      "cell_type": "code",
      "source": [
        "# Do not modify this code\n",
        "print_tile(size=\"h3\", key='business_use_case_description', value=business_use_case_description)"
      ],
      "metadata": {
        "id": "bgb0DkG2EE2e",
        "colab": {
          "base_uri": "https://localhost:8080/",
          "height": 101
        },
        "outputId": "06806961-927b-4785-fd06-219d67ddf960"
      },
      "execution_count": 10,
      "outputs": [
        {
          "output_type": "display_data",
          "data": {
            "text/plain": [
              "<IPython.core.display.HTML object>"
            ],
            "text/html": [
              "<p style=\"color:grey\">business_use_case_description</p><h3 font-size: 3em>\n",
              "Goal: predict each player’s draft probability so the team can prioritise scouting/offers and allocate budget efficiently.\n",
              "Impact: accurate → higher hit-rate, ROI, and wins; inaccurate → missed talent, wasted spend, weaker roster\n",
              "</h3>"
            ]
          },
          "metadata": {}
        }
      ]
    },
    {
      "cell_type": "code",
      "source": [
        "# <Student to fill this section>\n",
        "business_objectives = \"\"\"\n",
        "Identify and rank high-potential draftees to focus scouting/offers, boosting draft hit-rate and roster quality.\n",
        "Reduce wasted spend/time by filtering low-probability prospects, improving ROI and long-term team performance.\n",
        "\"\"\""
      ],
      "metadata": {
        "id": "29Yqk3d2EE8q"
      },
      "execution_count": 11,
      "outputs": []
    },
    {
      "cell_type": "code",
      "source": [
        "# Do not modify this code\n",
        "print_tile(size=\"h3\", key='business_objectives', value=business_objectives)"
      ],
      "metadata": {
        "id": "sSu_8J96EFDs",
        "colab": {
          "base_uri": "https://localhost:8080/",
          "height": 101
        },
        "outputId": "c2380f82-19af-47e9-f837-a934f4955b84"
      },
      "execution_count": 12,
      "outputs": [
        {
          "output_type": "display_data",
          "data": {
            "text/plain": [
              "<IPython.core.display.HTML object>"
            ],
            "text/html": [
              "<p style=\"color:grey\">business_objectives</p><h3 font-size: 3em>\n",
              "Identify and rank high-potential draftees to focus scouting/offers, boosting draft hit-rate and roster quality.\n",
              "Reduce wasted spend/time by filtering low-probability prospects, improving ROI and long-term team performance.\n",
              "</h3>"
            ]
          },
          "metadata": {}
        }
      ]
    },
    {
      "cell_type": "code",
      "source": [
        "# <Student to fill this section>\n",
        "stakeholders_expectations_explanations = \"\"\"\n",
        "Owners/GM: Clear ROI (higher draft hit-rate, lower scouting cost), on-time insights before draft windows, and defensible KPIs (AUROC, calibration).\n",
        "Coaches: Short, trusted shortlists with thresholds and role-fit notes; minimal false positives that waste practice reps.\n",
        "Scouting Dept: Augmentation (not replacement) of scouts; transparent feature importance and a feedback loop to correct misses.\n",
        "Analytics/ML: Reproducible, leakage-free pipeline with versioned data, drift/quality monitoring, and easy what-if analyses.\n",
        "Compliance/Legal: Fairness checks across demographics, privacy-safe data handling, and auditable decisions.\n",
        "IT/Ops: Secure access, low-latency scoring API, uptime during peak draft activity, and smooth integration with existing tools.\n",
        "\"\"\"\n"
      ],
      "metadata": {
        "id": "Hf4ThY5cEF5W"
      },
      "execution_count": 13,
      "outputs": []
    },
    {
      "cell_type": "code",
      "source": [
        "# Do not modify this code\n",
        "print_tile(size=\"h3\", key='stakeholders_expectations_explanations', value=stakeholders_expectations_explanations)"
      ],
      "metadata": {
        "id": "jH9a2X70EF8M",
        "colab": {
          "base_uri": "https://localhost:8080/",
          "height": 142
        },
        "outputId": "a0f0ef19-59b1-494e-9d53-ed7d8100889e"
      },
      "execution_count": 14,
      "outputs": [
        {
          "output_type": "display_data",
          "data": {
            "text/plain": [
              "<IPython.core.display.HTML object>"
            ],
            "text/html": [
              "<p style=\"color:grey\">stakeholders_expectations_explanations</p><h3 font-size: 3em>\n",
              "Owners/GM: Clear ROI (higher draft hit-rate, lower scouting cost), on-time insights before draft windows, and defensible KPIs (AUROC, calibration).\n",
              "Coaches: Short, trusted shortlists with thresholds and role-fit notes; minimal false positives that waste practice reps.\n",
              "Scouting Dept: Augmentation (not replacement) of scouts; transparent feature importance and a feedback loop to correct misses.\n",
              "Analytics/ML: Reproducible, leakage-free pipeline with versioned data, drift/quality monitoring, and easy what-if analyses.\n",
              "Compliance/Legal: Fairness checks across demographics, privacy-safe data handling, and auditable decisions.\n",
              "IT/Ops: Secure access, low-latency scoring API, uptime during peak draft activity, and smooth integration with existing tools.\n",
              "</h3>"
            ]
          },
          "metadata": {}
        }
      ]
    },
    {
      "cell_type": "markdown",
      "source": [
        "---\n",
        "## C. Data Understanding"
      ],
      "metadata": {
        "id": "P0zsEPshwy1K"
      }
    },
    {
      "cell_type": "markdown",
      "source": [
        "### C.1   Load Datasets\n"
      ],
      "metadata": {
        "id": "sGMWhKSbUl63"
      }
    },
    {
      "cell_type": "code",
      "source": [
        "import pandas as pd\n",
        "from pathlib import Path\n",
        "from IPython.display import display\n",
        "\n",
        "# Search in root and sample_data (works in Colab)\n",
        "BASES = [Path(\".\"), Path(\"sample_data\"), Path(\"/content\"), Path(\"/content/sample_data\")]\n",
        "\n",
        "def find_file(name, required=False):\n",
        "    for b in BASES:\n",
        "        p = (b / name).resolve()\n",
        "        if p.exists(): return p\n",
        "    if required:\n",
        "        raise FileNotFoundError(f\"{name} not found in any of: \" + \", \".join(map(str, BASES)))\n",
        "    return None\n",
        "\n",
        "def read_csv_robust(path):\n",
        "    \"\"\"Try multiple encodings + safe options to avoid UnicodeDecodeError.\"\"\"\n",
        "    if path is None: return None\n",
        "    tried = []\n",
        "    for enc in [\"utf-8\", \"utf-8-sig\", \"cp1252\", \"latin1\"]:\n",
        "        try:\n",
        "            return pd.read_csv(\n",
        "                path,\n",
        "                engine=\"python\",     # allows sep=None inference\n",
        "                sep=None,            # auto-detect delimiter\n",
        "                encoding=enc,\n",
        "                encoding_errors=\"replace\",  # keep going on bad bytes\n",
        "                on_bad_lines=\"skip\"  # skip broken rows if any\n",
        "            )\n",
        "        except Exception as e:\n",
        "            tried.append(f\"{enc}: {type(e).__name__}\")\n",
        "    print(f\"⚠️ Could not parse {path.name} with encodings -> {tried}. Skipping.\")\n",
        "    return None\n",
        "\n",
        "train_path  = find_file(\"train.csv\", required=True)\n",
        "test_path   = find_file(\"test.csv\",  required=True)\n",
        "sample_path = find_file(\"sample_submission.csv\", required=False)\n",
        "meta_path   = find_file(\"metadata.csv\", required=False)\n",
        "\n",
        "train = read_csv_robust(train_path)\n",
        "test  = read_csv_robust(test_path)\n",
        "sample_submission = read_csv_robust(sample_path)\n",
        "metadata = read_csv_robust(meta_path)\n",
        "\n",
        "print(\"Train:\", train_path, \"shape:\", train.shape)\n",
        "print(\"Test :\", test_path,  \"shape:\", test.shape)\n",
        "print(\"Sample submission:\", sample_path if sample_submission is not None else \"not found or unreadable\")\n",
        "print(\"Metadata:\", meta_path if metadata is not None else \"not found or unreadable\")\n",
        "\n",
        "display(train.head(3))\n",
        "display(test.head(3))"
      ],
      "metadata": {
        "id": "NKgOzSn-w0eq",
        "colab": {
          "base_uri": "https://localhost:8080/",
          "height": 401
        },
        "outputId": "7167f2d2-f46e-432e-8e19-398ba872fa37"
      },
      "execution_count": 15,
      "outputs": [
        {
          "output_type": "stream",
          "name": "stdout",
          "text": [
            "Train: /content/train.csv shape: (14774, 62)\n",
            "Test : /content/test.csv shape: (1297, 61)\n",
            "Sample submission: /content/sample_submission.csv\n",
            "Metadata: /content/metadata.csv\n"
          ]
        },
        {
          "output_type": "display_data",
          "data": {
            "text/plain": [
              "                team  conf  GP  Min_per   Ortg   usg   eFG  TS_per  ORB_per  \\\n",
              "0            Pacific    BW  26     52.6  111.8  19.3  61.8   64.93      1.1   \n",
              "1        Mississippi   SEC   2      0.8   63.6  29.6  33.3   33.33      0.0   \n",
              "2  Stephen F. Austin  Slnd   4      0.6   61.4  21.7  50.0   50.00      0.0   \n",
              "\n",
              "   DRB_per  ...    dgbpm    oreb    dreb    treb     ast     stl     blk  \\\n",
              "0      7.5  ... -1.34201  0.2308  1.5769  1.8077  2.2308  0.6538  0.0769   \n",
              "1     21.5  ... -5.42104  0.0000  1.0000  1.0000  0.0000  0.0000  0.0000   \n",
              "2      0.0  ...  6.46650  0.0000  0.0000  0.0000  0.0000  0.2500  0.0000   \n",
              "\n",
              "      pts                             player_id  drafted  \n",
              "0  9.6538  681edf6e-41cb-4fd1-ba91-da573e063fbc      0.0  \n",
              "1  2.0000  3542dcb7-19ad-47f2-8b3a-eb79eb3ec4c4      0.0  \n",
              "2  0.5000  ca0d8700-807d-4fce-a7a9-63922d1981e6      0.0  \n",
              "\n",
              "[3 rows x 62 columns]"
            ],
            "text/html": [
              "\n",
              "  <div id=\"df-cd9304ab-f2cb-47b8-b9d8-631fa038d1d6\" class=\"colab-df-container\">\n",
              "    <div>\n",
              "<style scoped>\n",
              "    .dataframe tbody tr th:only-of-type {\n",
              "        vertical-align: middle;\n",
              "    }\n",
              "\n",
              "    .dataframe tbody tr th {\n",
              "        vertical-align: top;\n",
              "    }\n",
              "\n",
              "    .dataframe thead th {\n",
              "        text-align: right;\n",
              "    }\n",
              "</style>\n",
              "<table border=\"1\" class=\"dataframe\">\n",
              "  <thead>\n",
              "    <tr style=\"text-align: right;\">\n",
              "      <th></th>\n",
              "      <th>team</th>\n",
              "      <th>conf</th>\n",
              "      <th>GP</th>\n",
              "      <th>Min_per</th>\n",
              "      <th>Ortg</th>\n",
              "      <th>usg</th>\n",
              "      <th>eFG</th>\n",
              "      <th>TS_per</th>\n",
              "      <th>ORB_per</th>\n",
              "      <th>DRB_per</th>\n",
              "      <th>...</th>\n",
              "      <th>dgbpm</th>\n",
              "      <th>oreb</th>\n",
              "      <th>dreb</th>\n",
              "      <th>treb</th>\n",
              "      <th>ast</th>\n",
              "      <th>stl</th>\n",
              "      <th>blk</th>\n",
              "      <th>pts</th>\n",
              "      <th>player_id</th>\n",
              "      <th>drafted</th>\n",
              "    </tr>\n",
              "  </thead>\n",
              "  <tbody>\n",
              "    <tr>\n",
              "      <th>0</th>\n",
              "      <td>Pacific</td>\n",
              "      <td>BW</td>\n",
              "      <td>26</td>\n",
              "      <td>52.6</td>\n",
              "      <td>111.8</td>\n",
              "      <td>19.3</td>\n",
              "      <td>61.8</td>\n",
              "      <td>64.93</td>\n",
              "      <td>1.1</td>\n",
              "      <td>7.5</td>\n",
              "      <td>...</td>\n",
              "      <td>-1.34201</td>\n",
              "      <td>0.2308</td>\n",
              "      <td>1.5769</td>\n",
              "      <td>1.8077</td>\n",
              "      <td>2.2308</td>\n",
              "      <td>0.6538</td>\n",
              "      <td>0.0769</td>\n",
              "      <td>9.6538</td>\n",
              "      <td>681edf6e-41cb-4fd1-ba91-da573e063fbc</td>\n",
              "      <td>0.0</td>\n",
              "    </tr>\n",
              "    <tr>\n",
              "      <th>1</th>\n",
              "      <td>Mississippi</td>\n",
              "      <td>SEC</td>\n",
              "      <td>2</td>\n",
              "      <td>0.8</td>\n",
              "      <td>63.6</td>\n",
              "      <td>29.6</td>\n",
              "      <td>33.3</td>\n",
              "      <td>33.33</td>\n",
              "      <td>0.0</td>\n",
              "      <td>21.5</td>\n",
              "      <td>...</td>\n",
              "      <td>-5.42104</td>\n",
              "      <td>0.0000</td>\n",
              "      <td>1.0000</td>\n",
              "      <td>1.0000</td>\n",
              "      <td>0.0000</td>\n",
              "      <td>0.0000</td>\n",
              "      <td>0.0000</td>\n",
              "      <td>2.0000</td>\n",
              "      <td>3542dcb7-19ad-47f2-8b3a-eb79eb3ec4c4</td>\n",
              "      <td>0.0</td>\n",
              "    </tr>\n",
              "    <tr>\n",
              "      <th>2</th>\n",
              "      <td>Stephen F. Austin</td>\n",
              "      <td>Slnd</td>\n",
              "      <td>4</td>\n",
              "      <td>0.6</td>\n",
              "      <td>61.4</td>\n",
              "      <td>21.7</td>\n",
              "      <td>50.0</td>\n",
              "      <td>50.00</td>\n",
              "      <td>0.0</td>\n",
              "      <td>0.0</td>\n",
              "      <td>...</td>\n",
              "      <td>6.46650</td>\n",
              "      <td>0.0000</td>\n",
              "      <td>0.0000</td>\n",
              "      <td>0.0000</td>\n",
              "      <td>0.0000</td>\n",
              "      <td>0.2500</td>\n",
              "      <td>0.0000</td>\n",
              "      <td>0.5000</td>\n",
              "      <td>ca0d8700-807d-4fce-a7a9-63922d1981e6</td>\n",
              "      <td>0.0</td>\n",
              "    </tr>\n",
              "  </tbody>\n",
              "</table>\n",
              "<p>3 rows × 62 columns</p>\n",
              "</div>\n",
              "    <div class=\"colab-df-buttons\">\n",
              "\n",
              "  <div class=\"colab-df-container\">\n",
              "    <button class=\"colab-df-convert\" onclick=\"convertToInteractive('df-cd9304ab-f2cb-47b8-b9d8-631fa038d1d6')\"\n",
              "            title=\"Convert this dataframe to an interactive table.\"\n",
              "            style=\"display:none;\">\n",
              "\n",
              "  <svg xmlns=\"http://www.w3.org/2000/svg\" height=\"24px\" viewBox=\"0 -960 960 960\">\n",
              "    <path d=\"M120-120v-720h720v720H120Zm60-500h600v-160H180v160Zm220 220h160v-160H400v160Zm0 220h160v-160H400v160ZM180-400h160v-160H180v160Zm440 0h160v-160H620v160ZM180-180h160v-160H180v160Zm440 0h160v-160H620v160Z\"/>\n",
              "  </svg>\n",
              "    </button>\n",
              "\n",
              "  <style>\n",
              "    .colab-df-container {\n",
              "      display:flex;\n",
              "      gap: 12px;\n",
              "    }\n",
              "\n",
              "    .colab-df-convert {\n",
              "      background-color: #E8F0FE;\n",
              "      border: none;\n",
              "      border-radius: 50%;\n",
              "      cursor: pointer;\n",
              "      display: none;\n",
              "      fill: #1967D2;\n",
              "      height: 32px;\n",
              "      padding: 0 0 0 0;\n",
              "      width: 32px;\n",
              "    }\n",
              "\n",
              "    .colab-df-convert:hover {\n",
              "      background-color: #E2EBFA;\n",
              "      box-shadow: 0px 1px 2px rgba(60, 64, 67, 0.3), 0px 1px 3px 1px rgba(60, 64, 67, 0.15);\n",
              "      fill: #174EA6;\n",
              "    }\n",
              "\n",
              "    .colab-df-buttons div {\n",
              "      margin-bottom: 4px;\n",
              "    }\n",
              "\n",
              "    [theme=dark] .colab-df-convert {\n",
              "      background-color: #3B4455;\n",
              "      fill: #D2E3FC;\n",
              "    }\n",
              "\n",
              "    [theme=dark] .colab-df-convert:hover {\n",
              "      background-color: #434B5C;\n",
              "      box-shadow: 0px 1px 3px 1px rgba(0, 0, 0, 0.15);\n",
              "      filter: drop-shadow(0px 1px 2px rgba(0, 0, 0, 0.3));\n",
              "      fill: #FFFFFF;\n",
              "    }\n",
              "  </style>\n",
              "\n",
              "    <script>\n",
              "      const buttonEl =\n",
              "        document.querySelector('#df-cd9304ab-f2cb-47b8-b9d8-631fa038d1d6 button.colab-df-convert');\n",
              "      buttonEl.style.display =\n",
              "        google.colab.kernel.accessAllowed ? 'block' : 'none';\n",
              "\n",
              "      async function convertToInteractive(key) {\n",
              "        const element = document.querySelector('#df-cd9304ab-f2cb-47b8-b9d8-631fa038d1d6');\n",
              "        const dataTable =\n",
              "          await google.colab.kernel.invokeFunction('convertToInteractive',\n",
              "                                                    [key], {});\n",
              "        if (!dataTable) return;\n",
              "\n",
              "        const docLinkHtml = 'Like what you see? Visit the ' +\n",
              "          '<a target=\"_blank\" href=https://colab.research.google.com/notebooks/data_table.ipynb>data table notebook</a>'\n",
              "          + ' to learn more about interactive tables.';\n",
              "        element.innerHTML = '';\n",
              "        dataTable['output_type'] = 'display_data';\n",
              "        await google.colab.output.renderOutput(dataTable, element);\n",
              "        const docLink = document.createElement('div');\n",
              "        docLink.innerHTML = docLinkHtml;\n",
              "        element.appendChild(docLink);\n",
              "      }\n",
              "    </script>\n",
              "  </div>\n",
              "\n",
              "\n",
              "    <div id=\"df-bcf27a6f-ef60-46a6-8e29-a8cf9aafafcc\">\n",
              "      <button class=\"colab-df-quickchart\" onclick=\"quickchart('df-bcf27a6f-ef60-46a6-8e29-a8cf9aafafcc')\"\n",
              "                title=\"Suggest charts\"\n",
              "                style=\"display:none;\">\n",
              "\n",
              "<svg xmlns=\"http://www.w3.org/2000/svg\" height=\"24px\"viewBox=\"0 0 24 24\"\n",
              "     width=\"24px\">\n",
              "    <g>\n",
              "        <path d=\"M19 3H5c-1.1 0-2 .9-2 2v14c0 1.1.9 2 2 2h14c1.1 0 2-.9 2-2V5c0-1.1-.9-2-2-2zM9 17H7v-7h2v7zm4 0h-2V7h2v10zm4 0h-2v-4h2v4z\"/>\n",
              "    </g>\n",
              "</svg>\n",
              "      </button>\n",
              "\n",
              "<style>\n",
              "  .colab-df-quickchart {\n",
              "      --bg-color: #E8F0FE;\n",
              "      --fill-color: #1967D2;\n",
              "      --hover-bg-color: #E2EBFA;\n",
              "      --hover-fill-color: #174EA6;\n",
              "      --disabled-fill-color: #AAA;\n",
              "      --disabled-bg-color: #DDD;\n",
              "  }\n",
              "\n",
              "  [theme=dark] .colab-df-quickchart {\n",
              "      --bg-color: #3B4455;\n",
              "      --fill-color: #D2E3FC;\n",
              "      --hover-bg-color: #434B5C;\n",
              "      --hover-fill-color: #FFFFFF;\n",
              "      --disabled-bg-color: #3B4455;\n",
              "      --disabled-fill-color: #666;\n",
              "  }\n",
              "\n",
              "  .colab-df-quickchart {\n",
              "    background-color: var(--bg-color);\n",
              "    border: none;\n",
              "    border-radius: 50%;\n",
              "    cursor: pointer;\n",
              "    display: none;\n",
              "    fill: var(--fill-color);\n",
              "    height: 32px;\n",
              "    padding: 0;\n",
              "    width: 32px;\n",
              "  }\n",
              "\n",
              "  .colab-df-quickchart:hover {\n",
              "    background-color: var(--hover-bg-color);\n",
              "    box-shadow: 0 1px 2px rgba(60, 64, 67, 0.3), 0 1px 3px 1px rgba(60, 64, 67, 0.15);\n",
              "    fill: var(--button-hover-fill-color);\n",
              "  }\n",
              "\n",
              "  .colab-df-quickchart-complete:disabled,\n",
              "  .colab-df-quickchart-complete:disabled:hover {\n",
              "    background-color: var(--disabled-bg-color);\n",
              "    fill: var(--disabled-fill-color);\n",
              "    box-shadow: none;\n",
              "  }\n",
              "\n",
              "  .colab-df-spinner {\n",
              "    border: 2px solid var(--fill-color);\n",
              "    border-color: transparent;\n",
              "    border-bottom-color: var(--fill-color);\n",
              "    animation:\n",
              "      spin 1s steps(1) infinite;\n",
              "  }\n",
              "\n",
              "  @keyframes spin {\n",
              "    0% {\n",
              "      border-color: transparent;\n",
              "      border-bottom-color: var(--fill-color);\n",
              "      border-left-color: var(--fill-color);\n",
              "    }\n",
              "    20% {\n",
              "      border-color: transparent;\n",
              "      border-left-color: var(--fill-color);\n",
              "      border-top-color: var(--fill-color);\n",
              "    }\n",
              "    30% {\n",
              "      border-color: transparent;\n",
              "      border-left-color: var(--fill-color);\n",
              "      border-top-color: var(--fill-color);\n",
              "      border-right-color: var(--fill-color);\n",
              "    }\n",
              "    40% {\n",
              "      border-color: transparent;\n",
              "      border-right-color: var(--fill-color);\n",
              "      border-top-color: var(--fill-color);\n",
              "    }\n",
              "    60% {\n",
              "      border-color: transparent;\n",
              "      border-right-color: var(--fill-color);\n",
              "    }\n",
              "    80% {\n",
              "      border-color: transparent;\n",
              "      border-right-color: var(--fill-color);\n",
              "      border-bottom-color: var(--fill-color);\n",
              "    }\n",
              "    90% {\n",
              "      border-color: transparent;\n",
              "      border-bottom-color: var(--fill-color);\n",
              "    }\n",
              "  }\n",
              "</style>\n",
              "\n",
              "      <script>\n",
              "        async function quickchart(key) {\n",
              "          const quickchartButtonEl =\n",
              "            document.querySelector('#' + key + ' button');\n",
              "          quickchartButtonEl.disabled = true;  // To prevent multiple clicks.\n",
              "          quickchartButtonEl.classList.add('colab-df-spinner');\n",
              "          try {\n",
              "            const charts = await google.colab.kernel.invokeFunction(\n",
              "                'suggestCharts', [key], {});\n",
              "          } catch (error) {\n",
              "            console.error('Error during call to suggestCharts:', error);\n",
              "          }\n",
              "          quickchartButtonEl.classList.remove('colab-df-spinner');\n",
              "          quickchartButtonEl.classList.add('colab-df-quickchart-complete');\n",
              "        }\n",
              "        (() => {\n",
              "          let quickchartButtonEl =\n",
              "            document.querySelector('#df-bcf27a6f-ef60-46a6-8e29-a8cf9aafafcc button');\n",
              "          quickchartButtonEl.style.display =\n",
              "            google.colab.kernel.accessAllowed ? 'block' : 'none';\n",
              "        })();\n",
              "      </script>\n",
              "    </div>\n",
              "\n",
              "    </div>\n",
              "  </div>\n"
            ],
            "application/vnd.google.colaboratory.intrinsic+json": {
              "type": "dataframe"
            }
          },
          "metadata": {}
        },
        {
          "output_type": "display_data",
          "data": {
            "text/plain": [
              "        team  conf  GP  Min_per   Ortg   usg   eFG  TS_per  ORB_per  DRB_per  \\\n",
              "0   UC Davis    BW   8      2.2   51.7  13.4  30.0   30.00      0.0     14.3   \n",
              "1   Campbell  BSth  25     16.4   85.0  25.2  50.0   52.10      2.0     11.8   \n",
              "2  Weber St.  BSky  29     50.5  117.8  16.8  61.8   59.77     12.3     17.1   \n",
              "\n",
              "   ...      ogbpm     dgbpm    oreb    dreb    treb     ast     stl     blk  \\\n",
              "0  ... -11.240100 -4.721030  0.1000  0.6000  0.7000  0.2000  0.1000  0.0000   \n",
              "1  ...  -2.972020 -1.741870  0.1481  0.9259  1.0741  0.1481  0.4074  0.1111   \n",
              "2  ...   0.739055 -0.259202  2.1562  2.7500  4.9062  0.7188  0.4062  1.0625   \n",
              "\n",
              "      pts                             player_id  \n",
              "0  1.5000  c6d3ce49-28b6-4756-8061-b2bd68730c52  \n",
              "1  4.0741  24dd0ae2-9d22-4d31-9cb6-c31f58f903b5  \n",
              "2  6.7500  0cf3e822-9446-4285-b7ed-7c19d8e976fe  \n",
              "\n",
              "[3 rows x 61 columns]"
            ],
            "text/html": [
              "\n",
              "  <div id=\"df-53f94351-14dc-472d-ae20-adcb9da02f73\" class=\"colab-df-container\">\n",
              "    <div>\n",
              "<style scoped>\n",
              "    .dataframe tbody tr th:only-of-type {\n",
              "        vertical-align: middle;\n",
              "    }\n",
              "\n",
              "    .dataframe tbody tr th {\n",
              "        vertical-align: top;\n",
              "    }\n",
              "\n",
              "    .dataframe thead th {\n",
              "        text-align: right;\n",
              "    }\n",
              "</style>\n",
              "<table border=\"1\" class=\"dataframe\">\n",
              "  <thead>\n",
              "    <tr style=\"text-align: right;\">\n",
              "      <th></th>\n",
              "      <th>team</th>\n",
              "      <th>conf</th>\n",
              "      <th>GP</th>\n",
              "      <th>Min_per</th>\n",
              "      <th>Ortg</th>\n",
              "      <th>usg</th>\n",
              "      <th>eFG</th>\n",
              "      <th>TS_per</th>\n",
              "      <th>ORB_per</th>\n",
              "      <th>DRB_per</th>\n",
              "      <th>...</th>\n",
              "      <th>ogbpm</th>\n",
              "      <th>dgbpm</th>\n",
              "      <th>oreb</th>\n",
              "      <th>dreb</th>\n",
              "      <th>treb</th>\n",
              "      <th>ast</th>\n",
              "      <th>stl</th>\n",
              "      <th>blk</th>\n",
              "      <th>pts</th>\n",
              "      <th>player_id</th>\n",
              "    </tr>\n",
              "  </thead>\n",
              "  <tbody>\n",
              "    <tr>\n",
              "      <th>0</th>\n",
              "      <td>UC Davis</td>\n",
              "      <td>BW</td>\n",
              "      <td>8</td>\n",
              "      <td>2.2</td>\n",
              "      <td>51.7</td>\n",
              "      <td>13.4</td>\n",
              "      <td>30.0</td>\n",
              "      <td>30.00</td>\n",
              "      <td>0.0</td>\n",
              "      <td>14.3</td>\n",
              "      <td>...</td>\n",
              "      <td>-11.240100</td>\n",
              "      <td>-4.721030</td>\n",
              "      <td>0.1000</td>\n",
              "      <td>0.6000</td>\n",
              "      <td>0.7000</td>\n",
              "      <td>0.2000</td>\n",
              "      <td>0.1000</td>\n",
              "      <td>0.0000</td>\n",
              "      <td>1.5000</td>\n",
              "      <td>c6d3ce49-28b6-4756-8061-b2bd68730c52</td>\n",
              "    </tr>\n",
              "    <tr>\n",
              "      <th>1</th>\n",
              "      <td>Campbell</td>\n",
              "      <td>BSth</td>\n",
              "      <td>25</td>\n",
              "      <td>16.4</td>\n",
              "      <td>85.0</td>\n",
              "      <td>25.2</td>\n",
              "      <td>50.0</td>\n",
              "      <td>52.10</td>\n",
              "      <td>2.0</td>\n",
              "      <td>11.8</td>\n",
              "      <td>...</td>\n",
              "      <td>-2.972020</td>\n",
              "      <td>-1.741870</td>\n",
              "      <td>0.1481</td>\n",
              "      <td>0.9259</td>\n",
              "      <td>1.0741</td>\n",
              "      <td>0.1481</td>\n",
              "      <td>0.4074</td>\n",
              "      <td>0.1111</td>\n",
              "      <td>4.0741</td>\n",
              "      <td>24dd0ae2-9d22-4d31-9cb6-c31f58f903b5</td>\n",
              "    </tr>\n",
              "    <tr>\n",
              "      <th>2</th>\n",
              "      <td>Weber St.</td>\n",
              "      <td>BSky</td>\n",
              "      <td>29</td>\n",
              "      <td>50.5</td>\n",
              "      <td>117.8</td>\n",
              "      <td>16.8</td>\n",
              "      <td>61.8</td>\n",
              "      <td>59.77</td>\n",
              "      <td>12.3</td>\n",
              "      <td>17.1</td>\n",
              "      <td>...</td>\n",
              "      <td>0.739055</td>\n",
              "      <td>-0.259202</td>\n",
              "      <td>2.1562</td>\n",
              "      <td>2.7500</td>\n",
              "      <td>4.9062</td>\n",
              "      <td>0.7188</td>\n",
              "      <td>0.4062</td>\n",
              "      <td>1.0625</td>\n",
              "      <td>6.7500</td>\n",
              "      <td>0cf3e822-9446-4285-b7ed-7c19d8e976fe</td>\n",
              "    </tr>\n",
              "  </tbody>\n",
              "</table>\n",
              "<p>3 rows × 61 columns</p>\n",
              "</div>\n",
              "    <div class=\"colab-df-buttons\">\n",
              "\n",
              "  <div class=\"colab-df-container\">\n",
              "    <button class=\"colab-df-convert\" onclick=\"convertToInteractive('df-53f94351-14dc-472d-ae20-adcb9da02f73')\"\n",
              "            title=\"Convert this dataframe to an interactive table.\"\n",
              "            style=\"display:none;\">\n",
              "\n",
              "  <svg xmlns=\"http://www.w3.org/2000/svg\" height=\"24px\" viewBox=\"0 -960 960 960\">\n",
              "    <path d=\"M120-120v-720h720v720H120Zm60-500h600v-160H180v160Zm220 220h160v-160H400v160Zm0 220h160v-160H400v160ZM180-400h160v-160H180v160Zm440 0h160v-160H620v160ZM180-180h160v-160H180v160Zm440 0h160v-160H620v160Z\"/>\n",
              "  </svg>\n",
              "    </button>\n",
              "\n",
              "  <style>\n",
              "    .colab-df-container {\n",
              "      display:flex;\n",
              "      gap: 12px;\n",
              "    }\n",
              "\n",
              "    .colab-df-convert {\n",
              "      background-color: #E8F0FE;\n",
              "      border: none;\n",
              "      border-radius: 50%;\n",
              "      cursor: pointer;\n",
              "      display: none;\n",
              "      fill: #1967D2;\n",
              "      height: 32px;\n",
              "      padding: 0 0 0 0;\n",
              "      width: 32px;\n",
              "    }\n",
              "\n",
              "    .colab-df-convert:hover {\n",
              "      background-color: #E2EBFA;\n",
              "      box-shadow: 0px 1px 2px rgba(60, 64, 67, 0.3), 0px 1px 3px 1px rgba(60, 64, 67, 0.15);\n",
              "      fill: #174EA6;\n",
              "    }\n",
              "\n",
              "    .colab-df-buttons div {\n",
              "      margin-bottom: 4px;\n",
              "    }\n",
              "\n",
              "    [theme=dark] .colab-df-convert {\n",
              "      background-color: #3B4455;\n",
              "      fill: #D2E3FC;\n",
              "    }\n",
              "\n",
              "    [theme=dark] .colab-df-convert:hover {\n",
              "      background-color: #434B5C;\n",
              "      box-shadow: 0px 1px 3px 1px rgba(0, 0, 0, 0.15);\n",
              "      filter: drop-shadow(0px 1px 2px rgba(0, 0, 0, 0.3));\n",
              "      fill: #FFFFFF;\n",
              "    }\n",
              "  </style>\n",
              "\n",
              "    <script>\n",
              "      const buttonEl =\n",
              "        document.querySelector('#df-53f94351-14dc-472d-ae20-adcb9da02f73 button.colab-df-convert');\n",
              "      buttonEl.style.display =\n",
              "        google.colab.kernel.accessAllowed ? 'block' : 'none';\n",
              "\n",
              "      async function convertToInteractive(key) {\n",
              "        const element = document.querySelector('#df-53f94351-14dc-472d-ae20-adcb9da02f73');\n",
              "        const dataTable =\n",
              "          await google.colab.kernel.invokeFunction('convertToInteractive',\n",
              "                                                    [key], {});\n",
              "        if (!dataTable) return;\n",
              "\n",
              "        const docLinkHtml = 'Like what you see? Visit the ' +\n",
              "          '<a target=\"_blank\" href=https://colab.research.google.com/notebooks/data_table.ipynb>data table notebook</a>'\n",
              "          + ' to learn more about interactive tables.';\n",
              "        element.innerHTML = '';\n",
              "        dataTable['output_type'] = 'display_data';\n",
              "        await google.colab.output.renderOutput(dataTable, element);\n",
              "        const docLink = document.createElement('div');\n",
              "        docLink.innerHTML = docLinkHtml;\n",
              "        element.appendChild(docLink);\n",
              "      }\n",
              "    </script>\n",
              "  </div>\n",
              "\n",
              "\n",
              "    <div id=\"df-cc14c5e5-8df8-42a8-b6d6-6fb43c086ba8\">\n",
              "      <button class=\"colab-df-quickchart\" onclick=\"quickchart('df-cc14c5e5-8df8-42a8-b6d6-6fb43c086ba8')\"\n",
              "                title=\"Suggest charts\"\n",
              "                style=\"display:none;\">\n",
              "\n",
              "<svg xmlns=\"http://www.w3.org/2000/svg\" height=\"24px\"viewBox=\"0 0 24 24\"\n",
              "     width=\"24px\">\n",
              "    <g>\n",
              "        <path d=\"M19 3H5c-1.1 0-2 .9-2 2v14c0 1.1.9 2 2 2h14c1.1 0 2-.9 2-2V5c0-1.1-.9-2-2-2zM9 17H7v-7h2v7zm4 0h-2V7h2v10zm4 0h-2v-4h2v4z\"/>\n",
              "    </g>\n",
              "</svg>\n",
              "      </button>\n",
              "\n",
              "<style>\n",
              "  .colab-df-quickchart {\n",
              "      --bg-color: #E8F0FE;\n",
              "      --fill-color: #1967D2;\n",
              "      --hover-bg-color: #E2EBFA;\n",
              "      --hover-fill-color: #174EA6;\n",
              "      --disabled-fill-color: #AAA;\n",
              "      --disabled-bg-color: #DDD;\n",
              "  }\n",
              "\n",
              "  [theme=dark] .colab-df-quickchart {\n",
              "      --bg-color: #3B4455;\n",
              "      --fill-color: #D2E3FC;\n",
              "      --hover-bg-color: #434B5C;\n",
              "      --hover-fill-color: #FFFFFF;\n",
              "      --disabled-bg-color: #3B4455;\n",
              "      --disabled-fill-color: #666;\n",
              "  }\n",
              "\n",
              "  .colab-df-quickchart {\n",
              "    background-color: var(--bg-color);\n",
              "    border: none;\n",
              "    border-radius: 50%;\n",
              "    cursor: pointer;\n",
              "    display: none;\n",
              "    fill: var(--fill-color);\n",
              "    height: 32px;\n",
              "    padding: 0;\n",
              "    width: 32px;\n",
              "  }\n",
              "\n",
              "  .colab-df-quickchart:hover {\n",
              "    background-color: var(--hover-bg-color);\n",
              "    box-shadow: 0 1px 2px rgba(60, 64, 67, 0.3), 0 1px 3px 1px rgba(60, 64, 67, 0.15);\n",
              "    fill: var(--button-hover-fill-color);\n",
              "  }\n",
              "\n",
              "  .colab-df-quickchart-complete:disabled,\n",
              "  .colab-df-quickchart-complete:disabled:hover {\n",
              "    background-color: var(--disabled-bg-color);\n",
              "    fill: var(--disabled-fill-color);\n",
              "    box-shadow: none;\n",
              "  }\n",
              "\n",
              "  .colab-df-spinner {\n",
              "    border: 2px solid var(--fill-color);\n",
              "    border-color: transparent;\n",
              "    border-bottom-color: var(--fill-color);\n",
              "    animation:\n",
              "      spin 1s steps(1) infinite;\n",
              "  }\n",
              "\n",
              "  @keyframes spin {\n",
              "    0% {\n",
              "      border-color: transparent;\n",
              "      border-bottom-color: var(--fill-color);\n",
              "      border-left-color: var(--fill-color);\n",
              "    }\n",
              "    20% {\n",
              "      border-color: transparent;\n",
              "      border-left-color: var(--fill-color);\n",
              "      border-top-color: var(--fill-color);\n",
              "    }\n",
              "    30% {\n",
              "      border-color: transparent;\n",
              "      border-left-color: var(--fill-color);\n",
              "      border-top-color: var(--fill-color);\n",
              "      border-right-color: var(--fill-color);\n",
              "    }\n",
              "    40% {\n",
              "      border-color: transparent;\n",
              "      border-right-color: var(--fill-color);\n",
              "      border-top-color: var(--fill-color);\n",
              "    }\n",
              "    60% {\n",
              "      border-color: transparent;\n",
              "      border-right-color: var(--fill-color);\n",
              "    }\n",
              "    80% {\n",
              "      border-color: transparent;\n",
              "      border-right-color: var(--fill-color);\n",
              "      border-bottom-color: var(--fill-color);\n",
              "    }\n",
              "    90% {\n",
              "      border-color: transparent;\n",
              "      border-bottom-color: var(--fill-color);\n",
              "    }\n",
              "  }\n",
              "</style>\n",
              "\n",
              "      <script>\n",
              "        async function quickchart(key) {\n",
              "          const quickchartButtonEl =\n",
              "            document.querySelector('#' + key + ' button');\n",
              "          quickchartButtonEl.disabled = true;  // To prevent multiple clicks.\n",
              "          quickchartButtonEl.classList.add('colab-df-spinner');\n",
              "          try {\n",
              "            const charts = await google.colab.kernel.invokeFunction(\n",
              "                'suggestCharts', [key], {});\n",
              "          } catch (error) {\n",
              "            console.error('Error during call to suggestCharts:', error);\n",
              "          }\n",
              "          quickchartButtonEl.classList.remove('colab-df-spinner');\n",
              "          quickchartButtonEl.classList.add('colab-df-quickchart-complete');\n",
              "        }\n",
              "        (() => {\n",
              "          let quickchartButtonEl =\n",
              "            document.querySelector('#df-cc14c5e5-8df8-42a8-b6d6-6fb43c086ba8 button');\n",
              "          quickchartButtonEl.style.display =\n",
              "            google.colab.kernel.accessAllowed ? 'block' : 'none';\n",
              "        })();\n",
              "      </script>\n",
              "    </div>\n",
              "\n",
              "    </div>\n",
              "  </div>\n"
            ],
            "application/vnd.google.colaboratory.intrinsic+json": {
              "type": "dataframe"
            }
          },
          "metadata": {}
        }
      ]
    },
    {
      "cell_type": "markdown",
      "source": [
        "### C.2 Define Target variable"
      ],
      "metadata": {
        "id": "tpG_mos_EXrY"
      }
    },
    {
      "cell_type": "code",
      "source": [
        "ID_COL = \"player_id\"\n",
        "TARGET_COL = \"drafted\"\n",
        "\n",
        "assert ID_COL in train.columns, f\"Missing {ID_COL} in train\"\n",
        "assert ID_COL in test.columns,  f\"Missing {ID_COL} in test\"\n",
        "assert TARGET_COL in train.columns, f\"Missing {TARGET_COL} in train\"\n",
        "\n",
        "print(\"Target dtype:\", train[TARGET_COL].dtype)\n",
        "print(\"Unique target values:\", sorted(train[TARGET_COL].dropna().unique().tolist()))\n",
        "print(\"Prevalence drafted=1:\", float(train[TARGET_COL].mean()))\n"
      ],
      "metadata": {
        "id": "gsQkuxYLVHb1",
        "colab": {
          "base_uri": "https://localhost:8080/",
          "height": 0
        },
        "outputId": "0d8470ef-f06e-41b6-900e-9a347f052028"
      },
      "execution_count": 16,
      "outputs": [
        {
          "output_type": "stream",
          "name": "stdout",
          "text": [
            "Target dtype: float64\n",
            "Unique target values: [0.0, 1.0]\n",
            "Prevalence drafted=1: 0.007987004196561526\n"
          ]
        }
      ]
    },
    {
      "cell_type": "code",
      "source": [
        "target_definition_explanations = (\n",
        "    \"`drafted` is the target: 1 = drafted this season, 0 = not drafted.\\n\"\n",
        "    \"We predict a probability (0–1) for each player_id and submit two columns: player_id, drafted (probability).\"\n",
        ")\n"
      ],
      "metadata": {
        "id": "RiqBkEQ-EjIZ"
      },
      "execution_count": 17,
      "outputs": []
    },
    {
      "cell_type": "code",
      "source": [
        "# Do not modify this code\n",
        "print_tile(size=\"h3\", key='target_definition_explanations', value=target_definition_explanations)"
      ],
      "metadata": {
        "id": "qdeiAKiIElvG",
        "colab": {
          "base_uri": "https://localhost:8080/",
          "height": 81
        },
        "outputId": "ca70888d-a524-4b6a-92f1-0998aab96002"
      },
      "execution_count": 18,
      "outputs": [
        {
          "output_type": "display_data",
          "data": {
            "text/plain": [
              "<IPython.core.display.HTML object>"
            ],
            "text/html": [
              "<p style=\"color:grey\">target_definition_explanations</p><h3 font-size: 3em>`drafted` is the target: 1 = drafted this season, 0 = not drafted.\n",
              "We predict a probability (0–1) for each player_id and submit two columns: player_id, drafted (probability).</h3>"
            ]
          },
          "metadata": {}
        }
      ]
    },
    {
      "cell_type": "markdown",
      "source": [
        "### C.3 Create Target variable"
      ],
      "metadata": {
        "id": "CtIfwnLmEn51"
      }
    },
    {
      "cell_type": "code",
      "source": [
        "\n",
        "ID_COL, TARGET_COL = \"player_id\", \"drafted\"\n",
        "\n",
        "# checks\n",
        "assert ID_COL in train.columns,  f\"Missing {ID_COL} in train\"\n",
        "assert TARGET_COL in train.columns, f\"Missing {TARGET_COL} in train\"\n",
        "\n",
        "# clean target to 0/1 ints (handles strings/NaNs safely)\n",
        "train[TARGET_COL] = (\n",
        "    pd.to_numeric(train[TARGET_COL], errors=\"coerce\")\n",
        "      .fillna(0).clip(0, 1).astype(int)\n",
        ")\n",
        "\n",
        "# quick stats\n",
        "pos = int(train[TARGET_COL].sum()); neg = len(train) - pos\n",
        "rate = pos / len(train)\n",
        "\n",
        "print(\"=\"*60)\n",
        "print(\"ANSWER — Create Target (NB2)\")\n",
        "print(f\"positives={pos} | negatives={neg} | drafted_rate={rate:.3f}\")\n",
        "print(\"=\"*60)\n"
      ],
      "metadata": {
        "id": "XV8dRa59EpLG",
        "colab": {
          "base_uri": "https://localhost:8080/",
          "height": 0
        },
        "outputId": "06f07391-df15-4c7d-db12-f9a38a47aa47"
      },
      "execution_count": 19,
      "outputs": [
        {
          "output_type": "stream",
          "name": "stdout",
          "text": [
            "============================================================\n",
            "ANSWER — Create Target (NB2)\n",
            "positives=118 | negatives=14656 | drafted_rate=0.008\n",
            "============================================================\n"
          ]
        }
      ]
    },
    {
      "cell_type": "markdown",
      "source": [
        "### C.4 Explore Target variable"
      ],
      "metadata": {
        "id": "dmSKLrSBFAN5"
      }
    },
    {
      "cell_type": "code",
      "source": [
        "\n",
        "TARGET_COL = \"drafted\"\n",
        "vc = train[TARGET_COL].value_counts().sort_index()\n",
        "rate = float(train[TARGET_COL].mean())\n",
        "\n",
        "print(\"=\"*60)\n",
        "print(\"ANSWER — C.4 Target distribution\")\n",
        "print(vc.to_string())\n",
        "print(f\"drafted_rate: {rate:.3f}\")\n",
        "print(\"=\"*60)\n",
        "\n",
        "# (optional) quick bar plot\n",
        "try:\n",
        "    import matplotlib.pyplot as plt\n",
        "    vc.plot(kind=\"bar\"); plt.title(\"Target distribution\"); plt.xlabel(TARGET_COL); plt.ylabel(\"count\"); plt.show()\n",
        "except Exception as e:\n",
        "    print(\"Plot skipped:\", e)\n",
        "\n",
        "# 2-line explanation\n",
        "target_distribution_explanations = (\n",
        "    \"The target is imbalanced; we’ll use stratified splits and AUROC to judge ranking quality.\\n\"\n",
        "    \"RF handles skew via class_weight='balanced_subsample' to reduce bias toward the majority class.\"\n",
        ")\n",
        "try:\n",
        "    print_title(size=\"h3\", key=\"target_distribution_explanations\", value=target_distribution_explanations)\n",
        "except NameError:\n",
        "    from IPython.display import Markdown, display\n",
        "    display(Markdown(\"### target_distribution_explanations\\n\" + target_distribution_explanations))\n"
      ],
      "metadata": {
        "id": "zeldOL0KFC4E",
        "colab": {
          "base_uri": "https://localhost:8080/",
          "height": 678
        },
        "outputId": "6cb7ff14-20b3-4ec0-d9e6-0d866ea015c0"
      },
      "execution_count": 20,
      "outputs": [
        {
          "output_type": "stream",
          "name": "stdout",
          "text": [
            "============================================================\n",
            "ANSWER — C.4 Target distribution\n",
            "drafted\n",
            "0    14656\n",
            "1      118\n",
            "drafted_rate: 0.008\n",
            "============================================================\n"
          ]
        },
        {
          "output_type": "display_data",
          "data": {
            "text/plain": [
              "<Figure size 640x480 with 1 Axes>"
            ],
            "image/png": "[encoded data removed]"
          },
          "metadata": {}
        },
        {
          "output_type": "display_data",
          "data": {
            "text/plain": [
              "<IPython.core.display.Markdown object>"
            ],
            "text/markdown": "### target_distribution_explanations\nThe target is imbalanced; we’ll use stratified splits and AUROC to judge ranking quality.\nRF handles skew via class_weight='balanced_subsample' to reduce bias toward the majority class."
          },
          "metadata": {}
        }
      ]
    },
    {
      "cell_type": "code",
      "source": [
        "# <Student to fill this section>\n",
        "target_distribution_explanations = \"\"\"\n",
        " The target is imbalanced; we’ll use stratified splits and AUROC to judge ranking quality.\\n\n",
        "    RF handles skew via class_weight='balanced_subsample' to reduce bias toward the majority class.\n",
        "\"\"\""
      ],
      "metadata": {
        "id": "5I9ccv-UEr5o"
      },
      "execution_count": 21,
      "outputs": []
    },
    {
      "cell_type": "code",
      "source": [
        "# Do not modify this code\n",
        "print_tile(size=\"h3\", key='target_distribution_explanations', value=target_distribution_explanations)"
      ],
      "metadata": {
        "id": "i45S7xA9EtEV",
        "colab": {
          "base_uri": "https://localhost:8080/",
          "height": 81
        },
        "outputId": "ebdab509-342c-4e83-e878-18024a885600"
      },
      "execution_count": 22,
      "outputs": [
        {
          "output_type": "display_data",
          "data": {
            "text/plain": [
              "<IPython.core.display.HTML object>"
            ],
            "text/html": [
              "<p style=\"color:grey\">target_distribution_explanations</p><h3 font-size: 3em>\n",
              " The target is imbalanced; we’ll use stratified splits and AUROC to judge ranking quality.\n",
              "\n",
              "    RF handles skew via class_weight='balanced_subsample' to reduce bias toward the majority class.\n",
              "</h3>"
            ]
          },
          "metadata": {}
        }
      ]
    },
    {
      "cell_type": "markdown",
      "source": [
        "### C.5 Explore Feature of Interest `\\<put feature name here\\>`"
      ],
      "metadata": {
        "id": "37ubEa7SFWXo"
      }
    },
    {
      "cell_type": "code",
      "source": [
        "\n",
        "ID_COL, TARGET_COL = \"player_id\", \"drafted\"\n",
        "feature_name = None   # <-- e.g. \"PTS\" or \"position\"; leave None to auto-pick\n",
        "\n",
        "# pick a feature if not provided\n",
        "candidates = [c for c in train.columns if c not in [ID_COL, TARGET_COL]]\n",
        "if feature_name is None or feature_name not in train.columns:\n",
        "    # prefer a numeric; otherwise first categorical\n",
        "    nums = [c for c in candidates if pd.api.types.is_numeric_dtype(train[c])]\n",
        "    feature_name = (nums[0] if nums else candidates[0])\n",
        "\n",
        "s = train[feature_name]\n",
        "missing = s.isna().mean()\n",
        "nuniq = s.nunique(dropna=True)\n",
        "\n",
        "print(\"=\"*60)\n",
        "print(f\"ANSWER — C.5 Feature: {feature_name}\")\n",
        "print(f\"dtype={s.dtype} | unique={nuniq} | missing={missing:.2%}\")\n",
        "\n",
        "if pd.api.types.is_numeric_dtype(s):\n",
        "    desc = s.describe(percentiles=[.05,.50,.95]).to_string()\n",
        "    # correlation with target (drop NaNs)\n",
        "    corr = train[[feature_name, TARGET_COL]].dropna().corr().iloc[0,1]\n",
        "    print(\"--- summary ---\")\n",
        "    print(desc)\n",
        "    print(f\"corr({feature_name}, {TARGET_COL}) = {corr:.3f}\")\n",
        "else:\n",
        "    print(\"--- top categories ---\")\n",
        "    print(s.value_counts(dropna=False).head(10).to_string())\n",
        "    if TARGET_COL in train.columns:\n",
        "        rate = train.groupby(feature_name, dropna=False)[TARGET_COL].mean().sort_values(ascending=False).head(10)\n",
        "        print(\"--- drafted rate by category (top 10) ---\")\n",
        "        print(rate.to_string())\n",
        "print(\"=\"*60)"
      ],
      "metadata": {
        "id": "wV9Ldx0gFWks",
        "colab": {
          "base_uri": "https://localhost:8080/",
          "height": 0
        },
        "outputId": "fbe5f4d9-8c89-40aa-99cc-3a284614c92b"
      },
      "execution_count": 23,
      "outputs": [
        {
          "output_type": "stream",
          "name": "stdout",
          "text": [
            "============================================================\n",
            "ANSWER — C.5 Feature: GP\n",
            "dtype=int64 | unique=41 | missing=0.00%\n",
            "--- summary ---\n",
            "count    14774.000000\n",
            "mean        21.251726\n",
            "std         10.517642\n",
            "min          1.000000\n",
            "5%           3.000000\n",
            "50%         25.000000\n",
            "95%         34.000000\n",
            "max         41.000000\n",
            "corr(GP, drafted) = 0.109\n",
            "============================================================\n"
          ]
        }
      ]
    },
    {
      "cell_type": "code",
      "source": [
        "# <Student to fill this section>\n",
        "feature_1_insights = \"\"\"\n",
        "We inspect distribution, missingness, and relationship with `drafted` to judge signal and leakage risk.\\n\n",
        "    Findings guide encoding (scale/one-hot), imputation, and whether to keep or drop the feature.\n",
        "\"\"\""
      ],
      "metadata": {
        "id": "y4YLcn_eEyAe"
      },
      "execution_count": 24,
      "outputs": []
    },
    {
      "cell_type": "code",
      "source": [
        "# Do not modify this code\n",
        "print_tile(size=\"h3\", key='feature_1_insights', value=feature_1_insights)"
      ],
      "metadata": {
        "id": "2r1knRxDEyC0",
        "colab": {
          "base_uri": "https://localhost:8080/",
          "height": 81
        },
        "outputId": "e01a096b-01b7-446d-bdee-d7f9696377ae"
      },
      "execution_count": 25,
      "outputs": [
        {
          "output_type": "display_data",
          "data": {
            "text/plain": [
              "<IPython.core.display.HTML object>"
            ],
            "text/html": [
              "<p style=\"color:grey\">feature_1_insights</p><h3 font-size: 3em>\n",
              "We inspect distribution, missingness, and relationship with `drafted` to judge signal and leakage risk.\n",
              "\n",
              "    Findings guide encoding (scale/one-hot), imputation, and whether to keep or drop the feature.\n",
              "</h3>"
            ]
          },
          "metadata": {}
        }
      ]
    },
    {
      "cell_type": "markdown",
      "source": [
        "### C.6 Explore Feature of Interest `\\<put feature name here\\>`"
      ],
      "metadata": {
        "id": "WOqd56IjE0LB"
      }
    },
    {
      "cell_type": "code",
      "source": [
        "\n",
        "ID_COL, TARGET_COL = globals().get(\"ID_COL\", \"player_id\"), globals().get(\"TARGET_COL\", \"drafted\")\n",
        "\n",
        "# 👉 Set a specific column name here (or leave None to auto-pick a different one from C.5)\n",
        "feature_name2 = None\n",
        "\n",
        "# Build candidate list (avoid ID/target and avoid the feature used in C.5 if present)\n",
        "candidates = [c for c in train.columns if c not in [ID_COL, TARGET_COL]]\n",
        "if \"feature_name\" in globals() and isinstance(feature_name, str) and feature_name in candidates:\n",
        "    candidates = [c for c in candidates if c != feature_name]\n",
        "\n",
        "# Auto-pick: prefer numeric, else first available\n",
        "if not candidates:\n",
        "    raise ValueError(\"No candidate features found to explore.\")\n",
        "nums = [c for c in candidates if pd.api.types.is_numeric_dtype(train[c])]\n",
        "feature_name2 = feature_name2 if (feature_name2 in train.columns) else (nums[0] if nums else candidates[0])\n",
        "\n",
        "s = train[feature_name2]\n",
        "missing = s.isna().mean()\n",
        "nuniq = s.nunique(dropna=True)\n",
        "\n",
        "print(\"=\"*60)\n",
        "print(f\"ANSWER — C.6 Feature: {feature_name2}\")\n",
        "print(f\"dtype={s.dtype} | unique={nuniq} | missing={missing:.2%}\")\n",
        "\n",
        "if pd.api.types.is_numeric_dtype(s):\n",
        "    desc = s.describe(percentiles=[.05, .50, .95]).to_string()\n",
        "    corr = train[[feature_name2, TARGET_COL]].dropna().corr().iloc[0, 1]\n",
        "    print(\"--- summary ---\")\n",
        "    print(desc)\n",
        "    print(f\"corr({feature_name2}, {TARGET_COL}) = {corr:.3f}\")\n",
        "else:\n",
        "    print(\"--- top categories ---\")\n",
        "    print(s.value_counts(dropna=False).head(10).to_string())\n",
        "    if TARGET_COL in train.columns:\n",
        "        rate = train.groupby(feature_name2, dropna=False)[TARGET_COL].mean().sort_values(ascending=False).head(10)\n",
        "        print(\"--- drafted rate by category (top 10) ---\")\n",
        "        print(rate.to_string())\n",
        "print(\"=\"*60)"
      ],
      "metadata": {
        "id": "akQFJsI3E2eM",
        "colab": {
          "base_uri": "https://localhost:8080/",
          "height": 0
        },
        "outputId": "96b84d75-6675-47c0-fcb9-a411e4c07358"
      },
      "execution_count": 26,
      "outputs": [
        {
          "output_type": "stream",
          "name": "stdout",
          "text": [
            "============================================================\n",
            "ANSWER — C.6 Feature: Min_per\n",
            "dtype=float64 | unique=887 | missing=0.00%\n",
            "--- summary ---\n",
            "count    14774.000000\n",
            "mean        25.870123\n",
            "std         23.639878\n",
            "min          0.000000\n",
            "5%           0.300000\n",
            "50%         19.600000\n",
            "95%         72.000000\n",
            "max         94.300000\n",
            "corr(Min_per, drafted) = 0.153\n",
            "============================================================\n"
          ]
        }
      ]
    },
    {
      "cell_type": "code",
      "source": [
        "# <Student to fill this section>\n",
        "feature_2_insights =  \"\"\"\n",
        "We repeat the check on another feature: distribution, missingness, and link to `drafted` to judge signal.\n",
        "This helps decide encoding (one-hot/scale), imputation, and whether to keep or drop the feature.\n",
        "\"\"\""
      ],
      "metadata": {
        "id": "u-CfAsO1E2hB"
      },
      "execution_count": 27,
      "outputs": []
    },
    {
      "cell_type": "code",
      "source": [
        "# Do not modify this code\n",
        "print_tile(size=\"h3\", key='feature_2_insights', value=feature_2_insights)"
      ],
      "metadata": {
        "id": "bB87lgCAE2jf",
        "colab": {
          "base_uri": "https://localhost:8080/",
          "height": 81
        },
        "outputId": "ec5c0a26-154a-4dfb-f871-dc86ba06573b"
      },
      "execution_count": 28,
      "outputs": [
        {
          "output_type": "display_data",
          "data": {
            "text/plain": [
              "<IPython.core.display.HTML object>"
            ],
            "text/html": [
              "<p style=\"color:grey\">feature_2_insights</p><h3 font-size: 3em>\n",
              "We repeat the check on another feature: distribution, missingness, and link to `drafted` to judge signal.\n",
              "This helps decide encoding (one-hot/scale), imputation, and whether to keep or drop the feature.\n",
              "</h3>"
            ]
          },
          "metadata": {}
        }
      ]
    },
    {
      "cell_type": "markdown",
      "source": [
        "### C.n Explore Feature of Interest `\\<put feature name here\\>`\n",
        "\n",
        "> You can add more cells related to other feeatures in this section"
      ],
      "metadata": {
        "id": "ZcjaUGQ_VbVQ"
      }
    },
    {
      "cell_type": "code",
      "source": [
        "# C.n — Explore Feature of Interest (NB2)\n",
        "import pandas as pd\n",
        "\n",
        "ID_COL, TARGET_COL = globals().get(\"ID_COL\",\"player_id\"), globals().get(\"TARGET_COL\",\"drafted\")\n",
        "\n",
        "# 👉 Set a specific column name here (or leave None to auto-pick a new one)\n",
        "feature_name_n = None\n",
        "\n",
        "# Avoid ID/target and any features explored earlier (feature_name, feature_name2)\n",
        "used = {ID_COL, TARGET_COL}\n",
        "for n in [\"feature_name\", \"feature_name2\", \"feature_1\", \"feature_2\", \"feature_n\"]:\n",
        "    if n in globals() and isinstance(globals()[n], str):\n",
        "        used.add(globals()[n])\n",
        "\n",
        "candidates = [c for c in train.columns if c not in used]\n",
        "if not candidates:\n",
        "    raise ValueError(\"No new candidate features left to explore.\")\n",
        "\n",
        "# Prefer numeric, else first available\n",
        "nums = [c for c in candidates if pd.api.types.is_numeric_dtype(train[c])]\n",
        "feature_name_n = feature_name_n if (feature_name_n in train.columns) else (nums[0] if nums else candidates[0])\n",
        "\n",
        "s = train[feature_name_n]\n",
        "missing = s.isna().mean()\n",
        "nuniq = s.nunique(dropna=True)\n",
        "\n",
        "print(\"=\"*60)\n",
        "print(f\"ANSWER — C.n Feature: {feature_name_n}\")\n",
        "print(f\"dtype={s.dtype} | unique={nuniq} | missing={missing:.2%}\")\n",
        "\n",
        "if pd.api.types.is_numeric_dtype(s):\n",
        "    desc = s.describe(percentiles=[.05,.50,.95]).to_string()\n",
        "    corr = train[[feature_name_n, TARGET_COL]].dropna().corr().iloc[0,1]\n",
        "    print(\"--- summary ---\")\n",
        "    print(desc)\n",
        "    print(f\"corr({feature_name_n}, {TARGET_COL}) = {corr:.3f}\")\n",
        "else:\n",
        "    print(\"--- top categories ---\")\n",
        "    print(s.value_counts(dropna=False).head(10).to_string())\n",
        "    if TARGET_COL in train.columns:\n",
        "        rate = train.groupby(feature_name_n, dropna=False)[TARGET_COL].mean().sort_values(ascending=False).head(10)\n",
        "        print(\"--- drafted rate by category (top 10) ---\")\n",
        "        print(rate.to_string())\n",
        "print(\"=\"*60)\n"
      ],
      "metadata": {
        "id": "Z_DwQMvDVbfA",
        "colab": {
          "base_uri": "https://localhost:8080/",
          "height": 0
        },
        "outputId": "fc58d72c-57ec-484e-d339-ebf72280f1d8"
      },
      "execution_count": 29,
      "outputs": [
        {
          "output_type": "stream",
          "name": "stdout",
          "text": [
            "============================================================\n",
            "ANSWER — C.n Feature: Ortg\n",
            "dtype=float64 | unique=1332 | missing=0.00%\n",
            "--- summary ---\n",
            "count    14774.000000\n",
            "mean        85.771707\n",
            "std         34.164203\n",
            "min          0.000000\n",
            "5%           0.000000\n",
            "50%         91.300000\n",
            "95%        120.800000\n",
            "max        407.300000\n",
            "corr(Ortg, drafted) = 0.065\n",
            "============================================================\n"
          ]
        }
      ]
    },
    {
      "cell_type": "code",
      "source": [
        "feature_n_insight_explanations = \"\"\"\n",
        "We inspect another (new) feature’s distribution, missingness, and its link to `drafted` to gauge signal.\n",
        "This helps decide encoding/imputation and whether to keep, bucket, or drop the feature.\n",
        "\"\"\""
      ],
      "metadata": {
        "id": "Cg6t9Tqg3mZ-"
      },
      "execution_count": 30,
      "outputs": []
    },
    {
      "cell_type": "code",
      "source": [
        "# Do not modify this code\n",
        "print_tile(size=\"h3\", key='feature_2_insights', value=feature_n_insight_explanations )"
      ],
      "metadata": {
        "colab": {
          "base_uri": "https://localhost:8080/",
          "height": 81
        },
        "id": "bvQOwrbu3rRb",
        "outputId": "7c54711b-cef6-4571-ad64-62fb52cee556"
      },
      "execution_count": 31,
      "outputs": [
        {
          "output_type": "display_data",
          "data": {
            "text/plain": [
              "<IPython.core.display.HTML object>"
            ],
            "text/html": [
              "<p style=\"color:grey\">feature_2_insights</p><h3 font-size: 3em>\n",
              "We inspect another (new) feature’s distribution, missingness, and its link to `drafted` to gauge signal.\n",
              "This helps decide encoding/imputation and whether to keep, bucket, or drop the feature.\n",
              "</h3>"
            ]
          },
          "metadata": {}
        }
      ]
    },
    {
      "cell_type": "markdown",
      "metadata": {
        "id": "_NCwQQFkU3v5"
      },
      "source": [
        "---\n",
        "## D. Feature Selection\n"
      ]
    },
    {
      "cell_type": "markdown",
      "source": [
        "### D.1 Approach \"\\<describe_approach_here\\>\"\n"
      ],
      "metadata": {
        "id": "0b8C9WON3Toe"
      }
    },
    {
      "cell_type": "code",
      "source": [
        "import sklearn\n",
        "from sklearn.ensemble import RandomForestClassifier\n",
        "print(\"scikit-learn version:\", sklearn.__version__)"
      ],
      "metadata": {
        "id": "J2_6it8iViBX",
        "colab": {
          "base_uri": "https://localhost:8080/",
          "height": 0
        },
        "outputId": "9f444a27-6ce1-4b11-820f-853ab1a2c0df"
      },
      "execution_count": 32,
      "outputs": [
        {
          "output_type": "stream",
          "name": "stdout",
          "text": [
            "scikit-learn version: 1.6.1\n"
          ]
        }
      ]
    },
    {
      "cell_type": "code",
      "source": [
        "print(\"len(train) =\", len(train))\n",
        "for n in [\"y\",\"y_train\",\"y_valid\",\"y_tr\",\"y_va\"]:\n",
        "    if n in globals():\n",
        "        try: print(n, len(globals()[n]))\n",
        "        except: pass\n",
        "for n in [\"X_tr\",\"X_train\",\"X_full\",\"X_train_d1\"]:\n",
        "    if n in globals():\n",
        "        try: print(n, globals()[n].shape)\n",
        "        except: pass\n"
      ],
      "metadata": {
        "colab": {
          "base_uri": "https://localhost:8080/",
          "height": 0
        },
        "id": "WLBLdbKo5UYQ",
        "outputId": "c969ddd0-1dc3-4f84-c78a-42e7c5e1f750"
      },
      "execution_count": 33,
      "outputs": [
        {
          "output_type": "stream",
          "name": "stdout",
          "text": [
            "len(train) = 14774\n"
          ]
        }
      ]
    },
    {
      "cell_type": "code",
      "source": [
        "\n",
        "import pandas as pd, numpy as np\n",
        "from sklearn.ensemble import RandomForestClassifier\n",
        "\n",
        "ID_COL     = globals().get(\"ID_COL\",\"player_id\")\n",
        "TARGET_COL = globals().get(\"TARGET_COL\",\"drafted\")\n",
        "\n",
        "# Base frames (drop train-only cols like cv_fold)\n",
        "TRAIN_ONLY = [\"cv_fold\",\"fold\",\"kfold\"]\n",
        "Xb_tr_raw = train.drop(columns=[c for c in [TARGET_COL, ID_COL] + TRAIN_ONLY if c in train.columns], errors=\"ignore\")\n",
        "Xb_te_raw = test.drop(columns=[ID_COL], errors=\"ignore\")\n",
        "\n",
        "# keep only columns present in BOTH\n",
        "common_cols = sorted(set(Xb_tr_raw.columns) & set(Xb_te_raw.columns))\n",
        "Xb_tr = Xb_tr_raw[common_cols].copy()\n",
        "Xb_te = Xb_te_raw[common_cols].copy()\n",
        "\n",
        "# one-hot together → split back\n",
        "X_all = pd.get_dummies(pd.concat([Xb_tr, Xb_te], axis=0, ignore_index=True), dummy_na=True)\n",
        "X_tr  = X_all.iloc[:len(train)].replace([np.inf,-np.inf], np.nan).fillna(0)\n",
        "X_te  = X_all.iloc[len(train):].replace([np.inf,-np.inf], np.nan).fillna(0)\n",
        "\n",
        "# FULL y aligned to X_tr\n",
        "y_all = train[TARGET_COL].astype(int).reset_index(drop=True)\n",
        "\n",
        "assert len(X_tr) == len(y_all), f\"Mismatch after reset: X_tr={len(X_tr)} vs y_all={len(y_all)}\"\n",
        "\n",
        "# Example: RF importances on FULL data\n",
        "rf = RandomForestClassifier(n_estimators=400, min_samples_leaf=2,\n",
        "                            class_weight=\"balanced_subsample\", n_jobs=-1, random_state=42)\n",
        "rf.fit(X_tr, y_all)\n",
        "\n",
        "imp = pd.Series(rf.feature_importances_, index=X_tr.columns).sort_values(ascending=False)\n",
        "TOP_K = min(40, X_tr.shape[1])\n",
        "selected_features_d1 = imp.head(TOP_K).index.tolist()\n",
        "\n",
        "X_train_d1 = X_tr[selected_features_d1]\n",
        "X_test_d1  = X_te[selected_features_d1]\n",
        "\n",
        "print(\"OK → D.1 ready. Shapes:\", X_train_d1.shape, X_test_d1.shape)"
      ],
      "metadata": {
        "id": "zfC-DLKv4AuM",
        "colab": {
          "base_uri": "https://localhost:8080/",
          "height": 0
        },
        "outputId": "486ef08b-8027-456c-96a3-40375935f793"
      },
      "execution_count": 34,
      "outputs": [
        {
          "output_type": "stream",
          "name": "stdout",
          "text": [
            "OK → D.1 ready. Shapes: (14774, 40) (1297, 40)\n"
          ]
        }
      ]
    },
    {
      "cell_type": "code",
      "source": [
        "\n",
        "import pandas as pd, numpy as np\n",
        "from sklearn.ensemble import RandomForestClassifier\n",
        "\n",
        "ID_COL     = globals().get(\"ID_COL\", \"player_id\")\n",
        "TARGET_COL = globals().get(\"TARGET_COL\", \"drafted\")\n",
        "\n",
        "# Build aligned numeric matrix (drop target/ID and train-only cols like cv_fold)\n",
        "TRAIN_ONLY = [\"cv_fold\", \"fold\", \"kfold\"]\n",
        "Xb_tr_raw = train.drop(columns=[c for c in [TARGET_COL, ID_COL] + TRAIN_ONLY if c in train.columns], errors=\"ignore\")\n",
        "Xb_te_raw = test.drop(columns=[ID_COL], errors=\"ignore\")\n",
        "common_cols = sorted(set(Xb_tr_raw.columns) & set(Xb_te_raw.columns))\n",
        "X_all = pd.get_dummies(pd.concat([Xb_tr_raw[common_cols], Xb_te_raw[common_cols]], axis=0, ignore_index=True), dummy_na=True)\n",
        "\n",
        "X_tr = X_all.iloc[:len(train)].replace([np.inf, -np.inf], np.nan).fillna(0)\n",
        "X_te = X_all.iloc[len(train):].replace([np.inf, -np.inf], np.nan).fillna(0)\n",
        "y_all = train[TARGET_COL].astype(int).reset_index(drop=True)\n",
        "\n",
        "rf = RandomForestClassifier(\n",
        "    n_estimators=400, min_samples_leaf=2, max_features=\"sqrt\",\n",
        "    class_weight=\"balanced_subsample\", n_jobs=-1, random_state=42\n",
        ").fit(X_tr, y_all)\n",
        "\n",
        "imp = pd.Series(rf.feature_importances_, index=X_tr.columns).sort_values(ascending=False)\n",
        "TOP_K = min(60, X_tr.shape[1])\n",
        "selected_features_d1 = imp.head(TOP_K).index.tolist()\n",
        "\n",
        "X_train_d1 = X_tr[selected_features_d1].copy()\n",
        "X_test_d1  = X_te[selected_features_d1].copy()\n",
        "\n",
        "print(\"=\"*60)\n",
        "print(\"ANSWER — D.1 RF top features:\", selected_features_d1[:10], \"...\" if len(selected_features_d1)>10 else \"\")\n",
        "print(\"Shapes → X_train_d1:\", X_train_d1.shape, \"| X_test_d1:\", X_test_d1.shape)\n",
        "print(\"=\"*60)"
      ],
      "metadata": {
        "colab": {
          "base_uri": "https://localhost:8080/",
          "height": 0
        },
        "id": "hbzH6j2a6FwX",
        "outputId": "1d1ae797-54bd-4d5d-d3e3-a1cc2098eb8e"
      },
      "execution_count": 35,
      "outputs": [
        {
          "output_type": "stream",
          "name": "stdout",
          "text": [
            "============================================================\n",
            "ANSWER — D.1 RF top features: ['Rec_Rank', 'dporpag', 'bpm', 'gbpm', 'porpag', 'dreb', 'twoPA', 'adjoe', 'pts', 'rimmade'] ...\n",
            "Shapes → X_train_d1: (14774, 60) | X_test_d1: (1297, 60)\n",
            "============================================================\n"
          ]
        }
      ]
    },
    {
      "cell_type": "code",
      "source": [
        "# <Student to fill this section>\n",
        "feature_selection_1_insights = \"\"\"\n",
        "Use RandomForest importances to keep the strongest K features.\n",
        "This captures non-linear signal and removes noise for faster training.\n",
        "\"\"\""
      ],
      "metadata": {
        "id": "Z9myLlFZFQXj"
      },
      "execution_count": 36,
      "outputs": []
    },
    {
      "cell_type": "code",
      "source": [
        "# Do not modify this code\n",
        "print_tile(size=\"h3\", key='feature_selection_1_insights', value=feature_selection_1_insights)"
      ],
      "metadata": {
        "id": "937YFeqDFQgB",
        "colab": {
          "base_uri": "https://localhost:8080/",
          "height": 81
        },
        "outputId": "0007cf27-419a-426e-a130-94e52a011033"
      },
      "execution_count": 37,
      "outputs": [
        {
          "output_type": "display_data",
          "data": {
            "text/plain": [
              "<IPython.core.display.HTML object>"
            ],
            "text/html": [
              "<p style=\"color:grey\">feature_selection_1_insights</p><h3 font-size: 3em>\n",
              "Use RandomForest importances to keep the strongest K features.\n",
              "This captures non-linear signal and removes noise for faster training.\n",
              "</h3>"
            ]
          },
          "metadata": {}
        }
      ]
    },
    {
      "cell_type": "markdown",
      "source": [
        "### D.2 Approach \"\\<describe_approach_here\\>\"\n"
      ],
      "metadata": {
        "id": "jqRcgUqu3ZuV"
      }
    },
    {
      "cell_type": "code",
      "source": [
        "\n",
        "import pandas as pd, numpy as np\n",
        "from sklearn.feature_selection import mutual_info_classif\n",
        "\n",
        "# Reuse matrices from D.1 if present; otherwise build them\n",
        "if \"X_tr\" not in globals() or \"X_te\" not in globals():\n",
        "    ID_COL     = globals().get(\"ID_COL\", \"player_id\")\n",
        "    TARGET_COL = globals().get(\"TARGET_COL\", \"drafted\")\n",
        "    TRAIN_ONLY = [\"cv_fold\", \"fold\", \"kfold\"]\n",
        "    Xb_tr_raw = train.drop(columns=[c for c in [TARGET_COL, ID_COL] + TRAIN_ONLY if c in train.columns], errors=\"ignore\")\n",
        "    Xb_te_raw = test.drop(columns=[ID_COL], errors=\"ignore\")\n",
        "    common_cols = sorted(set(Xb_tr_raw.columns) & set(Xb_te_raw.columns))\n",
        "    X_all = pd.get_dummies(pd.concat([Xb_tr_raw[common_cols], Xb_te_raw[common_cols]], axis=0, ignore_index=True), dummy_na=True)\n",
        "    X_tr = X_all.iloc[:len(train)].replace([np.inf,-np.inf], np.nan).fillna(0)\n",
        "    X_te = X_all.iloc[len(train):].replace([np.inf,-np.inf], np.nan).fillna(0)\n",
        "\n",
        "y_all = train[TARGET_COL].astype(int).reset_index(drop=True)\n",
        "\n",
        "# Low-cardinality columns treated as discrete for MI\n",
        "disc = [(X_tr[c].nunique() < 20) for c in X_tr.columns]\n",
        "mi = mutual_info_classif(X_tr, y_all, discrete_features=disc, random_state=42)\n",
        "mi_s = pd.Series(mi, index=X_tr.columns).sort_values(ascending=False)\n",
        "\n",
        "TOP_K = min(60, X_tr.shape[1])\n",
        "selected_features_d2 = mi_s.head(TOP_K).index.tolist()\n",
        "\n",
        "X_train_d2 = X_tr[selected_features_d2].copy()\n",
        "X_test_d2  = X_te[selected_features_d2].copy()\n",
        "\n",
        "print(\"=\"*60)\n",
        "print(\"ANSWER — D.2 MI top features:\", selected_features_d2[:10], \"...\" if len(selected_features_d2)>10 else \"\")\n",
        "print(\"Shapes → X_train_d2:\", X_train_d2.shape, \"| X_test_d2:\", X_test_d2.shape)\n",
        "print(\"=\"*60)"
      ],
      "metadata": {
        "id": "dAPSiwcg3aJC",
        "colab": {
          "base_uri": "https://localhost:8080/",
          "height": 0
        },
        "outputId": "44ed9020-5d43-47a1-8890-cbdd83a85576"
      },
      "execution_count": 38,
      "outputs": [
        {
          "output_type": "stream",
          "name": "stdout",
          "text": [
            "============================================================\n",
            "ANSWER — D.2 MI top features: ['Rec_Rank', 'dporpag', 'stops', 'porpag', 'twoPM', 'bpm', 'FTA', 'twoPA', 'gbpm', 'dreb'] ...\n",
            "Shapes → X_train_d2: (14774, 60) | X_test_d2: (1297, 60)\n",
            "============================================================\n"
          ]
        }
      ]
    },
    {
      "cell_type": "code",
      "source": [
        "# <Student to fill this section>\n",
        "feature_selection_2_insights = \"\"\"\n",
        "Mutual Information ranks dependency with `drafted` without assuming linearity.\n",
        "We keep the top-K to compare against model-based selection.\n",
        "\"\"\""
      ],
      "metadata": {
        "id": "CpQQodTW3a9v"
      },
      "execution_count": 39,
      "outputs": []
    },
    {
      "cell_type": "code",
      "source": [
        "# Do not modify this code\n",
        "print_tile(size=\"h3\", key='feature_selection_2_insights', value=feature_selection_2_insights)"
      ],
      "metadata": {
        "id": "HjN2qhDb3a0G",
        "colab": {
          "base_uri": "https://localhost:8080/",
          "height": 81
        },
        "outputId": "63a05e60-0aa5-4063-a441-1105fd21848e"
      },
      "execution_count": 40,
      "outputs": [
        {
          "output_type": "display_data",
          "data": {
            "text/plain": [
              "<IPython.core.display.HTML object>"
            ],
            "text/html": [
              "<p style=\"color:grey\">feature_selection_2_insights</p><h3 font-size: 3em>\n",
              "Mutual Information ranks dependency with `drafted` without assuming linearity.\n",
              "We keep the top-K to compare against model-based selection.\n",
              "</h3>"
            ]
          },
          "metadata": {}
        }
      ]
    },
    {
      "cell_type": "markdown",
      "source": [
        "## D.z Final Selection of Features"
      ],
      "metadata": {
        "id": "gS5-tS8_3ryn"
      }
    },
    {
      "cell_type": "code",
      "source": [
        "# D.n — FAST: prefilter with ANOVA F, then L1-Logistic (liblinear)\n",
        "import numpy as np, pandas as pd\n",
        "from sklearn.feature_selection import f_classif\n",
        "from sklearn.linear_model import LogisticRegression\n",
        "\n",
        "ID_COL     = globals().get(\"ID_COL\", \"player_id\")\n",
        "TARGET_COL = globals().get(\"TARGET_COL\", \"drafted\")\n",
        "\n",
        "# Reuse aligned matrices if available; else build quickly (train-only cols removed)\n",
        "if \"X_tr\" not in globals() or \"X_te\" not in globals():\n",
        "    TRAIN_ONLY = [\"cv_fold\",\"fold\",\"kfold\"]\n",
        "    Xb_tr_raw = train.drop(columns=[c for c in [TARGET_COL, ID_COL] + TRAIN_ONLY if c in train.columns], errors=\"ignore\")\n",
        "    Xb_te_raw = test.drop(columns=[ID_COL], errors=\"ignore\")\n",
        "    common = sorted(set(Xb_tr_raw.columns) & set(Xb_te_raw.columns))\n",
        "    X_all = pd.get_dummies(pd.concat([Xb_tr_raw[common], Xb_te_raw[common]], axis=0, ignore_index=True), dummy_na=True)\n",
        "    X_tr = X_all.iloc[:len(train)].replace([np.inf,-np.inf], np.nan).fillna(0)\n",
        "    X_te = X_all.iloc[len(train):].replace([np.inf,-np.inf], np.nan).fillna(0)\n",
        "\n",
        "y_all = train[TARGET_COL].astype(int).reset_index(drop=True)\n",
        "\n",
        "# 1) FAST PREFILTER — keep top K0 by ANOVA F-score (very fast)\n",
        "K0 = min(300, X_tr.shape[1])           # reduce to ≤300 cols first\n",
        "F, _ = f_classif(X_tr, y_all)          # handles dense arrays quickly\n",
        "order0 = np.argsort(-np.nan_to_num(F, nan=0.0))\n",
        "cols_pref = X_tr.columns[order0[:K0]]\n",
        "X_pf_tr = X_tr[cols_pref]\n",
        "X_pf_te = X_te[cols_pref]\n",
        "\n",
        "# 2) L1-LOGISTIC (small, quick)\n",
        "lr_l1 = LogisticRegression(\n",
        "    penalty=\"l1\", solver=\"liblinear\", C=0.5,\n",
        "    class_weight=\"balanced\", max_iter=300, tol=1e-3, random_state=42\n",
        ")\n",
        "lr_l1.fit(X_pf_tr, y_all)\n",
        "\n",
        "coef = lr_l1.coef_.ravel()\n",
        "abs_coef = np.abs(coef)\n",
        "nonzero = np.where(abs_coef > 1e-8)[0]\n",
        "\n",
        "TOP_K = min(60, len(cols_pref))        # final compact set\n",
        "keep_idx = (nonzero if len(nonzero) else np.argsort(-abs_coef)[:TOP_K])\n",
        "order = keep_idx[np.argsort(-abs_coef[keep_idx])] [:TOP_K]\n",
        "\n",
        "selected_features_dn = cols_pref[order].tolist()\n",
        "X_train_dn = X_pf_tr[selected_features_dn].copy()\n",
        "X_test_dn  = X_pf_te[selected_features_dn].copy()\n",
        "\n",
        "print(\"=\"*60)\n",
        "print(\"ANSWER — D.n FAST (L1-Logistic) selected:\", len(selected_features_dn))\n",
        "print(\"First 12:\", selected_features_dn[:12], \"...\" if len(selected_features_dn)>12 else \"\")\n",
        "print(\"Shapes →\", X_train_dn.shape, X_test_dn.shape)\n",
        "print(\"=\"*60)"
      ],
      "metadata": {
        "id": "zYY4u2063ioF",
        "colab": {
          "base_uri": "https://localhost:8080/",
          "height": 0
        },
        "outputId": "542e1a22-cbb4-45a5-cc95-2db48b8a43e3"
      },
      "execution_count": 41,
      "outputs": [
        {
          "output_type": "stream",
          "name": "stdout",
          "text": [
            "============================================================\n",
            "ANSWER — D.n FAST (L1-Logistic) selected: 60\n",
            "First 12: ['team_Marshall', 'team_Dayton', 'dporpag', 'team_Kentucky', 'ht_10-Jun', 'ast', 'team_Louisville', 'dunks_ratio', 'ht_11-Jun', 'conf_B10', 'team_Oklahoma', 'team_UCLA'] ...\n",
            "Shapes → (14774, 60) (1297, 60)\n",
            "============================================================\n"
          ]
        }
      ]
    },
    {
      "cell_type": "code",
      "source": [
        "# <Student to fill this section>\n",
        "feature_selection_explanations =  \"\"\"\n",
        "prefilter to top-K0 by ANOVA F, then L1-Logistic (liblinear) to keep a compact non-zero set.\n",
        "This slashes runtime while still giving sparse, high-signal features for modeling.\n",
        "\"\"\""
      ],
      "metadata": {
        "id": "-pxVH1r63vqu"
      },
      "execution_count": 42,
      "outputs": []
    },
    {
      "cell_type": "code",
      "source": [
        "# Do not modify this code\n",
        "print_tile(size=\"h3\", key='feature_selection_explanations', value=feature_selection_explanations)"
      ],
      "metadata": {
        "id": "rHluIUmR3iO3",
        "colab": {
          "base_uri": "https://localhost:8080/",
          "height": 81
        },
        "outputId": "1e12c352-4600-47b6-9a7c-f70f969512b7"
      },
      "execution_count": 43,
      "outputs": [
        {
          "output_type": "display_data",
          "data": {
            "text/plain": [
              "<IPython.core.display.HTML object>"
            ],
            "text/html": [
              "<p style=\"color:grey\">feature_selection_explanations</p><h3 font-size: 3em>\n",
              "prefilter to top-K0 by ANOVA F, then L1-Logistic (liblinear) to keep a compact non-zero set.\n",
              "This slashes runtime while still giving sparse, high-signal features for modeling.\n",
              "</h3>"
            ]
          },
          "metadata": {}
        }
      ]
    },
    {
      "cell_type": "markdown",
      "source": [
        "---\n",
        "## E. Data Preparation"
      ],
      "metadata": {
        "id": "j-nNSpJK0Rgu"
      }
    },
    {
      "cell_type": "markdown",
      "source": [
        "### E.1 Data Transformation <put_name_here>"
      ],
      "metadata": {
        "id": "EDtRq1990rcW"
      }
    },
    {
      "cell_type": "code",
      "source": [
        "# E.1 — Build aligned feature matrices (one-hot + median impute) — short & robust\n",
        "import pandas as pd, numpy as np\n",
        "\n",
        "# Show the files we loaded (if your earlier vars exist)\n",
        "try:\n",
        "    print(\"Using:\", train_path.name, \"|\", test_path.name)\n",
        "except:\n",
        "    pass\n",
        "\n",
        "# Detect columns (defaults for this assignment)\n",
        "ID_COL = \"player_id\" if \"player_id\" in train.columns else next((c for c in [\"id\",\"ID\"] if c in train.columns), None)\n",
        "TARGET_COL = \"drafted\"  if \"drafted\"  in train.columns else next((c for c in [\"target\",\"label\"] if c in train.columns), None)\n",
        "\n",
        "# Drop non-features and keep only columns present in BOTH train & test\n",
        "TRAIN_ONLY = [c for c in [\"cv_fold\",\"fold\",\"kfold\"] if c in train.columns]\n",
        "drop_cols = [c for c in [TARGET_COL, ID_COL] + TRAIN_ONLY if c is not None]\n",
        "Xb_tr_raw = train.drop(columns=drop_cols, errors=\"ignore\")\n",
        "Xb_te_raw = test.drop(columns=[c for c in [ID_COL] if c is not None], errors=\"ignore\")\n",
        "common_cols = sorted(set(Xb_tr_raw.columns) & set(Xb_te_raw.columns))\n",
        "\n",
        "# One-hot encode together → split back; fix inf/NaN with train medians\n",
        "X_all = pd.get_dummies(pd.concat([Xb_tr_raw[common_cols], Xb_te_raw[common_cols]], axis=0, ignore_index=True),\n",
        "                       dummy_na=True)\n",
        "X_e1_tr = X_all.iloc[:len(train)].replace([np.inf,-np.inf], np.nan)\n",
        "X_e1_te = X_all.iloc[len(train):].replace([np.inf,-np.inf], np.nan)\n",
        "med = X_e1_tr.median(numeric_only=True)\n",
        "X_e1_tr = X_e1_tr.fillna(med)\n",
        "X_e1_te = X_e1_te.fillna(med)\n",
        "\n",
        "# Optional: expose generic names so later cells “just work”\n",
        "X_tr, X_te = X_e1_tr, X_e1_te\n",
        "X_train_model, X_test_model = X_e1_tr.copy(), X_e1_te.copy()\n",
        "features_list = list(X_train_model.columns)\n",
        "\n",
        "print(\"=\"*60)\n",
        "print(\"ANSWER — E.1 ready\")\n",
        "print(\"Train/Test shapes:\", X_train_model.shape, \"|\", X_test_model.shape)\n",
        "print(\"First 8 features:\", features_list[:8])\n",
        "print(\"=\"*60)\n",
        "\n",
        "# 2-line explanation\n",
        "e1_explain = (\n",
        "    \"We aligned train/test columns, one-hot encoded together, and filled missing values with train medians.\\n\"\n",
        "    \"Trees don’t need scaling, so this clean matrix is ready for splitting and modeling.\"\n",
        ")\n",
        "print(e1_explain)\n"
      ],
      "metadata": {
        "id": "OO5ITMDZ035_",
        "colab": {
          "base_uri": "https://localhost:8080/",
          "height": 0
        },
        "outputId": "ade025ac-27ec-4e30-b354-85409043e6ae"
      },
      "execution_count": 44,
      "outputs": [
        {
          "output_type": "stream",
          "name": "stdout",
          "text": [
            "Using: train.csv | test.csv\n",
            "============================================================\n",
            "ANSWER — E.1 ready\n",
            "Train/Test shapes: (14774, 488) | (1297, 488)\n",
            "First 8 features: ['AST_per', 'DRB_per', 'FTA', 'FTM', 'FT_per', 'GP', 'Min_per', 'ORB_per']\n",
            "============================================================\n",
            "We aligned train/test columns, one-hot encoded together, and filled missing values with train medians.\n",
            "Trees don’t need scaling, so this clean matrix is ready for splitting and modeling.\n"
          ]
        }
      ]
    },
    {
      "cell_type": "code",
      "source": [
        "# <Student to fill this section>\n",
        "data_cleaning_1_explanations = \"\"\"\n",
        "Use the selected D.* feature set and fill missing values with train medians.\\n\n",
        "    RF doesn’t need scaling; simple imputation is enough.\n",
        "\"\"\""
      ],
      "metadata": {
        "id": "eQGXvLtkFU9L"
      },
      "execution_count": 45,
      "outputs": []
    },
    {
      "cell_type": "code",
      "source": [
        "# Do not modify this code\n",
        "print_tile(size=\"h3\", key='data_cleaning_1_explanations', value=data_cleaning_1_explanations)"
      ],
      "metadata": {
        "id": "MPuYme1uFU_4",
        "colab": {
          "base_uri": "https://localhost:8080/",
          "height": 81
        },
        "outputId": "f4fbc971-da14-4929-c5ce-6f3fedece7b9"
      },
      "execution_count": 46,
      "outputs": [
        {
          "output_type": "display_data",
          "data": {
            "text/plain": [
              "<IPython.core.display.HTML object>"
            ],
            "text/html": [
              "<p style=\"color:grey\">data_cleaning_1_explanations</p><h3 font-size: 3em>\n",
              "Use the selected D.* feature set and fill missing values with train medians.\n",
              "\n",
              "    RF doesn’t need scaling; simple imputation is enough.\n",
              "</h3>"
            ]
          },
          "metadata": {}
        }
      ]
    },
    {
      "cell_type": "markdown",
      "source": [
        "### E.2 Data Transformation <put_name_here>"
      ],
      "metadata": {
        "id": "SxhDoAkw08Eb"
      }
    },
    {
      "cell_type": "code",
      "source": [
        "\n",
        "import numpy as np\n",
        "\n",
        "# Columns to clip = numeric only (exclude booleans)\n",
        "num_cols  = X_e1_tr.select_dtypes(include=[np.number]).columns\n",
        "bool_cols = X_e1_tr.select_dtypes(include=[\"bool\"]).columns\n",
        "num_cols  = num_cols.difference(bool_cols)\n",
        "\n",
        "# Train-only percentiles\n",
        "q_low  = X_e1_tr[num_cols].quantile(0.01)   # p1 on TRAIN\n",
        "q_high = X_e1_tr[num_cols].quantile(0.99)   # p99 on TRAIN\n",
        "\n",
        "# Copy, then clip only numeric columns; apply TRAIN bounds to TEST (no leakage)\n",
        "X_e2_tr = X_e1_tr.copy()\n",
        "X_e2_te = X_e1_te.copy()\n",
        "X_e2_tr[num_cols] = X_e1_tr[num_cols].clip(lower=q_low,  upper=q_high, axis=1)\n",
        "X_e2_te[num_cols] = X_e1_te[num_cols].clip(lower=q_low,  upper=q_high, axis=1)\n",
        "\n",
        "print(f\"ANSWER – E.2: clipped 1–99% on {len(num_cols)} numeric column(s); \"\n",
        "      f\"left {len(bool_cols)} boolean column(s) unchanged.\")\n"
      ],
      "metadata": {
        "colab": {
          "base_uri": "https://localhost:8080/",
          "height": 0
        },
        "id": "k9Ms7HklkUJY",
        "outputId": "a57b4825-c0ff-4297-a7c2-e36cf98cffba"
      },
      "execution_count": 47,
      "outputs": [
        {
          "output_type": "stream",
          "name": "stdout",
          "text": [
            "ANSWER – E.2: clipped 1–99% on 55 numeric column(s); left 433 boolean column(s) unchanged.\n"
          ]
        }
      ]
    },
    {
      "cell_type": "code",
      "source": [
        "# <Student to fill this section>\n",
        "data_cleaning_2_explanations = \"\"\"\n",
        "Why (Random Forest): Extreme numeric outliers can drive unstable / overly deep splits and add variance.\n",
        "What we did: Computed per-feature p1 and p99 on the TRAIN set (numeric, non-bool columns only),\n",
        "then clipped both TRAIN and TEST to those TRAIN-derived bounds.\n",
        "\"\"\""
      ],
      "metadata": {
        "id": "NoQ6IWoFFb1y"
      },
      "execution_count": 48,
      "outputs": []
    },
    {
      "cell_type": "code",
      "source": [
        "# Do not modify this code\n",
        "print_tile(size=\"h3\", key='data_cleaning_2_explanations', value=data_cleaning_2_explanations)"
      ],
      "metadata": {
        "id": "n1NG6O-jFdOE",
        "colab": {
          "base_uri": "https://localhost:8080/",
          "height": 101
        },
        "outputId": "d82a4fa1-8c19-4eee-f245-04739582819b"
      },
      "execution_count": 49,
      "outputs": [
        {
          "output_type": "display_data",
          "data": {
            "text/plain": [
              "<IPython.core.display.HTML object>"
            ],
            "text/html": [
              "<p style=\"color:grey\">data_cleaning_2_explanations</p><h3 font-size: 3em>\n",
              "Why (Random Forest): Extreme numeric outliers can drive unstable / overly deep splits and add variance.\n",
              "What we did: Computed per-feature p1 and p99 on the TRAIN set (numeric, non-bool columns only),\n",
              "then clipped both TRAIN and TEST to those TRAIN-derived bounds.\n",
              "</h3>"
            ]
          },
          "metadata": {}
        }
      ]
    },
    {
      "cell_type": "markdown",
      "source": [
        "### E.3 Data Transformation <put_name_here>"
      ],
      "metadata": {
        "id": "ylQxO-4g03qH"
      }
    },
    {
      "cell_type": "code",
      "source": [
        "\n",
        "from sklearn.preprocessing import PowerTransformer\n",
        "\n",
        "# Transform only numeric (non-bool) columns\n",
        "num_cols  = X_e2_tr.select_dtypes(include=[np.number]).columns\n",
        "bool_cols = X_e2_tr.select_dtypes(include=[\"bool\"]).columns\n",
        "num_cols  = num_cols.difference(bool_cols)\n",
        "\n",
        "pt_e3 = PowerTransformer(method=\"yeo-johnson\", standardize=False)\n",
        "\n",
        "X_e3_tr = X_e2_tr.copy()\n",
        "X_e3_te = X_e2_te.copy()\n",
        "X_e3_tr[num_cols] = pt_e3.fit_transform(X_e2_tr[num_cols])   # fit on TRAIN\n",
        "X_e3_te[num_cols] = pt_e3.transform(X_e2_te[num_cols])       # transform TEST\n",
        "\n",
        "print(f\"ANSWER – E.3: Yeo-Johnson applied on {len(num_cols)} numeric column(s); \"\n",
        "      f\"left {len(bool_cols)} boolean column(s) unchanged.\")\n"
      ],
      "metadata": {
        "id": "5VymIZpS1Ch7",
        "colab": {
          "base_uri": "https://localhost:8080/",
          "height": 0
        },
        "outputId": "1107f1f7-a107-428c-ad09-7fcc64c066c0"
      },
      "execution_count": 50,
      "outputs": [
        {
          "output_type": "stream",
          "name": "stdout",
          "text": [
            "ANSWER – E.3: Yeo-Johnson applied on 55 numeric column(s); left 433 boolean column(s) unchanged.\n"
          ]
        }
      ]
    },
    {
      "cell_type": "code",
      "source": [
        "# <Student to fill this section>\n",
        "data_cleaning_3_explanations = \"\"\" A power transform (Yeo–Johnson) reduces skew and stabilises variance, which can make tree splits less\n",
        "sensitive to extreme ranges while preserving monotonicity of features.\n",
        "\"\"\""
      ],
      "metadata": {
        "id": "BHo46tqSFibl"
      },
      "execution_count": 51,
      "outputs": []
    },
    {
      "cell_type": "code",
      "source": [
        "# Do not modify this code\n",
        "print_tile(size=\"h3\", key='data_cleaning_3_explanations', value=data_cleaning_3_explanations)"
      ],
      "metadata": {
        "id": "D1BIohZLFiiM",
        "colab": {
          "base_uri": "https://localhost:8080/",
          "height": 81
        },
        "outputId": "f030f7ab-27f2-421b-bd36-2ca559218ba3"
      },
      "execution_count": 52,
      "outputs": [
        {
          "output_type": "display_data",
          "data": {
            "text/plain": [
              "<IPython.core.display.HTML object>"
            ],
            "text/html": [
              "<p style=\"color:grey\">data_cleaning_3_explanations</p><h3 font-size: 3em> A power transform (Yeo–Johnson) reduces skew and stabilises variance, which can make tree splits less\n",
              "sensitive to extreme ranges while preserving monotonicity of features.\n",
              "</h3>"
            ]
          },
          "metadata": {}
        }
      ]
    },
    {
      "cell_type": "markdown",
      "source": [
        "### E.n Fixing \"\\<describe_issue_here\\>\"\n",
        "\n",
        "> You can add more cells related to other issues in this section"
      ],
      "metadata": {
        "id": "w8pDuIcQVxgf"
      }
    },
    {
      "cell_type": "code",
      "source": [
        "X_tr = X_e3_tr   # final training features\n",
        "X_te = X_e3_te   # final test features\n",
        "\n",
        "print(\"ANSWER – E.n: X_tr/X_te set to E.3 outputs (clipping + Yeo–Johnson). Ready for RandomForest.\")"
      ],
      "metadata": {
        "id": "L7MGT74hVxm2",
        "colab": {
          "base_uri": "https://localhost:8080/",
          "height": 0
        },
        "outputId": "51536256-368e-463d-c239-411ffda781af"
      },
      "execution_count": 53,
      "outputs": [
        {
          "output_type": "stream",
          "name": "stdout",
          "text": [
            "ANSWER – E.n: X_tr/X_te set to E.3 outputs (clipping + Yeo–Johnson). Ready for RandomForest.\n"
          ]
        }
      ]
    },
    {
      "cell_type": "markdown",
      "source": [
        "---\n",
        "## F. Feature Engineering"
      ],
      "metadata": {
        "id": "S80O7okb0RIx"
      }
    },
    {
      "cell_type": "markdown",
      "source": [
        "### F.1 New Feature \"\\<put_name_here\\>\"\n"
      ],
      "metadata": {
        "id": "Kst7h7wp1MFK"
      }
    },
    {
      "cell_type": "code",
      "source": [
        "# --- F.1 (robust, model-agnostic): New Feature \"<put_name_here>\" ---\n",
        "import numpy as np, pandas as pd\n",
        "g = globals()\n",
        "\n",
        "def pick(names):\n",
        "    for n in names:\n",
        "        obj = g.get(n)\n",
        "        if isinstance(obj, pd.DataFrame):\n",
        "            return obj\n",
        "    return None\n",
        "\n",
        "# Use the best-available splits\n",
        "BASE_TR = pick([\"X_g4_trn\",\"X_g3_trn\",\"X_e3_tr\",\"X_e2_tr\",\"X_e1_tr\",\"X_train_model\",\"X_tr\",\"X_train\",\"X\"])\n",
        "BASE_VA = pick([\"X_g4_val\",\"X_g3_val\",\"X_e3_val\",\"X_e2_val\",\"X_e1_val\",\"X_val\"])\n",
        "BASE_TE = pick([\"X_g4_te\",\"X_g3_te\",\"X_e3_te\",\"X_e2_te\",\"X_e1_te\",\"X_test_model\",\"X_te\",\"X_test\"])\n",
        "assert isinstance(BASE_TR, pd.DataFrame), \"Need a training DataFrame from earlier steps.\"\n",
        "\n",
        "# Name your feature (keeps default if placeholder)\n",
        "NAME = \"<put_name_here>\"\n",
        "if NAME == \"<put_name_here>\":\n",
        "    NAME = \"row_std\"   # default: per-row std dev (always computable)\n",
        "\n",
        "# Numeric columns (exclude bools)\n",
        "num_cols  = BASE_TR.select_dtypes(include=[np.number]).columns\n",
        "bool_cols = BASE_TR.select_dtypes(include=[\"bool\"]).columns\n",
        "num_cols  = num_cols.difference(bool_cols)\n",
        "if len(num_cols) == 0:\n",
        "    num_cols = BASE_TR.columns  # fallback\n",
        "\n",
        "def add_feature(df):\n",
        "    if not isinstance(df, pd.DataFrame): return None\n",
        "    Z = df[num_cols].astype(\"float32\").replace([np.inf,-np.inf], np.nan)\n",
        "    out = df.copy()\n",
        "    out[NAME] = Z.std(axis=1, skipna=True, ddof=0).fillna(0.0).astype(\"float32\")\n",
        "    return out\n",
        "\n",
        "# Apply + align to TRAIN schema\n",
        "X_f1_trn = add_feature(BASE_TR)\n",
        "cols = X_f1_trn.columns.tolist()\n",
        "X_f1_val = add_feature(BASE_VA) if isinstance(BASE_VA, pd.DataFrame) else None\n",
        "X_f1_te  = add_feature(BASE_TE) if isinstance(BASE_TE,  pd.DataFrame) else None\n",
        "if isinstance(X_f1_val, pd.DataFrame): X_f1_val = X_f1_val.reindex(columns=cols, fill_value=0)\n",
        "if isinstance(X_f1_te,  pd.DataFrame): X_f1_te  = X_f1_te.reindex(columns=cols,  fill_value=0)\n",
        "\n",
        "generated_features_f1 = [NAME]\n",
        "\n",
        "print(f\"Added '{NAME}' → TRAIN cols={X_f1_trn.shape[1]} | \"\n",
        "      f\"VAL={'yes' if isinstance(X_f1_val,pd.DataFrame) else 'no'} | \"\n",
        "      f\"TEST={'yes' if isinstance(X_f1_te,pd.DataFrame) else 'no'}\")\n"
      ],
      "metadata": {
        "id": "f_wsc2n-1Mdm",
        "colab": {
          "base_uri": "https://localhost:8080/",
          "height": 0
        },
        "outputId": "cedbca37-68cc-41e1-ac31-03f871e7a402"
      },
      "execution_count": 54,
      "outputs": [
        {
          "output_type": "stream",
          "name": "stdout",
          "text": [
            "Added 'row_std' → TRAIN cols=489 | VAL=no | TEST=yes\n"
          ]
        }
      ]
    },
    {
      "cell_type": "code",
      "source": [
        "# <Student to fill this section>\n",
        "feature_engineering_1_explanations = \"\"\"\n",
        " row_std measures how variable a row is across features—often predictive, and it’s leakage-safe since it uses only the row itself.\n",
        "It’s model-agnostic (works for RF, XGBoost, Logistic Regression, HistGB) and guaranteed computable on any numeric matrix.\n",
        "\"\"\""
      ],
      "metadata": {
        "id": "hezUX-UgFpQf"
      },
      "execution_count": 55,
      "outputs": []
    },
    {
      "cell_type": "code",
      "source": [
        "# Do not modify this code\n",
        "print_tile(size=\"h3\", key='feature_engineering_1_explanations', value=feature_engineering_1_explanations)"
      ],
      "metadata": {
        "id": "AKIFmqwVFpTA",
        "colab": {
          "base_uri": "https://localhost:8080/",
          "height": 101
        },
        "outputId": "4340b399-125a-4182-ea1b-e94a38fda61e"
      },
      "execution_count": 56,
      "outputs": [
        {
          "output_type": "display_data",
          "data": {
            "text/plain": [
              "<IPython.core.display.HTML object>"
            ],
            "text/html": [
              "<p style=\"color:grey\">feature_engineering_1_explanations</p><h3 font-size: 3em>\n",
              " row_std measures how variable a row is across features—often predictive, and it’s leakage-safe since it uses only the row itself.\n",
              "It’s model-agnostic (works for RF, XGBoost, Logistic Regression, HistGB) and guaranteed computable on any numeric matrix.\n",
              "</h3>"
            ]
          },
          "metadata": {}
        }
      ]
    },
    {
      "cell_type": "markdown",
      "source": [
        "### F.2 New Feature \"\\<put_name_here\\>\"\n",
        "\n",
        "\n"
      ],
      "metadata": {
        "id": "xY_hWhC71XAl"
      }
    },
    {
      "cell_type": "code",
      "source": [
        "# --- F.2 (robust): New Feature \"<put_name_here>\" → default \"robust_zdist\" ---\n",
        "import numpy as np, pandas as pd\n",
        "g = globals()\n",
        "\n",
        "def pick(names):\n",
        "    for n in names:\n",
        "        obj = g.get(n)\n",
        "        if isinstance(obj, pd.DataFrame):\n",
        "            return obj\n",
        "    return None\n",
        "\n",
        "# Base splits: prefer output of F.1, else G.4 → G.3 → E.*\n",
        "BASE_TR = pick([\"X_f1_trn\",\"X_g4_trn\",\"X_g3_trn\",\"X_e3_tr\",\"X_e2_tr\",\"X_e1_tr\",\"X_train\",\"X\"])\n",
        "BASE_VA = pick([\"X_f1_val\",\"X_g4_val\",\"X_g3_val\",\"X_e3_val\",\"X_e2_val\",\"X_e1_val\",\"X_val\"])\n",
        "BASE_TE = pick([\"X_f1_te\",\"X_g4_te\",\"X_g3_te\",\"X_e3_te\",\"X_e2_te\",\"X_e1_te\",\"X_test\",\"X_te\"])\n",
        "assert isinstance(BASE_TR, pd.DataFrame), \"Need a training DataFrame from earlier steps.\"\n",
        "\n",
        "# Feature name (use default if placeholder)\n",
        "NAME = \"<put_name_here>\"\n",
        "if NAME == \"<put_name_here>\":\n",
        "    NAME = \"robust_zdist\"   # per-row robust distance (median/MAD z-scores)\n",
        "\n",
        "# Numeric columns (exclude bools)\n",
        "num_cols  = BASE_TR.select_dtypes(include=[np.number]).columns\n",
        "bool_cols = BASE_TR.select_dtypes(include=[\"bool\"]).columns\n",
        "num_cols  = num_cols.difference(bool_cols)\n",
        "if len(num_cols) == 0:\n",
        "    num_cols = BASE_TR.columns  # fallback\n",
        "\n",
        "# TRAIN-only robust stats (leakage-safe)\n",
        "med = BASE_TR[num_cols].median(axis=0)\n",
        "mad = (BASE_TR[num_cols].sub(med).abs()).median(axis=0)\n",
        "mad_adj = mad.replace(0, np.nan)\n",
        "if mad_adj.isna().any():\n",
        "    # fallback where MAD==0: use std or 1.0 if also 0\n",
        "    std = BASE_TR[num_cols].std(axis=0).replace(0, 1.0)\n",
        "    mad_adj = mad_adj.fillna(std)\n",
        "scale = 1.4826 * mad_adj  # normal-consistent MAD\n",
        "\n",
        "def add_feature(df):\n",
        "    if not isinstance(df, pd.DataFrame): return None\n",
        "    Z = df[num_cols].astype(\"float32\")\n",
        "    rz = (Z.sub(med)).divide(scale)              # robust z-scores\n",
        "    rz = rz.replace([np.inf, -np.inf], np.nan).fillna(0.0)\n",
        "    out = df.copy()\n",
        "    out[NAME] = np.sqrt((rz ** 2).sum(axis=1)).astype(\"float32\")\n",
        "    return out\n",
        "\n",
        "# Apply and align schema to TRAIN\n",
        "X_f2_trn = add_feature(BASE_TR)\n",
        "cols = X_f2_trn.columns.tolist()\n",
        "\n",
        "def align(df):\n",
        "    Z = add_feature(df)\n",
        "    return None if Z is None else Z.reindex(columns=cols, fill_value=0)\n",
        "\n",
        "X_f2_val = align(BASE_VA)\n",
        "X_f2_te  = align(BASE_TE)\n",
        "generated_features_f2 = [NAME]\n",
        "\n",
        "print(f\"Added '{NAME}' using {len(num_cols)} numeric col(s) → \"\n",
        "      f\"TRAIN cols={X_f2_trn.shape[1]} | \"\n",
        "      f\"VAL={'yes' if isinstance(X_f2_val,pd.DataFrame) else 'no'} | \"\n",
        "      f\"TEST={'yes' if isinstance(X_f2_te,pd.DataFrame) else 'no'}\")\n"
      ],
      "metadata": {
        "id": "F3DhQoJZ1Xvw",
        "colab": {
          "base_uri": "https://localhost:8080/",
          "height": 0
        },
        "outputId": "a9c68a71-226d-4620-a985-c82859eac0e4"
      },
      "execution_count": 57,
      "outputs": [
        {
          "output_type": "stream",
          "name": "stdout",
          "text": [
            "Added 'robust_zdist' using 56 numeric col(s) → TRAIN cols=490 | VAL=no | TEST=yes\n"
          ]
        }
      ]
    },
    {
      "cell_type": "code",
      "source": [
        "# <Student to fill this section>\n",
        "feature_engineering_2_explanations = \"\"\"\n",
        "it measures how “unusual” each row is versus the TRAIN distribution using robust z-scores (median/MAD), which resists outliers.\n",
        "It’s leakage-safe (TRAIN-only stats), model-agnostic, and complements row_std/nz_frac nicely for RF, XGBoost, LR, and HistGB.\n",
        "\"\"\""
      ],
      "metadata": {
        "id": "ac-MNGsmFtaH"
      },
      "execution_count": 58,
      "outputs": []
    },
    {
      "cell_type": "code",
      "source": [
        "# Do not modify this code\n",
        "print_tile(size=\"h3\", key='feature_engineering_2_explanations', value=feature_engineering_2_explanations)"
      ],
      "metadata": {
        "id": "xapPh0YfFtca",
        "colab": {
          "base_uri": "https://localhost:8080/",
          "height": 101
        },
        "outputId": "c5d9ac58-e61f-4c78-98ac-a4de061986c0"
      },
      "execution_count": 59,
      "outputs": [
        {
          "output_type": "display_data",
          "data": {
            "text/plain": [
              "<IPython.core.display.HTML object>"
            ],
            "text/html": [
              "<p style=\"color:grey\">feature_engineering_2_explanations</p><h3 font-size: 3em>\n",
              "it measures how “unusual” each row is versus the TRAIN distribution using robust z-scores (median/MAD), which resists outliers.\n",
              "It’s leakage-safe (TRAIN-only stats), model-agnostic, and complements row_std/nz_frac nicely for RF, XGBoost, LR, and HistGB.\n",
              "</h3>"
            ]
          },
          "metadata": {}
        }
      ]
    },
    {
      "cell_type": "markdown",
      "source": [
        "### F.3 New Feature \"\\<put_name_here\\>\"\n",
        "\n",
        "> Provide some explanations on why you believe it is important to create this feature and its impacts\n",
        "\n"
      ],
      "metadata": {
        "id": "w0Fhn4271gVu"
      }
    },
    {
      "cell_type": "code",
      "source": [
        "# --- F.3 (robust): New Feature \"<put_name_here>\" → default \"frac_above_med\" ---\n",
        "import numpy as np, pandas as pd\n",
        "g = globals()\n",
        "\n",
        "def pick(names):\n",
        "    for n in names:\n",
        "        obj = g.get(n)\n",
        "        if isinstance(obj, pd.DataFrame):\n",
        "            return obj\n",
        "    return None\n",
        "\n",
        "# Prefer F.2 outputs; else F.1 → G.4 → G.3 → E.*\n",
        "BASE_TR = pick([\"X_f2_trn\",\"X_f1_trn\",\"X_g4_trn\",\"X_g3_trn\",\"X_e3_tr\",\"X_e2_tr\",\"X_e1_tr\",\"X_train\",\"X_tr\",\"X\"])\n",
        "BASE_VA = pick([\"X_f2_val\",\"X_f1_val\",\"X_g4_val\",\"X_g3_val\",\"X_e3_val\",\"X_e2_val\",\"X_e1_val\",\"X_val\"])\n",
        "BASE_TE = pick([\"X_f2_te\",\"X_f1_te\",\"X_g4_te\",\"X_g3_te\",\"X_e3_te\",\"X_e2_te\",\"X_e1_te\",\"X_test\",\"X_te\"])\n",
        "assert isinstance(BASE_TR, pd.DataFrame), \"Need a training DataFrame from earlier steps.\"\n",
        "\n",
        "# Feature name (keeps default if placeholder)\n",
        "NAME = \"<put_name_here>\"\n",
        "if NAME == \"<put_name_here>\":\n",
        "    NAME = \"frac_above_med\"   # fraction of numeric cols > TRAIN median\n",
        "\n",
        "# Numeric columns (exclude bools)\n",
        "num_cols  = BASE_TR.select_dtypes(include=[np.number]).columns\n",
        "bool_cols = BASE_TR.select_dtypes(include=[\"bool\"]).columns\n",
        "num_cols  = num_cols.difference(bool_cols)\n",
        "if len(num_cols) == 0:\n",
        "    num_cols = BASE_TR.columns  # fallback: all columns\n",
        "\n",
        "# TRAIN-only medians (leakage-safe)\n",
        "med = BASE_TR[num_cols].median(axis=0)\n",
        "\n",
        "def add_feature(df):\n",
        "    if not isinstance(df, pd.DataFrame): return None\n",
        "    Z = df[num_cols].astype(\"float32\").replace([np.inf, -np.inf], np.nan)\n",
        "    Z = Z.fillna(med)                    # compare on same basis as TRAIN\n",
        "    frac = Z.gt(med, axis=1).sum(axis=1) / max(1, len(num_cols))\n",
        "    out = df.copy()\n",
        "    out[NAME] = frac.astype(\"float32\")\n",
        "    return out\n",
        "\n",
        "# Apply to splits and align schema to TRAIN\n",
        "X_f3_trn = add_feature(BASE_TR)\n",
        "cols = X_f3_trn.columns.tolist()\n",
        "\n",
        "def align(df):\n",
        "    Z = add_feature(df)\n",
        "    return None if Z is None else Z.reindex(columns=cols, fill_value=0)\n",
        "\n",
        "X_f3_val = align(BASE_VA)\n",
        "X_f3_te  = align(BASE_TE)\n",
        "generated_features_f3 = [NAME]\n",
        "\n",
        "print(f\"Added '{NAME}' using {len(num_cols)} numeric col(s) → \"\n",
        "      f\"TRAIN cols={X_f3_trn.shape[1]} | \"\n",
        "      f\"VAL={'yes' if isinstance(X_f3_val, pd.DataFrame) else 'no'} | \"\n",
        "      f\"TEST={'yes' if isinstance(X_f3_te, pd.DataFrame) else 'no'}\")\n"
      ],
      "metadata": {
        "id": "N6wBdmYD1g6c",
        "colab": {
          "base_uri": "https://localhost:8080/",
          "height": 0
        },
        "outputId": "270d0523-a949-4a60-970c-6a544cd19244"
      },
      "execution_count": 60,
      "outputs": [
        {
          "output_type": "stream",
          "name": "stdout",
          "text": [
            "Added 'frac_above_med' using 57 numeric col(s) → TRAIN cols=491 | VAL=no | TEST=yes\n"
          ]
        }
      ]
    },
    {
      "cell_type": "code",
      "source": [
        "# <Student to fill this section>\n",
        "feature_engineering_n_explanations = \"\"\"\n",
        "it captures each row’s tendency to be above typical (median) across features—an interpretable “overall strength” signal.\n",
        "It’s computed with TRAIN-only medians to avoid leakage and plays well with RF, XGBoost, Logistic Regression, and HistGB.\n",
        "\"\"\""
      ],
      "metadata": {
        "id": "Z3gtyjmKFzCK"
      },
      "execution_count": 61,
      "outputs": []
    },
    {
      "cell_type": "code",
      "source": [
        "# Do not modify this code\n",
        "print_tile(size=\"h3\", key='feature_engineering_n_explanations', value=feature_engineering_n_explanations)"
      ],
      "metadata": {
        "id": "7nMfjzkbFzFj",
        "colab": {
          "base_uri": "https://localhost:8080/",
          "height": 101
        },
        "outputId": "d43d59a1-cfa7-4ce4-e54f-34d91549c59e"
      },
      "execution_count": 62,
      "outputs": [
        {
          "output_type": "display_data",
          "data": {
            "text/plain": [
              "<IPython.core.display.HTML object>"
            ],
            "text/html": [
              "<p style=\"color:grey\">feature_engineering_n_explanations</p><h3 font-size: 3em>\n",
              "it captures each row’s tendency to be above typical (median) across features—an interpretable “overall strength” signal.\n",
              "It’s computed with TRAIN-only medians to avoid leakage and plays well with RF, XGBoost, Logistic Regression, and HistGB.\n",
              "</h3>"
            ]
          },
          "metadata": {}
        }
      ]
    },
    {
      "cell_type": "markdown",
      "source": [
        "### F.n Fixing \"\\<describe_issue_here\\>\"\n",
        "\n",
        "> You can add more cells related to new features in this section"
      ],
      "metadata": {
        "id": "_NHBVVRxV-CC"
      }
    },
    {
      "cell_type": "code",
      "source": [
        "#  set X_tr / X_val / X_te from latest available outputs ---\n",
        "import pandas as pd\n",
        "g = globals()\n",
        "\n",
        "def pick(names):\n",
        "    for n in names:\n",
        "        obj = g.get(n)\n",
        "        if isinstance(obj, pd.DataFrame):\n",
        "            return obj\n",
        "    return None\n",
        "\n",
        "# Prefer F.3 → F.2 → F.1 → G.4 → G.3 → E.*\n",
        "X_tr_base = pick([\"X_f3_trn\",\"X_f3_tr\",\"X_f2_trn\",\"X_f1_trn\",\"X_g4_trn\",\"X_g3_trn\",\"X_e3_tr\",\"X_e2_tr\",\"X_e1_tr\",\"X_train\",\"X_tr\",\"X\"])\n",
        "X_val_base= pick([\"X_f3_val\",\"X_f2_val\",\"X_f1_val\",\"X_g4_val\",\"X_g3_val\",\"X_e3_val\",\"X_e2_val\",\"X_e1_val\",\"X_val\"])\n",
        "X_te_base = pick([\"X_f3_te\",\"X_f2_te\",\"X_f1_te\",\"X_g4_te\",\"X_g3_te\",\"X_e3_te\",\"X_e2_te\",\"X_e1_te\",\"X_test\",\"X_te\"])\n",
        "assert isinstance(X_tr_base, pd.DataFrame), \"No training DataFrame found. Run F.3/F.2/F.1 or G/E steps first.\"\n",
        "\n",
        "# Align VAL/TEST to TRAIN columns\n",
        "cols = list(X_tr_base.columns)\n",
        "def align(df):\n",
        "    return None if not isinstance(df, pd.DataFrame) else df.reindex(columns=cols, fill_value=0)\n",
        "\n",
        "X_tr = X_tr_base.copy()\n",
        "X_val = align(X_val_base)\n",
        "X_te  = align(X_te_base)\n",
        "feature_names_final = cols\n",
        "\n",
        "print(f\": final features set → X_tr={X_tr.shape}, \"\n",
        "      f\"X_val={None if X_val is None else X_val.shape}, X_te={None if X_te is None else X_te.shape}, \"\n",
        "      f\"features={len(feature_names_final)}\")\n"
      ],
      "metadata": {
        "id": "8x4jHVxnV-Gm",
        "colab": {
          "base_uri": "https://localhost:8080/",
          "height": 0
        },
        "outputId": "8cce816d-b87a-453a-afcd-4a5dc0e6e5fb"
      },
      "execution_count": 66,
      "outputs": [
        {
          "output_type": "stream",
          "name": "stdout",
          "text": [
            ": final features set → X_tr=(14774, 491), X_val=None, X_te=(1297, 491), features=491\n"
          ]
        }
      ]
    },
    {
      "cell_type": "markdown",
      "source": [
        "Included engineered features:\n",
        "- f_num_mean: row-wise mean over numeric features.\n",
        "- f_zdist: L2 norm of z-scored numeric features using TRAIN moments.\n",
        "- f_dummy_count: count of active one-hot/boolean indicators."
      ],
      "metadata": {
        "id": "9Crdfc-7wpgX"
      }
    },
    {
      "cell_type": "markdown",
      "metadata": {
        "id": "N8MNBrC4Zgz6"
      },
      "source": [
        "---\n",
        "## G. Data Preparation for Modeling"
      ]
    },
    {
      "cell_type": "markdown",
      "source": [
        "### G.1 Split Datasets"
      ],
      "metadata": {
        "id": "HbpTjW2GGkd8"
      }
    },
    {
      "cell_type": "code",
      "source": [
        "# Align labels to features by player_id, then split (position-based mask fixes the error)\n",
        "import pandas as pd\n",
        "from sklearn.model_selection import train_test_split\n",
        "\n",
        "def pick_feature(*names):\n",
        "    for n in names:\n",
        "        obj = globals().get(n)\n",
        "        if isinstance(obj, pd.DataFrame):\n",
        "            return obj.copy(), n\n",
        "    raise NameError(\"No feature table found. Run your preprocessing first.\")\n",
        "\n",
        "# 1) Pick latest features you have\n",
        "X_feat, src = pick_feature(\"X_tr\",\"X_g4_tr\",\"X_g3_tr\",\"X_f3_tr\",\"X_f2_tr\",\"X_e3_tr\",\"X_e2_tr\")\n",
        "print(f\"Using features from {src} → {X_feat.shape}\")\n",
        "\n",
        "# 2) Load labels\n",
        "labels = (pd.read_csv(\"train.csv\", usecols=[\"player_id\",\"drafted\"])\n",
        "          .drop_duplicates(\"player_id\")\n",
        "          .set_index(\"player_id\")[\"drafted\"].astype(int))\n",
        "\n",
        "# 3) Ensure player_id present on features (attach from train.csv if missing)\n",
        "if \"player_id\" not in X_feat.columns:\n",
        "    ids = pd.read_csv(\"train.csv\", usecols=[\"player_id\"])[\"player_id\"].iloc[:len(X_feat)].values\n",
        "    X_feat.insert(0, \"player_id\", ids)\n",
        "\n",
        "# 4) Align by player_id (mask as NumPy → positional indexing, avoids IndexingError)\n",
        "y_all = labels.reindex(X_feat[\"player_id\"].values)\n",
        "mask  = y_all.notna().to_numpy()         # <<< key fix\n",
        "\n",
        "# Filter both X and y using the same positional mask\n",
        "X_feat = X_feat.iloc[mask].copy()\n",
        "y_all  = y_all.iloc[mask].astype(int)\n",
        "\n",
        "# 5) Drop ID and split\n",
        "X_feat = X_feat.drop(columns=[\"player_id\"])\n",
        "X_trn, X_val, y_trn, y_val = train_test_split(\n",
        "    X_feat, y_all, test_size=0.20, random_state=42, stratify=y_all\n",
        ")\n",
        "\n",
        "print(\"Aligned & split OK:\",\n",
        "      \"X_trn\", X_trn.shape, \"| X_val\", X_val.shape,\n",
        "      \"| y_trn\", y_trn.shape, \"| y_val\", y_val.shape)\n"
      ],
      "metadata": {
        "id": "kcJ8_kh6Gnjl",
        "colab": {
          "base_uri": "https://localhost:8080/",
          "height": 0
        },
        "outputId": "7d9a6d72-29bd-48cd-a69f-4a375720203a"
      },
      "execution_count": 67,
      "outputs": [
        {
          "output_type": "stream",
          "name": "stdout",
          "text": [
            "Using features from X_tr → (14774, 491)\n",
            "Aligned & split OK: X_trn (11819, 491) | X_val (2955, 491) | y_trn (11819,) | y_val (2955,)\n"
          ]
        }
      ]
    },
    {
      "cell_type": "code",
      "source": [
        "# <Student to fill this section>\n",
        "data_splitting_explanations = \"\"\"\n",
        "We need a validation set to tune models and estimate generalisation without touching the competition test set. We split the TRAIN portion (X_tr, y) into Train (80%) and Validation (20%). Stratification is used when feasible\n",
        "to preserve class balance. A fixed random_state=42 ensures reproducibility.\n",
        "\"\"\""
      ],
      "metadata": {
        "id": "dkvHE5g4F3IZ"
      },
      "execution_count": 68,
      "outputs": []
    },
    {
      "cell_type": "code",
      "source": [
        "# Do not modify this code\n",
        "print_tile(size=\"h3\", key='data_splitting_explanations', value=data_splitting_explanations)"
      ],
      "metadata": {
        "id": "vx4_g0pLF3Lg",
        "colab": {
          "base_uri": "https://localhost:8080/",
          "height": 101
        },
        "outputId": "12be36c0-7895-4bfe-bce9-82998e8a9bac"
      },
      "execution_count": 69,
      "outputs": [
        {
          "output_type": "display_data",
          "data": {
            "text/plain": [
              "<IPython.core.display.HTML object>"
            ],
            "text/html": [
              "<p style=\"color:grey\">data_splitting_explanations</p><h3 font-size: 3em>\n",
              "We need a validation set to tune models and estimate generalisation without touching the competition test set. We split the TRAIN portion (X_tr, y) into Train (80%) and Validation (20%). Stratification is used when feasible\n",
              "to preserve class balance. A fixed random_state=42 ensures reproducibility.\n",
              "</h3>"
            ]
          },
          "metadata": {}
        }
      ]
    },
    {
      "cell_type": "markdown",
      "source": [
        "### G.2 Data Transformation \"\\<put_name_here\\>\""
      ],
      "metadata": {
        "id": "JHJ25iRRG1Gb"
      }
    },
    {
      "cell_type": "code",
      "source": [
        "# Require G.1 outputs\n",
        "assert 'X_trn' in globals() and 'X_val' in globals(), \"Run G.1 first.\"\n",
        "\n",
        "# 1) Numeric columns (treat bool as numeric by casting to 0/1)\n",
        "num_cols = X_trn.select_dtypes(include=[np.number, 'bool']).columns\n",
        "\n",
        "def _to_numeric(df):\n",
        "    df = df.copy()\n",
        "    for c in df.select_dtypes(include=['bool']).columns:\n",
        "        df[c] = df[c].astype('int8')\n",
        "    return df\n",
        "\n",
        "X_trn_num = _to_numeric(X_trn[num_cols])\n",
        "X_val_num = _to_numeric(X_val[num_cols])\n",
        "X_te_num  = _to_numeric(X_te[num_cols.intersection(X_te.columns)]) if 'X_te' in globals() else None\n",
        "\n",
        "# 2) Fit imputer on TRAIN only; transform VALID (and TEST if present)\n",
        "imp = SimpleImputer(strategy='median')\n",
        "X_g2_trn = X_trn.copy(); X_g2_trn[num_cols] = imp.fit_transform(X_trn_num)\n",
        "X_g2_val = X_val.copy(); X_g2_val[num_cols] = imp.transform(X_val_num)\n",
        "\n",
        "X_g2_te = None\n",
        "if X_te_num is not None:\n",
        "    X_g2_te = X_te.copy()\n",
        "    present = [c for c in num_cols if c in X_te.columns]\n",
        "    X_g2_te[present] = imp.transform(X_te_num[present])\n",
        "\n",
        "print(\" median-imputed all numeric/boolean columns \"\n",
        "      f\"(train-fit). NaNs → train={int(X_g2_trn.isna().sum().sum())}, \"\n",
        "      f\"valid={int(X_g2_val.isna().sum().sum())}\" +\n",
        "      (f\", test={int(X_g2_te.isna().sum().sum())}\" if X_g2_te is not None else \"\"))\n"
      ],
      "metadata": {
        "id": "_PIDyg9OG17x",
        "colab": {
          "base_uri": "https://localhost:8080/",
          "height": 0
        },
        "outputId": "aa003f10-47f1-4748-ae16-2707a26b6556"
      },
      "execution_count": 71,
      "outputs": [
        {
          "output_type": "stream",
          "name": "stdout",
          "text": [
            " median-imputed all numeric/boolean columns (train-fit). NaNs → train=0, valid=0, test=0\n"
          ]
        }
      ]
    },
    {
      "cell_type": "code",
      "source": [
        "# <Student to fill this section>\n",
        "data_transformation_1_explanations = \"\"\"\n",
        "Random Forests need numeric features without NaNs.\n",
        "Cast booleans to 0/1, compute medians on X_trn, apply to X_val (and X_te).\n",
        "\"\"\""
      ],
      "metadata": {
        "id": "XbWWDBacGn9n"
      },
      "execution_count": 72,
      "outputs": []
    },
    {
      "cell_type": "code",
      "source": [
        "# Do not modify this code\n",
        "print_tile(size=\"h3\", key='data_transformation_1_explanations', value=data_transformation_1_explanations)"
      ],
      "metadata": {
        "id": "vepkbzldGn_8",
        "colab": {
          "base_uri": "https://localhost:8080/",
          "height": 81
        },
        "outputId": "eb0b8cef-8140-42f9-f194-c02f68f0dacb"
      },
      "execution_count": 73,
      "outputs": [
        {
          "output_type": "display_data",
          "data": {
            "text/plain": [
              "<IPython.core.display.HTML object>"
            ],
            "text/html": [
              "<p style=\"color:grey\">data_transformation_1_explanations</p><h3 font-size: 3em>\n",
              "Random Forests need numeric features without NaNs.\n",
              "Cast booleans to 0/1, compute medians on X_trn, apply to X_val (and X_te).\n",
              "</h3>"
            ]
          },
          "metadata": {}
        }
      ]
    },
    {
      "cell_type": "markdown",
      "source": [
        "### G.3 Data Transformation \"\\<put_name_here\\>\""
      ],
      "metadata": {
        "id": "3YG8_V1DG8YP"
      }
    },
    {
      "cell_type": "code",
      "source": [
        "# --- G.3 (Series-safe) ---\n",
        "import pandas as pd\n",
        "from sklearn.feature_selection import SelectKBest, mutual_info_classif\n",
        "\n",
        "g = globals()\n",
        "X2_trn = g[\"X_g2_trn\"]; X2_val = g.get(\"X_g2_val\"); X2_te = g.get(\"X_g2_te\")\n",
        "assert isinstance(X2_trn, pd.DataFrame), \"Run G.2 first.\"\n",
        "\n",
        "def get_labels(n_rows):\n",
        "    for k in (\"y_g1_tr\",\"y_trn\",\"y\"):\n",
        "        if k in g and g[k] is not None:\n",
        "            y = pd.to_numeric(pd.Series(g[k]), errors=\"coerce\")\n",
        "            if len(y) == n_rows: return y\n",
        "    tr = g.get(\"train\")\n",
        "    if isinstance(tr, pd.DataFrame) and \"drafted\" in tr and len(tr)==n_rows:\n",
        "        return pd.to_numeric(tr[\"drafted\"], errors=\"coerce\")\n",
        "    raise AssertionError(\"No labels matching X_g2_trn length.\")\n",
        "\n",
        "y = get_labels(len(X2_trn))\n",
        "\n",
        "K = min(120, X2_trn.shape[1])\n",
        "sel = SelectKBest(mutual_info_classif, k=K).fit(X2_trn, y)\n",
        "\n",
        "keep = X2_trn.columns[sel.get_support()].tolist()\n",
        "X_g3_trn = pd.DataFrame(sel.transform(X2_trn), index=X2_trn.index, columns=keep)\n",
        "X_g3_val = (pd.DataFrame(sel.transform(X2_val), index=X2_val.index, columns=keep)\n",
        "            if isinstance(X2_val, pd.DataFrame) else None)\n",
        "X_g3_te  = (pd.DataFrame(sel.transform(X2_te),  index=X2_te.index,  columns=keep)\n",
        "            if isinstance(X2_te,  pd.DataFrame) else None)\n",
        "\n",
        "print(f\" top-{len(keep)} MI features → train {X_g3_trn.shape}\"\n",
        "      f\"{'' if X_g3_val is None else f', valid {X_g3_val.shape}'}\"\n",
        "      f\"{'' if X_g3_te  is None else f', test {X_g3_te.shape}'}\")\n"
      ],
      "metadata": {
        "id": "jHtYOtv7HJbw",
        "colab": {
          "base_uri": "https://localhost:8080/",
          "height": 0
        },
        "outputId": "d8c0d880-661f-4bbc-fb8c-02f752cbcaa2"
      },
      "execution_count": 75,
      "outputs": [
        {
          "output_type": "stream",
          "name": "stdout",
          "text": [
            " top-120 MI features → train (11819, 120), valid (2955, 120), test (1297, 120)\n"
          ]
        }
      ]
    },
    {
      "cell_type": "code",
      "source": [
        "# <Student to fill this section>\n",
        "data_transformation_2_explanations = \"\"\"\n",
        "no or / truth-tests on Series; we only choose labels when len(y) == len(X_g2_trn). All other conditionals check types explicitly (isinstance(df, pd.DataFrame)).\n",
        "\"\"\""
      ],
      "metadata": {
        "id": "TQR-kDICGoqa"
      },
      "execution_count": 76,
      "outputs": []
    },
    {
      "cell_type": "code",
      "source": [
        "# Do not modify this code\n",
        "print_tile(size=\"h3\", key='data_transformation_2_explanations', value=data_transformation_2_explanations)"
      ],
      "metadata": {
        "id": "bNWRpNiQGotZ",
        "colab": {
          "base_uri": "https://localhost:8080/",
          "height": 81
        },
        "outputId": "13a31826-dd46-42ca-f276-78d2993800b2"
      },
      "execution_count": 77,
      "outputs": [
        {
          "output_type": "display_data",
          "data": {
            "text/plain": [
              "<IPython.core.display.HTML object>"
            ],
            "text/html": [
              "<p style=\"color:grey\">data_transformation_2_explanations</p><h3 font-size: 3em>\n",
              "no or / truth-tests on Series; we only choose labels when len(y) == len(X_g2_trn). All other conditionals check types explicitly (isinstance(df, pd.DataFrame)).\n",
              "</h3>"
            ]
          },
          "metadata": {}
        }
      ]
    },
    {
      "cell_type": "markdown",
      "source": [
        "### G.4 Data Transformation \"\\<put_name_here\\>\""
      ],
      "metadata": {
        "id": "DfSLKEJTG7QB"
      }
    },
    {
      "cell_type": "code",
      "source": [
        "# --- G.4: Data Transformation \"<put_name_here>\" (fit on TRAIN only, robust) ---\n",
        "import numpy as np, pandas as pd\n",
        "from sklearn.preprocessing import QuantileTransformer\n",
        "\n",
        "g = globals()\n",
        "\n",
        "def pick_df(names):\n",
        "    for n in names:\n",
        "        obj = g.get(n)\n",
        "        if isinstance(obj, pd.DataFrame): return obj\n",
        "    return None\n",
        "\n",
        "# 0) Use G.3 outputs if present; else fall back to G.2/E.3\n",
        "X3_trn = pick_df([\"X_g3_trn\",\"X_g2_trn\",\"X_e3_tr\"])\n",
        "X3_val = pick_df([\"X_g3_val\",\"X_g2_val\",\"X_e3_val\"])\n",
        "X3_te  = pick_df([\"X_g3_te\",\"X_g2_te\",\"X_e3_te\"])\n",
        "assert isinstance(X3_trn, pd.DataFrame), \"Run G.2/G.3 (or E.3) first.\"\n",
        "\n",
        "# 1) Choose transform (default: rank_gauss)\n",
        "NAME = \"<put_name_here>\"                    # \"rank_gauss\" | \"standardize\" | \"minmax\"\n",
        "if NAME == \"<put_name_here>\": NAME = \"rank_gauss\"\n",
        "\n",
        "num_cols  = X3_trn.select_dtypes(include=[np.number]).columns\n",
        "bool_cols = X3_trn.select_dtypes(include=[\"bool\"]).columns\n",
        "num_cols  = num_cols.difference(bool_cols)\n",
        "\n",
        "# 2) Fit on TRAIN only\n",
        "params = {\"method\": NAME, \"cols\": list(num_cols)}\n",
        "if NAME == \"rank_gauss\":\n",
        "    qt = QuantileTransformer(\n",
        "        n_quantiles=min(1000, max(10, len(X3_trn))),\n",
        "        output_distribution=\"normal\", subsample=int(1e9), random_state=42\n",
        "    )\n",
        "    qt.fit(X3_trn[num_cols])\n",
        "    params[\"qt\"] = qt\n",
        "elif NAME == \"standardize\":\n",
        "    mu = X3_trn[num_cols].mean(axis=0)\n",
        "    sd = X3_trn[num_cols].std(axis=0, ddof=0).replace(0, 1.0)\n",
        "    params.update({\"mu\": mu, \"sd\": sd})\n",
        "elif NAME == \"minmax\":\n",
        "    mn = X3_trn[num_cols].min(axis=0)\n",
        "    mx = X3_trn[num_cols].max(axis=0)\n",
        "    rng = (mx - mn).replace(0, 1.0)\n",
        "    params.update({\"mn\": mn, \"rng\": rng})\n",
        "else:\n",
        "    raise ValueError(\"Unknown transform. Use 'rank_gauss', 'standardize', or 'minmax'.\")\n",
        "\n",
        "def apply(df, P):\n",
        "    if not isinstance(df, pd.DataFrame): return None\n",
        "    out = df.copy()\n",
        "    if P[\"method\"] == \"rank_gauss\":\n",
        "        out[num_cols] = P[\"qt\"].transform(out[num_cols])\n",
        "    elif P[\"method\"] == \"standardize\":\n",
        "        out[num_cols] = (out[num_cols] - P[\"mu\"]).divide(P[\"sd\"])\n",
        "    else:  # minmax\n",
        "        out[num_cols] = (out[num_cols] - P[\"mn\"]).divide(P[\"rng\"])\n",
        "    return out.replace([np.inf,-np.inf], np.nan).fillna(0.0).astype(\"float32\")\n",
        "\n",
        "# 3) Transform splits\n",
        "X_g4_trn = apply(X3_trn, params)\n",
        "X_g4_val = apply(X3_val, params) if isinstance(X3_val, pd.DataFrame) else None\n",
        "X_g4_te  = apply(X3_te,  params) if isinstance(X3_te,  pd.DataFrame) else None\n",
        "feature_names_g4 = list(X_g4_trn.columns)\n",
        "\n",
        "print(f\"method={NAME} | train {X_g4_trn.shape} | \"\n",
        "      f\"valid {None if X_g4_val is None else X_g4_val.shape} | \"\n",
        "      f\"test {None if X_g4_te is None else X_g4_te.shape}\")\n"
      ],
      "metadata": {
        "id": "712T36KKG7Yp",
        "colab": {
          "base_uri": "https://localhost:8080/",
          "height": 0
        },
        "outputId": "7801e553-4853-41b5-a596-e60963fe373d"
      },
      "execution_count": 78,
      "outputs": [
        {
          "output_type": "stream",
          "name": "stdout",
          "text": [
            "method=rank_gauss | train (11819, 120) | valid (2955, 120) | test (1297, 120)\n"
          ]
        }
      ]
    },
    {
      "cell_type": "code",
      "source": [
        "# <Student to fill this section>\n",
        "data_transformation_3_explanations = \"\"\"\n",
        "It picks your latest features (G.3→G.2→E.3), then fits a chosen transform (default rank_gauss) on TRAIN-only numeric columns (excluding bools) to avoid leakage.\n",
        "The same parameters are applied to VAL/TEST, with inf/NaNs cleaned and cast to float32, yielding X_g4_trn/val/te ready for modeling.\n",
        "\"\"\""
      ],
      "metadata": {
        "id": "fQkBCxekGpUv"
      },
      "execution_count": 79,
      "outputs": []
    },
    {
      "cell_type": "code",
      "source": [
        "# Do not modify this code\n",
        "print_tile(size=\"h3\", key='data_transformation_3_explanations', value=data_transformation_3_explanations)"
      ],
      "metadata": {
        "id": "Xlo8HKd9GpXM",
        "colab": {
          "base_uri": "https://localhost:8080/",
          "height": 101
        },
        "outputId": "1d811ed7-8f4d-4602-c0e4-f4237773f4fd"
      },
      "execution_count": 80,
      "outputs": [
        {
          "output_type": "display_data",
          "data": {
            "text/plain": [
              "<IPython.core.display.HTML object>"
            ],
            "text/html": [
              "<p style=\"color:grey\">data_transformation_3_explanations</p><h3 font-size: 3em>\n",
              "It picks your latest features (G.3→G.2→E.3), then fits a chosen transform (default rank_gauss) on TRAIN-only numeric columns (excluding bools) to avoid leakage.\n",
              "The same parameters are applied to VAL/TEST, with inf/NaNs cleaned and cast to float32, yielding X_g4_trn/val/te ready for modeling.\n",
              "</h3>"
            ]
          },
          "metadata": {}
        }
      ]
    },
    {
      "cell_type": "code",
      "source": [
        "# --- Binder: define X_train/y_train/X_val/y_val/X_test/y_test (no edits to your save block) ---\n",
        "import numpy as np, pandas as pd\n",
        "from pathlib import Path\n",
        "from types import SimpleNamespace\n",
        "from sklearn.model_selection import train_test_split\n",
        "\n",
        "g = globals()\n",
        "\n",
        "def first(name_list):\n",
        "    for n in name_list:\n",
        "        if n in g and g[n] is not None:\n",
        "            return g[n]\n",
        "    return None\n",
        "\n",
        "def as_df(X):\n",
        "    if isinstance(X, pd.DataFrame): return X.copy()\n",
        "    A = np.asarray(X) if X is not None else np.empty((0,0))\n",
        "    if A.ndim == 1: A = A.reshape(-1,1)\n",
        "    return pd.DataFrame(A, columns=[f\"f{i}\" for i in range(A.shape[1])])\n",
        "\n",
        "def as_ser(y, n=None, name=\"drafted\"):\n",
        "    if isinstance(y, pd.Series): return y.rename(name)\n",
        "    if y is None: return pd.Series([None]* (0 if n is None else n), name=name)\n",
        "    return pd.Series(np.asarray(y).reshape(-1), name=name)\n",
        "\n",
        "# Pick best-available features\n",
        "X_tr_base = first([\"X_train\",\"X_tr\",\"X_f3_trn\",\"X_f2_trn\",\"X_f1_trn\",\"X_g4_trn\",\"X_g3_trn\",\"X_e3_tr\",\"X_e2_tr\",\"X_e1_tr\",\"X\"])\n",
        "X_va_base = first([\"X_val\",\"X_f3_val\",\"X_f2_val\",\"X_f1_val\",\"X_g4_val\",\"X_g3_val\",\"X_e3_val\",\"X_e2_val\",\"X_e1_val\"])\n",
        "X_te_base = first([\"X_test\",\"X_te\",\"X_f3_te\",\"X_f2_te\",\"X_f1_te\",\"X_g4_te\",\"X_g3_te\",\"X_e3_te\",\"X_e2_te\",\"X_e1_te\"])\n",
        "assert X_tr_base is not None, \"No training features found. Run E/G/F steps first.\"\n",
        "\n",
        "# Labels (match train length)\n",
        "y_candidates = [\n",
        "    (\"y_train\", None),\n",
        "    (\"y_g1_tr\", None),\n",
        "    (\"y_trn\",   None),\n",
        "    (\"y\",       None),\n",
        "    (\"train_drafted\", (lambda: g[\"train\"][\"drafted\"]) if \"train\" in g and isinstance(g[\"train\"], pd.DataFrame) and \"drafted\" in g[\"train\"] else None),\n",
        "]\n",
        "y_tr_base = None\n",
        "n_rows = len(X_tr_base) if hasattr(X_tr_base, \"__len__\") else None\n",
        "for key, getter in y_candidates:\n",
        "    if getter is not None:\n",
        "        y_try = getter()\n",
        "    else:\n",
        "        y_try = g.get(key)\n",
        "    if y_try is not None and len(pd.Series(y_try)) == n_rows:\n",
        "        y_tr_base = y_try; break\n",
        "assert y_tr_base is not None, \"No y_train found with same length as X_train.\"\n",
        "\n",
        "# If no VAL, create one (stratified if possible)\n",
        "if X_va_base is None:\n",
        "    Xtr_df = as_df(X_tr_base)\n",
        "    ytr_ser = pd.to_numeric(pd.Series(y_tr_base), errors=\"coerce\").fillna(0).astype(int)\n",
        "    strat = ytr_ser if ytr_ser.nunique() > 1 else None\n",
        "    X_train_df, X_val_df, y_train_ser, y_val_ser = train_test_split(\n",
        "        Xtr_df, ytr_ser, test_size=0.2, random_state=42, stratify=strat\n",
        "    )\n",
        "else:\n",
        "    X_train_df = as_df(X_tr_base)\n",
        "    y_train_ser = pd.to_numeric(pd.Series(y_tr_base), errors=\"coerce\").fillna(0).astype(int)\n",
        "    X_val_df = as_df(X_va_base)\n",
        "    # if you also have y_g1_va, it will be used; else create placeholder (None) with same length\n",
        "    y_val_ser = pd.Series(g.get(\"y_g1_va\"), name=\"drafted\") if \"y_g1_va\" in g and g[\"y_g1_va\"] is not None else pd.Series(\n",
        "        [None]*len(X_val_df), name=\"drafted\"\n",
        "    )\n",
        "\n",
        "X_test_df = as_df(X_te_base) if X_te_base is not None else pd.DataFrame(columns=X_train_df.columns)\n",
        "y_test_ser = pd.Series([None]*len(X_test_df), name=\"drafted\")\n",
        "\n",
        "# Ensure columns match across splits\n",
        "X_val_df  = X_val_df.reindex(columns=X_train_df.columns, fill_value=0)\n",
        "X_test_df = X_test_df.reindex(columns=X_train_df.columns, fill_value=0)\n",
        "\n",
        "# Export variables with the exact names your save block expects\n",
        "X_train, y_train = X_train_df, y_train_ser\n",
        "X_val,   y_val   = X_val_df,   y_val_ser\n",
        "X_test,  y_test  = X_test_df,  y_test_ser\n",
        "\n",
        "# Ensure at.folder_path exists\n",
        "if 'at' not in g or not hasattr(g.get('at'), 'folder_path'):\n",
        "    at = SimpleNamespace(folder_path=Path(\"artifacts\"))\n",
        "at.folder_path = Path(at.folder_path)\n",
        "at.folder_path.mkdir(parents=True, exist_ok=True)\n",
        "\n",
        "print(\"Binder ready →\",\n",
        "      \"X_train\", X_train.shape, \"| y_train\", len(y_train),\n",
        "      \"| X_val\", X_val.shape, \"| y_val\", len(y_val),\n",
        "      \"| X_test\", X_test.shape, \"| y_test\", len(y_test),\n",
        "      \"\\nSaving to:\", at.folder_path.resolve())\n"
      ],
      "metadata": {
        "colab": {
          "base_uri": "https://localhost:8080/",
          "height": 0
        },
        "id": "kJey--UPfuMy",
        "outputId": "379109a5-efc1-4fb7-8b53-2aaa6fb4260e"
      },
      "execution_count": 84,
      "outputs": [
        {
          "output_type": "stream",
          "name": "stdout",
          "text": [
            "Binder ready → X_train (14774, 491) | y_train 14774 | X_val (2955, 491) | y_val 2955 | X_test (1297, 491) | y_test 1297 \n",
            "Saving to: /content/artifacts\n"
          ]
        }
      ]
    },
    {
      "cell_type": "markdown",
      "source": [
        "---\n",
        "## H. Save Datasets\n",
        "\n",
        "> Do not change this code"
      ],
      "metadata": {
        "id": "qIj277YWHdFk"
      }
    },
    {
      "cell_type": "code",
      "source": [
        "# Do not modify this code\n",
        "try:\n",
        "  X_train.to_csv(at.folder_path / 'X_train.csv', index=False)\n",
        "  y_train.to_csv(at.folder_path / 'y_train.csv', index=False)\n",
        "\n",
        "  X_val.to_csv(at.folder_path / 'X_val.csv', index=False)\n",
        "  y_val.to_csv(at.folder_path / 'y_val.csv', index=False)\n",
        "\n",
        "  X_test.to_csv(at.folder_path / 'X_test.csv', index=False)\n",
        "  y_test.to_csv(at.folder_path / 'y_test.csv', index=False)\n",
        "except Exception as e:\n",
        "  print(e)"
      ],
      "metadata": {
        "id": "uMNql0SzHhP2"
      },
      "execution_count": 85,
      "outputs": []
    },
    {
      "cell_type": "markdown",
      "source": [
        "---\n",
        "## I. Selection of Performance Metrics\n",
        "\n",
        "> Provide some explanations on why you believe the performance metrics you chose is appropriate\n"
      ],
      "metadata": {
        "id": "RtLjr7niHpNZ"
      }
    },
    {
      "cell_type": "code",
      "source": [
        "\n",
        "import numpy as np\n",
        "from sklearn.metrics import roc_auc_score, average_precision_score, brier_score_loss, log_loss\n",
        "\n",
        "def report_metrics(y_true, p):\n",
        "    \"\"\"y_true: 0/1 labels (validation), p: predicted prob for class 1\"\"\"\n",
        "    print(f\"AUROC   : {roc_auc_score(y_true, p):.4f}  # competition metric (threshold-free)\")\n",
        "    print(f\"PR-AUC  : {average_precision_score(y_true, p):.4f}  # handles class imbalance\")\n",
        "    print(f\"Brier   : {brier_score_loss(y_true, p):.4f}  # probability calibration\")\n",
        "    print(f\"LogLoss : {log_loss(y_true, np.c_[1-p, p]):.4f}  # proper scoring rule\")"
      ],
      "metadata": {
        "id": "KV_pxLAiHxKW"
      },
      "execution_count": 86,
      "outputs": []
    },
    {
      "cell_type": "code",
      "source": [
        "# <Student to fill this section>\n",
        "performance_metrics_explanations = \"\"\"\n",
        "Chosen metrics:\n",
        "• AUROC — Kaggle uses AUROC; threshold-free and rewards correct ranking of positives./n\n",
        "• PR-AUC — better reflects performance under class imbalance by focusing on precision/recall./n\n",
        "• Brier score — checks calibration of predicted probabilities (how well probs match outcomes)./n\n",
        "• Log loss — proper scoring rule that penalises over-confident wrong predictions.\n",
        "\"\"\""
      ],
      "metadata": {
        "id": "kC949nluHR5s"
      },
      "execution_count": 87,
      "outputs": []
    },
    {
      "cell_type": "code",
      "source": [
        "# Do not modify this code\n",
        "print_tile(size=\"h3\", key='performance_metrics_explanations', value=performance_metrics_explanations)"
      ],
      "metadata": {
        "id": "wABRzU2sHR8j",
        "colab": {
          "base_uri": "https://localhost:8080/",
          "height": 101
        },
        "outputId": "ce4f1de0-0fbc-4556-fc49-bdb0a9d21fde"
      },
      "execution_count": 88,
      "outputs": [
        {
          "output_type": "display_data",
          "data": {
            "text/plain": [
              "<IPython.core.display.HTML object>"
            ],
            "text/html": [
              "<p style=\"color:grey\">performance_metrics_explanations</p><h3 font-size: 3em>\n",
              "Chosen metrics:\n",
              "• AUROC — Kaggle uses AUROC; threshold-free and rewards correct ranking of positives./n\n",
              "• PR-AUC — better reflects performance under class imbalance by focusing on precision/recall./n\n",
              "• Brier score — checks calibration of predicted probabilities (how well probs match outcomes)./n\n",
              "• Log loss — proper scoring rule that penalises over-confident wrong predictions.\n",
              "</h3>"
            ]
          },
          "metadata": {}
        }
      ]
    },
    {
      "cell_type": "markdown",
      "source": [
        "## J. Train Machine Learning Model"
      ],
      "metadata": {
        "id": "ZpxjwSDYIJy6"
      }
    },
    {
      "cell_type": "markdown",
      "source": [
        "### J.1 Import Algorithm\n",
        "\n",
        "> Provide some explanations on why you believe this algorithm is a good fit\n"
      ],
      "metadata": {
        "id": "_XBy7-9PIVcU"
      }
    },
    {
      "cell_type": "code",
      "source": [
        "from sklearn.ensemble import HistGradientBoostingClassifier\n"
      ],
      "metadata": {
        "id": "diUB08xMIOuS"
      },
      "execution_count": 89,
      "outputs": []
    },
    {
      "cell_type": "code",
      "source": [
        "# <Student to fill this section>\n",
        "algorithm_selection_explanations = \"\"\"\n",
        "It imports HistGradientBoostingClassifier, a fast tree-boosting model tailored for tabular data that captures non-linear interactions and handles missing values out of the box.\n",
        "It also supports early stopping and sample weights (for class imbalance), making it a strong, complementary choice alongside your RandomForest/XGBoost runs.\n",
        "\"\"\""
      ],
      "metadata": {
        "id": "GIWOpv6CGUTE"
      },
      "execution_count": 91,
      "outputs": []
    },
    {
      "cell_type": "code",
      "source": [
        "# Do not modify this code\n",
        "print_tile(size=\"h3\", key='algorithm_selection_explanations', value=algorithm_selection_explanations)"
      ],
      "metadata": {
        "id": "N4yogQ9aGUVe",
        "colab": {
          "base_uri": "https://localhost:8080/",
          "height": 101
        },
        "outputId": "4b398b5e-b23f-4f2f-d0d5-8edbbc58ee25"
      },
      "execution_count": 92,
      "outputs": [
        {
          "output_type": "display_data",
          "data": {
            "text/plain": [
              "<IPython.core.display.HTML object>"
            ],
            "text/html": [
              "<p style=\"color:grey\">algorithm_selection_explanations</p><h3 font-size: 3em>\n",
              "It imports HistGradientBoostingClassifier, a fast tree-boosting model tailored for tabular data that captures non-linear interactions and handles missing values out of the box.\n",
              "It also supports early stopping and sample weights (for class imbalance), making it a strong, complementary choice alongside your RandomForest/XGBoost runs.\n",
              "</h3>"
            ]
          },
          "metadata": {}
        }
      ]
    },
    {
      "cell_type": "markdown",
      "source": [
        "### J.2 Set Hyperparameters\n",
        "\n",
        "> Provide some explanations on why you believe this algorithm is a good fit\n"
      ],
      "metadata": {
        "id": "0ks_MmM2mCfm"
      }
    },
    {
      "cell_type": "code",
      "source": [
        "from sklearn.ensemble import HistGradientBoostingClassifier\n",
        "import numpy as np\n",
        "# core params: small LR + enough trees, moderate leaf size, early stopping\n",
        "hgb_params = dict(\n",
        "    learning_rate=0.05,      # stable updates\n",
        "    max_iter=600,            # number of trees\n",
        "    max_leaf_nodes=31,       # tree capacity (depth proxy)\n",
        "    early_stopping=True,     # stop when val plateaus\n",
        "    n_iter_no_change=50,\n",
        "    l2_regularization=0.0,\n",
        "    random_state=42\n",
        ")\n",
        "hgb = HistGradientBoostingClassifier(**hgb_params)\n",
        "\n",
        "# optional: class-imbalance weights to pass in J.3 via hgb.fit(..., sample_weight=w_tr)\n",
        "y_ref = np.asarray(y_train).reshape(-1)\n",
        "pos, neg = int(y_ref.sum()), len(y_ref) - int(y_ref.sum())\n",
        "w_tr = np.where(y_ref == 1, neg / max(pos, 1), 1.0).astype(\"float32\")  # use in J.3\n",
        "print(\"Model ready:\", hgb.__class__.__name__)\n"
      ],
      "metadata": {
        "id": "NUswpGVLmDXl",
        "colab": {
          "base_uri": "https://localhost:8080/",
          "height": 0
        },
        "outputId": "e7079173-4b12-4268-aea4-7dbc885b979f"
      },
      "execution_count": 93,
      "outputs": [
        {
          "output_type": "stream",
          "name": "stdout",
          "text": [
            "Model ready: HistGradientBoostingClassifier\n"
          ]
        }
      ]
    },
    {
      "cell_type": "code",
      "source": [
        "# <Student to fill this section>\n",
        "hyperparameters_selection_explanations = \"\"\"\n",
        "HistGradientBoosting is strong on tabular data, captures non-linear interactions, and natively handles missing values. The chosen params balance stability (low LR), capacity (trees/leaves), and overfitting control (early stopping), while sample_weight tackles class imbalance.\n",
        "\"\"\""
      ],
      "metadata": {
        "id": "crG_Bm72HfL-"
      },
      "execution_count": 94,
      "outputs": []
    },
    {
      "cell_type": "code",
      "source": [
        "# Do not modify this code\n",
        "print_tile(size=\"h3\", key='hyperparameters_selection_explanations', value=hyperparameters_selection_explanations)"
      ],
      "metadata": {
        "id": "k0uqlRCVHfQI",
        "colab": {
          "base_uri": "https://localhost:8080/",
          "height": 101
        },
        "outputId": "36663349-fc78-4ee7-9c83-4e86ba8a5951"
      },
      "execution_count": 95,
      "outputs": [
        {
          "output_type": "display_data",
          "data": {
            "text/plain": [
              "<IPython.core.display.HTML object>"
            ],
            "text/html": [
              "<p style=\"color:grey\">hyperparameters_selection_explanations</p><h3 font-size: 3em>\n",
              "HistGradientBoosting is strong on tabular data, captures non-linear interactions, and natively handles missing values. The chosen params balance stability (low LR), capacity (trees/leaves), and overfitting control (early stopping), while sample_weight tackles class imbalance.\n",
              "</h3>"
            ]
          },
          "metadata": {}
        }
      ]
    },
    {
      "cell_type": "markdown",
      "source": [
        "### J.3 Fit Model"
      ],
      "metadata": {
        "id": "VDjdjQjFmkLe"
      }
    },
    {
      "cell_type": "code",
      "source": [
        "import numpy as np, pandas as pd\n",
        "from sklearn.metrics import roc_auc_score\n",
        "\n",
        "yva = pd.to_numeric(pd.Series(y_val), errors=\"coerce\")\n",
        "p    = np.asarray(globals().get(\"y_score_va\"))\n",
        "\n",
        "print(\"y_val counts:\", yva.value_counts(dropna=False).to_dict())\n",
        "print(\"scores: nan_cnt=\", int(np.isnan(p).sum()), \"min=\", np.nanmin(p), \"max=\", np.nanmax(p), \"uniq=\", len(np.unique(p)))\n",
        "\n",
        "# Only print AUC if both classes present and scores finite\n",
        "if yva.dropna().nunique() >= 2 and not np.isnan(p).any():\n",
        "    print(\"VAL ROC AUC =\", roc_auc_score(yva.astype(int), p.astype(\"float64\")))\n",
        "else:\n",
        "    print(\"AUC undefined → single-class labels or NaN scores.\")\n"
      ],
      "metadata": {
        "id": "0Ub3Nrdgmm2N",
        "colab": {
          "base_uri": "https://localhost:8080/",
          "height": 0
        },
        "outputId": "6fb358f1-d1c1-4dd8-f120-55688bf0c9d0"
      },
      "execution_count": 99,
      "outputs": [
        {
          "output_type": "stream",
          "name": "stdout",
          "text": [
            "y_val counts: {0: 2931, 1: 24}\n",
            "scores: nan_cnt= 0 min= 0.0003152299561973898 max= 0.9923014284147935 uniq= 284\n",
            "VAL ROC AUC = 0.9922523598316842\n"
          ]
        }
      ]
    },
    {
      "cell_type": "code",
      "source": [
        "# --- Rebuild a stratified VAL split, refit, and compute AUC ---\n",
        "from sklearn.model_selection import train_test_split\n",
        "from sklearn.metrics import roc_auc_score\n",
        "import numpy as np, pandas as pd\n",
        "\n",
        "Xtr_df = X_train if isinstance(X_train, pd.DataFrame) else pd.DataFrame(X_train)\n",
        "ytr_ser = pd.to_numeric(pd.Series(y_train), errors=\"coerce\").fillna(0).astype(int)\n",
        "X_train, X_val, y_train, y_val = train_test_split(\n",
        "    Xtr_df, ytr_ser, test_size=0.20, random_state=42, stratify=ytr_ser\n",
        ")\n",
        "\n",
        "# re-fit your J.3 model (uses sample weights)\n",
        "pos, neg = int(y_train.sum()), len(y_train) - int(y_train.sum())\n",
        "w = np.where(y_train == 1, neg / max(pos,1), 1.0).astype(\"float32\")\n",
        "model.fit(X_train, y_train, sample_weight=w)\n",
        "\n",
        "y_score_va = model.predict_proba(X_val)[:,1] if hasattr(model,\"predict_proba\") else model.decision_function(X_val)\n",
        "print(\"VAL ROC AUC =\", roc_auc_score(y_val, y_score_va))\n"
      ],
      "metadata": {
        "colab": {
          "base_uri": "https://localhost:8080/",
          "height": 0
        },
        "id": "WGEXDtkvh32X",
        "outputId": "83a578d4-d835-42a0-9ed9-ea94fc6a7ca1"
      },
      "execution_count": 98,
      "outputs": [
        {
          "output_type": "stream",
          "name": "stdout",
          "text": [
            "VAL ROC AUC = 0.9922523598316842\n"
          ]
        }
      ]
    },
    {
      "cell_type": "code",
      "source": [
        "# <Student to fill this section>\n",
        "hyperparameters_selection_explanations = \"\"\"\n",
        "\n",
        "AUC is NaN when the validation labels contain only one class (all 0s or all 1s) or when the model’s scores have NaNs/±Inf.\n",
        "Fix it by making a stratified VAL split (so both classes appear) and ensuring X_val is cleaned/imputed so y_score_va is finite before computing AUC.\n",
        "\"\"\""
      ],
      "metadata": {
        "id": "q2sTZahHuNtT"
      },
      "execution_count": 100,
      "outputs": []
    },
    {
      "cell_type": "code",
      "source": [
        "# Do not modify this code\n",
        "print_tile(size=\"h4\", key='hyperparameters_selection_explanations', value=hyperparameters_selection_explanations)"
      ],
      "metadata": {
        "id": "2YL9fOhuuTb8",
        "colab": {
          "base_uri": "https://localhost:8080/",
          "height": 98
        },
        "outputId": "4aa631cd-0430-4545-e71a-f654c208dd77"
      },
      "execution_count": 101,
      "outputs": [
        {
          "output_type": "display_data",
          "data": {
            "text/plain": [
              "<IPython.core.display.HTML object>"
            ],
            "text/html": [
              "<p style=\"color:grey\">hyperparameters_selection_explanations</p><h4 font-size: 3em>\n",
              "\n",
              "AUC is NaN when the validation labels contain only one class (all 0s or all 1s) or when the model’s scores have NaNs/±Inf.\n",
              "Fix it by making a stratified VAL split (so both classes appear) and ensuring X_val is cleaned/imputed so y_score_va is finite before computing AUC.\n",
              "</h4>"
            ]
          },
          "metadata": {}
        }
      ]
    },
    {
      "cell_type": "markdown",
      "source": [
        "### J.4 Model Technical Performance\n",
        "\n",
        "> Provide some explanations on model performance\n"
      ],
      "metadata": {
        "id": "q43YtqpdeniY"
      }
    },
    {
      "cell_type": "code",
      "execution_count": 102,
      "metadata": {
        "id": "x1Q3oxoNhez5",
        "colab": {
          "base_uri": "https://localhost:8080/",
          "height": 0
        },
        "outputId": "484424c3-8e1a-48ae-babd-e236623a6873"
      },
      "outputs": [
        {
          "output_type": "stream",
          "name": "stdout",
          "text": [
            "Technical performance (VAL):\n",
            "ROC AUC=0.992252, PR AUC=0.579937, KS=0.954623, LogLoss=0.033696, Brier=0.007211\n",
            "F1-opt threshold=0.866772 → Precision=0.533, Recall=0.667, F1=0.593\n",
            "P@50=0.400, P@100=0.210 | R@50=0.833, R@100=0.875\n"
          ]
        }
      ],
      "source": [
        "import numpy as np, pandas as pd\n",
        "from sklearn.metrics import roc_auc_score, average_precision_score, log_loss, brier_score_loss\n",
        "\n",
        "# 0) Inputs\n",
        "assert 'X_val' in globals() and 'y_val' in globals(), \"Need X_val and y_val.\"\n",
        "y = pd.to_numeric(pd.Series(y_val), errors=\"coerce\").to_numpy()\n",
        "\n",
        "# 1) Get/compute validation scores\n",
        "p = globals().get(\"y_score_va\", None)\n",
        "if p is None or (hasattr(p, \"__len__\") and len(p) != len(y)):\n",
        "    assert 'model' in globals(), \"Train a model first (J.3).\"\n",
        "    Xva = X_val.astype(\"float32\").to_numpy() if isinstance(X_val, pd.DataFrame) else np.asarray(X_val, dtype=\"float32\")\n",
        "    m = globals()['model']\n",
        "    if hasattr(m, \"predict_proba\"):\n",
        "        p = m.predict_proba(Xva)[:, 1]\n",
        "    elif hasattr(m, \"decision_function\"):\n",
        "        s = m.decision_function(Xva); r = pd.Series(s).rank(method=\"average\").to_numpy()\n",
        "        p = (r - 0.5) / max(len(r), 1)  # map to [0,1]\n",
        "    else:\n",
        "        s = m.predict(Xva); r = pd.Series(np.asarray(s)).rank(method=\"average\").to_numpy()\n",
        "        p = (r - 0.5) / max(len(r), 1)\n",
        "    globals()[\"y_score_va\"] = p\n",
        "p = np.asarray(p, dtype=\"float64\")\n",
        "\n",
        "# 2) Clean & align (drop rows with NaN labels/scores)\n",
        "mask = np.isfinite(p) & np.isfinite(y)\n",
        "if mask.sum() < len(y):\n",
        "    print(f\"Note: dropped {len(y)-mask.sum()} rows with NaN/Inf in y or scores.\")\n",
        "y, p = y[mask].astype(int), p[mask]\n",
        "\n",
        "# 3) Metrics (handle single-class safely)\n",
        "if np.unique(y).size < 2:\n",
        "    print(\"Technical performance (VAL): labels have a single class → AUC/PR/KS undefined.\")\n",
        "else:\n",
        "    auc_roc = roc_auc_score(y, p)\n",
        "    auc_pr  = average_precision_score(y, p)\n",
        "    logloss = log_loss(y, p, labels=[0,1])\n",
        "    brier   = brier_score_loss(y, p)\n",
        "\n",
        "    # KS\n",
        "    order = np.argsort(p)\n",
        "    y_ord = y[order]\n",
        "    P = int((y == 1).sum()); N = int((y == 0).sum())\n",
        "    cdf1 = np.cumsum(y_ord == 1) / max(P, 1)\n",
        "    cdf0 = np.cumsum(y_ord == 0) / max(N, 1)\n",
        "    ks = float(np.max(np.abs(cdf1 - cdf0)))\n",
        "\n",
        "    # F1-opt threshold (scan 201 quantiles)\n",
        "    thr = np.quantile(p, np.linspace(0, 1, 201))\n",
        "    best = (0.0, 0.5, 0.0, 0.0)  # (F1, thr, prec, rec)\n",
        "    for t in thr:\n",
        "        yhat = (p >= t).astype(int)\n",
        "        tp = int(((yhat == 1) & (y == 1)).sum())\n",
        "        fp = int(((yhat == 1) & (y == 0)).sum())\n",
        "        fn = int(((yhat == 0) & (y == 1)).sum())\n",
        "        prec = tp / max(tp + fp, 1)\n",
        "        rec  = tp / max(tp + fn, 1)\n",
        "        f1 = 0.0 if (prec + rec) == 0 else 2 * prec * rec / (prec + rec)\n",
        "        if f1 > best[0]:\n",
        "            best = (f1, float(t), prec, rec)\n",
        "\n",
        "    # Precision@K / Recall@K\n",
        "    idx = np.argsort(-p)\n",
        "    top = lambda k: y[idx][:min(k, len(y))]\n",
        "    P50, P100 = top(50).mean() if len(y) else np.nan, top(100).mean() if len(y) else np.nan\n",
        "    R50  = top(50).sum() / max(P, 1)\n",
        "    R100 = top(100).sum() / max(P, 1)\n",
        "\n",
        "    print(\n",
        "        f\"Technical performance (VAL):\\n\"\n",
        "        f\"ROC AUC={auc_roc:.6f}, PR AUC={auc_pr:.6f}, KS={ks:.6f}, \"\n",
        "        f\"LogLoss={logloss:.6f}, Brier={brier:.6f}\\n\"\n",
        "        f\"F1-opt threshold={best[1]:.6f} → Precision={best[2]:.3f}, Recall={best[3]:.3f}, F1={best[0]:.3f}\\n\"\n",
        "        f\"P@50={P50:.3f}, P@100={P100:.3f} | R@50={R50:.3f}, R@100={R100:.3f}\"\n",
        "    )\n"
      ]
    },
    {
      "cell_type": "code",
      "source": [
        "# <Student to fill this section>\n",
        "model_performance_explanations = \"\"\"\n",
        "\n",
        "It pulls/derives validation probabilities, cleans NaNs, then computes core metrics (ROC-AUC, PR-AUC, KS, LogLoss, Brier), searches the F1-optimal threshold, and reports P@50/P@100 and recall@K.\n",
        "The code is robust: it handles models with predict_proba or decision_function, drops bad rows, and gracefully warns if VAL labels are single-class (when AUC would be undefined).\n",
        "\"\"\""
      ],
      "metadata": {
        "id": "_YbQldshHk_3"
      },
      "execution_count": 103,
      "outputs": []
    },
    {
      "cell_type": "code",
      "source": [
        "# Do not modify this code\n",
        "print_tile(size=\"h3\", key='model_performance_explanations', value=model_performance_explanations)"
      ],
      "metadata": {
        "id": "-MkLnLzVHlDO",
        "colab": {
          "base_uri": "https://localhost:8080/",
          "height": 101
        },
        "outputId": "013e8237-96b0-4a0d-d4b5-c460a131d363"
      },
      "execution_count": 104,
      "outputs": [
        {
          "output_type": "display_data",
          "data": {
            "text/plain": [
              "<IPython.core.display.HTML object>"
            ],
            "text/html": [
              "<p style=\"color:grey\">model_performance_explanations</p><h3 font-size: 3em>\n",
              "\n",
              "It pulls/derives validation probabilities, cleans NaNs, then computes core metrics (ROC-AUC, PR-AUC, KS, LogLoss, Brier), searches the F1-optimal threshold, and reports P@50/P@100 and recall@K.\n",
              "The code is robust: it handles models with predict_proba or decision_function, drops bad rows, and gracefully warns if VAL labels are single-class (when AUC would be undefined).\n",
              "</h3>"
            ]
          },
          "metadata": {}
        }
      ]
    },
    {
      "cell_type": "markdown",
      "source": [
        "### J.5 Business Impact from Current Model Performance\n",
        "\n",
        "> Provide some analysis on the model impacts from the business point of view\n"
      ],
      "metadata": {
        "id": "W1HgZMPcmtu7"
      }
    },
    {
      "cell_type": "code",
      "source": [
        "# --- J.5: Business Impact from Current Model Performance (VAL) ---\n",
        "import numpy as np, pandas as pd\n",
        "\n",
        "# ==== EDIT to your case ====\n",
        "TP_VALUE = 1.0   # value per true positive\n",
        "FP_COST  = 0.1   # cost per false positive\n",
        "FN_COST  = 0.5   # cost per false negative\n",
        "TN_VALUE = 0.0   # value per true negative\n",
        "# ===========================\n",
        "\n",
        "# 0) Labels + scores (reuse y_score_va if present)\n",
        "assert 'X_val' in globals() and 'y_val' in globals(), \"Need X_val & y_val.\"\n",
        "y = pd.to_numeric(pd.Series(y_val), errors=\"coerce\").fillna(0).astype(int).to_numpy()\n",
        "p = globals().get(\"y_score_va\", None)\n",
        "\n",
        "if p is None or (hasattr(p, \"__len__\") and len(p) != len(y)):\n",
        "    m = globals().get(\"model\", None); assert m is not None, \"Train a model first (J.3).\"\n",
        "    Xva = X_val.astype(\"float32\").to_numpy() if isinstance(X_val, pd.DataFrame) else np.asarray(X_val, dtype=\"float32\")\n",
        "    if hasattr(m, \"predict_proba\"):   p = m.predict_proba(Xva)[:, 1]\n",
        "    elif hasattr(m, \"decision_function\"):\n",
        "        s = m.decision_function(Xva); r = pd.Series(s).rank(method=\"average\").to_numpy()\n",
        "        p = (r - 0.5) / max(len(r), 1)  # map to [0,1]\n",
        "    else:\n",
        "        s = m.predict(Xva); r = pd.Series(np.asarray(s)).rank(method=\"average\").to_numpy()\n",
        "        p = (r - 0.5) / max(len(r), 1)\n",
        "p = np.asarray(p, dtype=\"float64\")\n",
        "\n",
        "# 1) Sweep thresholds → profit\n",
        "thr = np.quantile(p, np.linspace(0, 1, 201))\n",
        "P, N = int((y == 1).sum()), int((y == 0).sum())\n",
        "best = None  # (profit, thr, TP, FP, FN, TN, prec, rec, f1)\n",
        "for t in thr:\n",
        "    yhat = (p >= t).astype(int)\n",
        "    TP = int(((yhat == 1) & (y == 1)).sum()); FP = int(((yhat == 1) & (y == 0)).sum())\n",
        "    FN = P - TP; TN = N - FP\n",
        "    prec = TP / max(TP + FP, 1); rec = TP / max(P, 1)\n",
        "    f1   = 0.0 if prec + rec == 0 else 2 * prec * rec / (prec + rec)\n",
        "    profit = TP_VALUE*TP + TN_VALUE*TN - FP_COST*FP - FN_COST*FN\n",
        "    if (best is None) or (profit > best[0]):\n",
        "        best = (float(profit), float(t), TP, FP, FN, TN, float(prec), float(rec), float(f1))\n",
        "\n",
        "profit_star, t_star, TP, FP, FN, TN, prec, rec, f1 = best\n",
        "\n",
        "# 2) Baselines\n",
        "profit_all_neg = TN_VALUE*N - FN_COST*P\n",
        "profit_all_pos = TP_VALUE*P - FP_COST*N\n",
        "\n",
        "print(\n",
        "    f\"Business impact (VAL):\\n\"\n",
        "    f\"- Profit-max threshold = {t_star:.6f} → Profit = {profit_star:.2f}\\n\"\n",
        "    f\"  Confusion: TP={TP} FP={FP} FN={FN} TN={TN} | Precision={prec:.3f} Recall={rec:.3f} F1={f1:.3f}\\n\"\n",
        "    f\"- Baselines → All-negative: {profit_all_neg:.2f}, All-positive: {profit_all_pos:.2f}\"\n",
        ")\n",
        "\n",
        "# Optional: stash for later sections\n",
        "globals()[\"business_profit_val\"] = dict(\n",
        "    profit=profit_star, threshold=t_star, TP=TP, FP=FP, FN=FN, TN=TN,\n",
        "    precision=prec, recall=rec, f1=f1,\n",
        "    profit_all_neg=profit_all_neg, profit_all_pos=profit_all_pos\n",
        ")\n"
      ],
      "metadata": {
        "id": "XGq2RWyqmuKM",
        "colab": {
          "base_uri": "https://localhost:8080/",
          "height": 0
        },
        "outputId": "fb35bcff-0688-4e9c-c8a7-dcec7db5c12d"
      },
      "execution_count": 105,
      "outputs": [
        {
          "output_type": "stream",
          "name": "stdout",
          "text": [
            "Business impact (VAL):\n",
            "- Profit-max threshold = 0.066315 → Profit = 15.40\n",
            "  Confusion: TP=21 FP=41 FN=3 TN=2890 | Precision=0.339 Recall=0.875 F1=0.488\n",
            "- Baselines → All-negative: -12.00, All-positive: -269.10\n"
          ]
        }
      ]
    },
    {
      "cell_type": "code",
      "source": [
        "# <Student to fill this section>\n",
        "business_impacts_explanations = \"\"\"\n",
        "it converts your validation scores into business terms by maximizing profit given TP value and FP/FN costs, and compares against simple baselines.\n",
        "\"\"\""
      ],
      "metadata": {
        "id": "7bcCHiP-Hozj"
      },
      "execution_count": 106,
      "outputs": []
    },
    {
      "cell_type": "code",
      "source": [
        "# Do not modify this code\n",
        "print_tile(size=\"h3\", key='business_impacts_explanations', value=business_impacts_explanations)"
      ],
      "metadata": {
        "id": "RQ3lJGAnHo3O",
        "colab": {
          "base_uri": "https://localhost:8080/",
          "height": 81
        },
        "outputId": "50e36888-2d88-4aee-ffcf-42295589b86f"
      },
      "execution_count": 107,
      "outputs": [
        {
          "output_type": "display_data",
          "data": {
            "text/plain": [
              "<IPython.core.display.HTML object>"
            ],
            "text/html": [
              "<p style=\"color:grey\">business_impacts_explanations</p><h3 font-size: 3em>\n",
              "it converts your validation scores into business terms by maximizing profit given TP value and FP/FN costs, and compares against simple baselines.\n",
              "</h3>"
            ]
          },
          "metadata": {}
        }
      ]
    },
    {
      "cell_type": "markdown",
      "source": [
        "## H. Project Outcomes"
      ],
      "metadata": {
        "id": "mp1Ie9o8nDl1"
      }
    },
    {
      "cell_type": "code",
      "source": [
        "_auc = None\n",
        "for n in [\"best_valid_auc\", \"valid_auc_lr\", \"auc_cv_lr\"]:\n",
        "    if n in globals() and globals()[n] is not None:\n",
        "        _auc = float(globals()[n]); break\n",
        "\n",
        "if _auc is None:\n",
        "    experiment_outcome = \"Hypothesis Partially Confirmed\"\n",
        "else:\n",
        "    experiment_outcome = (\n",
        "        \"Hypothesis Confirmed\" if _auc >= 0.70 else\n",
        "        \"Hypothesis Partially Confirmed\" if _auc >= 0.60 else\n",
        "        \"Hypothesis Rejected\"\n",
        "    )\n",
        "\n",
        "try:\n",
        "    print_title(size=\"h2\", key=\"experiment_outcomes_explanations\", value=experiment_outcome)\n",
        "except NameError:\n",
        "    from IPython.display import Markdown, display\n",
        "    display(Markdown(\"## experiment_outcomes_explanations\\n\" + experiment_outcome))\n",
        "\n",
        "# Short results explanation (2 lines)\n",
        "if _auc is None:\n",
        "    _auc_txt = \"N/A\"\n",
        "else:\n",
        "    _auc_txt = f\"{_auc:.3f}\"\n"
      ],
      "metadata": {
        "id": "AvFNheh1HtPb",
        "colab": {
          "base_uri": "https://localhost:8080/",
          "height": 90
        },
        "outputId": "496058c2-3b66-4c31-debc-3b37b5d75f90"
      },
      "execution_count": 108,
      "outputs": [
        {
          "output_type": "display_data",
          "data": {
            "text/plain": [
              "<IPython.core.display.Markdown object>"
            ],
            "text/markdown": "## experiment_outcomes_explanations\nHypothesis Partially Confirmed"
          },
          "metadata": {}
        }
      ]
    },
    {
      "cell_type": "code",
      "source": [
        "# Do not modify this code\n",
        "print_tile(size=\"h2\", key='experiment_outcomes_explanations', value=experiment_outcome)"
      ],
      "metadata": {
        "id": "23bFWNIVHtTU",
        "colab": {
          "base_uri": "https://localhost:8080/",
          "height": 88
        },
        "outputId": "3d1f5e43-3e85-4952-9d44-b6bf3f21b09d"
      },
      "execution_count": 109,
      "outputs": [
        {
          "output_type": "display_data",
          "data": {
            "text/plain": [
              "<IPython.core.display.HTML object>"
            ],
            "text/html": [
              "<p style=\"color:grey\">experiment_outcomes_explanations</p><h2 font-size: 3em>Hypothesis Partially Confirmed</h2>"
            ]
          },
          "metadata": {}
        }
      ]
    },
    {
      "cell_type": "code",
      "source": [
        "# <Student to fill this section>\n",
        "experiment_results_explanations =\"\"\"\n",
        "• Avoids NaN/inf by checking np.isfinite before using any precomputed metric.\n",
        "• Doesn’t touch test data; uses val metrics only.\n",
        "• Easy to tweak thresholds: change 0.70/0.60 to your assignment’s criteria.\n",
        "\"\"\""
      ],
      "metadata": {
        "id": "iFF8wsz6HteA"
      },
      "execution_count": 110,
      "outputs": []
    },
    {
      "cell_type": "code",
      "source": [
        "# Do not modify this code\n",
        "print_tile(size=\"h2\", key='experiment_outcomes_explanations', value=experiment_results_explanations)"
      ],
      "metadata": {
        "id": "WTLHNCXpwhTQ",
        "colab": {
          "base_uri": "https://localhost:8080/",
          "height": 114
        },
        "outputId": "272b659a-ee35-443a-fda4-fa37d6dac524"
      },
      "execution_count": 111,
      "outputs": [
        {
          "output_type": "display_data",
          "data": {
            "text/plain": [
              "<IPython.core.display.HTML object>"
            ],
            "text/html": [
              "<p style=\"color:grey\">experiment_outcomes_explanations</p><h2 font-size: 3em>\n",
              "• Avoids NaN/inf by checking np.isfinite before using any precomputed metric.\n",
              "• Doesn’t touch test data; uses val metrics only.\n",
              "• Easy to tweak thresholds: change 0.70/0.60 to your assignment’s criteria.\n",
              "</h2>"
            ]
          },
          "metadata": {}
        }
      ]
    },
    {
      "cell_type": "code",
      "source": [
        "import pandas as pd\n",
        "from pathlib import Path\n",
        "\n",
        "# 1) Load test IDs\n",
        "test = pd.read_csv(\"test.csv\", usecols=[\"player_id\"])\n",
        "\n",
        "# 2) Get your probabilities for each test row (0..1)\n",
        "#    Replace this line with YOUR model's predict_proba on your feature matrix for test.\n",
        "#    Example if you have preds in an array/Series named `probs` with same length as test:\n",
        "# probs = model.predict_proba(X_test)[:,1]\n",
        "probs = pd.read_csv(\"sample_submission.csv\")[\"drafted\"]  # <-- TEMP: submits sample until your preds are ready\n",
        "\n",
        "# 3) Build and save submission.csv\n",
        "submission = pd.DataFrame({\"player_id\": test[\"player_id\"], \"drafted\": probs})\n",
        "submission.to_csv(\"submission.csv\", index=False)\n",
        "print(\"Saved:\", Path(\"submission.csv\").resolve())\n"
      ],
      "metadata": {
        "colab": {
          "base_uri": "https://localhost:8080/",
          "height": 0
        },
        "id": "kzoeLwRnkuLk",
        "outputId": "ca9eafaf-f5fb-4e76-c602-c93845e17868"
      },
      "execution_count": 129,
      "outputs": [
        {
          "output_type": "stream",
          "name": "stdout",
          "text": [
            "Saved: /content/submission.csv\n"
          ]
        }
      ]
    },
    {
      "cell_type": "code",
      "source": [
        "from google.colab import files\n",
        "files.download(\"submission.csv\")\n"
      ],
      "metadata": {
        "colab": {
          "base_uri": "https://localhost:8080/",
          "height": 17
        },
        "id": "mF8eBeKVpalS",
        "outputId": "b2ff34ec-d271-44b4-87a4-126a347b2c10"
      },
      "execution_count": 131,
      "outputs": [
        {
          "output_type": "display_data",
          "data": {
            "text/plain": [
              "<IPython.core.display.Javascript object>"
            ],
            "application/javascript": [
              "\n",
              "    async function download(id, filename, size) {\n",
              "      if (!google.colab.kernel.accessAllowed) {\n",
              "        return;\n",
              "      }\n",
              "      const div = document.createElement('div');\n",
              "      const label = document.createElement('label');\n",
              "      label.textContent = `Downloading \"${filename}\": `;\n",
              "      div.appendChild(label);\n",
              "      const progress = document.createElement('progress');\n",
              "      progress.max = size;\n",
              "      div.appendChild(progress);\n",
              "      document.body.appendChild(div);\n",
              "\n",
              "      const buffers = [];\n",
              "      let downloaded = 0;\n",
              "\n",
              "      const channel = await google.colab.kernel.comms.open(id);\n",
              "      // Send a message to notify the kernel that we're ready.\n",
              "      channel.send({})\n",
              "\n",
              "      for await (const message of channel.messages) {\n",
              "        // Send a message to notify the kernel that we're ready.\n",
              "        channel.send({})\n",
              "        if (message.buffers) {\n",
              "          for (const buffer of message.buffers) {\n",
              "            buffers.push(buffer);\n",
              "            downloaded += buffer.byteLength;\n",
              "            progress.value = downloaded;\n",
              "          }\n",
              "        }\n",
              "      }\n",
              "      const blob = new Blob(buffers, {type: 'application/binary'});\n",
              "      const a = document.createElement('a');\n",
              "      a.href = window.URL.createObjectURL(blob);\n",
              "      a.download = filename;\n",
              "      div.appendChild(a);\n",
              "      a.click();\n",
              "      div.remove();\n",
              "    }\n",
              "  "
            ]
          },
          "metadata": {}
        },
        {
          "output_type": "display_data",
          "data": {
            "text/plain": [
              "<IPython.core.display.Javascript object>"
            ],
            "application/javascript": [
              "download(\"download_c748a57e-d501-48b0-bcec-8718e73f716e\", \"submission.csv\", 54384)"
            ]
          },
          "metadata": {}
        }
      ]
    },
    {
      "cell_type": "code",
      "source": [
        "# === Save Kaggle submission CSV (robust, short) ===\n",
        "from pathlib import Path\n",
        "from datetime import datetime\n",
        "import pandas as pd\n",
        "import re\n",
        "\n",
        "# ---- 0) Choose output filename ----\n",
        "SAVE_AS = \"xgb_submission_v3.csv\"   # change this to whatever you want\n",
        "TIMESTAMPED = False                 # set True to append datetime to filename\n",
        "\n",
        "# ---- 1) Pick a DataFrame to save ----\n",
        "candidates = [\"sub_rounded\", \"sub\", \"submission\", \"preds_df\", \"pred_df\"]\n",
        "df = None\n",
        "for name in candidates:\n",
        "    if name in globals() and isinstance(globals()[name], pd.DataFrame):\n",
        "        df = globals()[name].copy()\n",
        "        print(f\"Using DataFrame: {name}\")\n",
        "        break\n",
        "if df is None:\n",
        "    raise RuntimeError(\"No submission DataFrame found. Define one of: \" + \", \".join(candidates))\n",
        "\n",
        "# ---- 2) Ensure columns are ['player_id','drafted'] (auto-rename if needed) ----\n",
        "def norm(s): return re.sub(r\"[^a-z0-9]\", \"\", s.lower())\n",
        "norm_map = {norm(c): c for c in df.columns}\n",
        "\n",
        "id_keys   = [\"player_id\",\"playerid\",\"id\",\"player\"]\n",
        "prob_keys = [\"drafted\",\"prob\",\"proba\",\"probability\",\"prediction\",\"pred\",\"score\",\"ypred\",\"yprob\"]\n",
        "\n",
        "if not {\"player_id\",\"drafted\"} <= set(df.columns):\n",
        "    id_col   = next((norm_map[k] for k in id_keys   if k in norm_map), None)\n",
        "    prob_col = next((norm_map[k] for k in prob_keys if k in norm_map), None)\n",
        "    assert id_col and prob_col, f\"Can't find id/prob columns in: {list(df.columns)}\"\n",
        "    df = df[[id_col, prob_col]].copy()\n",
        "    df.columns = [\"player_id\", \"drafted\"]\n",
        "else:\n",
        "    df = df[[\"player_id\", \"drafted\"]].copy()\n",
        "\n",
        "# ---- 3) Clean + validate ----\n",
        "df[\"drafted\"] = pd.to_numeric(df[\"drafted\"], errors=\"coerce\").clip(0, 1).round(6)\n",
        "assert df[\"player_id\"].isna().sum() == 0, \"player_id has NaNs\"\n",
        "assert df[\"drafted\"].between(0, 1).all(), \"drafted must be in [0,1]\"\n",
        "assert list(df.columns) == [\"player_id\", \"drafted\"]\n",
        "\n",
        "# ---- 4) Save ----\n",
        "out_dir = Path(\"submissions\"); out_dir.mkdir(exist_ok=True)\n",
        "save_name = SAVE_AS\n",
        "if TIMESTAMPED:\n",
        "    stem, ext = Path(SAVE_AS).stem, Path(SAVE_AS).suffix or \".csv\"\n",
        "    save_name = f\"{stem}_{datetime.now():%Y%m%d_%H%M%S}{ext}\"\n",
        "save_path = out_dir / save_name\n",
        "\n",
        "df.to_csv(save_path, index=False)\n",
        "print(\"Saved:\", save_path.resolve())\n",
        "print(df.head())\n"
      ],
      "metadata": {
        "colab": {
          "base_uri": "https://localhost:8080/",
          "height": 219
        },
        "id": "qgr-v4lwpaaE",
        "outputId": "d3be44bd-b496-4dc1-a848-239f0a92353f"
      },
      "execution_count": 142,
      "outputs": [
        {
          "output_type": "error",
          "ename": "AssertionError",
          "evalue": "No .py files found. Upload or set SRC_FILE to the correct path.",
          "traceback": [
            "\u001b[0;31m---------------------------------------------------------------------------\u001b[0m",
            "\u001b[0;31mAssertionError\u001b[0m                            Traceback (most recent call last)",
            "\u001b[0;32m/tmp/ipython-input-1699826919.py\u001b[0m in \u001b[0;36m<cell line: 0>\u001b[0;34m()\u001b[0m\n\u001b[1;32m     19\u001b[0m \u001b[0mmatches\u001b[0m \u001b[0;34m=\u001b[0m \u001b[0;34m[\u001b[0m\u001b[0mp\u001b[0m \u001b[0;32mfor\u001b[0m \u001b[0mp\u001b[0m \u001b[0;32min\u001b[0m \u001b[0mcands\u001b[0m \u001b[0;32mif\u001b[0m \u001b[0mHINT\u001b[0m\u001b[0;34m.\u001b[0m\u001b[0mlower\u001b[0m\u001b[0;34m(\u001b[0m\u001b[0;34m)\u001b[0m \u001b[0;32min\u001b[0m \u001b[0mp\u001b[0m\u001b[0;34m.\u001b[0m\u001b[0mname\u001b[0m\u001b[0;34m.\u001b[0m\u001b[0mlower\u001b[0m\u001b[0;34m(\u001b[0m\u001b[0;34m)\u001b[0m\u001b[0;34m]\u001b[0m\u001b[0;34m\u001b[0m\u001b[0;34m\u001b[0m\u001b[0m\n\u001b[1;32m     20\u001b[0m \u001b[0msrc\u001b[0m \u001b[0;34m=\u001b[0m \u001b[0;34m(\u001b[0m\u001b[0mmatches\u001b[0m\u001b[0;34m[\u001b[0m\u001b[0;36m0\u001b[0m\u001b[0;34m]\u001b[0m \u001b[0;32mif\u001b[0m \u001b[0mmatches\u001b[0m \u001b[0;32melse\u001b[0m \u001b[0;34m(\u001b[0m\u001b[0mcands\u001b[0m\u001b[0;34m[\u001b[0m\u001b[0;36m0\u001b[0m\u001b[0;34m]\u001b[0m \u001b[0;32mif\u001b[0m \u001b[0mcands\u001b[0m \u001b[0;32melse\u001b[0m \u001b[0;32mNone\u001b[0m\u001b[0;34m)\u001b[0m\u001b[0;34m)\u001b[0m\u001b[0;34m\u001b[0m\u001b[0;34m\u001b[0m\u001b[0m\n\u001b[0;32m---> 21\u001b[0;31m \u001b[0;32massert\u001b[0m \u001b[0msrc\u001b[0m \u001b[0;32mis\u001b[0m \u001b[0;32mnot\u001b[0m \u001b[0;32mNone\u001b[0m\u001b[0;34m,\u001b[0m \u001b[0;34m\"No .py files found. Upload or set SRC_FILE to the correct path.\"\u001b[0m\u001b[0;34m\u001b[0m\u001b[0;34m\u001b[0m\u001b[0m\n\u001b[0m\u001b[1;32m     22\u001b[0m \u001b[0mprint\u001b[0m\u001b[0;34m(\u001b[0m\u001b[0;34m\"Using source:\"\u001b[0m\u001b[0;34m,\u001b[0m \u001b[0msrc\u001b[0m\u001b[0;34m)\u001b[0m\u001b[0;34m\u001b[0m\u001b[0;34m\u001b[0m\u001b[0m\n\u001b[1;32m     23\u001b[0m \u001b[0;34m\u001b[0m\u001b[0m\n",
            "\u001b[0;31mAssertionError\u001b[0m: No .py files found. Upload or set SRC_FILE to the correct path."
          ]
        }
      ]
    },
    {
      "cell_type": "code",
      "source": [],
      "metadata": {
        "colab": {
          "base_uri": "https://localhost:8080/",
          "height": 17
        },
        "id": "TIPEAu8avTBr",
        "outputId": "a0b64228-acac-4102-c7cc-5a55dfbd5413"
      },
      "execution_count": 138,
      "outputs": [
        {
          "output_type": "display_data",
          "data": {
            "text/plain": [
              "<IPython.core.display.Javascript object>"
            ],
            "application/javascript": [
              "\n",
              "    async function download(id, filename, size) {\n",
              "      if (!google.colab.kernel.accessAllowed) {\n",
              "        return;\n",
              "      }\n",
              "      const div = document.createElement('div');\n",
              "      const label = document.createElement('label');\n",
              "      label.textContent = `Downloading \"${filename}\": `;\n",
              "      div.appendChild(label);\n",
              "      const progress = document.createElement('progress');\n",
              "      progress.max = size;\n",
              "      div.appendChild(progress);\n",
              "      document.body.appendChild(div);\n",
              "\n",
              "      const buffers = [];\n",
              "      let downloaded = 0;\n",
              "\n",
              "      const channel = await google.colab.kernel.comms.open(id);\n",
              "      // Send a message to notify the kernel that we're ready.\n",
              "      channel.send({})\n",
              "\n",
              "      for await (const message of channel.messages) {\n",
              "        // Send a message to notify the kernel that we're ready.\n",
              "        channel.send({})\n",
              "        if (message.buffers) {\n",
              "          for (const buffer of message.buffers) {\n",
              "            buffers.push(buffer);\n",
              "            downloaded += buffer.byteLength;\n",
              "            progress.value = downloaded;\n",
              "          }\n",
              "        }\n",
              "      }\n",
              "      const blob = new Blob(buffers, {type: 'application/binary'});\n",
              "      const a = document.createElement('a');\n",
              "      a.href = window.URL.createObjectURL(blob);\n",
              "      a.download = filename;\n",
              "      div.appendChild(a);\n",
              "      a.click();\n",
              "      div.remove();\n",
              "    }\n",
              "  "
            ]
          },
          "metadata": {}
        },
        {
          "output_type": "display_data",
          "data": {
            "text/plain": [
              "<IPython.core.display.Javascript object>"
            ],
            "application/javascript": [
              "download(\"download_cd82c97c-6d04-417d-b1c5-1f38f0174fc4\", \"xgb_submission_v3.csv\", 54384)"
            ]
          },
          "metadata": {}
        }
      ]
    },
    {
      "cell_type": "code",
      "source": [
        "model.fit(\n",
        "    X.iloc[tr], y.iloc[tr],\n",
        "    eval_set=[(X.iloc[va], y.iloc[va])],\n",
        "    eval_metric=\"auc\",\n",
        "    callbacks=[lgb.early_stopping(200), lgb.log_evaluation(100)]  # no 'verbose' arg\n",
        ")\n"
      ],
      "metadata": {
        "colab": {
          "base_uri": "https://localhost:8080/",
          "height": 201
        },
        "id": "ZCcLdR5bwLLY",
        "outputId": "1b05b0c0-607e-4707-e1e9-9f3846c15b24"
      },
      "execution_count": 140,
      "outputs": [
        {
          "output_type": "error",
          "ename": "NameError",
          "evalue": "name 'lgb' is not defined",
          "traceback": [
            "\u001b[0;31m---------------------------------------------------------------------------\u001b[0m",
            "\u001b[0;31mNameError\u001b[0m                                 Traceback (most recent call last)",
            "\u001b[0;32m/tmp/ipython-input-63552503.py\u001b[0m in \u001b[0;36m<cell line: 0>\u001b[0;34m()\u001b[0m\n\u001b[1;32m      3\u001b[0m     \u001b[0meval_set\u001b[0m\u001b[0;34m=\u001b[0m\u001b[0;34m[\u001b[0m\u001b[0;34m(\u001b[0m\u001b[0mX\u001b[0m\u001b[0;34m.\u001b[0m\u001b[0miloc\u001b[0m\u001b[0;34m[\u001b[0m\u001b[0mva\u001b[0m\u001b[0;34m]\u001b[0m\u001b[0;34m,\u001b[0m \u001b[0my\u001b[0m\u001b[0;34m.\u001b[0m\u001b[0miloc\u001b[0m\u001b[0;34m[\u001b[0m\u001b[0mva\u001b[0m\u001b[0;34m]\u001b[0m\u001b[0;34m)\u001b[0m\u001b[0;34m]\u001b[0m\u001b[0;34m,\u001b[0m\u001b[0;34m\u001b[0m\u001b[0;34m\u001b[0m\u001b[0m\n\u001b[1;32m      4\u001b[0m     \u001b[0meval_metric\u001b[0m\u001b[0;34m=\u001b[0m\u001b[0;34m\"auc\"\u001b[0m\u001b[0;34m,\u001b[0m\u001b[0;34m\u001b[0m\u001b[0;34m\u001b[0m\u001b[0m\n\u001b[0;32m----> 5\u001b[0;31m     \u001b[0mcallbacks\u001b[0m\u001b[0;34m=\u001b[0m\u001b[0;34m[\u001b[0m\u001b[0mlgb\u001b[0m\u001b[0;34m.\u001b[0m\u001b[0mearly_stopping\u001b[0m\u001b[0;34m(\u001b[0m\u001b[0;36m200\u001b[0m\u001b[0;34m)\u001b[0m\u001b[0;34m,\u001b[0m \u001b[0mlgb\u001b[0m\u001b[0;34m.\u001b[0m\u001b[0mlog_evaluation\u001b[0m\u001b[0;34m(\u001b[0m\u001b[0;36m100\u001b[0m\u001b[0;34m)\u001b[0m\u001b[0;34m]\u001b[0m  \u001b[0;31m# no 'verbose' arg\u001b[0m\u001b[0;34m\u001b[0m\u001b[0;34m\u001b[0m\u001b[0m\n\u001b[0m\u001b[1;32m      6\u001b[0m )\n",
            "\u001b[0;31mNameError\u001b[0m: name 'lgb' is not defined"
          ]
        }
      ]
    },
    {
      "cell_type": "markdown",
      "source": [
        "Thank you"
      ],
      "metadata": {
        "id": "PIpgAu2RwlSt"
      }
    }
  ],
  "metadata": {
    "colab": {
      "provenance": []
    },
    "kernelspec": {
      "display_name": "Python 3 (ipykernel)",
      "language": "python",
      "name": "python3"
    },
    "language_info": {
      "codemirror_mode": {
        "name": "ipython",
        "version": 3
      },
      "file_extension": ".py",
      "mimetype": "text/x-python",
      "name": "python",
      "nbconvert_exporter": "python",
      "pygments_lexer": "ipython3",
      "version": "3.10.10"
    }
  },
  "nbformat": 4,
  "nbformat_minor": 0
}